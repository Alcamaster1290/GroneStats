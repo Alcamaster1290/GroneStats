{
 "cells": [
  {
   "cell_type": "code",
   "execution_count": 1,
   "metadata": {},
   "outputs": [],
   "source": [
    "import LanusStats as ls  \n",
    "sofascore = ls.SofaScore()"
   ]
  },
  {
   "cell_type": "code",
   "execution_count": 8,
   "metadata": {},
   "outputs": [],
   "source": [
    "nombres_jornadas = {\n",
    "    \"A01\": \"Jornada 1 - Local vs Universidad Cesar Vallejo\",\n",
    "    \"A02\": \"Jornada 2 - Visita vs Alianza Atlético de Sullana\",\n",
    "    \"A03\": \"Jornada 3 - Local vs Universitario de Deportes\",\n",
    "    \"A04\": \"Jornada 4 - Visita vs Unión Comercio\",\n",
    "    \"A05\": \"Jornada 5 - Local vs Comerciantes Unidos\",\n",
    "    \"A06\": \"Jornada 6 - Visita vs ADT\",\n",
    "    \"A07\": \"Jornada 7 - Local vs Sporting Cristal\",\n",
    "    \"A08\": \"Jornada 8 - Visita vs Cienciano\",\n",
    "    \"A09\": \"Jornada 9 - Local vs Los Chankas\",\n",
    "    \"A10\": \"Jornada 10 - Visita vs Carlos Manucci\",\n",
    "    \"A11\": \"Jornada 11 - Local vs Atlético Grau\",\n",
    "    \"A12\":\"Jornada 12 - Local vs Sport Boys\",\n",
    "    \"A13\":\"Jornada 13 - Visita vs Melgar\",\n",
    "    \"A14\":\"Jornada 14 - Local vs UTC\",\n",
    "    \"A15\": \"Jornada 15 - Visita vs Sport Huancayo\",\n",
    "    \"A16\":\"Jornada 16 - Local vs Deportivo Garcilaso\",\n",
    "    \"A17\":\"Jornada 17 - Visita vs Cusco\",\n",
    "    \"CL1\": \"Jornada 1 - Local vs Fluminense\",\n",
    "    \"CL2\": \"Jornada 2 - Visita vs Cerro Porteño\",\n",
    "    \"CL3\": \"Jornada 3 - Visita vs Colo Colo\",\n",
    "    \"CL4\": \"Jornada 4 - Local vs Cerro Porteño\",\n",
    "    \"CL5\": \"Jornada 5 - Local vs Colo Colo\",\n",
    "    \"CL6\": \"Jornada 6 - Visita vs Fluminense\"\n",
    "}"
   ]
  },
  {
   "cell_type": "code",
   "execution_count": 10,
   "metadata": {},
   "outputs": [],
   "source": [
    "URLs_jornadas = {\n",
    "    \"A01\": \"https://www.sofascore.com/universidad-cesar-vallejo-alianza-lima/lWsGfc#id:11967822\",\n",
    "    \"A02\": \"https://www.sofascore.com/alianza-lima-alianza-atletico-de-sullana/hWslW#id:11981247\",\n",
    "    \"A03\": \"https://www.sofascore.com/alianza-lima-universitario-de-deportes/fWslW#id:12005095\",\n",
    "    \"A04\": \"https://www.sofascore.com/union-comercio-alianza-lima/lWsGtu#id:12019977\",\n",
    "    \"A05\": \"https://www.sofascore.com/comerciantes-unidos-alianza-lima/lWsjxKb#id:12061051\",\n",
    "    \"A06\": \"https://www.sofascore.com/asociacion-deportiva-tarma-alianza-lima/lWshlJc#id:12076348\",\n",
    "    \"A07\": \"https://www.sofascore.com/alianza-lima-club-sporting-cristal/cWslW#id:12101149\",\n",
    "    \"A08\": \"https://www.sofascore.com/alianza-lima-cienciano/bWslW#id:12120946\",\n",
    "    \"A09\": \"https://www.sofascore.com/los-chankas-cyc-alianza-lima/lWseVac#id:12165423\",\n",
    "    \"A10\": \"https://www.sofascore.com/carlos-mannucci-alianza-lima/lWsVUac#id:12194148\",\n",
    "    \"CL1\": \"https://www.sofascore.com/alianza-lima-fluminense/lOslW#id:12172415\",\n",
    "    \"CL2\": \"https://www.sofascore.com/cerro-porteno-alianza-lima/lWsQuc#id:12172422\",\n",
    "}"
   ]
  },
  {
   "cell_type": "code",
   "execution_count": 16,
   "metadata": {},
   "outputs": [
    {
     "name": "stdout",
     "output_type": "stream",
     "text": [
      "Procesando Jornada: Jornada 1 - Local vs Universidad Cesar Vallejo\n",
      "URL: https://www.sofascore.com/universidad-cesar-vallejo-alianza-lima/lWsGfc#id:11967822\n",
      "------------------------------------\n",
      "Procesando Jornada: Jornada 2 - Visita vs Alianza Atlético de Sullana\n",
      "URL: https://www.sofascore.com/alianza-lima-alianza-atletico-de-sullana/hWslW#id:11981247\n",
      "------------------------------------\n",
      "Procesando Jornada: Jornada 3 - Local vs Universitario de Deportes\n",
      "URL: https://www.sofascore.com/alianza-lima-universitario-de-deportes/fWslW#id:12005095\n",
      "------------------------------------\n",
      "Procesando Jornada: Jornada 4 - Visita vs Unión Comercio\n",
      "URL: https://www.sofascore.com/union-comercio-alianza-lima/lWsGtu#id:12019977\n",
      "------------------------------------\n",
      "Procesando Jornada: Jornada 5 - Local vs Comerciantes Unidos\n",
      "URL: https://www.sofascore.com/comerciantes-unidos-alianza-lima/lWsjxKb#id:12061051\n",
      "------------------------------------\n",
      "Procesando Jornada: Jornada 6 - Visita vs ADT\n",
      "URL: https://www.sofascore.com/asociacion-deportiva-tarma-alianza-lima/lWshlJc#id:12076348\n",
      "------------------------------------\n",
      "Procesando Jornada: Jornada 7 - Local vs Sporting Cristal\n",
      "URL: https://www.sofascore.com/alianza-lima-club-sporting-cristal/cWslW#id:12101149\n",
      "------------------------------------\n",
      "Procesando Jornada: Jornada 8 - Visita vs Cienciano\n",
      "URL: https://www.sofascore.com/alianza-lima-cienciano/bWslW#id:12120946\n",
      "------------------------------------\n",
      "Procesando Jornada: Jornada 9 - Local vs Los Chankas\n",
      "URL: https://www.sofascore.com/los-chankas-cyc-alianza-lima/lWseVac#id:12165423\n",
      "------------------------------------\n",
      "Procesando Jornada: Jornada 10 - Visita vs Carlos Manucci\n",
      "URL: https://www.sofascore.com/carlos-mannucci-alianza-lima/lWsVUac#id:12194148\n",
      "------------------------------------\n",
      "Procesando Jornada: Jornada 11 - Local vs Atlético Grau\n",
      "URL: https://www.sofascore.com/alianza-lima-fluminense/lOslW#id:12172415\n",
      "------------------------------------\n",
      "Procesando Jornada: Jornada 12 - Local vs Sport Boys\n",
      "URL: https://www.sofascore.com/cerro-porteno-alianza-lima/lWsQuc#id:12172422\n",
      "------------------------------------\n"
     ]
    }
   ],
   "source": [
    "for (id_jornada, nombre), (_, match_url) in zip(nombres_jornadas.items(), URLs_jornadas.items()):\n",
    "    print(\"Procesando Jornada:\", nombre)\n",
    "    print(\"URL:\", match_url)\n",
    "    print(\"------------------------------------\")\n",
    "    \n"
   ]
  },
  {
   "cell_type": "code",
   "execution_count": 3,
   "metadata": {},
   "outputs": [],
   "source": [
    "df_shotmap = sofascore.get_match_shotmap(\"https://www.sofascore.com/universidad-cesar-vallejo-alianza-lima/lWsGfc#id:11967822\", save_csv=True)"
   ]
  },
  {
   "cell_type": "code",
   "execution_count": 5,
   "metadata": {},
   "outputs": [
    {
     "name": "stdout",
     "output_type": "stream",
     "text": [
      "Index(['isHome', 'shotType', 'situation', 'bodyPart', 'goalMouthLocation',\n",
      "       'goalMouthCoordinates', 'id', 'time', 'timeSeconds', 'draw',\n",
      "       'reversedPeriodTime', 'reversedPeriodTimeSeconds', 'incidentType',\n",
      "       'blockCoordinates', 'goalType', 'name', 'firstName', 'lastName', 'slug',\n",
      "       'shortName', 'position', 'jerseyNumber', 'userCount', 'id', 'x', 'y',\n",
      "       'z'],\n",
      "      dtype='object')\n"
     ]
    }
   ],
   "source": [
    "print(df_shotmap.columns)"
   ]
  }
 ],
 "metadata": {
  "kernelspec": {
   "display_name": "venv",
   "language": "python",
   "name": "python3"
  },
  "language_info": {
   "codemirror_mode": {
    "name": "ipython",
    "version": 3
   },
   "file_extension": ".py",
   "mimetype": "text/x-python",
   "name": "python",
   "nbconvert_exporter": "python",
   "pygments_lexer": "ipython3",
   "version": "3.11.5"
  }
 },
 "nbformat": 4,
 "nbformat_minor": 2
}
