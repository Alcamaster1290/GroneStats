{
 "cells": [
  {
   "cell_type": "code",
   "execution_count": 22,
   "metadata": {},
   "outputs": [],
   "source": [
    "import LanusStats as ls\n",
    "import pandas as pd\n",
    "import seaborn as sns\n",
    "import matplotlib.pyplot as plt\n",
    "import math\n",
    "sofascore = ls.SofaScore()"
   ]
  },
  {
   "cell_type": "code",
   "execution_count": 2,
   "metadata": {},
   "outputs": [],
   "source": [
    "nombres_jornadas = {\n",
    "    \"A01\": \"Jornada 1 - Local vs Universidad Cesar Vallejo\",\n",
    "    \"A02\": \"Jornada 2 - Visita vs Alianza Atlético de Sullana\",\n",
    "    \"A03\": \"Jornada 3 - Local vs Universitario de Deportes\",\n",
    "    \"A04\": \"Jornada 4 - Visita vs Unión Comercio\",\n",
    "    \"A05\": \"Jornada 5 - Local vs Comerciantes Unidos\",\n",
    "    \"A06\": \"Jornada 6 - Visita vs ADT\",\n",
    "    \"A07\": \"Jornada 7 - Local vs Sporting Cristal\",\n",
    "    \"A08\": \"Jornada 8 - Visita vs Cienciano\",\n",
    "    \"A09\": \"Jornada 9 - Local vs Los Chankas\",\n",
    "    \"A10\": \"Jornada 10 - Visita vs Carlos Manucci\",\n",
    "    \"A11\": \"Jornada 11 - Local vs Atlético Grau\",\n",
    "    \"A12\": \"Jornada 12 - Local vs Sport Boys\",\n",
    "    \"A13\": \"Jornada 13 - Visita vs Melgar\",\n",
    "    \"A14\": \"Jornada 14 - Local vs UTC\",\n",
    "    \"A15\": \"Jornada 15 - Visita vs Sport Huancayo\",\n",
    "    \"A16\": \"Jornada 16 - Local vs Deportivo Garcilaso\",\n",
    "    \"A17\": \"Jornada 17 - Visita vs Cusco\",\n",
    "    \"CL1\": \"Jornada 1 - Local vs Fluminense\",\n",
    "    \"CL2\": \"Jornada 2 - Visita vs Cerro Porteño\",\n",
    "    \"CL3\": \"Jornada 3 - Visita vs Colo Colo\",\n",
    "    \"CL4\": \"Jornada 4 - Local vs Cerro Porteño\",\n",
    "    \"CL5\": \"Jornada 5 - Local vs Colo Colo\",\n",
    "    \"CL6\": \"Jornada 6 - Visita vs Fluminense\"\n",
    "}"
   ]
  },
  {
   "cell_type": "code",
   "execution_count": 3,
   "metadata": {},
   "outputs": [],
   "source": [
    "URLs_jornadas = {\n",
    "    \"A01\": \"https://www.sofascore.com/universidad-cesar-vallejo-alianza-lima/lWsGfc#id:11967822\",\n",
    "    \"A02\": \"https://www.sofascore.com/alianza-lima-alianza-atletico-de-sullana/hWslW#id:11981247\",\n",
    "    \"A03\": \"https://www.sofascore.com/alianza-lima-universitario-de-deportes/fWslW#id:12005095\",\n",
    "    \"A04\": \"https://www.sofascore.com/union-comercio-alianza-lima/lWsGtu#id:12019977\",\n",
    "    \"A05\": \"https://www.sofascore.com/comerciantes-unidos-alianza-lima/lWsjxKb#id:12061051\",\n",
    "    \"A06\": \"https://www.sofascore.com/asociacion-deportiva-tarma-alianza-lima/lWshlJc#id:12076348\",\n",
    "    \"A07\": \"https://www.sofascore.com/alianza-lima-club-sporting-cristal/cWslW#id:12101149\",\n",
    "    \"A08\": \"https://www.sofascore.com/alianza-lima-cienciano/bWslW#id:12120946\",\n",
    "    \"A09\": \"https://www.sofascore.com/los-chankas-cyc-alianza-lima/lWseVac#id:12165423\",\n",
    "    \"A10\": \"https://www.sofascore.com/carlos-mannucci-alianza-lima/lWsVUac#id:12194148\",\n",
    "    \"A11\": \"https://www.sofascore.com/club-atletico-grau-alianza-lima/lWsNanc#id:12214932\",\n",
    "    \"A12\": \"https://www.sofascore.com/sport-boys-alianza-lima/lWsmW#id:12214927\",\n",
    "    \"A13\": \"https://www.sofascore.com/alianza-lima-melgar/iWslW#id:12214949\",\n",
    "    \"A14\": \"https://www.sofascore.com/universidad-tecnica-de-cajamarca-alianza-lima/lWsehK#id:12244381\",\n",
    "    \"A15\": \"https://www.sofascore.com/sport-huancayo-alianza-lima/lWsVCn#id:12244370\",\n",
    "    \"A16\": \"https://www.sofascore.com/deportivo-garcilaso-alianza-lima/lWsJwId#id:12274833\",\n",
    "    \"A17\": \"https://www.sofascore.com/cusco-fc-alianza-lima/lWskAA#id:12274837\",\n",
    "    \"CL1\": \"https://www.sofascore.com/alianza-lima-fluminense/lOslW#id:12172415\",\n",
    "    \"CL2\": \"https://www.sofascore.com/cerro-porteno-alianza-lima/lWsQuc#id:12172422\",\n",
    "    \"CL3\": \"https://www.sofascore.com/colo-colo-alianza-lima/lWsfnb#id:12172418\",\n",
    "    \"CL4\": \"https://www.sofascore.com/cerro-porteno-alianza-lima/lWsQuc#id:12172425\",\n",
    "    \"CL5\": \"https://www.sofascore.com/colo-colo-alianza-lima/lWsfnb#id:12172421\",\n",
    "    \"CL6\": \"https://www.sofascore.com/alianza-lima-fluminense/lOslW#id:12172424\",\n",
    "}"
   ]
  },
  {
   "cell_type": "code",
   "execution_count": 4,
   "metadata": {},
   "outputs": [],
   "source": [
    "def procesar_jornadas():\n",
    "    lista_datos_partidos = []\n",
    "\n",
    "    for (id_jornada, nombre), (_, match_url) in zip(nombres_jornadas.items(), URLs_jornadas.items()):\n",
    "        print(\"Procesando Jornada:\", nombre)\n",
    "        data = sofascore.get_match_data(match_url)\n",
    "        try:\n",
    "            home_team = data['event']['homeTeam']['name']\n",
    "            home_score = data['event']['homeScore']['current']\n",
    "            home_manager = data['event']['homeTeam']['manager']['name']\n",
    "            away_team = data['event']['awayTeam']['name']\n",
    "            away_score = data['event']['awayScore']['current']\n",
    "            away_manager = data['event']['awayTeam']['manager']['name']\n",
    "        except KeyError:\n",
    "            print('No hay datos para esta jornada')\n",
    "            continue  # Salta al siguiente ciclo si hay un KeyError\n",
    "\n",
    "        if home_team == 'Alianza Lima':\n",
    "            condicion = 'Local'\n",
    "            if home_score > away_score:\n",
    "                resultado = 'Victoria'\n",
    "            elif home_score == away_score:\n",
    "                resultado = 'Empate'\n",
    "            else:\n",
    "                resultado = 'Derrota'\n",
    "        else:\n",
    "            condicion = 'Visita'\n",
    "            if home_score < away_score:\n",
    "                resultado = 'Victoria'\n",
    "            elif home_score == away_score:\n",
    "                resultado = 'Empate'\n",
    "            else:\n",
    "                resultado = 'Derrota'\n",
    "\n",
    "        if id_jornada.startswith('A'):\n",
    "            torneo = 'Apertura Liga 1'\n",
    "        else:\n",
    "            torneo = 'Copa Libertadores'\n",
    "\n",
    "        lista_datos_partidos.append({\n",
    "            'id_jornada': id_jornada,\n",
    "            'nombre': nombre,\n",
    "            'home_team': home_team,\n",
    "            'home_score': home_score,\n",
    "            'home_manager': home_manager,\n",
    "            'away_team': away_team,\n",
    "            'away_score': away_score,\n",
    "            'away_manager': away_manager,\n",
    "            'Condicion': condicion,\n",
    "            'Resultado': resultado,\n",
    "            'Torneo': torneo\n",
    "        })\n",
    "\n",
    "    return lista_datos_partidos"
   ]
  },
  {
   "cell_type": "code",
   "execution_count": 7,
   "metadata": {},
   "outputs": [
    {
     "name": "stdout",
     "output_type": "stream",
     "text": [
      "Procesando Jornada: Jornada 1 - Local vs Universidad Cesar Vallejo\n",
      "Procesando Jornada: Jornada 2 - Visita vs Alianza Atlético de Sullana\n",
      "Procesando Jornada: Jornada 3 - Local vs Universitario de Deportes\n",
      "Procesando Jornada: Jornada 4 - Visita vs Unión Comercio\n",
      "Procesando Jornada: Jornada 5 - Local vs Comerciantes Unidos\n",
      "Procesando Jornada: Jornada 6 - Visita vs ADT\n",
      "Procesando Jornada: Jornada 7 - Local vs Sporting Cristal\n",
      "Procesando Jornada: Jornada 8 - Visita vs Cienciano\n",
      "Procesando Jornada: Jornada 9 - Local vs Los Chankas\n",
      "Procesando Jornada: Jornada 10 - Visita vs Carlos Manucci\n",
      "Procesando Jornada: Jornada 11 - Local vs Atlético Grau\n",
      "Procesando Jornada: Jornada 12 - Local vs Sport Boys\n",
      "Procesando Jornada: Jornada 13 - Visita vs Melgar\n",
      "Procesando Jornada: Jornada 14 - Local vs UTC\n",
      "Procesando Jornada: Jornada 15 - Visita vs Sport Huancayo\n",
      "Procesando Jornada: Jornada 16 - Local vs Deportivo Garcilaso\n",
      "Procesando Jornada: Jornada 17 - Visita vs Cusco\n",
      "Procesando Jornada: Jornada 1 - Local vs Fluminense\n",
      "Procesando Jornada: Jornada 2 - Visita vs Cerro Porteño\n",
      "Procesando Jornada: Jornada 3 - Visita vs Colo Colo\n",
      "Procesando Jornada: Jornada 4 - Local vs Cerro Porteño\n",
      "Procesando Jornada: Jornada 5 - Local vs Colo Colo\n",
      "Procesando Jornada: Jornada 6 - Visita vs Fluminense\n"
     ]
    }
   ],
   "source": [
    "lista_datos_iniciales = procesar_jornadas()"
   ]
  },
  {
   "cell_type": "code",
   "execution_count": 8,
   "metadata": {},
   "outputs": [
    {
     "name": "stdout",
     "output_type": "stream",
     "text": [
      "[{'id_jornada': 'A01', 'nombre': 'Jornada 1 - Local vs Universidad Cesar Vallejo', 'home_team': 'Alianza Lima', 'home_score': 2, 'home_manager': 'Alejandro Restrepo', 'away_team': 'Universidad César Vallejo', 'away_score': 1, 'away_manager': 'Guillermo Salas', 'Condicion': 'Local', 'Resultado': 'Victoria', 'Torneo': 'Apertura Liga 1'}, {'id_jornada': 'A02', 'nombre': 'Jornada 2 - Visita vs Alianza Atlético de Sullana', 'home_team': 'Alianza Atlético de Sullana', 'home_score': 0, 'home_manager': 'Jorge Espejo', 'away_team': 'Alianza Lima', 'away_score': 2, 'away_manager': 'Alejandro Restrepo', 'Condicion': 'Visita', 'Resultado': 'Victoria', 'Torneo': 'Apertura Liga 1'}, {'id_jornada': 'A03', 'nombre': 'Jornada 3 - Local vs Universitario de Deportes', 'home_team': 'Alianza Lima', 'home_score': 0, 'home_manager': 'Alejandro Restrepo', 'away_team': 'Universitario', 'away_score': 1, 'away_manager': 'Fabian Bustos', 'Condicion': 'Local', 'Resultado': 'Derrota', 'Torneo': 'Apertura Liga 1'}, {'id_jornada': 'A04', 'nombre': 'Jornada 4 - Visita vs Unión Comercio', 'home_team': 'Unión Comercio', 'home_score': 1, 'home_manager': 'Andy Loayza', 'away_team': 'Alianza Lima', 'away_score': 3, 'away_manager': 'Alejandro Restrepo', 'Condicion': 'Visita', 'Resultado': 'Victoria', 'Torneo': 'Apertura Liga 1'}, {'id_jornada': 'A05', 'nombre': 'Jornada 5 - Local vs Comerciantes Unidos', 'home_team': 'Alianza Lima', 'home_score': 5, 'home_manager': 'Alejandro Restrepo', 'away_team': 'Comerciantes Unidos', 'away_score': 1, 'away_manager': 'Carlos Silvestri', 'Condicion': 'Local', 'Resultado': 'Victoria', 'Torneo': 'Apertura Liga 1'}, {'id_jornada': 'A06', 'nombre': 'Jornada 6 - Visita vs ADT', 'home_team': 'Asociación Deportiva Tarma', 'home_score': 2, 'home_manager': 'Carlos Desio', 'away_team': 'Alianza Lima', 'away_score': 0, 'away_manager': 'Alejandro Restrepo', 'Condicion': 'Visita', 'Resultado': 'Derrota', 'Torneo': 'Apertura Liga 1'}, {'id_jornada': 'A07', 'nombre': 'Jornada 7 - Local vs Sporting Cristal', 'home_team': 'Alianza Lima', 'home_score': 1, 'home_manager': 'Alejandro Restrepo', 'away_team': 'Club Sporting Cristal', 'away_score': 2, 'away_manager': 'Enderson Moreira', 'Condicion': 'Local', 'Resultado': 'Derrota', 'Torneo': 'Apertura Liga 1'}, {'id_jornada': 'A08', 'nombre': 'Jornada 8 - Visita vs Cienciano', 'home_team': 'Cienciano', 'home_score': 2, 'home_manager': 'Oscar Ibanez', 'away_team': 'Alianza Lima', 'away_score': 1, 'away_manager': 'Alejandro Restrepo', 'Condicion': 'Visita', 'Resultado': 'Derrota', 'Torneo': 'Apertura Liga 1'}, {'id_jornada': 'A09', 'nombre': 'Jornada 9 - Local vs Los Chankas', 'home_team': 'Alianza Lima', 'home_score': 3, 'home_manager': 'Alejandro Restrepo', 'away_team': 'Los Chankas CYC', 'away_score': 0, 'away_manager': 'Pablo Bossi', 'Condicion': 'Local', 'Resultado': 'Victoria', 'Torneo': 'Apertura Liga 1'}, {'id_jornada': 'A10', 'nombre': 'Jornada 10 - Visita vs Carlos Manucci', 'home_team': 'Carlos A. Mannucci', 'home_score': 0, 'home_manager': 'Milton Mendes', 'away_team': 'Alianza Lima', 'away_score': 4, 'away_manager': 'Alejandro Restrepo', 'Condicion': 'Visita', 'Resultado': 'Victoria', 'Torneo': 'Apertura Liga 1'}, {'id_jornada': 'A11', 'nombre': 'Jornada 11 - Local vs Atlético Grau', 'home_team': 'Alianza Lima', 'home_score': 2, 'home_manager': 'Alejandro Restrepo', 'away_team': 'Club Atlético Grau', 'away_score': 0, 'away_manager': 'Angel David Comizzo', 'Condicion': 'Local', 'Resultado': 'Victoria', 'Torneo': 'Apertura Liga 1'}, {'id_jornada': 'A12', 'nombre': 'Jornada 12 - Local vs Sport Boys', 'home_team': 'Alianza Lima', 'home_score': 3, 'home_manager': 'Alejandro Restrepo', 'away_team': 'Sport Boys', 'away_score': 0, 'away_manager': 'Juan Alayo', 'Condicion': 'Local', 'Resultado': 'Victoria', 'Torneo': 'Apertura Liga 1'}, {'id_jornada': 'A13', 'nombre': 'Jornada 13 - Visita vs Melgar', 'home_team': 'Melgar', 'home_score': 1, 'home_manager': 'Marco Antonio Valencia', 'away_team': 'Alianza Lima', 'away_score': 0, 'away_manager': 'Alejandro Restrepo', 'Condicion': 'Visita', 'Resultado': 'Derrota', 'Torneo': 'Apertura Liga 1'}, {'id_jornada': 'A14', 'nombre': 'Jornada 14 - Local vs UTC', 'home_team': 'Alianza Lima', 'home_score': 1, 'home_manager': 'Alejandro Restrepo', 'away_team': 'Universidad Técnica de Cajamarca', 'away_score': 0, 'away_manager': 'Carlos Ramacciotti', 'Condicion': 'Local', 'Resultado': 'Victoria', 'Torneo': 'Apertura Liga 1'}, {'id_jornada': 'A15', 'nombre': 'Jornada 15 - Visita vs Sport Huancayo', 'home_team': 'Sport Huancayo', 'home_score': 0, 'home_manager': 'Mifflin Bermúdez', 'away_team': 'Alianza Lima', 'away_score': 2, 'away_manager': 'Alejandro Restrepo', 'Condicion': 'Visita', 'Resultado': 'Victoria', 'Torneo': 'Apertura Liga 1'}, {'id_jornada': 'A16', 'nombre': 'Jornada 16 - Local vs Deportivo Garcilaso', 'home_team': 'Alianza Lima', 'home_score': 3, 'home_manager': 'Alejandro Restrepo', 'away_team': 'Deportivo Garcilaso', 'away_score': 2, 'away_manager': 'Bernardo Redín', 'Condicion': 'Local', 'Resultado': 'Victoria', 'Torneo': 'Apertura Liga 1'}, {'id_jornada': 'A17', 'nombre': 'Jornada 17 - Visita vs Cusco', 'home_team': 'Cusco FC', 'home_score': 3, 'home_manager': 'Miguel Rondelli', 'away_team': 'Alianza Lima', 'away_score': 0, 'away_manager': 'Alejandro Restrepo', 'Condicion': 'Visita', 'Resultado': 'Derrota', 'Torneo': 'Apertura Liga 1'}, {'id_jornada': 'CL1', 'nombre': 'Jornada 1 - Local vs Fluminense', 'home_team': 'Alianza Lima', 'home_score': 1, 'home_manager': 'Alejandro Restrepo', 'away_team': 'Fluminense', 'away_score': 1, 'away_manager': 'Fernando Diniz', 'Condicion': 'Local', 'Resultado': 'Empate', 'Torneo': 'Copa Libertadores'}, {'id_jornada': 'CL2', 'nombre': 'Jornada 2 - Visita vs Cerro Porteño', 'home_team': 'Cerro Porteño', 'home_score': 1, 'home_manager': 'Manolo Jimenez', 'away_team': 'Alianza Lima', 'away_score': 0, 'away_manager': 'Alejandro Restrepo', 'Condicion': 'Visita', 'Resultado': 'Derrota', 'Torneo': 'Copa Libertadores'}, {'id_jornada': 'CL3', 'nombre': 'Jornada 3 - Visita vs Colo Colo', 'home_team': 'Colo Colo', 'home_score': 0, 'home_manager': 'Jorge Almiron', 'away_team': 'Alianza Lima', 'away_score': 0, 'away_manager': 'Alejandro Restrepo', 'Condicion': 'Visita', 'Resultado': 'Empate', 'Torneo': 'Copa Libertadores'}, {'id_jornada': 'CL4', 'nombre': 'Jornada 4 - Local vs Cerro Porteño', 'home_team': 'Alianza Lima', 'home_score': 1, 'home_manager': 'Alejandro Restrepo', 'away_team': 'Cerro Porteño', 'away_score': 1, 'away_manager': 'Manolo Jimenez', 'Condicion': 'Local', 'Resultado': 'Empate', 'Torneo': 'Copa Libertadores'}, {'id_jornada': 'CL5', 'nombre': 'Jornada 5 - Local vs Colo Colo', 'home_team': 'Alianza Lima', 'home_score': 1, 'home_manager': 'Alejandro Restrepo', 'away_team': 'Colo Colo', 'away_score': 1, 'away_manager': 'Jorge Almiron', 'Condicion': 'Local', 'Resultado': 'Empate', 'Torneo': 'Copa Libertadores'}, {'id_jornada': 'CL6', 'nombre': 'Jornada 6 - Visita vs Fluminense', 'home_team': 'Fluminense', 'home_score': 3, 'home_manager': 'Fernando Diniz', 'away_team': 'Alianza Lima', 'away_score': 2, 'away_manager': 'Alejandro Restrepo', 'Condicion': 'Visita', 'Resultado': 'Derrota', 'Torneo': 'Copa Libertadores'}]\n"
     ]
    }
   ],
   "source": [
    "print(lista_datos_iniciales)"
   ]
  },
  {
   "cell_type": "code",
   "execution_count": 8,
   "metadata": {},
   "outputs": [],
   "source": [
    "def procesar_estadisticas_jornadas(lista_datos_iniciales):\n",
    "    for (id_jornada, nombre), (_, match_url) in zip(nombres_jornadas.items(), URLs_jornadas.items()):\n",
    "        print(\"Procesando Jornada:\", nombre)\n",
    "        estadisticas_jornada = sofascore.get_general_match_stats(match_url)\n",
    "        \n",
    "        for datos_jornada in lista_datos_iniciales:\n",
    "            if datos_jornada['id_jornada'] == id_jornada:\n",
    "                if datos_jornada['Condicion'] == 'Local':\n",
    "                    estadisticas_Alianza = estadisticas_jornada[['name', 'home','homeValue','homeTotal']]\n",
    "                    estadisticas_Alianza.columns = ['Estadistica','Dato', 'Valor AL', 'Total AL']\n",
    "                    \n",
    "                    estadisticas_Oponente = estadisticas_jornada[['name', 'away','awayValue','awayTotal']]\n",
    "                    estadisticas_Oponente.columns = ['Estadistica', 'Dato', 'Valor Opp', 'Total Opp']\n",
    "                else:\n",
    "                    estadisticas_Alianza = estadisticas_jornada[['name', 'away', 'awayValue', 'awayTotal']]\n",
    "                    estadisticas_Alianza.columns = ['Estadistica','Dato', 'Valor AL', 'Total AL']\n",
    "                    \n",
    "                    estadisticas_Oponente = estadisticas_jornada[['name', 'home','homeValue','homeTotal']]\n",
    "                    estadisticas_Oponente.columns = ['Estadistica', 'Dato', 'Valor Opp', 'Total Opp']\n",
    "                \n",
    "                datos_jornada['estadisticas_Alianza'] = estadisticas_Alianza.set_index('Estadistica')[['Valor AL', 'Total AL']].to_dict()\n",
    "                datos_jornada['estadisticas_Oponente'] = estadisticas_Oponente.set_index('Estadistica')[['Valor Opp', 'Total Opp']].to_dict()\n",
    "                \n",
    "                # Eliminar referencias a los DataFrames temporales\n",
    "                del estadisticas_Alianza, estadisticas_Oponente\n",
    "                \n",
    "    return lista_datos_iniciales "
   ]
  },
  {
   "cell_type": "code",
   "execution_count": 93,
   "metadata": {},
   "outputs": [
    {
     "name": "stdout",
     "output_type": "stream",
     "text": [
      "Procesando Jornada: Jornada 1 - Local vs Universidad Cesar Vallejo\n",
      "Procesando Jornada: Jornada 2 - Visita vs Alianza Atlético de Sullana\n",
      "Procesando Jornada: Jornada 3 - Local vs Universitario de Deportes\n",
      "Procesando Jornada: Jornada 4 - Visita vs Unión Comercio\n",
      "Procesando Jornada: Jornada 5 - Local vs Comerciantes Unidos\n",
      "Procesando Jornada: Jornada 6 - Visita vs ADT\n",
      "Procesando Jornada: Jornada 7 - Local vs Sporting Cristal\n",
      "Procesando Jornada: Jornada 8 - Visita vs Cienciano\n",
      "Procesando Jornada: Jornada 9 - Local vs Los Chankas\n",
      "Procesando Jornada: Jornada 10 - Visita vs Carlos Manucci\n",
      "Procesando Jornada: Jornada 11 - Local vs Atlético Grau\n",
      "Procesando Jornada: Jornada 12 - Local vs Sport Boys\n",
      "Procesando Jornada: Jornada 13 - Visita vs Melgar\n",
      "Procesando Jornada: Jornada 14 - Local vs UTC\n",
      "Procesando Jornada: Jornada 15 - Visita vs Sport Huancayo\n",
      "Procesando Jornada: Jornada 16 - Local vs Deportivo Garcilaso\n",
      "Procesando Jornada: Jornada 17 - Visita vs Cusco\n",
      "Procesando Jornada: Jornada 1 - Local vs Fluminense\n",
      "Procesando Jornada: Jornada 2 - Visita vs Cerro Porteño\n",
      "Procesando Jornada: Jornada 3 - Visita vs Colo Colo\n",
      "Procesando Jornada: Jornada 4 - Local vs Cerro Porteño\n",
      "Procesando Jornada: Jornada 5 - Local vs Colo Colo\n",
      "Procesando Jornada: Jornada 6 - Visita vs Fluminense\n"
     ]
    }
   ],
   "source": [
    "lista_final = procesar_estadisticas_jornadas(lista_datos_iniciales)"
   ]
  },
  {
   "cell_type": "code",
   "execution_count": 94,
   "metadata": {},
   "outputs": [],
   "source": [
    "# Convierte la lista de diccionarios a un DataFrame\n",
    "df_jornadas = pd.DataFrame(lista_final)\n",
    "\n",
    "# Calcula los puntos obtenidos y acumulados\n",
    "df_jornadas['Puntos obtenidos'] = df_jornadas['Resultado'].map({'Victoria': 3, 'Empate': 1, 'Derrota': 0})\n",
    "df_jornadas['Puntos acumulados'] = df_jornadas.groupby('Torneo')['Puntos obtenidos'].cumsum()\n",
    "df_jornadas['DT Alianza Lima'] = df_jornadas.apply(\n",
    "    lambda row: row['home_manager'] if row['Condicion'] == 'Local' else row['away_manager'], axis=1\n",
    ")\n",
    "df_jornadas['DT Oponente'] = df_jornadas.apply(\n",
    "    lambda row: row['away_manager'] if row['Condicion'] == 'Local' else row['home_manager'], axis=1\n",
    ")\n",
    "df_jornadas = df_jornadas.drop(['home_manager', 'away_manager'], axis=1)\n",
    "df_jornadas['Equipo Oponente'] = df_jornadas.apply(\n",
    "    lambda row: row['away_team'] if row['Condicion'] == 'Local' else row['home_team'], axis=1)\n",
    "df_jornadas['Goles Alianza Lima'] = df_jornadas.apply(\n",
    "    lambda row: row['home_score'] if row['Condicion'] == 'Local' else row['away_score'], axis=1)\n",
    "df_jornadas['Goles Oponente'] = df_jornadas.apply(\n",
    "    lambda row: row['away_score'] if row['Condicion'] == 'Local' else row['home_score'], axis=1)\n"
   ]
  },
  {
   "cell_type": "code",
   "execution_count": 151,
   "metadata": {},
   "outputs": [
    {
     "name": "stdout",
     "output_type": "stream",
     "text": [
      "   id_jornada                                             nombre Condicion  \\\n",
      "0         A01     Jornada 1 - Local vs Universidad Cesar Vallejo     Local   \n",
      "1         A02  Jornada 2 - Visita vs Alianza Atlético de Sullana    Visita   \n",
      "2         A03     Jornada 3 - Local vs Universitario de Deportes     Local   \n",
      "3         A04               Jornada 4 - Visita vs Unión Comercio    Visita   \n",
      "4         A05           Jornada 5 - Local vs Comerciantes Unidos     Local   \n",
      "5         A06                          Jornada 6 - Visita vs ADT    Visita   \n",
      "6         A07              Jornada 7 - Local vs Sporting Cristal     Local   \n",
      "7         A08                    Jornada 8 - Visita vs Cienciano    Visita   \n",
      "8         A09                   Jornada 9 - Local vs Los Chankas     Local   \n",
      "9         A10              Jornada 10 - Visita vs Carlos Manucci    Visita   \n",
      "10        A11                Jornada 11 - Local vs Atlético Grau     Local   \n",
      "11        A12                   Jornada 12 - Local vs Sport Boys     Local   \n",
      "12        A13                      Jornada 13 - Visita vs Melgar    Visita   \n",
      "13        A14                          Jornada 14 - Local vs UTC     Local   \n",
      "14        A15              Jornada 15 - Visita vs Sport Huancayo    Visita   \n",
      "15        A16          Jornada 16 - Local vs Deportivo Garcilaso     Local   \n",
      "16        A17                       Jornada 17 - Visita vs Cusco    Visita   \n",
      "17        CL1                    Jornada 1 - Local vs Fluminense     Local   \n",
      "18        CL2                Jornada 2 - Visita vs Cerro Porteño    Visita   \n",
      "19        CL3                    Jornada 3 - Visita vs Colo Colo    Visita   \n",
      "20        CL4                 Jornada 4 - Local vs Cerro Porteño     Local   \n",
      "21        CL5                     Jornada 5 - Local vs Colo Colo     Local   \n",
      "22        CL6                   Jornada 6 - Visita vs Fluminense    Visita   \n",
      "\n",
      "   Resultado             Torneo  Puntos obtenidos  Puntos acumulados  \\\n",
      "0   Victoria    Apertura Liga 1                 3                  3   \n",
      "1   Victoria    Apertura Liga 1                 3                  6   \n",
      "2    Derrota    Apertura Liga 1                 0                  6   \n",
      "3   Victoria    Apertura Liga 1                 3                  9   \n",
      "4   Victoria    Apertura Liga 1                 3                 12   \n",
      "5    Derrota    Apertura Liga 1                 0                 12   \n",
      "6    Derrota    Apertura Liga 1                 0                 12   \n",
      "7    Derrota    Apertura Liga 1                 0                 12   \n",
      "8   Victoria    Apertura Liga 1                 3                 15   \n",
      "9   Victoria    Apertura Liga 1                 3                 18   \n",
      "10  Victoria    Apertura Liga 1                 3                 21   \n",
      "11  Victoria    Apertura Liga 1                 3                 24   \n",
      "12   Derrota    Apertura Liga 1                 0                 24   \n",
      "13  Victoria    Apertura Liga 1                 3                 27   \n",
      "14  Victoria    Apertura Liga 1                 3                 30   \n",
      "15  Victoria    Apertura Liga 1                 3                 33   \n",
      "16   Derrota    Apertura Liga 1                 0                 33   \n",
      "17    Empate  Copa Libertadores                 1                  1   \n",
      "18   Derrota  Copa Libertadores                 0                  1   \n",
      "19    Empate  Copa Libertadores                 1                  2   \n",
      "20    Empate  Copa Libertadores                 1                  3   \n",
      "21    Empate  Copa Libertadores                 1                  4   \n",
      "22   Derrota  Copa Libertadores                 0                  4   \n",
      "\n",
      "       DT Alianza Lima             DT Oponente  \\\n",
      "0   Alejandro Restrepo         Guillermo Salas   \n",
      "1   Alejandro Restrepo            Jorge Espejo   \n",
      "2   Alejandro Restrepo           Fabian Bustos   \n",
      "3   Alejandro Restrepo             Andy Loayza   \n",
      "4   Alejandro Restrepo        Carlos Silvestri   \n",
      "5   Alejandro Restrepo            Carlos Desio   \n",
      "6   Alejandro Restrepo        Enderson Moreira   \n",
      "7   Alejandro Restrepo            Oscar Ibanez   \n",
      "8   Alejandro Restrepo             Pablo Bossi   \n",
      "9   Alejandro Restrepo           Milton Mendes   \n",
      "10  Alejandro Restrepo     Angel David Comizzo   \n",
      "11  Alejandro Restrepo              Juan Alayo   \n",
      "12  Alejandro Restrepo  Marco Antonio Valencia   \n",
      "13  Alejandro Restrepo      Carlos Ramacciotti   \n",
      "14  Alejandro Restrepo        Mifflin Bermúdez   \n",
      "15  Alejandro Restrepo          Bernardo Redín   \n",
      "16  Alejandro Restrepo         Miguel Rondelli   \n",
      "17  Alejandro Restrepo          Fernando Diniz   \n",
      "18  Alejandro Restrepo          Manolo Jimenez   \n",
      "19  Alejandro Restrepo           Jorge Almiron   \n",
      "20  Alejandro Restrepo          Manolo Jimenez   \n",
      "21  Alejandro Restrepo           Jorge Almiron   \n",
      "22  Alejandro Restrepo          Fernando Diniz   \n",
      "\n",
      "                     Equipo Oponente  Goles Alianza Lima  Goles Oponente  \n",
      "0          Universidad César Vallejo                   2               1  \n",
      "1        Alianza Atlético de Sullana                   2               0  \n",
      "2                      Universitario                   0               1  \n",
      "3                     Unión Comercio                   3               1  \n",
      "4                Comerciantes Unidos                   5               1  \n",
      "5         Asociación Deportiva Tarma                   0               2  \n",
      "6              Club Sporting Cristal                   1               2  \n",
      "7                          Cienciano                   1               2  \n",
      "8                    Los Chankas CYC                   3               0  \n",
      "9                 Carlos A. Mannucci                   4               0  \n",
      "10                Club Atlético Grau                   2               0  \n",
      "11                        Sport Boys                   3               0  \n",
      "12                            Melgar                   0               1  \n",
      "13  Universidad Técnica de Cajamarca                   1               0  \n",
      "14                    Sport Huancayo                   2               0  \n",
      "15               Deportivo Garcilaso                   3               2  \n",
      "16                          Cusco FC                   0               3  \n",
      "17                        Fluminense                   1               1  \n",
      "18                     Cerro Porteño                   0               1  \n",
      "19                         Colo Colo                   0               0  \n",
      "20                     Cerro Porteño                   1               1  \n",
      "21                         Colo Colo                   1               1  \n",
      "22                        Fluminense                   2               3  \n"
     ]
    }
   ],
   "source": [
    "print(df_jornadas)"
   ]
  },
  {
   "cell_type": "code",
   "execution_count": 95,
   "metadata": {
    "vscode": {
     "languageId": "ruby"
    }
   },
   "outputs": [],
   "source": [
    "resultados = []\n",
    "# Itera df_resultados hasta llegar al diccionario dentro de estadisticas_Alianza y estadisticas_oponente\n",
    "for index, row in df_jornadas.iterrows():\n",
    "    estadisticas_alianza = row['estadisticas_Alianza']\n",
    "    estadisticas_oponente = row['estadisticas_Oponente']\n",
    "    jornada = row['id_jornada']\n",
    "    \n",
    "    # Inicializar diccionarios\n",
    "    dict_valor_alianza = {}\n",
    "    dict_total_alianza = {}\n",
    "    dict_valor = {}\n",
    "    dict_total = {}\n",
    "        \n",
    "    # Extraer y procesar diccionarios de Alianza\n",
    "    for key, value in estadisticas_alianza.items():\n",
    "        if key == \"Valor AL\":\n",
    "            dict_valor_alianza = value\n",
    "        elif key == \"Total AL\":\n",
    "            dict_total_alianza = {'Tried ' + k: v for k, v in value.items()}\n",
    "            dict_total_alianza = {k: v for k, v in dict_total_alianza.items() if v is not None and not math.isnan(v)}\n",
    "            if 'Tried Tackles won' in dict_total_alianza:\n",
    "                dict_total_alianza.pop('Tried Tackles won')\n",
    "    \n",
    "    # Extraer y procesar diccionarios de Oponente\n",
    "    for key, value in estadisticas_oponente.items():\n",
    "        if key == \"Valor Opp\":\n",
    "            dict_valor_oponente = value\n",
    "        elif key == \"Total Opp\":\n",
    "            dict_total_oponente = {'Tried ' + k: v for k, v in value.items()}\n",
    "            dict_total_oponente = {k: v for k, v in dict_total_oponente.items() if v is not None and not math.isnan(v)}\n",
    "            if 'Tried Tackles won' in dict_total_oponente:\n",
    "                dict_total_oponente.pop('Tried Tackles won')\n",
    "    \n",
    "    # Unir los diccionarios de Alianza y Oponente\n",
    "    dict_combined_alianza = {**dict_valor_alianza, **dict_total_alianza}\n",
    "    dict_combined_oponente = {**dict_valor_oponente, **dict_total_oponente}\n",
    "    \n",
    "    # Añadir a los resultados\n",
    "    resultados.append((jornada, 'estadisticas_Alianza', dict_combined_alianza))\n",
    "    resultados.append((jornada, 'estadisticas_Oponente', dict_combined_oponente))\n",
    "\n",
    "\n",
    "df_jornadas_estadisticas = pd.DataFrame(resultados, columns=['id_jornada', 'tipo', 'estadisticas'])\n"
   ]
  },
  {
   "cell_type": "code",
   "execution_count": 96,
   "metadata": {
    "vscode": {
     "languageId": "ruby"
    }
   },
   "outputs": [],
   "source": [
    "df_jornadas = df_jornadas.drop(['estadisticas_Alianza', 'estadisticas_Oponente'], axis=1)\n",
    "df_jornadas = df_jornadas.drop(['home_team', 'home_score','away_team', 'away_score'], axis=1)"
   ]
  },
  {
   "cell_type": "code",
   "execution_count": 105,
   "metadata": {
    "vscode": {
     "languageId": "ruby"
    }
   },
   "outputs": [
    {
     "name": "stdout",
     "output_type": "stream",
     "text": [
      "                                                                       estadisticas\n",
      "id_jornada tipo                                                                    \n",
      "A01        estadisticas_Alianza   {'Ball possession': 39.0, 'Expected goals': 2....\n",
      "           estadisticas_Oponente  {'Ball possession': 61.0, 'Expected goals': 0....\n",
      "A02        estadisticas_Alianza   {'Ball possession': 60.0, 'Expected goals': 1....\n",
      "           estadisticas_Oponente  {'Ball possession': 40.0, 'Expected goals': 0....\n",
      "A03        estadisticas_Alianza   {'Ball possession': 61.0, 'Expected goals': 1....\n",
      "           estadisticas_Oponente  {'Ball possession': 39.0, 'Expected goals': 1....\n",
      "A04        estadisticas_Alianza   {'Ball possession': 54.0, 'Expected goals': 1....\n",
      "           estadisticas_Oponente  {'Ball possession': 46.0, 'Expected goals': 0....\n",
      "A05        estadisticas_Alianza   {'Ball possession': 60.0, 'Expected goals': 3....\n",
      "           estadisticas_Oponente  {'Ball possession': 40.0, 'Expected goals': 0....\n",
      "A06        estadisticas_Alianza   {'Ball possession': 34.0, 'Expected goals': 0....\n",
      "           estadisticas_Oponente  {'Ball possession': 66.0, 'Expected goals': 1....\n",
      "A07        estadisticas_Alianza   {'Ball possession': 58.0, 'Expected goals': 2....\n",
      "           estadisticas_Oponente  {'Ball possession': 42.0, 'Expected goals': 1....\n",
      "A08        estadisticas_Alianza   {'Ball possession': 42.0, 'Expected goals': 1....\n",
      "           estadisticas_Oponente  {'Ball possession': 58.0, 'Expected goals': 1....\n",
      "A09        estadisticas_Alianza   {'Ball possession': 61.0, 'Expected goals': 3....\n",
      "           estadisticas_Oponente  {'Ball possession': 39.0, 'Expected goals': 0....\n",
      "A10        estadisticas_Alianza   {'Ball possession': 66.0, 'Expected goals': 2....\n",
      "           estadisticas_Oponente  {'Ball possession': 34.0, 'Expected goals': 0....\n",
      "A11        estadisticas_Alianza   {'Ball possession': 44.0, 'Expected goals': 0....\n",
      "           estadisticas_Oponente  {'Ball possession': 56.0, 'Expected goals': 1....\n",
      "A12        estadisticas_Alianza   {'Ball possession': 51.0, 'Expected goals': 1....\n",
      "           estadisticas_Oponente  {'Ball possession': 49.0, 'Expected goals': 0....\n",
      "A13        estadisticas_Alianza   {'Ball possession': 47.0, 'Expected goals': 0....\n",
      "           estadisticas_Oponente  {'Ball possession': 53.0, 'Expected goals': 1....\n",
      "A14        estadisticas_Alianza   {'Ball possession': 71.0, 'Expected goals': 1....\n",
      "           estadisticas_Oponente  {'Ball possession': 29.0, 'Expected goals': 0....\n",
      "A15        estadisticas_Alianza   {'Ball possession': 45.0, 'Expected goals': 1....\n",
      "           estadisticas_Oponente  {'Ball possession': 55.0, 'Expected goals': 0....\n",
      "A16        estadisticas_Alianza   {'Ball possession': 64.0, 'Expected goals': 3....\n",
      "           estadisticas_Oponente  {'Ball possession': 36.0, 'Expected goals': 0....\n",
      "A17        estadisticas_Alianza   {'Ball possession': 56.0, 'Expected goals': 0....\n",
      "           estadisticas_Oponente  {'Ball possession': 44.0, 'Expected goals': 1....\n",
      "CL1        estadisticas_Alianza   {'Ball possession': 21.0, 'Expected goals': 1....\n",
      "           estadisticas_Oponente  {'Ball possession': 79.0, 'Expected goals': 0....\n",
      "CL2        estadisticas_Alianza   {'Ball possession': 37.0, 'Expected goals': 0....\n",
      "           estadisticas_Oponente  {'Ball possession': 63.0, 'Expected goals': 0....\n",
      "CL3        estadisticas_Alianza   {'Ball possession': 27.0, 'Expected goals': 0....\n",
      "           estadisticas_Oponente  {'Ball possession': 73.0, 'Expected goals': 1....\n",
      "CL4        estadisticas_Alianza   {'Ball possession': 65.0, 'Expected goals': 0....\n",
      "           estadisticas_Oponente  {'Ball possession': 35.0, 'Expected goals': 0....\n",
      "CL5        estadisticas_Alianza   {'Ball possession': 41.0, 'Expected goals': 0....\n",
      "           estadisticas_Oponente  {'Ball possession': 59.0, 'Expected goals': 0....\n",
      "CL6        estadisticas_Alianza   {'Ball possession': 30.0, 'Expected goals': 1....\n",
      "           estadisticas_Oponente  {'Ball possession': 70.0, 'Expected goals': 1....\n"
     ]
    }
   ],
   "source": [
    "print(df_jornadas_estadisticas)"
   ]
  },
  {
   "cell_type": "code",
   "execution_count": 142,
   "metadata": {
    "vscode": {
     "languageId": "ruby"
    }
   },
   "outputs": [],
   "source": [
    "# Filtrar las filas correspondientes a 'estadisticas_Alianza'\n",
    "estadisticas_alianza = df_jornadas_estadisticas.xs('estadisticas_Alianza', level='tipo')\n",
    "estadisticas_oponente = df_jornadas_estadisticas.xs('estadisticas_Oponente', level='tipo')"
   ]
  },
  {
   "cell_type": "code",
   "execution_count": 143,
   "metadata": {
    "vscode": {
     "languageId": "ruby"
    }
   },
   "outputs": [
    {
     "name": "stdout",
     "output_type": "stream",
     "text": [
      "                                                 estadisticas\n",
      "id_jornada                                                   \n",
      "A01         {'Ball possession': 39.0, 'Expected goals': 2....\n",
      "A02         {'Ball possession': 60.0, 'Expected goals': 1....\n",
      "A03         {'Ball possession': 61.0, 'Expected goals': 1....\n",
      "A04         {'Ball possession': 54.0, 'Expected goals': 1....\n",
      "A05         {'Ball possession': 60.0, 'Expected goals': 3....\n",
      "A06         {'Ball possession': 34.0, 'Expected goals': 0....\n",
      "A07         {'Ball possession': 58.0, 'Expected goals': 2....\n",
      "A08         {'Ball possession': 42.0, 'Expected goals': 1....\n",
      "A09         {'Ball possession': 61.0, 'Expected goals': 3....\n",
      "A10         {'Ball possession': 66.0, 'Expected goals': 2....\n",
      "A11         {'Ball possession': 44.0, 'Expected goals': 0....\n",
      "A12         {'Ball possession': 51.0, 'Expected goals': 1....\n",
      "A13         {'Ball possession': 47.0, 'Expected goals': 0....\n",
      "A14         {'Ball possession': 71.0, 'Expected goals': 1....\n",
      "A15         {'Ball possession': 45.0, 'Expected goals': 1....\n",
      "A16         {'Ball possession': 64.0, 'Expected goals': 3....\n",
      "A17         {'Ball possession': 56.0, 'Expected goals': 0....\n",
      "CL1         {'Ball possession': 21.0, 'Expected goals': 1....\n",
      "CL2         {'Ball possession': 37.0, 'Expected goals': 0....\n",
      "CL3         {'Ball possession': 27.0, 'Expected goals': 0....\n",
      "CL4         {'Ball possession': 65.0, 'Expected goals': 0....\n",
      "CL5         {'Ball possession': 41.0, 'Expected goals': 0....\n",
      "CL6         {'Ball possession': 30.0, 'Expected goals': 1....\n"
     ]
    }
   ],
   "source": [
    "print(estadisticas_alianza)"
   ]
  },
  {
   "cell_type": "markdown",
   "metadata": {},
   "source": [
    "# Estadisticas de liga 2024"
   ]
  },
  {
   "cell_type": "code",
   "execution_count": 9,
   "metadata": {
    "vscode": {
     "languageId": "ruby"
    }
   },
   "outputs": [
    {
     "name": "stdout",
     "output_type": "stream",
     "text": [
      "End of the pages\n",
      "End of the pages\n",
      "End of the pages\n",
      "End of the pages\n",
      "End of the pages\n",
      "End of the pages\n",
      "End of the pages\n",
      "End of the pages\n",
      "End of the pages\n",
      "End of the pages\n",
      "End of the pages\n",
      "End of the pages\n"
     ]
    }
   ],
   "source": [
    "df_liga1_2024_apertura_arqueros = sofascore.scrape_league_stats('Peru Liga 1', '2024', save_csv=False, accumulation='total', selected_positions = ['Goalkeepers'])\n",
    "df_liga1_2024_apertura_arqueros90 = sofascore.scrape_league_stats('Peru Liga 1', '2024', save_csv=False, accumulation='per90', selected_positions = ['Goalkeepers'])\n",
    "df_liga1_2024_apertura_arquerosxJornada = sofascore.scrape_league_stats('Peru Liga 1', '2024', save_csv=False, accumulation='perMatch', selected_positions = ['Goalkeepers'])\n",
    "df_liga1_2024_apertura_defensas = sofascore.scrape_league_stats('Peru Liga 1', '2024', save_csv=False, accumulation='total', selected_positions = ['Defenders'])\n",
    "df_liga1_2024_apertura_defensas90 = sofascore.scrape_league_stats('Peru Liga 1', '2024', save_csv=False, accumulation='per90', selected_positions = ['Defenders'])\n",
    "df_liga1_2024_apertura_defensasxJornada = sofascore.scrape_league_stats('Peru Liga 1', '2024', save_csv=False, accumulation='perMatch', selected_positions = ['Defenders'])\n",
    "df_liga1_2024_apertura_medios = sofascore.scrape_league_stats('Peru Liga 1', '2024', save_csv=False, accumulation='total', selected_positions = ['Midfielders'])\n",
    "df_liga1_2024_apertura_medios90 = sofascore.scrape_league_stats('Peru Liga 1', '2024', save_csv=False, accumulation='per90', selected_positions = ['Midfielders'])\n",
    "df_liga1_2024_apertura_mediosxJornada = sofascore.scrape_league_stats('Peru Liga 1', '2024', save_csv=False, accumulation='perMatch', selected_positions = ['Midfielders'])\n",
    "df_liga1_2024_apertura_delanteros = sofascore.scrape_league_stats('Peru Liga 1', '2024', save_csv=False, accumulation='total', selected_positions = ['Forwards'])\n",
    "df_liga1_2024_apertura_delanteros90 = sofascore.scrape_league_stats('Peru Liga 1', '2024', save_csv=False, accumulation='per90', selected_positions = ['Forwards'])\n",
    "df_liga1_2024_apertura_delanterosxJornada = sofascore.scrape_league_stats('Peru Liga 1', '2024', save_csv=False, accumulation='perMatch', selected_positions = ['Forwards'])"
   ]
  },
  {
   "cell_type": "code",
   "execution_count": 10,
   "metadata": {
    "vscode": {
     "languageId": "ruby"
    }
   },
   "outputs": [],
   "source": [
    "dataframes = [\n",
    "    (df_liga1_2024_apertura_arqueros, 'Portero', 'total'),\n",
    "    (df_liga1_2024_apertura_arqueros90, 'Portero', 'per90'),\n",
    "    (df_liga1_2024_apertura_arquerosxJornada, 'Portero', 'perMatch'),\n",
    "    (df_liga1_2024_apertura_defensas, 'Defensa', 'total'),\n",
    "    (df_liga1_2024_apertura_defensas90, 'Defensa', 'per90'),\n",
    "    (df_liga1_2024_apertura_defensasxJornada, 'Defensa', 'perMatch'),\n",
    "    (df_liga1_2024_apertura_medios, 'Mediocampista', 'total'),\n",
    "    (df_liga1_2024_apertura_medios90, 'Mediocampista', 'per90'),\n",
    "    (df_liga1_2024_apertura_mediosxJornada, 'Mediocampista', 'perMatch'),\n",
    "    (df_liga1_2024_apertura_delanteros, 'Delantero', 'total'),\n",
    "    (df_liga1_2024_apertura_delanteros90, 'Delantero', 'per90'),\n",
    "    (df_liga1_2024_apertura_delanterosxJornada, 'Delantero', 'perMatch')\n",
    "]\n",
    "\n",
    "# Agrega las columnas 'Position' y 'Accumulation' a cada DataFrame\n",
    "for df, position, accumulation in dataframes:\n",
    "    df['Posicion'] = position\n",
    "    df['Acum. Dato'] = accumulation\n",
    "\n",
    "# Combina todos los DataFrames en uno solo\n",
    "df_liga1_2024_apertura = pd.concat([df for df, _, _ in dataframes], ignore_index=True)"
   ]
  },
  {
   "cell_type": "code",
   "execution_count": 11,
   "metadata": {
    "vscode": {
     "languageId": "ruby"
    }
   },
   "outputs": [],
   "source": [
    "#Divide df_liga1_2024_apertura por columna 'team' en 'df_alianza_lima_2024' y 'df_oponentes_2024'\n",
    "df_alianza_lima_2024 = df_liga1_2024_apertura[df_liga1_2024_apertura['team'] == 'Alianza Lima']\n",
    "df_oponentes_2024 = df_liga1_2024_apertura[df_liga1_2024_apertura['team'] != 'Alianza Lima']\n",
    "# Divide el df de alianza y oponentes en tres cada uno segun la columna Accumulation\n",
    "df_alianza_lima_2024_total = df_alianza_lima_2024[df_alianza_lima_2024['Acum. Dato'] == 'total']\n",
    "df_alianza_lima_2024_per90 = df_alianza_lima_2024[df_alianza_lima_2024['Acum. Dato'] == 'per90']\n",
    "df_alianza_lima_2024_perMatch = df_alianza_lima_2024[df_alianza_lima_2024['Acum. Dato'] == 'perMatch']\n",
    "df_oponentes_2024_total = df_oponentes_2024[df_oponentes_2024['Acum. Dato'] == 'total']\n",
    "df_oponentes_2024_per90 = df_oponentes_2024[df_oponentes_2024['Acum. Dato'] == 'per90']\n",
    "df_oponentes_2024_perMatch = df_oponentes_2024[df_oponentes_2024['Acum. Dato'] == 'perMatch']\n"
   ]
  },
  {
   "cell_type": "code",
   "execution_count": 21,
   "metadata": {
    "vscode": {
     "languageId": "ruby"
    }
   },
   "outputs": [],
   "source": [
    "# muestra los datos para el player Carlos Zambrano\n",
    "df_zambrano = df_alianza_lima_2024_total[df_alianza_lima_2024_total['player']=='Carlos Zambrano']"
   ]
  },
  {
   "cell_type": "code",
   "execution_count": 23,
   "metadata": {
    "vscode": {
     "languageId": "ruby"
    }
   },
   "outputs": [
    {
     "name": "stdout",
     "output_type": "stream",
     "text": [
      "Index(['goals', 'yellowCards', 'redCards', 'groundDuelsWon',\n",
      "       'groundDuelsWonPercentage', 'aerialDuelsWon',\n",
      "       'aerialDuelsWonPercentage', 'successfulDribbles',\n",
      "       'successfulDribblesPercentage', 'touches', 'tackles', 'assists',\n",
      "       'accuratePassesPercentage', 'totalDuelsWon', 'totalDuelsWonPercentage',\n",
      "       'minutesPlayed', 'wasFouled', 'fouls', 'dispossessed', 'appearances',\n",
      "       'saves', 'savedShotsFromInsideTheBox', 'savedShotsFromOutsideTheBox',\n",
      "       'goalsConcededInsideTheBox', 'goalsConcededOutsideTheBox', 'highClaims',\n",
      "       'successfulRunsOut', 'punches', 'runsOut', 'accurateFinalThirdPasses',\n",
      "       'bigChancesCreated', 'accuratePasses', 'keyPasses', 'accurateCrosses',\n",
      "       'accurateCrossesPercentage', 'accurateLongBalls',\n",
      "       'accurateLongBallsPercentage', 'interceptions', 'clearances',\n",
      "       'dribbledPast', 'bigChancesMissed', 'totalShots', 'shotsOnTarget',\n",
      "       'blockedShots', 'goalConversionPercentage', 'hitWoodwork', 'offsides',\n",
      "       'expectedGoals', 'errorLeadToGoal', 'errorLeadToShot', 'passToAssist',\n",
      "       'player', 'team', 'Posicion', 'Acum. Dato'],\n",
      "      dtype='object')\n"
     ]
    }
   ],
   "source": [
    "print(df_zambrano.columns)"
   ]
  },
  {
   "cell_type": "code",
   "execution_count": null,
   "metadata": {},
   "outputs": [],
   "source": [
    "df_shotmap = sofascore.get_match_shotmap(\"https://www.sofascore.com/universidad-cesar-vallejo-alianza-lima/lWsGfc#id:11967822\", save_csv=True)"
   ]
  },
  {
   "cell_type": "code",
   "execution_count": null,
   "metadata": {},
   "outputs": [
    {
     "name": "stdout",
     "output_type": "stream",
     "text": [
      "Index(['isHome', 'shotType', 'situation', 'bodyPart', 'goalMouthLocation',\n",
      "       'goalMouthCoordinates', 'id', 'time', 'timeSeconds', 'draw',\n",
      "       'reversedPeriodTime', 'reversedPeriodTimeSeconds', 'incidentType',\n",
      "       'blockCoordinates', 'goalType', 'name', 'firstName', 'lastName', 'slug',\n",
      "       'shortName', 'position', 'jerseyNumber', 'userCount', 'id', 'x', 'y',\n",
      "       'z'],\n",
      "      dtype='object')\n"
     ]
    }
   ],
   "source": [
    "print(df_shotmap.columns)"
   ]
  }
 ],
 "metadata": {
  "kernelspec": {
   "display_name": "venv",
   "language": "python",
   "name": "python3"
  },
  "language_info": {
   "codemirror_mode": {
    "name": "ipython",
    "version": 3
   },
   "file_extension": ".py",
   "mimetype": "text/x-python",
   "name": "python",
   "nbconvert_exporter": "python",
   "pygments_lexer": "ipython3",
   "version": "3.11.5"
  }
 },
 "nbformat": 4,
 "nbformat_minor": 2
}
