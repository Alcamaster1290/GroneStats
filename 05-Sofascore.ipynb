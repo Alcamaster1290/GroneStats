{
 "cells": [
  {
   "cell_type": "code",
   "execution_count": 1,
   "metadata": {},
   "outputs": [],
   "source": [
    "import LanusStats as ls\n",
    "import pandas as pd\n",
    "import seaborn as sns\n",
    "import matplotlib.pyplot as plt\n",
    "sofascore = ls.SofaScore()"
   ]
  },
  {
   "cell_type": "code",
   "execution_count": 2,
   "metadata": {},
   "outputs": [],
   "source": [
    "nombres_jornadas = {\n",
    "    \"A01\": \"Jornada 1 - Local vs Universidad Cesar Vallejo\",\n",
    "    \"A02\": \"Jornada 2 - Visita vs Alianza Atlético de Sullana\",\n",
    "    \"A03\": \"Jornada 3 - Local vs Universitario de Deportes\",\n",
    "    \"A04\": \"Jornada 4 - Visita vs Unión Comercio\",\n",
    "    \"A05\": \"Jornada 5 - Local vs Comerciantes Unidos\",\n",
    "    \"A06\": \"Jornada 6 - Visita vs ADT\",\n",
    "    \"A07\": \"Jornada 7 - Local vs Sporting Cristal\",\n",
    "    \"A08\": \"Jornada 8 - Visita vs Cienciano\",\n",
    "    \"A09\": \"Jornada 9 - Local vs Los Chankas\",\n",
    "    \"A10\": \"Jornada 10 - Visita vs Carlos Manucci\",\n",
    "    \"A11\": \"Jornada 11 - Local vs Atlético Grau\",\n",
    "    \"A12\": \"Jornada 12 - Local vs Sport Boys\",\n",
    "    \"A13\": \"Jornada 13 - Visita vs Melgar\",\n",
    "    \"A14\": \"Jornada 14 - Local vs UTC\",\n",
    "    \"A15\": \"Jornada 15 - Visita vs Sport Huancayo\",\n",
    "    \"A16\": \"Jornada 16 - Local vs Deportivo Garcilaso\",\n",
    "    \"A17\": \"Jornada 17 - Visita vs Cusco\",\n",
    "    \"CL1\": \"Jornada 1 - Local vs Fluminense\",\n",
    "    \"CL2\": \"Jornada 2 - Visita vs Cerro Porteño\",\n",
    "    \"CL3\": \"Jornada 3 - Visita vs Colo Colo\",\n",
    "    \"CL4\": \"Jornada 4 - Local vs Cerro Porteño\",\n",
    "    \"CL5\": \"Jornada 5 - Local vs Colo Colo\",\n",
    "    \"CL6\": \"Jornada 6 - Visita vs Fluminense\"\n",
    "}"
   ]
  },
  {
   "cell_type": "code",
   "execution_count": 3,
   "metadata": {},
   "outputs": [],
   "source": [
    "URLs_jornadas = {\n",
    "    \"A01\": \"https://www.sofascore.com/universidad-cesar-vallejo-alianza-lima/lWsGfc#id:11967822\",\n",
    "    \"A02\": \"https://www.sofascore.com/alianza-lima-alianza-atletico-de-sullana/hWslW#id:11981247\",\n",
    "    \"A03\": \"https://www.sofascore.com/alianza-lima-universitario-de-deportes/fWslW#id:12005095\",\n",
    "    \"A04\": \"https://www.sofascore.com/union-comercio-alianza-lima/lWsGtu#id:12019977\",\n",
    "    \"A05\": \"https://www.sofascore.com/comerciantes-unidos-alianza-lima/lWsjxKb#id:12061051\",\n",
    "    \"A06\": \"https://www.sofascore.com/asociacion-deportiva-tarma-alianza-lima/lWshlJc#id:12076348\",\n",
    "    \"A07\": \"https://www.sofascore.com/alianza-lima-club-sporting-cristal/cWslW#id:12101149\",\n",
    "    \"A08\": \"https://www.sofascore.com/alianza-lima-cienciano/bWslW#id:12120946\",\n",
    "    \"A09\": \"https://www.sofascore.com/los-chankas-cyc-alianza-lima/lWseVac#id:12165423\",\n",
    "    \"A10\": \"https://www.sofascore.com/carlos-mannucci-alianza-lima/lWsVUac#id:12194148\",\n",
    "    \"A11\": \"https://www.sofascore.com/club-atletico-grau-alianza-lima/lWsNanc#id:12214932\",\n",
    "    \"A12\": \"https://www.sofascore.com/sport-boys-alianza-lima/lWsmW#id:12214927\",\n",
    "    \"A13\": \"https://www.sofascore.com/alianza-lima-melgar/iWslW#id:12214949\",\n",
    "    \"A14\": \"https://www.sofascore.com/universidad-tecnica-de-cajamarca-alianza-lima/lWsehK#id:12244381\",\n",
    "    \"A15\": \"https://www.sofascore.com/sport-huancayo-alianza-lima/lWsVCn#id:12244370\",\n",
    "    \"A16\": \"https://www.sofascore.com/deportivo-garcilaso-alianza-lima/lWsJwId#id:12274833\",\n",
    "    \"A17\": \"https://www.sofascore.com/cusco-fc-alianza-lima/lWskAA#id:12274837\",\n",
    "    \"CL1\": \"https://www.sofascore.com/alianza-lima-fluminense/lOslW#id:12172415\",\n",
    "    \"CL2\": \"https://www.sofascore.com/cerro-porteno-alianza-lima/lWsQuc#id:12172422\",\n",
    "    \"CL3\": \"https://www.sofascore.com/colo-colo-alianza-lima/lWsfnb#id:12172418\",\n",
    "    \"CL4\": \"https://www.sofascore.com/cerro-porteno-alianza-lima/lWsQuc#id:12172425\",\n",
    "    \"CL5\": \"https://www.sofascore.com/colo-colo-alianza-lima/lWsfnb#id:12172421\",\n",
    "    \"CL6\": \"https://www.sofascore.com/alianza-lima-fluminense/lOslW#id:12172424\",\n",
    "}"
   ]
  },
  {
   "cell_type": "code",
   "execution_count": 4,
   "metadata": {},
   "outputs": [
    {
     "name": "stdout",
     "output_type": "stream",
     "text": [
      "Procesando Jornada: Jornada 1 - Local vs Universidad Cesar Vallejo\n",
      "Procesando Jornada: Jornada 2 - Visita vs Alianza Atlético de Sullana\n",
      "Procesando Jornada: Jornada 3 - Local vs Universitario de Deportes\n",
      "Procesando Jornada: Jornada 4 - Visita vs Unión Comercio\n",
      "Procesando Jornada: Jornada 5 - Local vs Comerciantes Unidos\n",
      "Procesando Jornada: Jornada 6 - Visita vs ADT\n",
      "Procesando Jornada: Jornada 7 - Local vs Sporting Cristal\n",
      "Procesando Jornada: Jornada 8 - Visita vs Cienciano\n",
      "Procesando Jornada: Jornada 9 - Local vs Los Chankas\n",
      "Procesando Jornada: Jornada 10 - Visita vs Carlos Manucci\n",
      "Procesando Jornada: Jornada 11 - Local vs Atlético Grau\n",
      "Procesando Jornada: Jornada 12 - Local vs Sport Boys\n",
      "Procesando Jornada: Jornada 13 - Visita vs Melgar\n",
      "Procesando Jornada: Jornada 14 - Local vs UTC\n",
      "Procesando Jornada: Jornada 15 - Visita vs Sport Huancayo\n",
      "Procesando Jornada: Jornada 16 - Local vs Deportivo Garcilaso\n",
      "Procesando Jornada: Jornada 17 - Visita vs Cusco\n",
      "Procesando Jornada: Jornada 1 - Local vs Fluminense\n",
      "Procesando Jornada: Jornada 2 - Visita vs Cerro Porteño\n",
      "Procesando Jornada: Jornada 3 - Visita vs Colo Colo\n",
      "Procesando Jornada: Jornada 4 - Local vs Cerro Porteño\n",
      "Procesando Jornada: Jornada 5 - Local vs Colo Colo\n",
      "Procesando Jornada: Jornada 6 - Visita vs Fluminense\n"
     ]
    }
   ],
   "source": [
    "lista_datos_partidos = []\n",
    "\n",
    "for (id_jornada, nombre), (_, match_url) in zip(nombres_jornadas.items(), URLs_jornadas.items()):\n",
    "    print(\"Procesando Jornada:\", nombre)\n",
    "    data = sofascore.get_match_data(match_url)\n",
    "    try:\n",
    "        home_team = data['event']['homeTeam']['name']\n",
    "        home_score = data['event']['homeScore']['current']\n",
    "        home_manager = data['event']['homeTeam']['manager']['name']\n",
    "        away_team = data['event']['awayTeam']['name']\n",
    "        away_score = data['event']['awayScore']['current']\n",
    "        away_manager = data['event']['awayTeam']['manager']['name']\n",
    "    except KeyError:\n",
    "        print('No hay datos para esta jornada')\n",
    "        continue  # Salta al siguiente ciclo si hay un KeyError\n",
    "    \n",
    "    if home_team == 'Alianza Lima':\n",
    "        condicion = 'Local'\n",
    "        if home_score > away_score:\n",
    "            resultado = 'Victoria'\n",
    "        elif home_score == away_score:\n",
    "            resultado = 'Empate'\n",
    "        else:\n",
    "            resultado = 'Derrota'\n",
    "    else:\n",
    "        condicion = 'Visita'\n",
    "        if home_score < away_score:\n",
    "            resultado = 'Victoria'\n",
    "        elif home_score == away_score:\n",
    "            resultado = 'Empate'\n",
    "        else:\n",
    "            resultado = 'Derrota'\n",
    "\n",
    "# Determina el torneo según el id_jornada\n",
    "    if id_jornada.startswith('A'):\n",
    "        torneo = 'Apertura Liga 1'\n",
    "    else:\n",
    "        torneo = 'Copa Libertadores'\n",
    "\n",
    "    lista_datos_partidos.append({\n",
    "        'id_jornada': id_jornada,\n",
    "        'nombre': nombre,\n",
    "        'home_team': home_team,\n",
    "        'home_score': home_score,\n",
    "        'home_manager': home_manager,\n",
    "        'away_team': away_team,\n",
    "        'away_score': away_score,\n",
    "        'away_manager': away_manager,\n",
    "        'Condicion': condicion,\n",
    "        'Resultado': resultado,\n",
    "        'Torneo': torneo\n",
    "    })\n"
   ]
  },
  {
   "cell_type": "code",
   "execution_count": 5,
   "metadata": {},
   "outputs": [
    {
     "name": "stdout",
     "output_type": "stream",
     "text": [
      "   id_jornada                                             nombre  \\\n",
      "0         A01     Jornada 1 - Local vs Universidad Cesar Vallejo   \n",
      "1         A02  Jornada 2 - Visita vs Alianza Atlético de Sullana   \n",
      "2         A03     Jornada 3 - Local vs Universitario de Deportes   \n",
      "3         A04               Jornada 4 - Visita vs Unión Comercio   \n",
      "4         A05           Jornada 5 - Local vs Comerciantes Unidos   \n",
      "5         A06                          Jornada 6 - Visita vs ADT   \n",
      "6         A07              Jornada 7 - Local vs Sporting Cristal   \n",
      "7         A08                    Jornada 8 - Visita vs Cienciano   \n",
      "8         A09                   Jornada 9 - Local vs Los Chankas   \n",
      "9         A10              Jornada 10 - Visita vs Carlos Manucci   \n",
      "10        A11                Jornada 11 - Local vs Atlético Grau   \n",
      "11        A12                   Jornada 12 - Local vs Sport Boys   \n",
      "12        A13                      Jornada 13 - Visita vs Melgar   \n",
      "13        A14                          Jornada 14 - Local vs UTC   \n",
      "14        A15              Jornada 15 - Visita vs Sport Huancayo   \n",
      "15        A16          Jornada 16 - Local vs Deportivo Garcilaso   \n",
      "16        A17                       Jornada 17 - Visita vs Cusco   \n",
      "17        CL1                    Jornada 1 - Local vs Fluminense   \n",
      "18        CL2                Jornada 2 - Visita vs Cerro Porteño   \n",
      "19        CL3                    Jornada 3 - Visita vs Colo Colo   \n",
      "20        CL4                 Jornada 4 - Local vs Cerro Porteño   \n",
      "21        CL5                     Jornada 5 - Local vs Colo Colo   \n",
      "22        CL6                   Jornada 6 - Visita vs Fluminense   \n",
      "\n",
      "                      home_team  home_score            home_manager  \\\n",
      "0                  Alianza Lima           2      Alejandro Restrepo   \n",
      "1   Alianza Atlético de Sullana           0            Jorge Espejo   \n",
      "2                  Alianza Lima           0      Alejandro Restrepo   \n",
      "3                Unión Comercio           1             Andy Loayza   \n",
      "4                  Alianza Lima           5      Alejandro Restrepo   \n",
      "5    Asociación Deportiva Tarma           2            Carlos Desio   \n",
      "6                  Alianza Lima           1      Alejandro Restrepo   \n",
      "7                     Cienciano           2            Oscar Ibanez   \n",
      "8                  Alianza Lima           3      Alejandro Restrepo   \n",
      "9            Carlos A. Mannucci           0           Milton Mendes   \n",
      "10                 Alianza Lima           2      Alejandro Restrepo   \n",
      "11                 Alianza Lima           3      Alejandro Restrepo   \n",
      "12                       Melgar           1  Marco Antonio Valencia   \n",
      "13                 Alianza Lima           1      Alejandro Restrepo   \n",
      "14               Sport Huancayo           0        Mifflin Bermúdez   \n",
      "15                 Alianza Lima           3      Alejandro Restrepo   \n",
      "16                     Cusco FC           3         Miguel Rondelli   \n",
      "17                 Alianza Lima           1      Alejandro Restrepo   \n",
      "18                Cerro Porteño           1          Manolo Jimenez   \n",
      "19                    Colo Colo           0           Jorge Almiron   \n",
      "20                 Alianza Lima           1      Alejandro Restrepo   \n",
      "21                 Alianza Lima           1      Alejandro Restrepo   \n",
      "22                   Fluminense           3          Fernando Diniz   \n",
      "\n",
      "                           away_team  away_score         away_manager  \\\n",
      "0          Universidad César Vallejo           1      Guillermo Salas   \n",
      "1                       Alianza Lima           2   Alejandro Restrepo   \n",
      "2                      Universitario           1        Fabian Bustos   \n",
      "3                       Alianza Lima           3   Alejandro Restrepo   \n",
      "4                Comerciantes Unidos           1     Carlos Silvestri   \n",
      "5                       Alianza Lima           0   Alejandro Restrepo   \n",
      "6              Club Sporting Cristal           2     Enderson Moreira   \n",
      "7                       Alianza Lima           1   Alejandro Restrepo   \n",
      "8                    Los Chankas CYC           0          Pablo Bossi   \n",
      "9                       Alianza Lima           4   Alejandro Restrepo   \n",
      "10                Club Atlético Grau           0  Angel David Comizzo   \n",
      "11                        Sport Boys           0           Juan Alayo   \n",
      "12                      Alianza Lima           0   Alejandro Restrepo   \n",
      "13  Universidad Técnica de Cajamarca           0   Carlos Ramacciotti   \n",
      "14                      Alianza Lima           2   Alejandro Restrepo   \n",
      "15               Deportivo Garcilaso           2       Bernardo Redín   \n",
      "16                      Alianza Lima           0   Alejandro Restrepo   \n",
      "17                        Fluminense           1       Fernando Diniz   \n",
      "18                      Alianza Lima           0   Alejandro Restrepo   \n",
      "19                      Alianza Lima           0   Alejandro Restrepo   \n",
      "20                     Cerro Porteño           1       Manolo Jimenez   \n",
      "21                         Colo Colo           1        Jorge Almiron   \n",
      "22                      Alianza Lima           2   Alejandro Restrepo   \n",
      "\n",
      "   Condicion Resultado             Torneo  Puntos obtenidos  Puntos acumulados  \n",
      "0      Local  Victoria    Apertura Liga 1                 3                  3  \n",
      "1     Visita  Victoria    Apertura Liga 1                 3                  6  \n",
      "2      Local   Derrota    Apertura Liga 1                 0                  6  \n",
      "3     Visita  Victoria    Apertura Liga 1                 3                  9  \n",
      "4      Local  Victoria    Apertura Liga 1                 3                 12  \n",
      "5     Visita   Derrota    Apertura Liga 1                 0                 12  \n",
      "6      Local   Derrota    Apertura Liga 1                 0                 12  \n",
      "7     Visita   Derrota    Apertura Liga 1                 0                 12  \n",
      "8      Local  Victoria    Apertura Liga 1                 3                 15  \n",
      "9     Visita  Victoria    Apertura Liga 1                 3                 18  \n",
      "10     Local  Victoria    Apertura Liga 1                 3                 21  \n",
      "11     Local  Victoria    Apertura Liga 1                 3                 24  \n",
      "12    Visita   Derrota    Apertura Liga 1                 0                 24  \n",
      "13     Local  Victoria    Apertura Liga 1                 3                 27  \n",
      "14    Visita  Victoria    Apertura Liga 1                 3                 30  \n",
      "15     Local  Victoria    Apertura Liga 1                 3                 33  \n",
      "16    Visita   Derrota    Apertura Liga 1                 0                 33  \n",
      "17     Local    Empate  Copa Libertadores                 1                  1  \n",
      "18    Visita   Derrota  Copa Libertadores                 0                  1  \n",
      "19    Visita    Empate  Copa Libertadores                 1                  2  \n",
      "20     Local    Empate  Copa Libertadores                 1                  3  \n",
      "21     Local    Empate  Copa Libertadores                 1                  4  \n",
      "22    Visita   Derrota  Copa Libertadores                 0                  4  \n"
     ]
    }
   ],
   "source": [
    "# Convierte la lista de diccionarios a un DataFrame\n",
    "df_resultados = pd.DataFrame(lista_datos_partidos)\n",
    "\n",
    "# Calcula los puntos obtenidos y acumulados\n",
    "df_resultados['Puntos obtenidos'] = df_resultados['Resultado'].map({'Victoria': 3, 'Empate': 1, 'Derrota': 0})\n",
    "df_resultados['Puntos acumulados'] = df_resultados.groupby('Torneo')['Puntos obtenidos'].cumsum()\n",
    "\n",
    "# Muestra el DataFrame resultante\n",
    "print(df_resultados)"
   ]
  },
  {
   "cell_type": "code",
   "execution_count": 6,
   "metadata": {
    "vscode": {
     "languageId": "ruby"
    }
   },
   "outputs": [],
   "source": [
    "df_resultados['DT Alianza Lima'] = df_resultados.apply(\n",
    "    lambda row: row['home_manager'] if row['Condicion'] == 'Local' else row['away_manager'], axis=1\n",
    ")\n",
    "df_resultados['DT Oponente'] = df_resultados.apply(\n",
    "    lambda row: row['away_manager'] if row['Condicion'] == 'Local' else row['home_manager'], axis=1\n",
    ")\n",
    "df_resultados = df_resultados.drop(['home_manager', 'away_manager'], axis=1)\n",
    "df_resultados['Equipo Oponente'] = df_resultados.apply(\n",
    "    lambda row: row['away_team'] if row['Condicion'] == 'Local' else row['home_team'], axis=1)\n"
   ]
  },
  {
   "cell_type": "code",
   "execution_count": 7,
   "metadata": {
    "vscode": {
     "languageId": "ruby"
    }
   },
   "outputs": [],
   "source": [
    "# Crea 'Goles Alianza Lima' y 'Goles oponente' utilizando la lógica anterior\n",
    "df_resultados['Goles Alianza Lima'] = df_resultados.apply(\n",
    "    lambda row: row['home_score'] if row['Condicion'] == 'Local' else row['away_score'], axis=1)\n",
    "df_resultados['Goles Oponente'] = df_resultados.apply(\n",
    "    lambda row: row['away_score'] if row['Condicion'] == 'Local' else row['home_score'], axis=1)"
   ]
  },
  {
   "cell_type": "code",
   "execution_count": 8,
   "metadata": {
    "vscode": {
     "languageId": "ruby"
    }
   },
   "outputs": [
    {
     "name": "stdout",
     "output_type": "stream",
     "text": [
      "   id_jornada                                             nombre  \\\n",
      "0         A01     Jornada 1 - Local vs Universidad Cesar Vallejo   \n",
      "1         A02  Jornada 2 - Visita vs Alianza Atlético de Sullana   \n",
      "2         A03     Jornada 3 - Local vs Universitario de Deportes   \n",
      "3         A04               Jornada 4 - Visita vs Unión Comercio   \n",
      "4         A05           Jornada 5 - Local vs Comerciantes Unidos   \n",
      "5         A06                          Jornada 6 - Visita vs ADT   \n",
      "6         A07              Jornada 7 - Local vs Sporting Cristal   \n",
      "7         A08                    Jornada 8 - Visita vs Cienciano   \n",
      "8         A09                   Jornada 9 - Local vs Los Chankas   \n",
      "9         A10              Jornada 10 - Visita vs Carlos Manucci   \n",
      "10        A11                Jornada 11 - Local vs Atlético Grau   \n",
      "11        A12                   Jornada 12 - Local vs Sport Boys   \n",
      "12        A13                      Jornada 13 - Visita vs Melgar   \n",
      "13        A14                          Jornada 14 - Local vs UTC   \n",
      "14        A15              Jornada 15 - Visita vs Sport Huancayo   \n",
      "15        A16          Jornada 16 - Local vs Deportivo Garcilaso   \n",
      "16        A17                       Jornada 17 - Visita vs Cusco   \n",
      "17        CL1                    Jornada 1 - Local vs Fluminense   \n",
      "18        CL2                Jornada 2 - Visita vs Cerro Porteño   \n",
      "19        CL3                    Jornada 3 - Visita vs Colo Colo   \n",
      "20        CL4                 Jornada 4 - Local vs Cerro Porteño   \n",
      "21        CL5                     Jornada 5 - Local vs Colo Colo   \n",
      "22        CL6                   Jornada 6 - Visita vs Fluminense   \n",
      "\n",
      "                      home_team  home_score                         away_team  \\\n",
      "0                  Alianza Lima           2         Universidad César Vallejo   \n",
      "1   Alianza Atlético de Sullana           0                      Alianza Lima   \n",
      "2                  Alianza Lima           0                     Universitario   \n",
      "3                Unión Comercio           1                      Alianza Lima   \n",
      "4                  Alianza Lima           5               Comerciantes Unidos   \n",
      "5    Asociación Deportiva Tarma           2                      Alianza Lima   \n",
      "6                  Alianza Lima           1             Club Sporting Cristal   \n",
      "7                     Cienciano           2                      Alianza Lima   \n",
      "8                  Alianza Lima           3                   Los Chankas CYC   \n",
      "9            Carlos A. Mannucci           0                      Alianza Lima   \n",
      "10                 Alianza Lima           2                Club Atlético Grau   \n",
      "11                 Alianza Lima           3                        Sport Boys   \n",
      "12                       Melgar           1                      Alianza Lima   \n",
      "13                 Alianza Lima           1  Universidad Técnica de Cajamarca   \n",
      "14               Sport Huancayo           0                      Alianza Lima   \n",
      "15                 Alianza Lima           3               Deportivo Garcilaso   \n",
      "16                     Cusco FC           3                      Alianza Lima   \n",
      "17                 Alianza Lima           1                        Fluminense   \n",
      "18                Cerro Porteño           1                      Alianza Lima   \n",
      "19                    Colo Colo           0                      Alianza Lima   \n",
      "20                 Alianza Lima           1                     Cerro Porteño   \n",
      "21                 Alianza Lima           1                         Colo Colo   \n",
      "22                   Fluminense           3                      Alianza Lima   \n",
      "\n",
      "    away_score Condicion Resultado             Torneo  Puntos obtenidos  \\\n",
      "0            1     Local  Victoria    Apertura Liga 1                 3   \n",
      "1            2    Visita  Victoria    Apertura Liga 1                 3   \n",
      "2            1     Local   Derrota    Apertura Liga 1                 0   \n",
      "3            3    Visita  Victoria    Apertura Liga 1                 3   \n",
      "4            1     Local  Victoria    Apertura Liga 1                 3   \n",
      "5            0    Visita   Derrota    Apertura Liga 1                 0   \n",
      "6            2     Local   Derrota    Apertura Liga 1                 0   \n",
      "7            1    Visita   Derrota    Apertura Liga 1                 0   \n",
      "8            0     Local  Victoria    Apertura Liga 1                 3   \n",
      "9            4    Visita  Victoria    Apertura Liga 1                 3   \n",
      "10           0     Local  Victoria    Apertura Liga 1                 3   \n",
      "11           0     Local  Victoria    Apertura Liga 1                 3   \n",
      "12           0    Visita   Derrota    Apertura Liga 1                 0   \n",
      "13           0     Local  Victoria    Apertura Liga 1                 3   \n",
      "14           2    Visita  Victoria    Apertura Liga 1                 3   \n",
      "15           2     Local  Victoria    Apertura Liga 1                 3   \n",
      "16           0    Visita   Derrota    Apertura Liga 1                 0   \n",
      "17           1     Local    Empate  Copa Libertadores                 1   \n",
      "18           0    Visita   Derrota  Copa Libertadores                 0   \n",
      "19           0    Visita    Empate  Copa Libertadores                 1   \n",
      "20           1     Local    Empate  Copa Libertadores                 1   \n",
      "21           1     Local    Empate  Copa Libertadores                 1   \n",
      "22           2    Visita   Derrota  Copa Libertadores                 0   \n",
      "\n",
      "    Puntos acumulados     DT Alianza Lima             DT Oponente  \\\n",
      "0                   3  Alejandro Restrepo         Guillermo Salas   \n",
      "1                   6  Alejandro Restrepo            Jorge Espejo   \n",
      "2                   6  Alejandro Restrepo           Fabian Bustos   \n",
      "3                   9  Alejandro Restrepo             Andy Loayza   \n",
      "4                  12  Alejandro Restrepo        Carlos Silvestri   \n",
      "5                  12  Alejandro Restrepo            Carlos Desio   \n",
      "6                  12  Alejandro Restrepo        Enderson Moreira   \n",
      "7                  12  Alejandro Restrepo            Oscar Ibanez   \n",
      "8                  15  Alejandro Restrepo             Pablo Bossi   \n",
      "9                  18  Alejandro Restrepo           Milton Mendes   \n",
      "10                 21  Alejandro Restrepo     Angel David Comizzo   \n",
      "11                 24  Alejandro Restrepo              Juan Alayo   \n",
      "12                 24  Alejandro Restrepo  Marco Antonio Valencia   \n",
      "13                 27  Alejandro Restrepo      Carlos Ramacciotti   \n",
      "14                 30  Alejandro Restrepo        Mifflin Bermúdez   \n",
      "15                 33  Alejandro Restrepo          Bernardo Redín   \n",
      "16                 33  Alejandro Restrepo         Miguel Rondelli   \n",
      "17                  1  Alejandro Restrepo          Fernando Diniz   \n",
      "18                  1  Alejandro Restrepo          Manolo Jimenez   \n",
      "19                  2  Alejandro Restrepo           Jorge Almiron   \n",
      "20                  3  Alejandro Restrepo          Manolo Jimenez   \n",
      "21                  4  Alejandro Restrepo           Jorge Almiron   \n",
      "22                  4  Alejandro Restrepo          Fernando Diniz   \n",
      "\n",
      "                     Equipo Oponente  Goles Alianza Lima  Goles Oponente  \n",
      "0          Universidad César Vallejo                   2               1  \n",
      "1        Alianza Atlético de Sullana                   2               0  \n",
      "2                      Universitario                   0               1  \n",
      "3                     Unión Comercio                   3               1  \n",
      "4                Comerciantes Unidos                   5               1  \n",
      "5         Asociación Deportiva Tarma                   0               2  \n",
      "6              Club Sporting Cristal                   1               2  \n",
      "7                          Cienciano                   1               2  \n",
      "8                    Los Chankas CYC                   3               0  \n",
      "9                 Carlos A. Mannucci                   4               0  \n",
      "10                Club Atlético Grau                   2               0  \n",
      "11                        Sport Boys                   3               0  \n",
      "12                            Melgar                   0               1  \n",
      "13  Universidad Técnica de Cajamarca                   1               0  \n",
      "14                    Sport Huancayo                   2               0  \n",
      "15               Deportivo Garcilaso                   3               2  \n",
      "16                          Cusco FC                   0               3  \n",
      "17                        Fluminense                   1               1  \n",
      "18                     Cerro Porteño                   0               1  \n",
      "19                         Colo Colo                   0               0  \n",
      "20                     Cerro Porteño                   1               1  \n",
      "21                         Colo Colo                   1               1  \n",
      "22                        Fluminense                   2               3  \n"
     ]
    }
   ],
   "source": [
    "print(df_resultados)"
   ]
  },
  {
   "cell_type": "markdown",
   "metadata": {},
   "source": [
    "# Estadisticas de liga 2024"
   ]
  },
  {
   "cell_type": "code",
   "execution_count": 9,
   "metadata": {
    "vscode": {
     "languageId": "ruby"
    }
   },
   "outputs": [
    {
     "name": "stdout",
     "output_type": "stream",
     "text": [
      "End of the pages\n",
      "End of the pages\n",
      "End of the pages\n",
      "End of the pages\n",
      "End of the pages\n",
      "End of the pages\n",
      "End of the pages\n",
      "End of the pages\n",
      "End of the pages\n",
      "End of the pages\n",
      "End of the pages\n",
      "End of the pages\n"
     ]
    }
   ],
   "source": [
    "df_liga1_2024_apertura_arqueros = sofascore.scrape_league_stats('Peru Liga 1', '2024', save_csv=False, accumulation='total', selected_positions = ['Goalkeepers'])\n",
    "df_liga1_2024_apertura_arqueros90 = sofascore.scrape_league_stats('Peru Liga 1', '2024', save_csv=False, accumulation='per90', selected_positions = ['Goalkeepers'])\n",
    "df_liga1_2024_apertura_arquerosxJornada = sofascore.scrape_league_stats('Peru Liga 1', '2024', save_csv=False, accumulation='perMatch', selected_positions = ['Goalkeepers'])\n",
    "df_liga1_2024_apertura_defensas = sofascore.scrape_league_stats('Peru Liga 1', '2024', save_csv=False, accumulation='total', selected_positions = ['Defenders'])\n",
    "df_liga1_2024_apertura_defensas90 = sofascore.scrape_league_stats('Peru Liga 1', '2024', save_csv=False, accumulation='per90', selected_positions = ['Defenders'])\n",
    "df_liga1_2024_apertura_defensasxJornada = sofascore.scrape_league_stats('Peru Liga 1', '2024', save_csv=False, accumulation='perMatch', selected_positions = ['Defenders'])\n",
    "df_liga1_2024_apertura_medios = sofascore.scrape_league_stats('Peru Liga 1', '2024', save_csv=False, accumulation='total', selected_positions = ['Midfielders'])\n",
    "df_liga1_2024_apertura_medios90 = sofascore.scrape_league_stats('Peru Liga 1', '2024', save_csv=False, accumulation='per90', selected_positions = ['Midfielders'])\n",
    "df_liga1_2024_apertura_mediosxJornada = sofascore.scrape_league_stats('Peru Liga 1', '2024', save_csv=False, accumulation='perMatch', selected_positions = ['Midfielders'])\n",
    "df_liga1_2024_apertura_delanteros = sofascore.scrape_league_stats('Peru Liga 1', '2024', save_csv=False, accumulation='total', selected_positions = ['Forwards'])\n",
    "df_liga1_2024_apertura_delanteros90 = sofascore.scrape_league_stats('Peru Liga 1', '2024', save_csv=False, accumulation='per90', selected_positions = ['Forwards'])\n",
    "df_liga1_2024_apertura_delanterosxJornada = sofascore.scrape_league_stats('Peru Liga 1', '2024', save_csv=False, accumulation='perMatch', selected_positions = ['Forwards'])"
   ]
  },
  {
   "cell_type": "code",
   "execution_count": 10,
   "metadata": {
    "vscode": {
     "languageId": "ruby"
    }
   },
   "outputs": [],
   "source": [
    "dataframes = [\n",
    "    (df_liga1_2024_apertura_arqueros, 'Portero', 'total'),\n",
    "    (df_liga1_2024_apertura_arqueros90, 'Portero', 'per90'),\n",
    "    (df_liga1_2024_apertura_arquerosxJornada, 'Portero', 'perMatch'),\n",
    "    (df_liga1_2024_apertura_defensas, 'Defensa', 'total'),\n",
    "    (df_liga1_2024_apertura_defensas90, 'Defensa', 'per90'),\n",
    "    (df_liga1_2024_apertura_defensasxJornada, 'Defensa', 'perMatch'),\n",
    "    (df_liga1_2024_apertura_medios, 'Mediocampista', 'total'),\n",
    "    (df_liga1_2024_apertura_medios90, 'Mediocampista', 'per90'),\n",
    "    (df_liga1_2024_apertura_mediosxJornada, 'Mediocampista', 'perMatch'),\n",
    "    (df_liga1_2024_apertura_delanteros, 'Delantero', 'total'),\n",
    "    (df_liga1_2024_apertura_delanteros90, 'Delantero', 'per90'),\n",
    "    (df_liga1_2024_apertura_delanterosxJornada, 'Delantero', 'perMatch')\n",
    "]\n",
    "\n",
    "# Agrega las columnas 'Position' y 'Accumulation' a cada DataFrame\n",
    "for df, position, accumulation in dataframes:\n",
    "    df['Posicion'] = position\n",
    "    df['Acum. Dato'] = accumulation\n",
    "\n",
    "# Combina todos los DataFrames en uno solo\n",
    "df_liga1_2024_apertura = pd.concat([df for df, _, _ in dataframes], ignore_index=True)"
   ]
  },
  {
   "cell_type": "code",
   "execution_count": 11,
   "metadata": {
    "vscode": {
     "languageId": "ruby"
    }
   },
   "outputs": [],
   "source": [
    "#Divide df_liga1_2024_apertura por columna 'team' en 'df_alianza_lima_2024' y 'df_oponentes_2024'\n",
    "df_alianza_lima_2024 = df_liga1_2024_apertura[df_liga1_2024_apertura['team'] == 'Alianza Lima']\n",
    "df_oponentes_2024 = df_liga1_2024_apertura[df_liga1_2024_apertura['team'] != 'Alianza Lima']\n",
    "# Divide el df de alianza y oponentes en tres cada uno segun la columna Accumulation\n",
    "df_alianza_lima_2024_total = df_alianza_lima_2024[df_alianza_lima_2024['Acum. Dato'] == 'total']\n",
    "df_alianza_lima_2024_per90 = df_alianza_lima_2024[df_alianza_lima_2024['Acum. Dato'] == 'per90']\n",
    "df_alianza_lima_2024_perMatch = df_alianza_lima_2024[df_alianza_lima_2024['Acum. Dato'] == 'perMatch']\n",
    "df_oponentes_2024_total = df_oponentes_2024[df_oponentes_2024['Acum. Dato'] == 'total']\n",
    "df_oponentes_2024_per90 = df_oponentes_2024[df_oponentes_2024['Acum. Dato'] == 'per90']\n",
    "df_oponentes_2024_perMatch = df_oponentes_2024[df_oponentes_2024['Acum. Dato'] == 'perMatch']\n"
   ]
  },
  {
   "cell_type": "code",
   "execution_count": 21,
   "metadata": {
    "vscode": {
     "languageId": "ruby"
    }
   },
   "outputs": [],
   "source": [
    "# muestra los datos para el player Carlos Zambrano\n",
    "df_zambrano = df_alianza_lima_2024_total[df_alianza_lima_2024_total['player']=='Carlos Zambrano']"
   ]
  },
  {
   "cell_type": "code",
   "execution_count": 23,
   "metadata": {
    "vscode": {
     "languageId": "ruby"
    }
   },
   "outputs": [
    {
     "name": "stdout",
     "output_type": "stream",
     "text": [
      "Index(['goals', 'yellowCards', 'redCards', 'groundDuelsWon',\n",
      "       'groundDuelsWonPercentage', 'aerialDuelsWon',\n",
      "       'aerialDuelsWonPercentage', 'successfulDribbles',\n",
      "       'successfulDribblesPercentage', 'touches', 'tackles', 'assists',\n",
      "       'accuratePassesPercentage', 'totalDuelsWon', 'totalDuelsWonPercentage',\n",
      "       'minutesPlayed', 'wasFouled', 'fouls', 'dispossessed', 'appearances',\n",
      "       'saves', 'savedShotsFromInsideTheBox', 'savedShotsFromOutsideTheBox',\n",
      "       'goalsConcededInsideTheBox', 'goalsConcededOutsideTheBox', 'highClaims',\n",
      "       'successfulRunsOut', 'punches', 'runsOut', 'accurateFinalThirdPasses',\n",
      "       'bigChancesCreated', 'accuratePasses', 'keyPasses', 'accurateCrosses',\n",
      "       'accurateCrossesPercentage', 'accurateLongBalls',\n",
      "       'accurateLongBallsPercentage', 'interceptions', 'clearances',\n",
      "       'dribbledPast', 'bigChancesMissed', 'totalShots', 'shotsOnTarget',\n",
      "       'blockedShots', 'goalConversionPercentage', 'hitWoodwork', 'offsides',\n",
      "       'expectedGoals', 'errorLeadToGoal', 'errorLeadToShot', 'passToAssist',\n",
      "       'player', 'team', 'Posicion', 'Acum. Dato'],\n",
      "      dtype='object')\n"
     ]
    }
   ],
   "source": [
    "print(df_zambrano.columns)"
   ]
  },
  {
   "cell_type": "code",
   "execution_count": 24,
   "metadata": {
    "vscode": {
     "languageId": "ruby"
    }
   },
   "outputs": [
    {
     "ename": "AttributeError",
     "evalue": "'SofaScore' object has no attribute 'general_match_stats'",
     "output_type": "error",
     "traceback": [
      "\u001b[1;31m---------------------------------------------------------------------------\u001b[0m",
      "\u001b[1;31mAttributeError\u001b[0m                            Traceback (most recent call last)",
      "Cell \u001b[1;32mIn[24], line 1\u001b[0m\n\u001b[1;32m----> 1\u001b[0m df \u001b[38;5;241m=\u001b[39m \u001b[43msofascore\u001b[49m\u001b[38;5;241;43m.\u001b[39;49m\u001b[43mgeneral_match_stats\u001b[49m(URLs_jornadas[\u001b[38;5;124m\"\u001b[39m\u001b[38;5;124mA01\u001b[39m\u001b[38;5;124m\"\u001b[39m])\n",
      "\u001b[1;31mAttributeError\u001b[0m: 'SofaScore' object has no attribute 'general_match_stats'"
     ]
    }
   ],
   "source": [
    "df = sofascore.get_general_match_stats(URLs_jornadas[\"A01\"])"
   ]
  },
  {
   "cell_type": "code",
   "execution_count": null,
   "metadata": {
    "vscode": {
     "languageId": "ruby"
    }
   },
   "outputs": [],
   "source": [
    "print(df)"
   ]
  },
  {
   "cell_type": "code",
   "execution_count": null,
   "metadata": {},
   "outputs": [],
   "source": [
    "df_shotmap = sofascore.get_match_shotmap(\"https://www.sofascore.com/universidad-cesar-vallejo-alianza-lima/lWsGfc#id:11967822\", save_csv=True)"
   ]
  },
  {
   "cell_type": "code",
   "execution_count": null,
   "metadata": {},
   "outputs": [
    {
     "name": "stdout",
     "output_type": "stream",
     "text": [
      "Index(['isHome', 'shotType', 'situation', 'bodyPart', 'goalMouthLocation',\n",
      "       'goalMouthCoordinates', 'id', 'time', 'timeSeconds', 'draw',\n",
      "       'reversedPeriodTime', 'reversedPeriodTimeSeconds', 'incidentType',\n",
      "       'blockCoordinates', 'goalType', 'name', 'firstName', 'lastName', 'slug',\n",
      "       'shortName', 'position', 'jerseyNumber', 'userCount', 'id', 'x', 'y',\n",
      "       'z'],\n",
      "      dtype='object')\n"
     ]
    }
   ],
   "source": [
    "print(df_shotmap.columns)"
   ]
  }
 ],
 "metadata": {
  "kernelspec": {
   "display_name": "venv",
   "language": "python",
   "name": "python3"
  },
  "language_info": {
   "codemirror_mode": {
    "name": "ipython",
    "version": 3
   },
   "file_extension": ".py",
   "mimetype": "text/x-python",
   "name": "python",
   "nbconvert_exporter": "python",
   "pygments_lexer": "ipython3",
   "version": "3.11.5"
  }
 },
 "nbformat": 4,
 "nbformat_minor": 2
}
