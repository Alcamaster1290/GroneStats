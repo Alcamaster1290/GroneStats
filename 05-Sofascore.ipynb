{
 "cells": [
  {
   "cell_type": "code",
   "execution_count": 2,
   "metadata": {},
   "outputs": [],
   "source": [
    "import LanusStats as ls\n",
    "import pandas as pd\n",
    "import seaborn as sns\n",
    "import matplotlib.pyplot as plt\n",
    "import math\n",
    "sofascore = ls.SofaScore()"
   ]
  },
  {
   "cell_type": "code",
   "execution_count": 3,
   "metadata": {},
   "outputs": [],
   "source": [
    "jugadores_df_paths = [\n",
    "    r'C:\\Users\\Alvaro\\Proyectos\\Proyecto Gronestats\\GroneStats\\Aplicacion Final\\2024\\Estadisticas por Jornada AL 2024\\A01_AL_stats_jugadores.csv',\n",
    "    r'C:\\Users\\Alvaro\\Proyectos\\Proyecto Gronestats\\GroneStats\\Aplicacion Final\\2024\\Estadisticas por Jornada AL 2024\\A02_AL_stats_jugadores.csv',\n",
    "    r'C:\\Users\\Alvaro\\Proyectos\\Proyecto Gronestats\\GroneStats\\Aplicacion Final\\2024\\Estadisticas por Jornada AL 2024\\A03_AL_stats_jugadores.csv',\n",
    "    r'C:\\Users\\Alvaro\\Proyectos\\Proyecto Gronestats\\GroneStats\\Aplicacion Final\\2024\\Estadisticas por Jornada AL 2024\\A04_AL_stats_jugadores.csv',\n",
    "    r'C:\\Users\\Alvaro\\Proyectos\\Proyecto Gronestats\\GroneStats\\Aplicacion Final\\2024\\Estadisticas por Jornada AL 2024\\A05_AL_stats_jugadores.csv',\n",
    "    r'C:\\Users\\Alvaro\\Proyectos\\Proyecto Gronestats\\GroneStats\\Aplicacion Final\\2024\\Estadisticas por Jornada AL 2024\\A06_AL_stats_jugadores.csv',\n",
    "    r'C:\\Users\\Alvaro\\Proyectos\\Proyecto Gronestats\\GroneStats\\Aplicacion Final\\2024\\Estadisticas por Jornada AL 2024\\A07_AL_stats_jugadores.csv',\n",
    "    r'C:\\Users\\Alvaro\\Proyectos\\Proyecto Gronestats\\GroneStats\\Aplicacion Final\\2024\\Estadisticas por Jornada AL 2024\\A08_AL_stats_jugadores.csv',\n",
    "    r'C:\\Users\\Alvaro\\Proyectos\\Proyecto Gronestats\\GroneStats\\Aplicacion Final\\2024\\Estadisticas por Jornada AL 2024\\A09_AL_stats_jugadores.csv',\n",
    "    r'C:\\Users\\Alvaro\\Proyectos\\Proyecto Gronestats\\GroneStats\\Aplicacion Final\\2024\\Estadisticas por Jornada AL 2024\\A10_AL_stats_jugadores.csv',\n",
    "    r'C:\\Users\\Alvaro\\Proyectos\\Proyecto Gronestats\\GroneStats\\Aplicacion Final\\2024\\Estadisticas por Jornada AL 2024\\A11_AL_stats_jugadores.csv',\n",
    "    r'C:\\Users\\Alvaro\\Proyectos\\Proyecto Gronestats\\GroneStats\\Aplicacion Final\\2024\\Estadisticas por Jornada AL 2024\\A12_AL_stats_jugadores.csv',\n",
    "    r'C:\\Users\\Alvaro\\Proyectos\\Proyecto Gronestats\\GroneStats\\Aplicacion Final\\2024\\Estadisticas por Jornada AL 2024\\A13_AL_stats_jugadores.csv',\n",
    "    r'C:\\Users\\Alvaro\\Proyectos\\Proyecto Gronestats\\GroneStats\\Aplicacion Final\\2024\\Estadisticas por Jornada AL 2024\\A14_AL_stats_jugadores.csv',\n",
    "    r'C:\\Users\\Alvaro\\Proyectos\\Proyecto Gronestats\\GroneStats\\Aplicacion Final\\2024\\Estadisticas por Jornada AL 2024\\A15_AL_stats_jugadores.csv',\n",
    "    r'C:\\Users\\Alvaro\\Proyectos\\Proyecto Gronestats\\GroneStats\\Aplicacion Final\\2024\\Estadisticas por Jornada AL 2024\\A16_AL_stats_jugadores.csv',\n",
    "    r'C:\\Users\\Alvaro\\Proyectos\\Proyecto Gronestats\\GroneStats\\Aplicacion Final\\2024\\Estadisticas por Jornada AL 2024\\A17_AL_stats_jugadores.csv',\n",
    "    r'C:\\Users\\Alvaro\\Proyectos\\Proyecto Gronestats\\GroneStats\\Aplicacion Final\\2024\\Estadisticas por Jornada AL 2024\\CL1_AL_stats_jugadores.csv',\n",
    "    r'C:\\Users\\Alvaro\\Proyectos\\Proyecto Gronestats\\GroneStats\\Aplicacion Final\\2024\\Estadisticas por Jornada AL 2024\\CL2_AL_stats_jugadores.csv',\n",
    "    r'C:\\Users\\Alvaro\\Proyectos\\Proyecto Gronestats\\GroneStats\\Aplicacion Final\\2024\\Estadisticas por Jornada AL 2024\\CL3_AL_stats_jugadores.csv',\n",
    "    r'C:\\Users\\Alvaro\\Proyectos\\Proyecto Gronestats\\GroneStats\\Aplicacion Final\\2024\\Estadisticas por Jornada AL 2024\\CL4_AL_stats_jugadores.csv',\n",
    "    r'C:\\Users\\Alvaro\\Proyectos\\Proyecto Gronestats\\GroneStats\\Aplicacion Final\\2024\\Estadisticas por Jornada AL 2024\\CL5_AL_stats_jugadores.csv',\n",
    "    r'C:\\Users\\Alvaro\\Proyectos\\Proyecto Gronestats\\GroneStats\\Aplicacion Final\\2024\\Estadisticas por Jornada AL 2024\\CL6_AL_stats_jugadores.csv',\n",
    "]"
   ]
  },
  {
   "cell_type": "code",
   "execution_count": 4,
   "metadata": {},
   "outputs": [],
   "source": [
    "nombres_jornadas = {\n",
    "    \"A01\": \"Jornada 1 - Local vs Universidad Cesar Vallejo\",\n",
    "    \"A02\": \"Jornada 2 - Visita vs Alianza Atlético de Sullana\",\n",
    "    \"A03\": \"Jornada 3 - Local vs Universitario de Deportes\",\n",
    "    \"A04\": \"Jornada 4 - Visita vs Unión Comercio\",\n",
    "    \"A05\": \"Jornada 5 - Local vs Comerciantes Unidos\",\n",
    "    \"A06\": \"Jornada 6 - Visita vs ADT\",\n",
    "    \"A07\": \"Jornada 7 - Local vs Sporting Cristal\",\n",
    "    \"A08\": \"Jornada 8 - Visita vs Cienciano\",\n",
    "    \"A09\": \"Jornada 9 - Local vs Los Chankas\",\n",
    "    \"A10\": \"Jornada 10 - Visita vs Carlos Manucci\",\n",
    "    \"A11\": \"Jornada 11 - Local vs Atlético Grau\",\n",
    "    \"A12\": \"Jornada 12 - Local vs Sport Boys\",\n",
    "    \"A13\": \"Jornada 13 - Visita vs Melgar\",\n",
    "    \"A14\": \"Jornada 14 - Local vs UTC\",\n",
    "    \"A15\": \"Jornada 15 - Visita vs Sport Huancayo\",\n",
    "    \"A16\": \"Jornada 16 - Local vs Deportivo Garcilaso\",\n",
    "    \"A17\": \"Jornada 17 - Visita vs Cusco\",\n",
    "    \"CL1\": \"Jornada 1 - Local vs Fluminense\",\n",
    "    \"CL2\": \"Jornada 2 - Visita vs Cerro Porteño\",\n",
    "    \"CL3\": \"Jornada 3 - Visita vs Colo Colo\",\n",
    "    \"CL4\": \"Jornada 4 - Local vs Cerro Porteño\",\n",
    "    \"CL5\": \"Jornada 5 - Local vs Colo Colo\",\n",
    "    \"CL6\": \"Jornada 6 - Visita vs Fluminense\"\n",
    "}"
   ]
  },
  {
   "cell_type": "code",
   "execution_count": 5,
   "metadata": {},
   "outputs": [],
   "source": [
    "URLs_jornadas = {\n",
    "    \"A01\": \"https://www.sofascore.com/universidad-cesar-vallejo-alianza-lima/lWsGfc#id:11967822\",\n",
    "    \"A02\": \"https://www.sofascore.com/alianza-lima-alianza-atletico-de-sullana/hWslW#id:11981247\",\n",
    "    \"A03\": \"https://www.sofascore.com/alianza-lima-universitario-de-deportes/fWslW#id:12005095\",\n",
    "    \"A04\": \"https://www.sofascore.com/union-comercio-alianza-lima/lWsGtu#id:12019977\",\n",
    "    \"A05\": \"https://www.sofascore.com/comerciantes-unidos-alianza-lima/lWsjxKb#id:12061051\",\n",
    "    \"A06\": \"https://www.sofascore.com/asociacion-deportiva-tarma-alianza-lima/lWshlJc#id:12076348\",\n",
    "    \"A07\": \"https://www.sofascore.com/alianza-lima-club-sporting-cristal/cWslW#id:12101149\",\n",
    "    \"A08\": \"https://www.sofascore.com/alianza-lima-cienciano/bWslW#id:12120946\",\n",
    "    \"A09\": \"https://www.sofascore.com/los-chankas-cyc-alianza-lima/lWseVac#id:12165423\",\n",
    "    \"A10\": \"https://www.sofascore.com/carlos-mannucci-alianza-lima/lWsVUac#id:12194148\",\n",
    "    \"A11\": \"https://www.sofascore.com/club-atletico-grau-alianza-lima/lWsNanc#id:12214932\",\n",
    "    \"A12\": \"https://www.sofascore.com/sport-boys-alianza-lima/lWsmW#id:12214927\",\n",
    "    \"A13\": \"https://www.sofascore.com/alianza-lima-melgar/iWslW#id:12214949\",\n",
    "    \"A14\": \"https://www.sofascore.com/universidad-tecnica-de-cajamarca-alianza-lima/lWsehK#id:12244381\",\n",
    "    \"A15\": \"https://www.sofascore.com/sport-huancayo-alianza-lima/lWsVCn#id:12244370\",\n",
    "    \"A16\": \"https://www.sofascore.com/deportivo-garcilaso-alianza-lima/lWsJwId#id:12274833\",\n",
    "    \"A17\": \"https://www.sofascore.com/cusco-fc-alianza-lima/lWskAA#id:12274837\",\n",
    "    \"CL1\": \"https://www.sofascore.com/alianza-lima-fluminense/lOslW#id:12172415\",\n",
    "    \"CL2\": \"https://www.sofascore.com/cerro-porteno-alianza-lima/lWsQuc#id:12172422\",\n",
    "    \"CL3\": \"https://www.sofascore.com/colo-colo-alianza-lima/lWsfnb#id:12172418\",\n",
    "    \"CL4\": \"https://www.sofascore.com/cerro-porteno-alianza-lima/lWsQuc#id:12172425\",\n",
    "    \"CL5\": \"https://www.sofascore.com/colo-colo-alianza-lima/lWsfnb#id:12172421\",\n",
    "    \"CL6\": \"https://www.sofascore.com/alianza-lima-fluminense/lOslW#id:12172424\",\n",
    "}"
   ]
  },
  {
   "cell_type": "code",
   "execution_count": 7,
   "metadata": {},
   "outputs": [],
   "source": [
    "def procesar_jornadas():\n",
    "    lista_datos_partidos = []\n",
    "\n",
    "    for (id_jornada, nombre), (_, match_url) in zip(nombres_jornadas.items(), URLs_jornadas.items()):\n",
    "        print(\"Procesando Jornada:\", nombre)\n",
    "        data = sofascore.get_match_data(match_url)\n",
    "        try:\n",
    "            home_team = data['event']['homeTeam']['name']\n",
    "            home_score = data['event']['homeScore']['current']\n",
    "            away_team = data['event']['awayTeam']['name']\n",
    "            away_score = data['event']['awayScore']['current']\n",
    "            home_manager = data['event']['homeTeam']['manager']['name']\n",
    "        except KeyError:\n",
    "            print('No hay datos para esta jornada')\n",
    "            continue  # Salta al siguiente ciclo si hay un KeyError\n",
    "        \n",
    "        try:\n",
    "            away_manager = data['event']['awayTeam']['manager']['name']\n",
    "        except KeyError:\n",
    "            away_manager = 'No disponible' \n",
    "\n",
    "        if home_team == 'Alianza Lima':\n",
    "            condicion = 'Local'\n",
    "            if home_score > away_score:\n",
    "                resultado = 'Victoria'\n",
    "            elif home_score == away_score:\n",
    "                resultado = 'Empate'\n",
    "            else:\n",
    "                resultado = 'Derrota'\n",
    "        else:\n",
    "            condicion = 'Visita'\n",
    "            if home_score < away_score:\n",
    "                resultado = 'Victoria'\n",
    "            elif home_score == away_score:\n",
    "                resultado = 'Empate'\n",
    "            else:\n",
    "                resultado = 'Derrota'\n",
    "\n",
    "        if id_jornada.startswith('A'):\n",
    "            torneo = 'Apertura Liga 1'\n",
    "        else:\n",
    "            torneo = 'Copa Libertadores'\n",
    "\n",
    "        lista_datos_partidos.append({\n",
    "            'id_jornada': id_jornada,\n",
    "            'nombre': nombre,\n",
    "            'home_team': home_team,\n",
    "            'home_score': home_score,\n",
    "            'home_manager': home_manager,\n",
    "            'away_team': away_team,\n",
    "            'away_score': away_score,\n",
    "            'away_manager': away_manager,\n",
    "            'Condicion': condicion,\n",
    "            'Resultado': resultado,\n",
    "            'Torneo': torneo\n",
    "        })\n",
    "\n",
    "    return lista_datos_partidos"
   ]
  },
  {
   "cell_type": "code",
   "execution_count": 8,
   "metadata": {},
   "outputs": [
    {
     "name": "stdout",
     "output_type": "stream",
     "text": [
      "Procesando Jornada: Jornada 1 - Local vs Universidad Cesar Vallejo\n",
      "Procesando Jornada: Jornada 2 - Visita vs Alianza Atlético de Sullana\n",
      "Procesando Jornada: Jornada 3 - Local vs Universitario de Deportes\n",
      "Procesando Jornada: Jornada 4 - Visita vs Unión Comercio\n",
      "Procesando Jornada: Jornada 5 - Local vs Comerciantes Unidos\n",
      "Procesando Jornada: Jornada 6 - Visita vs ADT\n",
      "Procesando Jornada: Jornada 7 - Local vs Sporting Cristal\n",
      "Procesando Jornada: Jornada 8 - Visita vs Cienciano\n",
      "Procesando Jornada: Jornada 9 - Local vs Los Chankas\n",
      "Procesando Jornada: Jornada 10 - Visita vs Carlos Manucci\n",
      "Procesando Jornada: Jornada 11 - Local vs Atlético Grau\n",
      "Procesando Jornada: Jornada 12 - Local vs Sport Boys\n",
      "Procesando Jornada: Jornada 13 - Visita vs Melgar\n",
      "Procesando Jornada: Jornada 14 - Local vs UTC\n",
      "Procesando Jornada: Jornada 15 - Visita vs Sport Huancayo\n",
      "Procesando Jornada: Jornada 16 - Local vs Deportivo Garcilaso\n",
      "Procesando Jornada: Jornada 17 - Visita vs Cusco\n",
      "Procesando Jornada: Jornada 1 - Local vs Fluminense\n",
      "Procesando Jornada: Jornada 2 - Visita vs Cerro Porteño\n",
      "Procesando Jornada: Jornada 3 - Visita vs Colo Colo\n",
      "Procesando Jornada: Jornada 4 - Local vs Cerro Porteño\n",
      "Procesando Jornada: Jornada 5 - Local vs Colo Colo\n",
      "Procesando Jornada: Jornada 6 - Visita vs Fluminense\n"
     ]
    }
   ],
   "source": [
    "lista_datos_iniciales = procesar_jornadas()"
   ]
  },
  {
   "cell_type": "code",
   "execution_count": 9,
   "metadata": {},
   "outputs": [
    {
     "name": "stdout",
     "output_type": "stream",
     "text": [
      "[{'id_jornada': 'A01', 'nombre': 'Jornada 1 - Local vs Universidad Cesar Vallejo', 'home_team': 'Alianza Lima', 'home_score': 2, 'home_manager': 'Alejandro Restrepo', 'away_team': 'Universidad César Vallejo', 'away_score': 1, 'away_manager': 'Guillermo Salas', 'Condicion': 'Local', 'Resultado': 'Victoria', 'Torneo': 'Apertura Liga 1'}, {'id_jornada': 'A02', 'nombre': 'Jornada 2 - Visita vs Alianza Atlético de Sullana', 'home_team': 'Alianza Atlético de Sullana', 'home_score': 0, 'home_manager': 'Jorge Espejo', 'away_team': 'Alianza Lima', 'away_score': 2, 'away_manager': 'Alejandro Restrepo', 'Condicion': 'Visita', 'Resultado': 'Victoria', 'Torneo': 'Apertura Liga 1'}, {'id_jornada': 'A03', 'nombre': 'Jornada 3 - Local vs Universitario de Deportes', 'home_team': 'Alianza Lima', 'home_score': 0, 'home_manager': 'Alejandro Restrepo', 'away_team': 'Universitario', 'away_score': 1, 'away_manager': 'Fabian Bustos', 'Condicion': 'Local', 'Resultado': 'Derrota', 'Torneo': 'Apertura Liga 1'}, {'id_jornada': 'A04', 'nombre': 'Jornada 4 - Visita vs Unión Comercio', 'home_team': 'Unión Comercio', 'home_score': 1, 'home_manager': 'Andy Loayza', 'away_team': 'Alianza Lima', 'away_score': 3, 'away_manager': 'Alejandro Restrepo', 'Condicion': 'Visita', 'Resultado': 'Victoria', 'Torneo': 'Apertura Liga 1'}, {'id_jornada': 'A05', 'nombre': 'Jornada 5 - Local vs Comerciantes Unidos', 'home_team': 'Alianza Lima', 'home_score': 5, 'home_manager': 'Alejandro Restrepo', 'away_team': 'Comerciantes Unidos', 'away_score': 1, 'away_manager': 'Carlos Silvestri', 'Condicion': 'Local', 'Resultado': 'Victoria', 'Torneo': 'Apertura Liga 1'}, {'id_jornada': 'A06', 'nombre': 'Jornada 6 - Visita vs ADT', 'home_team': 'Asociación Deportiva Tarma', 'home_score': 2, 'home_manager': 'Carlos Desio', 'away_team': 'Alianza Lima', 'away_score': 0, 'away_manager': 'Alejandro Restrepo', 'Condicion': 'Visita', 'Resultado': 'Derrota', 'Torneo': 'Apertura Liga 1'}, {'id_jornada': 'A07', 'nombre': 'Jornada 7 - Local vs Sporting Cristal', 'home_team': 'Alianza Lima', 'home_score': 1, 'home_manager': 'Alejandro Restrepo', 'away_team': 'Club Sporting Cristal', 'away_score': 2, 'away_manager': 'No disponible', 'Condicion': 'Local', 'Resultado': 'Derrota', 'Torneo': 'Apertura Liga 1'}, {'id_jornada': 'A08', 'nombre': 'Jornada 8 - Visita vs Cienciano', 'home_team': 'Cienciano', 'home_score': 2, 'home_manager': 'Oscar Ibanez', 'away_team': 'Alianza Lima', 'away_score': 1, 'away_manager': 'Alejandro Restrepo', 'Condicion': 'Visita', 'Resultado': 'Derrota', 'Torneo': 'Apertura Liga 1'}, {'id_jornada': 'A09', 'nombre': 'Jornada 9 - Local vs Los Chankas', 'home_team': 'Alianza Lima', 'home_score': 3, 'home_manager': 'Alejandro Restrepo', 'away_team': 'Los Chankas CYC', 'away_score': 0, 'away_manager': 'Pablo Bossi', 'Condicion': 'Local', 'Resultado': 'Victoria', 'Torneo': 'Apertura Liga 1'}, {'id_jornada': 'A10', 'nombre': 'Jornada 10 - Visita vs Carlos Manucci', 'home_team': 'Carlos A. Mannucci', 'home_score': 0, 'home_manager': 'Milton Mendes', 'away_team': 'Alianza Lima', 'away_score': 4, 'away_manager': 'Alejandro Restrepo', 'Condicion': 'Visita', 'Resultado': 'Victoria', 'Torneo': 'Apertura Liga 1'}, {'id_jornada': 'A11', 'nombre': 'Jornada 11 - Local vs Atlético Grau', 'home_team': 'Alianza Lima', 'home_score': 2, 'home_manager': 'Alejandro Restrepo', 'away_team': 'Club Atlético Grau', 'away_score': 0, 'away_manager': 'Angel David Comizzo', 'Condicion': 'Local', 'Resultado': 'Victoria', 'Torneo': 'Apertura Liga 1'}, {'id_jornada': 'A12', 'nombre': 'Jornada 12 - Local vs Sport Boys', 'home_team': 'Alianza Lima', 'home_score': 3, 'home_manager': 'Alejandro Restrepo', 'away_team': 'Sport Boys', 'away_score': 0, 'away_manager': 'Juan Alayo', 'Condicion': 'Local', 'Resultado': 'Victoria', 'Torneo': 'Apertura Liga 1'}, {'id_jornada': 'A13', 'nombre': 'Jornada 13 - Visita vs Melgar', 'home_team': 'Melgar', 'home_score': 1, 'home_manager': 'Marco Valencia', 'away_team': 'Alianza Lima', 'away_score': 0, 'away_manager': 'Alejandro Restrepo', 'Condicion': 'Visita', 'Resultado': 'Derrota', 'Torneo': 'Apertura Liga 1'}, {'id_jornada': 'A14', 'nombre': 'Jornada 14 - Local vs UTC', 'home_team': 'Alianza Lima', 'home_score': 1, 'home_manager': 'Alejandro Restrepo', 'away_team': 'Universidad Técnica de Cajamarca', 'away_score': 0, 'away_manager': 'Carlos Ramacciotti', 'Condicion': 'Local', 'Resultado': 'Victoria', 'Torneo': 'Apertura Liga 1'}, {'id_jornada': 'A15', 'nombre': 'Jornada 15 - Visita vs Sport Huancayo', 'home_team': 'Sport Huancayo', 'home_score': 0, 'home_manager': 'Mifflin Bermudez', 'away_team': 'Alianza Lima', 'away_score': 2, 'away_manager': 'Alejandro Restrepo', 'Condicion': 'Visita', 'Resultado': 'Victoria', 'Torneo': 'Apertura Liga 1'}, {'id_jornada': 'A16', 'nombre': 'Jornada 16 - Local vs Deportivo Garcilaso', 'home_team': 'Alianza Lima', 'home_score': 3, 'home_manager': 'Alejandro Restrepo', 'away_team': 'Deportivo Garcilaso', 'away_score': 2, 'away_manager': 'Bernardo Redin', 'Condicion': 'Local', 'Resultado': 'Victoria', 'Torneo': 'Apertura Liga 1'}, {'id_jornada': 'A17', 'nombre': 'Jornada 17 - Visita vs Cusco', 'home_team': 'Cusco FC', 'home_score': 3, 'home_manager': 'Miguel Rondelli', 'away_team': 'Alianza Lima', 'away_score': 0, 'away_manager': 'Alejandro Restrepo', 'Condicion': 'Visita', 'Resultado': 'Derrota', 'Torneo': 'Apertura Liga 1'}, {'id_jornada': 'CL1', 'nombre': 'Jornada 1 - Local vs Fluminense', 'home_team': 'Alianza Lima', 'home_score': 1, 'home_manager': 'Alejandro Restrepo', 'away_team': 'Fluminense', 'away_score': 1, 'away_manager': 'Fernando Diniz', 'Condicion': 'Local', 'Resultado': 'Empate', 'Torneo': 'Copa Libertadores'}, {'id_jornada': 'CL2', 'nombre': 'Jornada 2 - Visita vs Cerro Porteño', 'home_team': 'Cerro Porteño', 'home_score': 1, 'home_manager': 'Manolo Jimenez', 'away_team': 'Alianza Lima', 'away_score': 0, 'away_manager': 'Alejandro Restrepo', 'Condicion': 'Visita', 'Resultado': 'Derrota', 'Torneo': 'Copa Libertadores'}, {'id_jornada': 'CL3', 'nombre': 'Jornada 3 - Visita vs Colo Colo', 'home_team': 'Colo Colo', 'home_score': 0, 'home_manager': 'Jorge Almiron', 'away_team': 'Alianza Lima', 'away_score': 0, 'away_manager': 'Alejandro Restrepo', 'Condicion': 'Visita', 'Resultado': 'Empate', 'Torneo': 'Copa Libertadores'}, {'id_jornada': 'CL4', 'nombre': 'Jornada 4 - Local vs Cerro Porteño', 'home_team': 'Alianza Lima', 'home_score': 1, 'home_manager': 'Alejandro Restrepo', 'away_team': 'Cerro Porteño', 'away_score': 1, 'away_manager': 'Manolo Jimenez', 'Condicion': 'Local', 'Resultado': 'Empate', 'Torneo': 'Copa Libertadores'}, {'id_jornada': 'CL5', 'nombre': 'Jornada 5 - Local vs Colo Colo', 'home_team': 'Alianza Lima', 'home_score': 1, 'home_manager': 'Alejandro Restrepo', 'away_team': 'Colo Colo', 'away_score': 1, 'away_manager': 'Jorge Almiron', 'Condicion': 'Local', 'Resultado': 'Empate', 'Torneo': 'Copa Libertadores'}, {'id_jornada': 'CL6', 'nombre': 'Jornada 6 - Visita vs Fluminense', 'home_team': 'Fluminense', 'home_score': 3, 'home_manager': 'Fernando Diniz', 'away_team': 'Alianza Lima', 'away_score': 2, 'away_manager': 'Alejandro Restrepo', 'Condicion': 'Visita', 'Resultado': 'Derrota', 'Torneo': 'Copa Libertadores'}]\n"
     ]
    }
   ],
   "source": [
    "print(lista_datos_iniciales)"
   ]
  },
  {
   "cell_type": "code",
   "execution_count": 10,
   "metadata": {},
   "outputs": [],
   "source": [
    "def procesar_estadisticas_jornadas(lista_datos_iniciales):\n",
    "    for (id_jornada, nombre), (_, match_url) in zip(nombres_jornadas.items(), URLs_jornadas.items()):\n",
    "        print(\"Procesando Jornada:\", nombre)\n",
    "        estadisticas_jornada = sofascore.get_general_match_stats(match_url)\n",
    "        \n",
    "        for datos_jornada in lista_datos_iniciales:\n",
    "            if datos_jornada['id_jornada'] == id_jornada:\n",
    "                if datos_jornada['Condicion'] == 'Local':\n",
    "                    estadisticas_Alianza = estadisticas_jornada[['name', 'home','homeValue','homeTotal']]\n",
    "                    estadisticas_Alianza.columns = ['Estadistica','Dato', 'Valor AL', 'Total AL']\n",
    "                    \n",
    "                    estadisticas_Oponente = estadisticas_jornada[['name', 'away','awayValue','awayTotal']]\n",
    "                    estadisticas_Oponente.columns = ['Estadistica', 'Dato', 'Valor Opp', 'Total Opp']\n",
    "                else:\n",
    "                    estadisticas_Alianza = estadisticas_jornada[['name', 'away', 'awayValue', 'awayTotal']]\n",
    "                    estadisticas_Alianza.columns = ['Estadistica','Dato', 'Valor AL', 'Total AL']\n",
    "                    \n",
    "                    estadisticas_Oponente = estadisticas_jornada[['name', 'home','homeValue','homeTotal']]\n",
    "                    estadisticas_Oponente.columns = ['Estadistica', 'Dato', 'Valor Opp', 'Total Opp']\n",
    "                \n",
    "                datos_jornada['estadisticas_Alianza'] = estadisticas_Alianza.set_index('Estadistica')[['Valor AL', 'Total AL']].to_dict()\n",
    "                datos_jornada['estadisticas_Oponente'] = estadisticas_Oponente.set_index('Estadistica')[['Valor Opp', 'Total Opp']].to_dict()\n",
    "                \n",
    "                # Eliminar referencias a los DataFrames temporales\n",
    "                del estadisticas_Alianza, estadisticas_Oponente\n",
    "                \n",
    "    return lista_datos_iniciales "
   ]
  },
  {
   "cell_type": "code",
   "execution_count": 11,
   "metadata": {},
   "outputs": [
    {
     "name": "stdout",
     "output_type": "stream",
     "text": [
      "Procesando Jornada: Jornada 1 - Local vs Universidad Cesar Vallejo\n",
      "Procesando Jornada: Jornada 2 - Visita vs Alianza Atlético de Sullana\n",
      "Procesando Jornada: Jornada 3 - Local vs Universitario de Deportes\n",
      "Procesando Jornada: Jornada 4 - Visita vs Unión Comercio\n",
      "Procesando Jornada: Jornada 5 - Local vs Comerciantes Unidos\n",
      "Procesando Jornada: Jornada 6 - Visita vs ADT\n",
      "Procesando Jornada: Jornada 7 - Local vs Sporting Cristal\n",
      "Procesando Jornada: Jornada 8 - Visita vs Cienciano\n",
      "Procesando Jornada: Jornada 9 - Local vs Los Chankas\n",
      "Procesando Jornada: Jornada 10 - Visita vs Carlos Manucci\n",
      "Procesando Jornada: Jornada 11 - Local vs Atlético Grau\n",
      "Procesando Jornada: Jornada 12 - Local vs Sport Boys\n",
      "Procesando Jornada: Jornada 13 - Visita vs Melgar\n",
      "Procesando Jornada: Jornada 14 - Local vs UTC\n",
      "Procesando Jornada: Jornada 15 - Visita vs Sport Huancayo\n",
      "Procesando Jornada: Jornada 16 - Local vs Deportivo Garcilaso\n",
      "Procesando Jornada: Jornada 17 - Visita vs Cusco\n",
      "Procesando Jornada: Jornada 1 - Local vs Fluminense\n",
      "Procesando Jornada: Jornada 2 - Visita vs Cerro Porteño\n",
      "Procesando Jornada: Jornada 3 - Visita vs Colo Colo\n",
      "Procesando Jornada: Jornada 4 - Local vs Cerro Porteño\n",
      "Procesando Jornada: Jornada 5 - Local vs Colo Colo\n",
      "Procesando Jornada: Jornada 6 - Visita vs Fluminense\n"
     ]
    }
   ],
   "source": [
    "lista_final = procesar_estadisticas_jornadas(lista_datos_iniciales)"
   ]
  },
  {
   "cell_type": "code",
   "execution_count": 12,
   "metadata": {},
   "outputs": [],
   "source": [
    "# Convierte la lista de diccionarios a un DataFrame\n",
    "df_jornadas = pd.DataFrame(lista_final)\n",
    "\n",
    "# Calcula los puntos obtenidos y acumulados\n",
    "df_jornadas['Puntos obtenidos'] = df_jornadas['Resultado'].map({'Victoria': 3, 'Empate': 1, 'Derrota': 0})\n",
    "df_jornadas['Puntos acumulados'] = df_jornadas.groupby('Torneo')['Puntos obtenidos'].cumsum()\n",
    "df_jornadas['DT Alianza Lima'] = df_jornadas.apply(\n",
    "    lambda row: row['home_manager'] if row['Condicion'] == 'Local' else row['away_manager'], axis=1\n",
    ")\n",
    "df_jornadas['DT Oponente'] = df_jornadas.apply(\n",
    "    lambda row: row['away_manager'] if row['Condicion'] == 'Local' else row['home_manager'], axis=1\n",
    ")\n",
    "df_jornadas = df_jornadas.drop(['home_manager', 'away_manager'], axis=1)\n",
    "df_jornadas['Equipo Oponente'] = df_jornadas.apply(\n",
    "    lambda row: row['away_team'] if row['Condicion'] == 'Local' else row['home_team'], axis=1)\n",
    "df_jornadas['Goles Alianza Lima'] = df_jornadas.apply(\n",
    "    lambda row: row['home_score'] if row['Condicion'] == 'Local' else row['away_score'], axis=1)\n",
    "df_jornadas['Goles Oponente'] = df_jornadas.apply(\n",
    "    lambda row: row['away_score'] if row['Condicion'] == 'Local' else row['home_score'], axis=1)\n"
   ]
  },
  {
   "cell_type": "code",
   "execution_count": 13,
   "metadata": {
    "vscode": {
     "languageId": "ruby"
    }
   },
   "outputs": [],
   "source": [
    "resultados = []\n",
    "# Itera df_resultados hasta llegar al diccionario dentro de estadisticas_Alianza y estadisticas_oponente\n",
    "for index, row in df_jornadas.iterrows():\n",
    "    estadisticas_alianza = row['estadisticas_Alianza']\n",
    "    estadisticas_oponente = row['estadisticas_Oponente']\n",
    "    jornada = row['id_jornada']\n",
    "    \n",
    "    # Inicializar diccionarios\n",
    "    dict_valor_alianza = {}\n",
    "    dict_total_alianza = {}\n",
    "    dict_valor = {}\n",
    "    dict_total = {}\n",
    "        \n",
    "    # Extraer y procesar diccionarios de Alianza\n",
    "    for key, value in estadisticas_alianza.items():\n",
    "        if key == \"Valor AL\":\n",
    "            dict_valor_alianza = value\n",
    "        elif key == \"Total AL\":\n",
    "            dict_total_alianza = {'Tried ' + k: v for k, v in value.items()}\n",
    "            dict_total_alianza = {k: v for k, v in dict_total_alianza.items() if v is not None and not math.isnan(v)}\n",
    "            if 'Tried Tackles won' in dict_total_alianza:\n",
    "                dict_total_alianza.pop('Tried Tackles won')\n",
    "    \n",
    "    # Extraer y procesar diccionarios de Oponente\n",
    "    for key, value in estadisticas_oponente.items():\n",
    "        if key == \"Valor Opp\":\n",
    "            dict_valor_oponente = value\n",
    "        elif key == \"Total Opp\":\n",
    "            dict_total_oponente = {'Tried ' + k: v for k, v in value.items()}\n",
    "            dict_total_oponente = {k: v for k, v in dict_total_oponente.items() if v is not None and not math.isnan(v)}\n",
    "            if 'Tried Tackles won' in dict_total_oponente:\n",
    "                dict_total_oponente.pop('Tried Tackles won')\n",
    "    \n",
    "    # Unir los diccionarios de Alianza y Oponente\n",
    "    dict_combined_alianza = {**dict_valor_alianza, **dict_total_alianza}\n",
    "    dict_combined_oponente = {**dict_valor_oponente, **dict_total_oponente}\n",
    "    \n",
    "    # Añadir a los resultados\n",
    "    resultados.append((jornada, 'estadisticas_Alianza', dict_combined_alianza))\n",
    "    resultados.append((jornada, 'estadisticas_Oponente', dict_combined_oponente))\n",
    "\n",
    "\n",
    "df_jornadas_estadisticas = pd.DataFrame(resultados, columns=['id_jornada', 'tipo', 'estadisticas'])\n"
   ]
  },
  {
   "cell_type": "code",
   "execution_count": 14,
   "metadata": {
    "vscode": {
     "languageId": "ruby"
    }
   },
   "outputs": [
    {
     "data": {
      "text/html": [
       "<div>\n",
       "<style scoped>\n",
       "    .dataframe tbody tr th:only-of-type {\n",
       "        vertical-align: middle;\n",
       "    }\n",
       "\n",
       "    .dataframe tbody tr th {\n",
       "        vertical-align: top;\n",
       "    }\n",
       "\n",
       "    .dataframe thead th {\n",
       "        text-align: right;\n",
       "    }\n",
       "</style>\n",
       "<table border=\"1\" class=\"dataframe\">\n",
       "  <thead>\n",
       "    <tr style=\"text-align: right;\">\n",
       "      <th></th>\n",
       "      <th>id_jornada</th>\n",
       "      <th>nombre</th>\n",
       "      <th>home_team</th>\n",
       "      <th>home_score</th>\n",
       "      <th>away_team</th>\n",
       "      <th>away_score</th>\n",
       "      <th>Condicion</th>\n",
       "      <th>Resultado</th>\n",
       "      <th>Torneo</th>\n",
       "      <th>estadisticas_Alianza</th>\n",
       "      <th>estadisticas_Oponente</th>\n",
       "      <th>Puntos obtenidos</th>\n",
       "      <th>Puntos acumulados</th>\n",
       "      <th>DT Alianza Lima</th>\n",
       "      <th>DT Oponente</th>\n",
       "      <th>Equipo Oponente</th>\n",
       "      <th>Goles Alianza Lima</th>\n",
       "      <th>Goles Oponente</th>\n",
       "    </tr>\n",
       "  </thead>\n",
       "  <tbody>\n",
       "    <tr>\n",
       "      <th>0</th>\n",
       "      <td>A01</td>\n",
       "      <td>Jornada 1 - Local vs Universidad Cesar Vallejo</td>\n",
       "      <td>Alianza Lima</td>\n",
       "      <td>2</td>\n",
       "      <td>Universidad César Vallejo</td>\n",
       "      <td>1</td>\n",
       "      <td>Local</td>\n",
       "      <td>Victoria</td>\n",
       "      <td>Apertura Liga 1</td>\n",
       "      <td>{'Valor AL': {'Ball possession': 39.0, 'Expect...</td>\n",
       "      <td>{'Valor Opp': {'Ball possession': 61.0, 'Expec...</td>\n",
       "      <td>3</td>\n",
       "      <td>3</td>\n",
       "      <td>Alejandro Restrepo</td>\n",
       "      <td>Guillermo Salas</td>\n",
       "      <td>Universidad César Vallejo</td>\n",
       "      <td>2</td>\n",
       "      <td>1</td>\n",
       "    </tr>\n",
       "    <tr>\n",
       "      <th>1</th>\n",
       "      <td>A02</td>\n",
       "      <td>Jornada 2 - Visita vs Alianza Atlético de Sullana</td>\n",
       "      <td>Alianza Atlético de Sullana</td>\n",
       "      <td>0</td>\n",
       "      <td>Alianza Lima</td>\n",
       "      <td>2</td>\n",
       "      <td>Visita</td>\n",
       "      <td>Victoria</td>\n",
       "      <td>Apertura Liga 1</td>\n",
       "      <td>{'Valor AL': {'Ball possession': 60.0, 'Expect...</td>\n",
       "      <td>{'Valor Opp': {'Ball possession': 40.0, 'Expec...</td>\n",
       "      <td>3</td>\n",
       "      <td>6</td>\n",
       "      <td>Alejandro Restrepo</td>\n",
       "      <td>Jorge Espejo</td>\n",
       "      <td>Alianza Atlético de Sullana</td>\n",
       "      <td>2</td>\n",
       "      <td>0</td>\n",
       "    </tr>\n",
       "    <tr>\n",
       "      <th>2</th>\n",
       "      <td>A03</td>\n",
       "      <td>Jornada 3 - Local vs Universitario de Deportes</td>\n",
       "      <td>Alianza Lima</td>\n",
       "      <td>0</td>\n",
       "      <td>Universitario</td>\n",
       "      <td>1</td>\n",
       "      <td>Local</td>\n",
       "      <td>Derrota</td>\n",
       "      <td>Apertura Liga 1</td>\n",
       "      <td>{'Valor AL': {'Ball possession': 61.0, 'Expect...</td>\n",
       "      <td>{'Valor Opp': {'Ball possession': 39.0, 'Expec...</td>\n",
       "      <td>0</td>\n",
       "      <td>6</td>\n",
       "      <td>Alejandro Restrepo</td>\n",
       "      <td>Fabian Bustos</td>\n",
       "      <td>Universitario</td>\n",
       "      <td>0</td>\n",
       "      <td>1</td>\n",
       "    </tr>\n",
       "    <tr>\n",
       "      <th>3</th>\n",
       "      <td>A04</td>\n",
       "      <td>Jornada 4 - Visita vs Unión Comercio</td>\n",
       "      <td>Unión Comercio</td>\n",
       "      <td>1</td>\n",
       "      <td>Alianza Lima</td>\n",
       "      <td>3</td>\n",
       "      <td>Visita</td>\n",
       "      <td>Victoria</td>\n",
       "      <td>Apertura Liga 1</td>\n",
       "      <td>{'Valor AL': {'Ball possession': 54.0, 'Expect...</td>\n",
       "      <td>{'Valor Opp': {'Ball possession': 46.0, 'Expec...</td>\n",
       "      <td>3</td>\n",
       "      <td>9</td>\n",
       "      <td>Alejandro Restrepo</td>\n",
       "      <td>Andy Loayza</td>\n",
       "      <td>Unión Comercio</td>\n",
       "      <td>3</td>\n",
       "      <td>1</td>\n",
       "    </tr>\n",
       "    <tr>\n",
       "      <th>4</th>\n",
       "      <td>A05</td>\n",
       "      <td>Jornada 5 - Local vs Comerciantes Unidos</td>\n",
       "      <td>Alianza Lima</td>\n",
       "      <td>5</td>\n",
       "      <td>Comerciantes Unidos</td>\n",
       "      <td>1</td>\n",
       "      <td>Local</td>\n",
       "      <td>Victoria</td>\n",
       "      <td>Apertura Liga 1</td>\n",
       "      <td>{'Valor AL': {'Ball possession': 60.0, 'Expect...</td>\n",
       "      <td>{'Valor Opp': {'Ball possession': 40.0, 'Expec...</td>\n",
       "      <td>3</td>\n",
       "      <td>12</td>\n",
       "      <td>Alejandro Restrepo</td>\n",
       "      <td>Carlos Silvestri</td>\n",
       "      <td>Comerciantes Unidos</td>\n",
       "      <td>5</td>\n",
       "      <td>1</td>\n",
       "    </tr>\n",
       "    <tr>\n",
       "      <th>5</th>\n",
       "      <td>A06</td>\n",
       "      <td>Jornada 6 - Visita vs ADT</td>\n",
       "      <td>Asociación Deportiva Tarma</td>\n",
       "      <td>2</td>\n",
       "      <td>Alianza Lima</td>\n",
       "      <td>0</td>\n",
       "      <td>Visita</td>\n",
       "      <td>Derrota</td>\n",
       "      <td>Apertura Liga 1</td>\n",
       "      <td>{'Valor AL': {'Ball possession': 34.0, 'Expect...</td>\n",
       "      <td>{'Valor Opp': {'Ball possession': 66.0, 'Expec...</td>\n",
       "      <td>0</td>\n",
       "      <td>12</td>\n",
       "      <td>Alejandro Restrepo</td>\n",
       "      <td>Carlos Desio</td>\n",
       "      <td>Asociación Deportiva Tarma</td>\n",
       "      <td>0</td>\n",
       "      <td>2</td>\n",
       "    </tr>\n",
       "    <tr>\n",
       "      <th>6</th>\n",
       "      <td>A07</td>\n",
       "      <td>Jornada 7 - Local vs Sporting Cristal</td>\n",
       "      <td>Alianza Lima</td>\n",
       "      <td>1</td>\n",
       "      <td>Club Sporting Cristal</td>\n",
       "      <td>2</td>\n",
       "      <td>Local</td>\n",
       "      <td>Derrota</td>\n",
       "      <td>Apertura Liga 1</td>\n",
       "      <td>{'Valor AL': {'Ball possession': 58.0, 'Expect...</td>\n",
       "      <td>{'Valor Opp': {'Ball possession': 42.0, 'Expec...</td>\n",
       "      <td>0</td>\n",
       "      <td>12</td>\n",
       "      <td>Alejandro Restrepo</td>\n",
       "      <td>No disponible</td>\n",
       "      <td>Club Sporting Cristal</td>\n",
       "      <td>1</td>\n",
       "      <td>2</td>\n",
       "    </tr>\n",
       "    <tr>\n",
       "      <th>7</th>\n",
       "      <td>A08</td>\n",
       "      <td>Jornada 8 - Visita vs Cienciano</td>\n",
       "      <td>Cienciano</td>\n",
       "      <td>2</td>\n",
       "      <td>Alianza Lima</td>\n",
       "      <td>1</td>\n",
       "      <td>Visita</td>\n",
       "      <td>Derrota</td>\n",
       "      <td>Apertura Liga 1</td>\n",
       "      <td>{'Valor AL': {'Ball possession': 42.0, 'Expect...</td>\n",
       "      <td>{'Valor Opp': {'Ball possession': 58.0, 'Expec...</td>\n",
       "      <td>0</td>\n",
       "      <td>12</td>\n",
       "      <td>Alejandro Restrepo</td>\n",
       "      <td>Oscar Ibanez</td>\n",
       "      <td>Cienciano</td>\n",
       "      <td>1</td>\n",
       "      <td>2</td>\n",
       "    </tr>\n",
       "    <tr>\n",
       "      <th>8</th>\n",
       "      <td>A09</td>\n",
       "      <td>Jornada 9 - Local vs Los Chankas</td>\n",
       "      <td>Alianza Lima</td>\n",
       "      <td>3</td>\n",
       "      <td>Los Chankas CYC</td>\n",
       "      <td>0</td>\n",
       "      <td>Local</td>\n",
       "      <td>Victoria</td>\n",
       "      <td>Apertura Liga 1</td>\n",
       "      <td>{'Valor AL': {'Ball possession': 61.0, 'Expect...</td>\n",
       "      <td>{'Valor Opp': {'Ball possession': 39.0, 'Expec...</td>\n",
       "      <td>3</td>\n",
       "      <td>15</td>\n",
       "      <td>Alejandro Restrepo</td>\n",
       "      <td>Pablo Bossi</td>\n",
       "      <td>Los Chankas CYC</td>\n",
       "      <td>3</td>\n",
       "      <td>0</td>\n",
       "    </tr>\n",
       "    <tr>\n",
       "      <th>9</th>\n",
       "      <td>A10</td>\n",
       "      <td>Jornada 10 - Visita vs Carlos Manucci</td>\n",
       "      <td>Carlos A. Mannucci</td>\n",
       "      <td>0</td>\n",
       "      <td>Alianza Lima</td>\n",
       "      <td>4</td>\n",
       "      <td>Visita</td>\n",
       "      <td>Victoria</td>\n",
       "      <td>Apertura Liga 1</td>\n",
       "      <td>{'Valor AL': {'Ball possession': 66.0, 'Expect...</td>\n",
       "      <td>{'Valor Opp': {'Ball possession': 34.0, 'Expec...</td>\n",
       "      <td>3</td>\n",
       "      <td>18</td>\n",
       "      <td>Alejandro Restrepo</td>\n",
       "      <td>Milton Mendes</td>\n",
       "      <td>Carlos A. Mannucci</td>\n",
       "      <td>4</td>\n",
       "      <td>0</td>\n",
       "    </tr>\n",
       "    <tr>\n",
       "      <th>10</th>\n",
       "      <td>A11</td>\n",
       "      <td>Jornada 11 - Local vs Atlético Grau</td>\n",
       "      <td>Alianza Lima</td>\n",
       "      <td>2</td>\n",
       "      <td>Club Atlético Grau</td>\n",
       "      <td>0</td>\n",
       "      <td>Local</td>\n",
       "      <td>Victoria</td>\n",
       "      <td>Apertura Liga 1</td>\n",
       "      <td>{'Valor AL': {'Ball possession': 44.0, 'Expect...</td>\n",
       "      <td>{'Valor Opp': {'Ball possession': 56.0, 'Expec...</td>\n",
       "      <td>3</td>\n",
       "      <td>21</td>\n",
       "      <td>Alejandro Restrepo</td>\n",
       "      <td>Angel David Comizzo</td>\n",
       "      <td>Club Atlético Grau</td>\n",
       "      <td>2</td>\n",
       "      <td>0</td>\n",
       "    </tr>\n",
       "    <tr>\n",
       "      <th>11</th>\n",
       "      <td>A12</td>\n",
       "      <td>Jornada 12 - Local vs Sport Boys</td>\n",
       "      <td>Alianza Lima</td>\n",
       "      <td>3</td>\n",
       "      <td>Sport Boys</td>\n",
       "      <td>0</td>\n",
       "      <td>Local</td>\n",
       "      <td>Victoria</td>\n",
       "      <td>Apertura Liga 1</td>\n",
       "      <td>{'Valor AL': {'Ball possession': 51.0, 'Expect...</td>\n",
       "      <td>{'Valor Opp': {'Ball possession': 49.0, 'Expec...</td>\n",
       "      <td>3</td>\n",
       "      <td>24</td>\n",
       "      <td>Alejandro Restrepo</td>\n",
       "      <td>Juan Alayo</td>\n",
       "      <td>Sport Boys</td>\n",
       "      <td>3</td>\n",
       "      <td>0</td>\n",
       "    </tr>\n",
       "    <tr>\n",
       "      <th>12</th>\n",
       "      <td>A13</td>\n",
       "      <td>Jornada 13 - Visita vs Melgar</td>\n",
       "      <td>Melgar</td>\n",
       "      <td>1</td>\n",
       "      <td>Alianza Lima</td>\n",
       "      <td>0</td>\n",
       "      <td>Visita</td>\n",
       "      <td>Derrota</td>\n",
       "      <td>Apertura Liga 1</td>\n",
       "      <td>{'Valor AL': {'Ball possession': 47.0, 'Expect...</td>\n",
       "      <td>{'Valor Opp': {'Ball possession': 53.0, 'Expec...</td>\n",
       "      <td>0</td>\n",
       "      <td>24</td>\n",
       "      <td>Alejandro Restrepo</td>\n",
       "      <td>Marco Valencia</td>\n",
       "      <td>Melgar</td>\n",
       "      <td>0</td>\n",
       "      <td>1</td>\n",
       "    </tr>\n",
       "    <tr>\n",
       "      <th>13</th>\n",
       "      <td>A14</td>\n",
       "      <td>Jornada 14 - Local vs UTC</td>\n",
       "      <td>Alianza Lima</td>\n",
       "      <td>1</td>\n",
       "      <td>Universidad Técnica de Cajamarca</td>\n",
       "      <td>0</td>\n",
       "      <td>Local</td>\n",
       "      <td>Victoria</td>\n",
       "      <td>Apertura Liga 1</td>\n",
       "      <td>{'Valor AL': {'Ball possession': 71.0, 'Expect...</td>\n",
       "      <td>{'Valor Opp': {'Ball possession': 29.0, 'Expec...</td>\n",
       "      <td>3</td>\n",
       "      <td>27</td>\n",
       "      <td>Alejandro Restrepo</td>\n",
       "      <td>Carlos Ramacciotti</td>\n",
       "      <td>Universidad Técnica de Cajamarca</td>\n",
       "      <td>1</td>\n",
       "      <td>0</td>\n",
       "    </tr>\n",
       "    <tr>\n",
       "      <th>14</th>\n",
       "      <td>A15</td>\n",
       "      <td>Jornada 15 - Visita vs Sport Huancayo</td>\n",
       "      <td>Sport Huancayo</td>\n",
       "      <td>0</td>\n",
       "      <td>Alianza Lima</td>\n",
       "      <td>2</td>\n",
       "      <td>Visita</td>\n",
       "      <td>Victoria</td>\n",
       "      <td>Apertura Liga 1</td>\n",
       "      <td>{'Valor AL': {'Ball possession': 45.0, 'Expect...</td>\n",
       "      <td>{'Valor Opp': {'Ball possession': 55.0, 'Expec...</td>\n",
       "      <td>3</td>\n",
       "      <td>30</td>\n",
       "      <td>Alejandro Restrepo</td>\n",
       "      <td>Mifflin Bermudez</td>\n",
       "      <td>Sport Huancayo</td>\n",
       "      <td>2</td>\n",
       "      <td>0</td>\n",
       "    </tr>\n",
       "    <tr>\n",
       "      <th>15</th>\n",
       "      <td>A16</td>\n",
       "      <td>Jornada 16 - Local vs Deportivo Garcilaso</td>\n",
       "      <td>Alianza Lima</td>\n",
       "      <td>3</td>\n",
       "      <td>Deportivo Garcilaso</td>\n",
       "      <td>2</td>\n",
       "      <td>Local</td>\n",
       "      <td>Victoria</td>\n",
       "      <td>Apertura Liga 1</td>\n",
       "      <td>{'Valor AL': {'Ball possession': 64.0, 'Expect...</td>\n",
       "      <td>{'Valor Opp': {'Ball possession': 36.0, 'Expec...</td>\n",
       "      <td>3</td>\n",
       "      <td>33</td>\n",
       "      <td>Alejandro Restrepo</td>\n",
       "      <td>Bernardo Redin</td>\n",
       "      <td>Deportivo Garcilaso</td>\n",
       "      <td>3</td>\n",
       "      <td>2</td>\n",
       "    </tr>\n",
       "    <tr>\n",
       "      <th>16</th>\n",
       "      <td>A17</td>\n",
       "      <td>Jornada 17 - Visita vs Cusco</td>\n",
       "      <td>Cusco FC</td>\n",
       "      <td>3</td>\n",
       "      <td>Alianza Lima</td>\n",
       "      <td>0</td>\n",
       "      <td>Visita</td>\n",
       "      <td>Derrota</td>\n",
       "      <td>Apertura Liga 1</td>\n",
       "      <td>{'Valor AL': {'Ball possession': 56.0, 'Expect...</td>\n",
       "      <td>{'Valor Opp': {'Ball possession': 44.0, 'Expec...</td>\n",
       "      <td>0</td>\n",
       "      <td>33</td>\n",
       "      <td>Alejandro Restrepo</td>\n",
       "      <td>Miguel Rondelli</td>\n",
       "      <td>Cusco FC</td>\n",
       "      <td>0</td>\n",
       "      <td>3</td>\n",
       "    </tr>\n",
       "    <tr>\n",
       "      <th>17</th>\n",
       "      <td>CL1</td>\n",
       "      <td>Jornada 1 - Local vs Fluminense</td>\n",
       "      <td>Alianza Lima</td>\n",
       "      <td>1</td>\n",
       "      <td>Fluminense</td>\n",
       "      <td>1</td>\n",
       "      <td>Local</td>\n",
       "      <td>Empate</td>\n",
       "      <td>Copa Libertadores</td>\n",
       "      <td>{'Valor AL': {'Ball possession': 21.0, 'Expect...</td>\n",
       "      <td>{'Valor Opp': {'Ball possession': 79.0, 'Expec...</td>\n",
       "      <td>1</td>\n",
       "      <td>1</td>\n",
       "      <td>Alejandro Restrepo</td>\n",
       "      <td>Fernando Diniz</td>\n",
       "      <td>Fluminense</td>\n",
       "      <td>1</td>\n",
       "      <td>1</td>\n",
       "    </tr>\n",
       "    <tr>\n",
       "      <th>18</th>\n",
       "      <td>CL2</td>\n",
       "      <td>Jornada 2 - Visita vs Cerro Porteño</td>\n",
       "      <td>Cerro Porteño</td>\n",
       "      <td>1</td>\n",
       "      <td>Alianza Lima</td>\n",
       "      <td>0</td>\n",
       "      <td>Visita</td>\n",
       "      <td>Derrota</td>\n",
       "      <td>Copa Libertadores</td>\n",
       "      <td>{'Valor AL': {'Ball possession': 37.0, 'Expect...</td>\n",
       "      <td>{'Valor Opp': {'Ball possession': 63.0, 'Expec...</td>\n",
       "      <td>0</td>\n",
       "      <td>1</td>\n",
       "      <td>Alejandro Restrepo</td>\n",
       "      <td>Manolo Jimenez</td>\n",
       "      <td>Cerro Porteño</td>\n",
       "      <td>0</td>\n",
       "      <td>1</td>\n",
       "    </tr>\n",
       "    <tr>\n",
       "      <th>19</th>\n",
       "      <td>CL3</td>\n",
       "      <td>Jornada 3 - Visita vs Colo Colo</td>\n",
       "      <td>Colo Colo</td>\n",
       "      <td>0</td>\n",
       "      <td>Alianza Lima</td>\n",
       "      <td>0</td>\n",
       "      <td>Visita</td>\n",
       "      <td>Empate</td>\n",
       "      <td>Copa Libertadores</td>\n",
       "      <td>{'Valor AL': {'Ball possession': 27.0, 'Expect...</td>\n",
       "      <td>{'Valor Opp': {'Ball possession': 73.0, 'Expec...</td>\n",
       "      <td>1</td>\n",
       "      <td>2</td>\n",
       "      <td>Alejandro Restrepo</td>\n",
       "      <td>Jorge Almiron</td>\n",
       "      <td>Colo Colo</td>\n",
       "      <td>0</td>\n",
       "      <td>0</td>\n",
       "    </tr>\n",
       "    <tr>\n",
       "      <th>20</th>\n",
       "      <td>CL4</td>\n",
       "      <td>Jornada 4 - Local vs Cerro Porteño</td>\n",
       "      <td>Alianza Lima</td>\n",
       "      <td>1</td>\n",
       "      <td>Cerro Porteño</td>\n",
       "      <td>1</td>\n",
       "      <td>Local</td>\n",
       "      <td>Empate</td>\n",
       "      <td>Copa Libertadores</td>\n",
       "      <td>{'Valor AL': {'Ball possession': 65.0, 'Expect...</td>\n",
       "      <td>{'Valor Opp': {'Ball possession': 35.0, 'Expec...</td>\n",
       "      <td>1</td>\n",
       "      <td>3</td>\n",
       "      <td>Alejandro Restrepo</td>\n",
       "      <td>Manolo Jimenez</td>\n",
       "      <td>Cerro Porteño</td>\n",
       "      <td>1</td>\n",
       "      <td>1</td>\n",
       "    </tr>\n",
       "    <tr>\n",
       "      <th>21</th>\n",
       "      <td>CL5</td>\n",
       "      <td>Jornada 5 - Local vs Colo Colo</td>\n",
       "      <td>Alianza Lima</td>\n",
       "      <td>1</td>\n",
       "      <td>Colo Colo</td>\n",
       "      <td>1</td>\n",
       "      <td>Local</td>\n",
       "      <td>Empate</td>\n",
       "      <td>Copa Libertadores</td>\n",
       "      <td>{'Valor AL': {'Ball possession': 41.0, 'Expect...</td>\n",
       "      <td>{'Valor Opp': {'Ball possession': 59.0, 'Expec...</td>\n",
       "      <td>1</td>\n",
       "      <td>4</td>\n",
       "      <td>Alejandro Restrepo</td>\n",
       "      <td>Jorge Almiron</td>\n",
       "      <td>Colo Colo</td>\n",
       "      <td>1</td>\n",
       "      <td>1</td>\n",
       "    </tr>\n",
       "    <tr>\n",
       "      <th>22</th>\n",
       "      <td>CL6</td>\n",
       "      <td>Jornada 6 - Visita vs Fluminense</td>\n",
       "      <td>Fluminense</td>\n",
       "      <td>3</td>\n",
       "      <td>Alianza Lima</td>\n",
       "      <td>2</td>\n",
       "      <td>Visita</td>\n",
       "      <td>Derrota</td>\n",
       "      <td>Copa Libertadores</td>\n",
       "      <td>{'Valor AL': {'Ball possession': 30.0, 'Expect...</td>\n",
       "      <td>{'Valor Opp': {'Ball possession': 70.0, 'Expec...</td>\n",
       "      <td>0</td>\n",
       "      <td>4</td>\n",
       "      <td>Alejandro Restrepo</td>\n",
       "      <td>Fernando Diniz</td>\n",
       "      <td>Fluminense</td>\n",
       "      <td>2</td>\n",
       "      <td>3</td>\n",
       "    </tr>\n",
       "  </tbody>\n",
       "</table>\n",
       "</div>"
      ],
      "text/plain": [
       "   id_jornada                                             nombre  \\\n",
       "0         A01     Jornada 1 - Local vs Universidad Cesar Vallejo   \n",
       "1         A02  Jornada 2 - Visita vs Alianza Atlético de Sullana   \n",
       "2         A03     Jornada 3 - Local vs Universitario de Deportes   \n",
       "3         A04               Jornada 4 - Visita vs Unión Comercio   \n",
       "4         A05           Jornada 5 - Local vs Comerciantes Unidos   \n",
       "5         A06                          Jornada 6 - Visita vs ADT   \n",
       "6         A07              Jornada 7 - Local vs Sporting Cristal   \n",
       "7         A08                    Jornada 8 - Visita vs Cienciano   \n",
       "8         A09                   Jornada 9 - Local vs Los Chankas   \n",
       "9         A10              Jornada 10 - Visita vs Carlos Manucci   \n",
       "10        A11                Jornada 11 - Local vs Atlético Grau   \n",
       "11        A12                   Jornada 12 - Local vs Sport Boys   \n",
       "12        A13                      Jornada 13 - Visita vs Melgar   \n",
       "13        A14                          Jornada 14 - Local vs UTC   \n",
       "14        A15              Jornada 15 - Visita vs Sport Huancayo   \n",
       "15        A16          Jornada 16 - Local vs Deportivo Garcilaso   \n",
       "16        A17                       Jornada 17 - Visita vs Cusco   \n",
       "17        CL1                    Jornada 1 - Local vs Fluminense   \n",
       "18        CL2                Jornada 2 - Visita vs Cerro Porteño   \n",
       "19        CL3                    Jornada 3 - Visita vs Colo Colo   \n",
       "20        CL4                 Jornada 4 - Local vs Cerro Porteño   \n",
       "21        CL5                     Jornada 5 - Local vs Colo Colo   \n",
       "22        CL6                   Jornada 6 - Visita vs Fluminense   \n",
       "\n",
       "                      home_team  home_score                         away_team  \\\n",
       "0                  Alianza Lima           2         Universidad César Vallejo   \n",
       "1   Alianza Atlético de Sullana           0                      Alianza Lima   \n",
       "2                  Alianza Lima           0                     Universitario   \n",
       "3                Unión Comercio           1                      Alianza Lima   \n",
       "4                  Alianza Lima           5               Comerciantes Unidos   \n",
       "5    Asociación Deportiva Tarma           2                      Alianza Lima   \n",
       "6                  Alianza Lima           1             Club Sporting Cristal   \n",
       "7                     Cienciano           2                      Alianza Lima   \n",
       "8                  Alianza Lima           3                   Los Chankas CYC   \n",
       "9            Carlos A. Mannucci           0                      Alianza Lima   \n",
       "10                 Alianza Lima           2                Club Atlético Grau   \n",
       "11                 Alianza Lima           3                        Sport Boys   \n",
       "12                       Melgar           1                      Alianza Lima   \n",
       "13                 Alianza Lima           1  Universidad Técnica de Cajamarca   \n",
       "14               Sport Huancayo           0                      Alianza Lima   \n",
       "15                 Alianza Lima           3               Deportivo Garcilaso   \n",
       "16                     Cusco FC           3                      Alianza Lima   \n",
       "17                 Alianza Lima           1                        Fluminense   \n",
       "18                Cerro Porteño           1                      Alianza Lima   \n",
       "19                    Colo Colo           0                      Alianza Lima   \n",
       "20                 Alianza Lima           1                     Cerro Porteño   \n",
       "21                 Alianza Lima           1                         Colo Colo   \n",
       "22                   Fluminense           3                      Alianza Lima   \n",
       "\n",
       "    away_score Condicion Resultado             Torneo  \\\n",
       "0            1     Local  Victoria    Apertura Liga 1   \n",
       "1            2    Visita  Victoria    Apertura Liga 1   \n",
       "2            1     Local   Derrota    Apertura Liga 1   \n",
       "3            3    Visita  Victoria    Apertura Liga 1   \n",
       "4            1     Local  Victoria    Apertura Liga 1   \n",
       "5            0    Visita   Derrota    Apertura Liga 1   \n",
       "6            2     Local   Derrota    Apertura Liga 1   \n",
       "7            1    Visita   Derrota    Apertura Liga 1   \n",
       "8            0     Local  Victoria    Apertura Liga 1   \n",
       "9            4    Visita  Victoria    Apertura Liga 1   \n",
       "10           0     Local  Victoria    Apertura Liga 1   \n",
       "11           0     Local  Victoria    Apertura Liga 1   \n",
       "12           0    Visita   Derrota    Apertura Liga 1   \n",
       "13           0     Local  Victoria    Apertura Liga 1   \n",
       "14           2    Visita  Victoria    Apertura Liga 1   \n",
       "15           2     Local  Victoria    Apertura Liga 1   \n",
       "16           0    Visita   Derrota    Apertura Liga 1   \n",
       "17           1     Local    Empate  Copa Libertadores   \n",
       "18           0    Visita   Derrota  Copa Libertadores   \n",
       "19           0    Visita    Empate  Copa Libertadores   \n",
       "20           1     Local    Empate  Copa Libertadores   \n",
       "21           1     Local    Empate  Copa Libertadores   \n",
       "22           2    Visita   Derrota  Copa Libertadores   \n",
       "\n",
       "                                 estadisticas_Alianza  \\\n",
       "0   {'Valor AL': {'Ball possession': 39.0, 'Expect...   \n",
       "1   {'Valor AL': {'Ball possession': 60.0, 'Expect...   \n",
       "2   {'Valor AL': {'Ball possession': 61.0, 'Expect...   \n",
       "3   {'Valor AL': {'Ball possession': 54.0, 'Expect...   \n",
       "4   {'Valor AL': {'Ball possession': 60.0, 'Expect...   \n",
       "5   {'Valor AL': {'Ball possession': 34.0, 'Expect...   \n",
       "6   {'Valor AL': {'Ball possession': 58.0, 'Expect...   \n",
       "7   {'Valor AL': {'Ball possession': 42.0, 'Expect...   \n",
       "8   {'Valor AL': {'Ball possession': 61.0, 'Expect...   \n",
       "9   {'Valor AL': {'Ball possession': 66.0, 'Expect...   \n",
       "10  {'Valor AL': {'Ball possession': 44.0, 'Expect...   \n",
       "11  {'Valor AL': {'Ball possession': 51.0, 'Expect...   \n",
       "12  {'Valor AL': {'Ball possession': 47.0, 'Expect...   \n",
       "13  {'Valor AL': {'Ball possession': 71.0, 'Expect...   \n",
       "14  {'Valor AL': {'Ball possession': 45.0, 'Expect...   \n",
       "15  {'Valor AL': {'Ball possession': 64.0, 'Expect...   \n",
       "16  {'Valor AL': {'Ball possession': 56.0, 'Expect...   \n",
       "17  {'Valor AL': {'Ball possession': 21.0, 'Expect...   \n",
       "18  {'Valor AL': {'Ball possession': 37.0, 'Expect...   \n",
       "19  {'Valor AL': {'Ball possession': 27.0, 'Expect...   \n",
       "20  {'Valor AL': {'Ball possession': 65.0, 'Expect...   \n",
       "21  {'Valor AL': {'Ball possession': 41.0, 'Expect...   \n",
       "22  {'Valor AL': {'Ball possession': 30.0, 'Expect...   \n",
       "\n",
       "                                estadisticas_Oponente  Puntos obtenidos  \\\n",
       "0   {'Valor Opp': {'Ball possession': 61.0, 'Expec...                 3   \n",
       "1   {'Valor Opp': {'Ball possession': 40.0, 'Expec...                 3   \n",
       "2   {'Valor Opp': {'Ball possession': 39.0, 'Expec...                 0   \n",
       "3   {'Valor Opp': {'Ball possession': 46.0, 'Expec...                 3   \n",
       "4   {'Valor Opp': {'Ball possession': 40.0, 'Expec...                 3   \n",
       "5   {'Valor Opp': {'Ball possession': 66.0, 'Expec...                 0   \n",
       "6   {'Valor Opp': {'Ball possession': 42.0, 'Expec...                 0   \n",
       "7   {'Valor Opp': {'Ball possession': 58.0, 'Expec...                 0   \n",
       "8   {'Valor Opp': {'Ball possession': 39.0, 'Expec...                 3   \n",
       "9   {'Valor Opp': {'Ball possession': 34.0, 'Expec...                 3   \n",
       "10  {'Valor Opp': {'Ball possession': 56.0, 'Expec...                 3   \n",
       "11  {'Valor Opp': {'Ball possession': 49.0, 'Expec...                 3   \n",
       "12  {'Valor Opp': {'Ball possession': 53.0, 'Expec...                 0   \n",
       "13  {'Valor Opp': {'Ball possession': 29.0, 'Expec...                 3   \n",
       "14  {'Valor Opp': {'Ball possession': 55.0, 'Expec...                 3   \n",
       "15  {'Valor Opp': {'Ball possession': 36.0, 'Expec...                 3   \n",
       "16  {'Valor Opp': {'Ball possession': 44.0, 'Expec...                 0   \n",
       "17  {'Valor Opp': {'Ball possession': 79.0, 'Expec...                 1   \n",
       "18  {'Valor Opp': {'Ball possession': 63.0, 'Expec...                 0   \n",
       "19  {'Valor Opp': {'Ball possession': 73.0, 'Expec...                 1   \n",
       "20  {'Valor Opp': {'Ball possession': 35.0, 'Expec...                 1   \n",
       "21  {'Valor Opp': {'Ball possession': 59.0, 'Expec...                 1   \n",
       "22  {'Valor Opp': {'Ball possession': 70.0, 'Expec...                 0   \n",
       "\n",
       "    Puntos acumulados     DT Alianza Lima          DT Oponente  \\\n",
       "0                   3  Alejandro Restrepo      Guillermo Salas   \n",
       "1                   6  Alejandro Restrepo         Jorge Espejo   \n",
       "2                   6  Alejandro Restrepo        Fabian Bustos   \n",
       "3                   9  Alejandro Restrepo          Andy Loayza   \n",
       "4                  12  Alejandro Restrepo     Carlos Silvestri   \n",
       "5                  12  Alejandro Restrepo         Carlos Desio   \n",
       "6                  12  Alejandro Restrepo        No disponible   \n",
       "7                  12  Alejandro Restrepo         Oscar Ibanez   \n",
       "8                  15  Alejandro Restrepo          Pablo Bossi   \n",
       "9                  18  Alejandro Restrepo        Milton Mendes   \n",
       "10                 21  Alejandro Restrepo  Angel David Comizzo   \n",
       "11                 24  Alejandro Restrepo           Juan Alayo   \n",
       "12                 24  Alejandro Restrepo       Marco Valencia   \n",
       "13                 27  Alejandro Restrepo   Carlos Ramacciotti   \n",
       "14                 30  Alejandro Restrepo     Mifflin Bermudez   \n",
       "15                 33  Alejandro Restrepo       Bernardo Redin   \n",
       "16                 33  Alejandro Restrepo      Miguel Rondelli   \n",
       "17                  1  Alejandro Restrepo       Fernando Diniz   \n",
       "18                  1  Alejandro Restrepo       Manolo Jimenez   \n",
       "19                  2  Alejandro Restrepo        Jorge Almiron   \n",
       "20                  3  Alejandro Restrepo       Manolo Jimenez   \n",
       "21                  4  Alejandro Restrepo        Jorge Almiron   \n",
       "22                  4  Alejandro Restrepo       Fernando Diniz   \n",
       "\n",
       "                     Equipo Oponente  Goles Alianza Lima  Goles Oponente  \n",
       "0          Universidad César Vallejo                   2               1  \n",
       "1        Alianza Atlético de Sullana                   2               0  \n",
       "2                      Universitario                   0               1  \n",
       "3                     Unión Comercio                   3               1  \n",
       "4                Comerciantes Unidos                   5               1  \n",
       "5         Asociación Deportiva Tarma                   0               2  \n",
       "6              Club Sporting Cristal                   1               2  \n",
       "7                          Cienciano                   1               2  \n",
       "8                    Los Chankas CYC                   3               0  \n",
       "9                 Carlos A. Mannucci                   4               0  \n",
       "10                Club Atlético Grau                   2               0  \n",
       "11                        Sport Boys                   3               0  \n",
       "12                            Melgar                   0               1  \n",
       "13  Universidad Técnica de Cajamarca                   1               0  \n",
       "14                    Sport Huancayo                   2               0  \n",
       "15               Deportivo Garcilaso                   3               2  \n",
       "16                          Cusco FC                   0               3  \n",
       "17                        Fluminense                   1               1  \n",
       "18                     Cerro Porteño                   0               1  \n",
       "19                         Colo Colo                   0               0  \n",
       "20                     Cerro Porteño                   1               1  \n",
       "21                         Colo Colo                   1               1  \n",
       "22                        Fluminense                   2               3  "
      ]
     },
     "execution_count": 14,
     "metadata": {},
     "output_type": "execute_result"
    }
   ],
   "source": [
    "df_jornadas"
   ]
  },
  {
   "cell_type": "code",
   "execution_count": 15,
   "metadata": {
    "vscode": {
     "languageId": "ruby"
    }
   },
   "outputs": [],
   "source": [
    "df_jornadas_estadisticas = df_jornadas_estadisticas.pivot(index='id_jornada', columns='tipo', values='estadisticas')"
   ]
  },
  {
   "cell_type": "code",
   "execution_count": 16,
   "metadata": {
    "vscode": {
     "languageId": "ruby"
    }
   },
   "outputs": [
    {
     "data": {
      "text/html": [
       "<div>\n",
       "<style scoped>\n",
       "    .dataframe tbody tr th:only-of-type {\n",
       "        vertical-align: middle;\n",
       "    }\n",
       "\n",
       "    .dataframe tbody tr th {\n",
       "        vertical-align: top;\n",
       "    }\n",
       "\n",
       "    .dataframe thead th {\n",
       "        text-align: right;\n",
       "    }\n",
       "</style>\n",
       "<table border=\"1\" class=\"dataframe\">\n",
       "  <thead>\n",
       "    <tr style=\"text-align: right;\">\n",
       "      <th>tipo</th>\n",
       "      <th>estadisticas_Alianza</th>\n",
       "      <th>estadisticas_Oponente</th>\n",
       "    </tr>\n",
       "    <tr>\n",
       "      <th>id_jornada</th>\n",
       "      <th></th>\n",
       "      <th></th>\n",
       "    </tr>\n",
       "  </thead>\n",
       "  <tbody>\n",
       "    <tr>\n",
       "      <th>A01</th>\n",
       "      <td>{'Ball possession': 39.0, 'Expected goals': 2....</td>\n",
       "      <td>{'Ball possession': 61.0, 'Expected goals': 0....</td>\n",
       "    </tr>\n",
       "    <tr>\n",
       "      <th>A02</th>\n",
       "      <td>{'Ball possession': 60.0, 'Expected goals': 1....</td>\n",
       "      <td>{'Ball possession': 40.0, 'Expected goals': 0....</td>\n",
       "    </tr>\n",
       "    <tr>\n",
       "      <th>A03</th>\n",
       "      <td>{'Ball possession': 61.0, 'Expected goals': 1....</td>\n",
       "      <td>{'Ball possession': 39.0, 'Expected goals': 1....</td>\n",
       "    </tr>\n",
       "    <tr>\n",
       "      <th>A04</th>\n",
       "      <td>{'Ball possession': 54.0, 'Expected goals': 1....</td>\n",
       "      <td>{'Ball possession': 46.0, 'Expected goals': 0....</td>\n",
       "    </tr>\n",
       "    <tr>\n",
       "      <th>A05</th>\n",
       "      <td>{'Ball possession': 60.0, 'Expected goals': 3....</td>\n",
       "      <td>{'Ball possession': 40.0, 'Expected goals': 0....</td>\n",
       "    </tr>\n",
       "    <tr>\n",
       "      <th>A06</th>\n",
       "      <td>{'Ball possession': 34.0, 'Expected goals': 0....</td>\n",
       "      <td>{'Ball possession': 66.0, 'Expected goals': 1....</td>\n",
       "    </tr>\n",
       "    <tr>\n",
       "      <th>A07</th>\n",
       "      <td>{'Ball possession': 58.0, 'Expected goals': 2....</td>\n",
       "      <td>{'Ball possession': 42.0, 'Expected goals': 1....</td>\n",
       "    </tr>\n",
       "    <tr>\n",
       "      <th>A08</th>\n",
       "      <td>{'Ball possession': 42.0, 'Expected goals': 1....</td>\n",
       "      <td>{'Ball possession': 58.0, 'Expected goals': 1....</td>\n",
       "    </tr>\n",
       "    <tr>\n",
       "      <th>A09</th>\n",
       "      <td>{'Ball possession': 61.0, 'Expected goals': 3....</td>\n",
       "      <td>{'Ball possession': 39.0, 'Expected goals': 0....</td>\n",
       "    </tr>\n",
       "    <tr>\n",
       "      <th>A10</th>\n",
       "      <td>{'Ball possession': 66.0, 'Expected goals': 2....</td>\n",
       "      <td>{'Ball possession': 34.0, 'Expected goals': 0....</td>\n",
       "    </tr>\n",
       "    <tr>\n",
       "      <th>A11</th>\n",
       "      <td>{'Ball possession': 44.0, 'Expected goals': 0....</td>\n",
       "      <td>{'Ball possession': 56.0, 'Expected goals': 1....</td>\n",
       "    </tr>\n",
       "    <tr>\n",
       "      <th>A12</th>\n",
       "      <td>{'Ball possession': 51.0, 'Expected goals': 1....</td>\n",
       "      <td>{'Ball possession': 49.0, 'Expected goals': 0....</td>\n",
       "    </tr>\n",
       "    <tr>\n",
       "      <th>A13</th>\n",
       "      <td>{'Ball possession': 47.0, 'Expected goals': 0....</td>\n",
       "      <td>{'Ball possession': 53.0, 'Expected goals': 1....</td>\n",
       "    </tr>\n",
       "    <tr>\n",
       "      <th>A14</th>\n",
       "      <td>{'Ball possession': 71.0, 'Expected goals': 1....</td>\n",
       "      <td>{'Ball possession': 29.0, 'Expected goals': 0....</td>\n",
       "    </tr>\n",
       "    <tr>\n",
       "      <th>A15</th>\n",
       "      <td>{'Ball possession': 45.0, 'Expected goals': 1....</td>\n",
       "      <td>{'Ball possession': 55.0, 'Expected goals': 0....</td>\n",
       "    </tr>\n",
       "    <tr>\n",
       "      <th>A16</th>\n",
       "      <td>{'Ball possession': 64.0, 'Expected goals': 3....</td>\n",
       "      <td>{'Ball possession': 36.0, 'Expected goals': 0....</td>\n",
       "    </tr>\n",
       "    <tr>\n",
       "      <th>A17</th>\n",
       "      <td>{'Ball possession': 56.0, 'Expected goals': 0....</td>\n",
       "      <td>{'Ball possession': 44.0, 'Expected goals': 1....</td>\n",
       "    </tr>\n",
       "    <tr>\n",
       "      <th>CL1</th>\n",
       "      <td>{'Ball possession': 21.0, 'Expected goals': 1....</td>\n",
       "      <td>{'Ball possession': 79.0, 'Expected goals': 0....</td>\n",
       "    </tr>\n",
       "    <tr>\n",
       "      <th>CL2</th>\n",
       "      <td>{'Ball possession': 37.0, 'Expected goals': 0....</td>\n",
       "      <td>{'Ball possession': 63.0, 'Expected goals': 0....</td>\n",
       "    </tr>\n",
       "    <tr>\n",
       "      <th>CL3</th>\n",
       "      <td>{'Ball possession': 27.0, 'Expected goals': 0....</td>\n",
       "      <td>{'Ball possession': 73.0, 'Expected goals': 1....</td>\n",
       "    </tr>\n",
       "    <tr>\n",
       "      <th>CL4</th>\n",
       "      <td>{'Ball possession': 65.0, 'Expected goals': 0....</td>\n",
       "      <td>{'Ball possession': 35.0, 'Expected goals': 0....</td>\n",
       "    </tr>\n",
       "    <tr>\n",
       "      <th>CL5</th>\n",
       "      <td>{'Ball possession': 41.0, 'Expected goals': 0....</td>\n",
       "      <td>{'Ball possession': 59.0, 'Expected goals': 0....</td>\n",
       "    </tr>\n",
       "    <tr>\n",
       "      <th>CL6</th>\n",
       "      <td>{'Ball possession': 30.0, 'Expected goals': 1....</td>\n",
       "      <td>{'Ball possession': 70.0, 'Expected goals': 1....</td>\n",
       "    </tr>\n",
       "  </tbody>\n",
       "</table>\n",
       "</div>"
      ],
      "text/plain": [
       "tipo                                     estadisticas_Alianza  \\\n",
       "id_jornada                                                      \n",
       "A01         {'Ball possession': 39.0, 'Expected goals': 2....   \n",
       "A02         {'Ball possession': 60.0, 'Expected goals': 1....   \n",
       "A03         {'Ball possession': 61.0, 'Expected goals': 1....   \n",
       "A04         {'Ball possession': 54.0, 'Expected goals': 1....   \n",
       "A05         {'Ball possession': 60.0, 'Expected goals': 3....   \n",
       "A06         {'Ball possession': 34.0, 'Expected goals': 0....   \n",
       "A07         {'Ball possession': 58.0, 'Expected goals': 2....   \n",
       "A08         {'Ball possession': 42.0, 'Expected goals': 1....   \n",
       "A09         {'Ball possession': 61.0, 'Expected goals': 3....   \n",
       "A10         {'Ball possession': 66.0, 'Expected goals': 2....   \n",
       "A11         {'Ball possession': 44.0, 'Expected goals': 0....   \n",
       "A12         {'Ball possession': 51.0, 'Expected goals': 1....   \n",
       "A13         {'Ball possession': 47.0, 'Expected goals': 0....   \n",
       "A14         {'Ball possession': 71.0, 'Expected goals': 1....   \n",
       "A15         {'Ball possession': 45.0, 'Expected goals': 1....   \n",
       "A16         {'Ball possession': 64.0, 'Expected goals': 3....   \n",
       "A17         {'Ball possession': 56.0, 'Expected goals': 0....   \n",
       "CL1         {'Ball possession': 21.0, 'Expected goals': 1....   \n",
       "CL2         {'Ball possession': 37.0, 'Expected goals': 0....   \n",
       "CL3         {'Ball possession': 27.0, 'Expected goals': 0....   \n",
       "CL4         {'Ball possession': 65.0, 'Expected goals': 0....   \n",
       "CL5         {'Ball possession': 41.0, 'Expected goals': 0....   \n",
       "CL6         {'Ball possession': 30.0, 'Expected goals': 1....   \n",
       "\n",
       "tipo                                    estadisticas_Oponente  \n",
       "id_jornada                                                     \n",
       "A01         {'Ball possession': 61.0, 'Expected goals': 0....  \n",
       "A02         {'Ball possession': 40.0, 'Expected goals': 0....  \n",
       "A03         {'Ball possession': 39.0, 'Expected goals': 1....  \n",
       "A04         {'Ball possession': 46.0, 'Expected goals': 0....  \n",
       "A05         {'Ball possession': 40.0, 'Expected goals': 0....  \n",
       "A06         {'Ball possession': 66.0, 'Expected goals': 1....  \n",
       "A07         {'Ball possession': 42.0, 'Expected goals': 1....  \n",
       "A08         {'Ball possession': 58.0, 'Expected goals': 1....  \n",
       "A09         {'Ball possession': 39.0, 'Expected goals': 0....  \n",
       "A10         {'Ball possession': 34.0, 'Expected goals': 0....  \n",
       "A11         {'Ball possession': 56.0, 'Expected goals': 1....  \n",
       "A12         {'Ball possession': 49.0, 'Expected goals': 0....  \n",
       "A13         {'Ball possession': 53.0, 'Expected goals': 1....  \n",
       "A14         {'Ball possession': 29.0, 'Expected goals': 0....  \n",
       "A15         {'Ball possession': 55.0, 'Expected goals': 0....  \n",
       "A16         {'Ball possession': 36.0, 'Expected goals': 0....  \n",
       "A17         {'Ball possession': 44.0, 'Expected goals': 1....  \n",
       "CL1         {'Ball possession': 79.0, 'Expected goals': 0....  \n",
       "CL2         {'Ball possession': 63.0, 'Expected goals': 0....  \n",
       "CL3         {'Ball possession': 73.0, 'Expected goals': 1....  \n",
       "CL4         {'Ball possession': 35.0, 'Expected goals': 0....  \n",
       "CL5         {'Ball possession': 59.0, 'Expected goals': 0....  \n",
       "CL6         {'Ball possession': 70.0, 'Expected goals': 1....  "
      ]
     },
     "execution_count": 16,
     "metadata": {},
     "output_type": "execute_result"
    }
   ],
   "source": [
    "df_jornadas_estadisticas"
   ]
  },
  {
   "cell_type": "code",
   "execution_count": 19,
   "metadata": {
    "vscode": {
     "languageId": "ruby"
    }
   },
   "outputs": [],
   "source": [
    "df_jornadas = df_jornadas.drop(['estadisticas_Alianza', 'estadisticas_Oponente'], axis=1)\n",
    "df_jornadas = df_jornadas.drop(['home_team', 'home_score','away_team', 'away_score'], axis=1)"
   ]
  },
  {
   "cell_type": "code",
   "execution_count": 21,
   "metadata": {
    "vscode": {
     "languageId": "ruby"
    }
   },
   "outputs": [],
   "source": [
    "df_jornadas = df_jornadas[['id_jornada', 'nombre', 'Condicion', 'Equipo Oponente', 'Torneo', 'Goles Alianza Lima', 'Goles Oponente', 'Resultado', 'DT Alianza Lima', 'DT Oponente', 'Puntos obtenidos', 'Puntos acumulados']]"
   ]
  },
  {
   "cell_type": "code",
   "execution_count": 27,
   "metadata": {
    "vscode": {
     "languageId": "ruby"
    }
   },
   "outputs": [],
   "source": [
    "df_jornadas.set_index('id_jornada', inplace=True)"
   ]
  },
  {
   "cell_type": "code",
   "execution_count": 28,
   "metadata": {
    "vscode": {
     "languageId": "ruby"
    }
   },
   "outputs": [
    {
     "data": {
      "text/html": [
       "<div>\n",
       "<style scoped>\n",
       "    .dataframe tbody tr th:only-of-type {\n",
       "        vertical-align: middle;\n",
       "    }\n",
       "\n",
       "    .dataframe tbody tr th {\n",
       "        vertical-align: top;\n",
       "    }\n",
       "\n",
       "    .dataframe thead th {\n",
       "        text-align: right;\n",
       "    }\n",
       "</style>\n",
       "<table border=\"1\" class=\"dataframe\">\n",
       "  <thead>\n",
       "    <tr style=\"text-align: right;\">\n",
       "      <th></th>\n",
       "      <th>nombre</th>\n",
       "      <th>Condicion</th>\n",
       "      <th>Equipo Oponente</th>\n",
       "      <th>Torneo</th>\n",
       "      <th>Goles Alianza Lima</th>\n",
       "      <th>Goles Oponente</th>\n",
       "      <th>Resultado</th>\n",
       "      <th>DT Alianza Lima</th>\n",
       "      <th>DT Oponente</th>\n",
       "      <th>Puntos obtenidos</th>\n",
       "      <th>Puntos acumulados</th>\n",
       "    </tr>\n",
       "    <tr>\n",
       "      <th>id_jornada</th>\n",
       "      <th></th>\n",
       "      <th></th>\n",
       "      <th></th>\n",
       "      <th></th>\n",
       "      <th></th>\n",
       "      <th></th>\n",
       "      <th></th>\n",
       "      <th></th>\n",
       "      <th></th>\n",
       "      <th></th>\n",
       "      <th></th>\n",
       "    </tr>\n",
       "  </thead>\n",
       "  <tbody>\n",
       "    <tr>\n",
       "      <th>A01</th>\n",
       "      <td>Jornada 1 - Local vs Universidad Cesar Vallejo</td>\n",
       "      <td>Local</td>\n",
       "      <td>Universidad César Vallejo</td>\n",
       "      <td>Apertura Liga 1</td>\n",
       "      <td>2</td>\n",
       "      <td>1</td>\n",
       "      <td>Victoria</td>\n",
       "      <td>Alejandro Restrepo</td>\n",
       "      <td>Guillermo Salas</td>\n",
       "      <td>3</td>\n",
       "      <td>3</td>\n",
       "    </tr>\n",
       "    <tr>\n",
       "      <th>A02</th>\n",
       "      <td>Jornada 2 - Visita vs Alianza Atlético de Sullana</td>\n",
       "      <td>Visita</td>\n",
       "      <td>Alianza Atlético de Sullana</td>\n",
       "      <td>Apertura Liga 1</td>\n",
       "      <td>2</td>\n",
       "      <td>0</td>\n",
       "      <td>Victoria</td>\n",
       "      <td>Alejandro Restrepo</td>\n",
       "      <td>Jorge Espejo</td>\n",
       "      <td>3</td>\n",
       "      <td>6</td>\n",
       "    </tr>\n",
       "    <tr>\n",
       "      <th>A03</th>\n",
       "      <td>Jornada 3 - Local vs Universitario de Deportes</td>\n",
       "      <td>Local</td>\n",
       "      <td>Universitario</td>\n",
       "      <td>Apertura Liga 1</td>\n",
       "      <td>0</td>\n",
       "      <td>1</td>\n",
       "      <td>Derrota</td>\n",
       "      <td>Alejandro Restrepo</td>\n",
       "      <td>Fabian Bustos</td>\n",
       "      <td>0</td>\n",
       "      <td>6</td>\n",
       "    </tr>\n",
       "    <tr>\n",
       "      <th>A04</th>\n",
       "      <td>Jornada 4 - Visita vs Unión Comercio</td>\n",
       "      <td>Visita</td>\n",
       "      <td>Unión Comercio</td>\n",
       "      <td>Apertura Liga 1</td>\n",
       "      <td>3</td>\n",
       "      <td>1</td>\n",
       "      <td>Victoria</td>\n",
       "      <td>Alejandro Restrepo</td>\n",
       "      <td>Andy Loayza</td>\n",
       "      <td>3</td>\n",
       "      <td>9</td>\n",
       "    </tr>\n",
       "    <tr>\n",
       "      <th>A05</th>\n",
       "      <td>Jornada 5 - Local vs Comerciantes Unidos</td>\n",
       "      <td>Local</td>\n",
       "      <td>Comerciantes Unidos</td>\n",
       "      <td>Apertura Liga 1</td>\n",
       "      <td>5</td>\n",
       "      <td>1</td>\n",
       "      <td>Victoria</td>\n",
       "      <td>Alejandro Restrepo</td>\n",
       "      <td>Carlos Silvestri</td>\n",
       "      <td>3</td>\n",
       "      <td>12</td>\n",
       "    </tr>\n",
       "    <tr>\n",
       "      <th>A06</th>\n",
       "      <td>Jornada 6 - Visita vs ADT</td>\n",
       "      <td>Visita</td>\n",
       "      <td>Asociación Deportiva Tarma</td>\n",
       "      <td>Apertura Liga 1</td>\n",
       "      <td>0</td>\n",
       "      <td>2</td>\n",
       "      <td>Derrota</td>\n",
       "      <td>Alejandro Restrepo</td>\n",
       "      <td>Carlos Desio</td>\n",
       "      <td>0</td>\n",
       "      <td>12</td>\n",
       "    </tr>\n",
       "    <tr>\n",
       "      <th>A07</th>\n",
       "      <td>Jornada 7 - Local vs Sporting Cristal</td>\n",
       "      <td>Local</td>\n",
       "      <td>Club Sporting Cristal</td>\n",
       "      <td>Apertura Liga 1</td>\n",
       "      <td>1</td>\n",
       "      <td>2</td>\n",
       "      <td>Derrota</td>\n",
       "      <td>Alejandro Restrepo</td>\n",
       "      <td>No disponible</td>\n",
       "      <td>0</td>\n",
       "      <td>12</td>\n",
       "    </tr>\n",
       "    <tr>\n",
       "      <th>A08</th>\n",
       "      <td>Jornada 8 - Visita vs Cienciano</td>\n",
       "      <td>Visita</td>\n",
       "      <td>Cienciano</td>\n",
       "      <td>Apertura Liga 1</td>\n",
       "      <td>1</td>\n",
       "      <td>2</td>\n",
       "      <td>Derrota</td>\n",
       "      <td>Alejandro Restrepo</td>\n",
       "      <td>Oscar Ibanez</td>\n",
       "      <td>0</td>\n",
       "      <td>12</td>\n",
       "    </tr>\n",
       "    <tr>\n",
       "      <th>A09</th>\n",
       "      <td>Jornada 9 - Local vs Los Chankas</td>\n",
       "      <td>Local</td>\n",
       "      <td>Los Chankas CYC</td>\n",
       "      <td>Apertura Liga 1</td>\n",
       "      <td>3</td>\n",
       "      <td>0</td>\n",
       "      <td>Victoria</td>\n",
       "      <td>Alejandro Restrepo</td>\n",
       "      <td>Pablo Bossi</td>\n",
       "      <td>3</td>\n",
       "      <td>15</td>\n",
       "    </tr>\n",
       "    <tr>\n",
       "      <th>A10</th>\n",
       "      <td>Jornada 10 - Visita vs Carlos Manucci</td>\n",
       "      <td>Visita</td>\n",
       "      <td>Carlos A. Mannucci</td>\n",
       "      <td>Apertura Liga 1</td>\n",
       "      <td>4</td>\n",
       "      <td>0</td>\n",
       "      <td>Victoria</td>\n",
       "      <td>Alejandro Restrepo</td>\n",
       "      <td>Milton Mendes</td>\n",
       "      <td>3</td>\n",
       "      <td>18</td>\n",
       "    </tr>\n",
       "    <tr>\n",
       "      <th>A11</th>\n",
       "      <td>Jornada 11 - Local vs Atlético Grau</td>\n",
       "      <td>Local</td>\n",
       "      <td>Club Atlético Grau</td>\n",
       "      <td>Apertura Liga 1</td>\n",
       "      <td>2</td>\n",
       "      <td>0</td>\n",
       "      <td>Victoria</td>\n",
       "      <td>Alejandro Restrepo</td>\n",
       "      <td>Angel David Comizzo</td>\n",
       "      <td>3</td>\n",
       "      <td>21</td>\n",
       "    </tr>\n",
       "    <tr>\n",
       "      <th>A12</th>\n",
       "      <td>Jornada 12 - Local vs Sport Boys</td>\n",
       "      <td>Local</td>\n",
       "      <td>Sport Boys</td>\n",
       "      <td>Apertura Liga 1</td>\n",
       "      <td>3</td>\n",
       "      <td>0</td>\n",
       "      <td>Victoria</td>\n",
       "      <td>Alejandro Restrepo</td>\n",
       "      <td>Juan Alayo</td>\n",
       "      <td>3</td>\n",
       "      <td>24</td>\n",
       "    </tr>\n",
       "    <tr>\n",
       "      <th>A13</th>\n",
       "      <td>Jornada 13 - Visita vs Melgar</td>\n",
       "      <td>Visita</td>\n",
       "      <td>Melgar</td>\n",
       "      <td>Apertura Liga 1</td>\n",
       "      <td>0</td>\n",
       "      <td>1</td>\n",
       "      <td>Derrota</td>\n",
       "      <td>Alejandro Restrepo</td>\n",
       "      <td>Marco Valencia</td>\n",
       "      <td>0</td>\n",
       "      <td>24</td>\n",
       "    </tr>\n",
       "    <tr>\n",
       "      <th>A14</th>\n",
       "      <td>Jornada 14 - Local vs UTC</td>\n",
       "      <td>Local</td>\n",
       "      <td>Universidad Técnica de Cajamarca</td>\n",
       "      <td>Apertura Liga 1</td>\n",
       "      <td>1</td>\n",
       "      <td>0</td>\n",
       "      <td>Victoria</td>\n",
       "      <td>Alejandro Restrepo</td>\n",
       "      <td>Carlos Ramacciotti</td>\n",
       "      <td>3</td>\n",
       "      <td>27</td>\n",
       "    </tr>\n",
       "    <tr>\n",
       "      <th>A15</th>\n",
       "      <td>Jornada 15 - Visita vs Sport Huancayo</td>\n",
       "      <td>Visita</td>\n",
       "      <td>Sport Huancayo</td>\n",
       "      <td>Apertura Liga 1</td>\n",
       "      <td>2</td>\n",
       "      <td>0</td>\n",
       "      <td>Victoria</td>\n",
       "      <td>Alejandro Restrepo</td>\n",
       "      <td>Mifflin Bermudez</td>\n",
       "      <td>3</td>\n",
       "      <td>30</td>\n",
       "    </tr>\n",
       "    <tr>\n",
       "      <th>A16</th>\n",
       "      <td>Jornada 16 - Local vs Deportivo Garcilaso</td>\n",
       "      <td>Local</td>\n",
       "      <td>Deportivo Garcilaso</td>\n",
       "      <td>Apertura Liga 1</td>\n",
       "      <td>3</td>\n",
       "      <td>2</td>\n",
       "      <td>Victoria</td>\n",
       "      <td>Alejandro Restrepo</td>\n",
       "      <td>Bernardo Redin</td>\n",
       "      <td>3</td>\n",
       "      <td>33</td>\n",
       "    </tr>\n",
       "    <tr>\n",
       "      <th>A17</th>\n",
       "      <td>Jornada 17 - Visita vs Cusco</td>\n",
       "      <td>Visita</td>\n",
       "      <td>Cusco FC</td>\n",
       "      <td>Apertura Liga 1</td>\n",
       "      <td>0</td>\n",
       "      <td>3</td>\n",
       "      <td>Derrota</td>\n",
       "      <td>Alejandro Restrepo</td>\n",
       "      <td>Miguel Rondelli</td>\n",
       "      <td>0</td>\n",
       "      <td>33</td>\n",
       "    </tr>\n",
       "    <tr>\n",
       "      <th>CL1</th>\n",
       "      <td>Jornada 1 - Local vs Fluminense</td>\n",
       "      <td>Local</td>\n",
       "      <td>Fluminense</td>\n",
       "      <td>Copa Libertadores</td>\n",
       "      <td>1</td>\n",
       "      <td>1</td>\n",
       "      <td>Empate</td>\n",
       "      <td>Alejandro Restrepo</td>\n",
       "      <td>Fernando Diniz</td>\n",
       "      <td>1</td>\n",
       "      <td>1</td>\n",
       "    </tr>\n",
       "    <tr>\n",
       "      <th>CL2</th>\n",
       "      <td>Jornada 2 - Visita vs Cerro Porteño</td>\n",
       "      <td>Visita</td>\n",
       "      <td>Cerro Porteño</td>\n",
       "      <td>Copa Libertadores</td>\n",
       "      <td>0</td>\n",
       "      <td>1</td>\n",
       "      <td>Derrota</td>\n",
       "      <td>Alejandro Restrepo</td>\n",
       "      <td>Manolo Jimenez</td>\n",
       "      <td>0</td>\n",
       "      <td>1</td>\n",
       "    </tr>\n",
       "    <tr>\n",
       "      <th>CL3</th>\n",
       "      <td>Jornada 3 - Visita vs Colo Colo</td>\n",
       "      <td>Visita</td>\n",
       "      <td>Colo Colo</td>\n",
       "      <td>Copa Libertadores</td>\n",
       "      <td>0</td>\n",
       "      <td>0</td>\n",
       "      <td>Empate</td>\n",
       "      <td>Alejandro Restrepo</td>\n",
       "      <td>Jorge Almiron</td>\n",
       "      <td>1</td>\n",
       "      <td>2</td>\n",
       "    </tr>\n",
       "    <tr>\n",
       "      <th>CL4</th>\n",
       "      <td>Jornada 4 - Local vs Cerro Porteño</td>\n",
       "      <td>Local</td>\n",
       "      <td>Cerro Porteño</td>\n",
       "      <td>Copa Libertadores</td>\n",
       "      <td>1</td>\n",
       "      <td>1</td>\n",
       "      <td>Empate</td>\n",
       "      <td>Alejandro Restrepo</td>\n",
       "      <td>Manolo Jimenez</td>\n",
       "      <td>1</td>\n",
       "      <td>3</td>\n",
       "    </tr>\n",
       "    <tr>\n",
       "      <th>CL5</th>\n",
       "      <td>Jornada 5 - Local vs Colo Colo</td>\n",
       "      <td>Local</td>\n",
       "      <td>Colo Colo</td>\n",
       "      <td>Copa Libertadores</td>\n",
       "      <td>1</td>\n",
       "      <td>1</td>\n",
       "      <td>Empate</td>\n",
       "      <td>Alejandro Restrepo</td>\n",
       "      <td>Jorge Almiron</td>\n",
       "      <td>1</td>\n",
       "      <td>4</td>\n",
       "    </tr>\n",
       "    <tr>\n",
       "      <th>CL6</th>\n",
       "      <td>Jornada 6 - Visita vs Fluminense</td>\n",
       "      <td>Visita</td>\n",
       "      <td>Fluminense</td>\n",
       "      <td>Copa Libertadores</td>\n",
       "      <td>2</td>\n",
       "      <td>3</td>\n",
       "      <td>Derrota</td>\n",
       "      <td>Alejandro Restrepo</td>\n",
       "      <td>Fernando Diniz</td>\n",
       "      <td>0</td>\n",
       "      <td>4</td>\n",
       "    </tr>\n",
       "  </tbody>\n",
       "</table>\n",
       "</div>"
      ],
      "text/plain": [
       "                                                       nombre Condicion  \\\n",
       "id_jornada                                                                \n",
       "A01            Jornada 1 - Local vs Universidad Cesar Vallejo     Local   \n",
       "A02         Jornada 2 - Visita vs Alianza Atlético de Sullana    Visita   \n",
       "A03            Jornada 3 - Local vs Universitario de Deportes     Local   \n",
       "A04                      Jornada 4 - Visita vs Unión Comercio    Visita   \n",
       "A05                  Jornada 5 - Local vs Comerciantes Unidos     Local   \n",
       "A06                                 Jornada 6 - Visita vs ADT    Visita   \n",
       "A07                     Jornada 7 - Local vs Sporting Cristal     Local   \n",
       "A08                           Jornada 8 - Visita vs Cienciano    Visita   \n",
       "A09                          Jornada 9 - Local vs Los Chankas     Local   \n",
       "A10                     Jornada 10 - Visita vs Carlos Manucci    Visita   \n",
       "A11                       Jornada 11 - Local vs Atlético Grau     Local   \n",
       "A12                          Jornada 12 - Local vs Sport Boys     Local   \n",
       "A13                             Jornada 13 - Visita vs Melgar    Visita   \n",
       "A14                                 Jornada 14 - Local vs UTC     Local   \n",
       "A15                     Jornada 15 - Visita vs Sport Huancayo    Visita   \n",
       "A16                 Jornada 16 - Local vs Deportivo Garcilaso     Local   \n",
       "A17                              Jornada 17 - Visita vs Cusco    Visita   \n",
       "CL1                           Jornada 1 - Local vs Fluminense     Local   \n",
       "CL2                       Jornada 2 - Visita vs Cerro Porteño    Visita   \n",
       "CL3                           Jornada 3 - Visita vs Colo Colo    Visita   \n",
       "CL4                        Jornada 4 - Local vs Cerro Porteño     Local   \n",
       "CL5                            Jornada 5 - Local vs Colo Colo     Local   \n",
       "CL6                          Jornada 6 - Visita vs Fluminense    Visita   \n",
       "\n",
       "                             Equipo Oponente             Torneo  \\\n",
       "id_jornada                                                        \n",
       "A01                Universidad César Vallejo    Apertura Liga 1   \n",
       "A02              Alianza Atlético de Sullana    Apertura Liga 1   \n",
       "A03                            Universitario    Apertura Liga 1   \n",
       "A04                           Unión Comercio    Apertura Liga 1   \n",
       "A05                      Comerciantes Unidos    Apertura Liga 1   \n",
       "A06               Asociación Deportiva Tarma    Apertura Liga 1   \n",
       "A07                    Club Sporting Cristal    Apertura Liga 1   \n",
       "A08                                Cienciano    Apertura Liga 1   \n",
       "A09                          Los Chankas CYC    Apertura Liga 1   \n",
       "A10                       Carlos A. Mannucci    Apertura Liga 1   \n",
       "A11                       Club Atlético Grau    Apertura Liga 1   \n",
       "A12                               Sport Boys    Apertura Liga 1   \n",
       "A13                                   Melgar    Apertura Liga 1   \n",
       "A14         Universidad Técnica de Cajamarca    Apertura Liga 1   \n",
       "A15                           Sport Huancayo    Apertura Liga 1   \n",
       "A16                      Deportivo Garcilaso    Apertura Liga 1   \n",
       "A17                                 Cusco FC    Apertura Liga 1   \n",
       "CL1                               Fluminense  Copa Libertadores   \n",
       "CL2                            Cerro Porteño  Copa Libertadores   \n",
       "CL3                                Colo Colo  Copa Libertadores   \n",
       "CL4                            Cerro Porteño  Copa Libertadores   \n",
       "CL5                                Colo Colo  Copa Libertadores   \n",
       "CL6                               Fluminense  Copa Libertadores   \n",
       "\n",
       "            Goles Alianza Lima  Goles Oponente Resultado     DT Alianza Lima  \\\n",
       "id_jornada                                                                     \n",
       "A01                          2               1  Victoria  Alejandro Restrepo   \n",
       "A02                          2               0  Victoria  Alejandro Restrepo   \n",
       "A03                          0               1   Derrota  Alejandro Restrepo   \n",
       "A04                          3               1  Victoria  Alejandro Restrepo   \n",
       "A05                          5               1  Victoria  Alejandro Restrepo   \n",
       "A06                          0               2   Derrota  Alejandro Restrepo   \n",
       "A07                          1               2   Derrota  Alejandro Restrepo   \n",
       "A08                          1               2   Derrota  Alejandro Restrepo   \n",
       "A09                          3               0  Victoria  Alejandro Restrepo   \n",
       "A10                          4               0  Victoria  Alejandro Restrepo   \n",
       "A11                          2               0  Victoria  Alejandro Restrepo   \n",
       "A12                          3               0  Victoria  Alejandro Restrepo   \n",
       "A13                          0               1   Derrota  Alejandro Restrepo   \n",
       "A14                          1               0  Victoria  Alejandro Restrepo   \n",
       "A15                          2               0  Victoria  Alejandro Restrepo   \n",
       "A16                          3               2  Victoria  Alejandro Restrepo   \n",
       "A17                          0               3   Derrota  Alejandro Restrepo   \n",
       "CL1                          1               1    Empate  Alejandro Restrepo   \n",
       "CL2                          0               1   Derrota  Alejandro Restrepo   \n",
       "CL3                          0               0    Empate  Alejandro Restrepo   \n",
       "CL4                          1               1    Empate  Alejandro Restrepo   \n",
       "CL5                          1               1    Empate  Alejandro Restrepo   \n",
       "CL6                          2               3   Derrota  Alejandro Restrepo   \n",
       "\n",
       "                    DT Oponente  Puntos obtenidos  Puntos acumulados  \n",
       "id_jornada                                                            \n",
       "A01             Guillermo Salas                 3                  3  \n",
       "A02                Jorge Espejo                 3                  6  \n",
       "A03               Fabian Bustos                 0                  6  \n",
       "A04                 Andy Loayza                 3                  9  \n",
       "A05            Carlos Silvestri                 3                 12  \n",
       "A06                Carlos Desio                 0                 12  \n",
       "A07               No disponible                 0                 12  \n",
       "A08                Oscar Ibanez                 0                 12  \n",
       "A09                 Pablo Bossi                 3                 15  \n",
       "A10               Milton Mendes                 3                 18  \n",
       "A11         Angel David Comizzo                 3                 21  \n",
       "A12                  Juan Alayo                 3                 24  \n",
       "A13              Marco Valencia                 0                 24  \n",
       "A14          Carlos Ramacciotti                 3                 27  \n",
       "A15            Mifflin Bermudez                 3                 30  \n",
       "A16              Bernardo Redin                 3                 33  \n",
       "A17             Miguel Rondelli                 0                 33  \n",
       "CL1              Fernando Diniz                 1                  1  \n",
       "CL2              Manolo Jimenez                 0                  1  \n",
       "CL3               Jorge Almiron                 1                  2  \n",
       "CL4              Manolo Jimenez                 1                  3  \n",
       "CL5               Jorge Almiron                 1                  4  \n",
       "CL6              Fernando Diniz                 0                  4  "
      ]
     },
     "execution_count": 28,
     "metadata": {},
     "output_type": "execute_result"
    }
   ],
   "source": [
    "df_jornadas"
   ]
  },
  {
   "cell_type": "markdown",
   "metadata": {},
   "source": [
    "### Pasar a Excel"
   ]
  },
  {
   "cell_type": "code",
   "execution_count": 17,
   "metadata": {
    "vscode": {
     "languageId": "ruby"
    }
   },
   "outputs": [
    {
     "name": "stdout",
     "output_type": "stream",
     "text": [
      "Archivo Excel guardado exitosamente.\n"
     ]
    }
   ],
   "source": [
    "# Crear un archivo Excel con hojas para cada jornada\n",
    "with pd.ExcelWriter('Estadisticas_Partidos_AL_2024.xlsx') as writer:\n",
    "    for id_jornada, row in df_jornadas_estadisticas.iterrows():\n",
    "        # Crear un DataFrame temporal para cada hoja\n",
    "        df_temp = pd.DataFrame({\n",
    "            'Estadistica': list(row['estadisticas_Alianza'].keys()),\n",
    "            'Alianza': list(row['estadisticas_Alianza'].values()),\n",
    "            'Oponente': list(row['estadisticas_Oponente'].values())\n",
    "        })\n",
    "        \n",
    "        # Escribir el DataFrame temporal en una hoja del Excel\n",
    "        df_temp.to_excel(writer, sheet_name=id_jornada, index=False)\n",
    "\n",
    "print(\"Archivo Excel guardado exitosamente.\")"
   ]
  },
  {
   "cell_type": "code",
   "execution_count": 25,
   "metadata": {
    "vscode": {
     "languageId": "ruby"
    }
   },
   "outputs": [
    {
     "name": "stdout",
     "output_type": "stream",
     "text": [
      "DataFrame exportado exitosamente a Resumen_Partidos_AL_2024.xlsx\n"
     ]
    }
   ],
   "source": [
    "nombre_archivo = \"Resumen_Partidos_AL_2024.xlsx\"\n",
    "with pd.ExcelWriter(nombre_archivo, engine='openpyxl') as writer:\n",
    "    df_jornadas.to_excel(writer, sheet_name='Resumen_Partidos_AL_2024', index=False)\n",
    "\n",
    "print(f\"DataFrame exportado exitosamente a {nombre_archivo}\")"
   ]
  },
  {
   "cell_type": "markdown",
   "metadata": {},
   "source": [
    "# Estadisticas de liga 2024"
   ]
  },
  {
   "cell_type": "code",
   "execution_count": 6,
   "metadata": {
    "vscode": {
     "languageId": "ruby"
    }
   },
   "outputs": [
    {
     "name": "stdout",
     "output_type": "stream",
     "text": [
      "End of the pages\n",
      "End of the pages\n",
      "End of the pages\n",
      "End of the pages\n",
      "End of the pages\n",
      "End of the pages\n",
      "End of the pages\n",
      "End of the pages\n",
      "End of the pages\n",
      "End of the pages\n",
      "End of the pages\n",
      "End of the pages\n"
     ]
    }
   ],
   "source": [
    "df_liga1_2024_apertura_arqueros = sofascore.scrape_league_stats('Peru Liga 1', '2024', save_csv=False, accumulation='total', selected_positions = ['Goalkeepers'])\n",
    "df_liga1_2024_apertura_arqueros90 = sofascore.scrape_league_stats('Peru Liga 1', '2024', save_csv=False, accumulation='per90', selected_positions = ['Goalkeepers'])\n",
    "df_liga1_2024_apertura_arquerosxJornada = sofascore.scrape_league_stats('Peru Liga 1', '2024', save_csv=False, accumulation='perMatch', selected_positions = ['Goalkeepers'])\n",
    "df_liga1_2024_apertura_defensas = sofascore.scrape_league_stats('Peru Liga 1', '2024', save_csv=False, accumulation='total', selected_positions = ['Defenders'])\n",
    "df_liga1_2024_apertura_defensas90 = sofascore.scrape_league_stats('Peru Liga 1', '2024', save_csv=False, accumulation='per90', selected_positions = ['Defenders'])\n",
    "df_liga1_2024_apertura_defensasxJornada = sofascore.scrape_league_stats('Peru Liga 1', '2024', save_csv=False, accumulation='perMatch', selected_positions = ['Defenders'])\n",
    "df_liga1_2024_apertura_medios = sofascore.scrape_league_stats('Peru Liga 1', '2024', save_csv=False, accumulation='total', selected_positions = ['Midfielders'])\n",
    "df_liga1_2024_apertura_medios90 = sofascore.scrape_league_stats('Peru Liga 1', '2024', save_csv=False, accumulation='per90', selected_positions = ['Midfielders'])\n",
    "df_liga1_2024_apertura_mediosxJornada = sofascore.scrape_league_stats('Peru Liga 1', '2024', save_csv=False, accumulation='perMatch', selected_positions = ['Midfielders'])\n",
    "df_liga1_2024_apertura_delanteros = sofascore.scrape_league_stats('Peru Liga 1', '2024', save_csv=False, accumulation='total', selected_positions = ['Forwards'])\n",
    "df_liga1_2024_apertura_delanteros90 = sofascore.scrape_league_stats('Peru Liga 1', '2024', save_csv=False, accumulation='per90', selected_positions = ['Forwards'])\n",
    "df_liga1_2024_apertura_delanterosxJornada = sofascore.scrape_league_stats('Peru Liga 1', '2024', save_csv=False, accumulation='perMatch', selected_positions = ['Forwards'])"
   ]
  },
  {
   "cell_type": "code",
   "execution_count": 7,
   "metadata": {
    "vscode": {
     "languageId": "ruby"
    }
   },
   "outputs": [],
   "source": [
    "dataframes = [\n",
    "    (df_liga1_2024_apertura_arqueros, 'G', 'total'),\n",
    "    (df_liga1_2024_apertura_arqueros90, 'G', 'per90'),\n",
    "    (df_liga1_2024_apertura_arquerosxJornada, 'G', 'perMatch'),\n",
    "    (df_liga1_2024_apertura_defensas, 'D', 'total'),\n",
    "    (df_liga1_2024_apertura_defensas90, 'D', 'per90'),\n",
    "    (df_liga1_2024_apertura_defensasxJornada, 'D', 'perMatch'),\n",
    "    (df_liga1_2024_apertura_medios, 'M', 'total'),\n",
    "    (df_liga1_2024_apertura_medios90, 'M', 'per90'),\n",
    "    (df_liga1_2024_apertura_mediosxJornada, 'M', 'perMatch'),\n",
    "    (df_liga1_2024_apertura_delanteros, 'F', 'total'),\n",
    "    (df_liga1_2024_apertura_delanteros90, 'F', 'per90'),\n",
    "    (df_liga1_2024_apertura_delanterosxJornada, 'F', 'perMatch')\n",
    "]\n",
    "\n",
    "# Agrega las columnas 'Position' y 'Accumulation' a cada DataFrame\n",
    "for df, position, accumulation in dataframes:\n",
    "    df['Posicion'] = position\n",
    "    df['Acum. Dato'] = accumulation\n",
    "\n",
    "# Combina todos los DataFrames en uno solo\n",
    "df_liga1_2024_apertura = pd.concat([df for df, _, _ in dataframes], ignore_index=True)"
   ]
  },
  {
   "cell_type": "code",
   "execution_count": 10,
   "metadata": {
    "vscode": {
     "languageId": "ruby"
    }
   },
   "outputs": [],
   "source": [
    "#Divide df_liga1_2024_apertura por columna 'team' en 'df_alianza_lima_2024' y 'df_oponentes_2024'\n",
    "df_alianza_lima_2024 = df_liga1_2024_apertura[df_liga1_2024_apertura['team'] == 'Alianza Lima']\n",
    "df_oponentes_2024 = df_liga1_2024_apertura[df_liga1_2024_apertura['team'] != 'Alianza Lima']\n",
    "# Divide el df de alianza y oponentes en tres cada uno segun la columna Accumulation\n",
    "df_alianza_lima_2024_total = df_alianza_lima_2024[df_alianza_lima_2024['Acum. Dato'] == 'total']\n",
    "df_alianza_lima_2024_per90 = df_alianza_lima_2024[df_alianza_lima_2024['Acum. Dato'] == 'per90']\n",
    "df_alianza_lima_2024_perMatch = df_alianza_lima_2024[df_alianza_lima_2024['Acum. Dato'] == 'perMatch']\n",
    "df_oponentes_2024_total = df_oponentes_2024[df_oponentes_2024['Acum. Dato'] == 'total']\n",
    "df_oponentes_2024_per90 = df_oponentes_2024[df_oponentes_2024['Acum. Dato'] == 'per90']\n",
    "df_oponentes_2024_perMatch = df_oponentes_2024[df_oponentes_2024['Acum. Dato'] == 'perMatch']"
   ]
  },
  {
   "cell_type": "code",
   "execution_count": 15,
   "metadata": {
    "vscode": {
     "languageId": "ruby"
    }
   },
   "outputs": [],
   "source": [
    "archivo_alianza = 'Aplicacion Final//2024//Datos_totales_Alianza_Lima_2024.xlsx'\n",
    "archivo_total = 'Aplicacion Final//2024//Datos_totales_2024.xlsx'\n",
    "\n",
    "df_oponentes_incluyendo_alianza = pd.concat([df_alianza_lima_2024, df_oponentes_2024], ignore_index=True)\n",
    "\n",
    "# Dividir el DataFrame combinado por el tipo de acumulación\n",
    "df_oponentes_total_incluyendo_alianza = df_oponentes_incluyendo_alianza[df_oponentes_incluyendo_alianza['Acum. Dato'] == 'total']\n",
    "df_oponentes_per90_incluyendo_alianza = df_oponentes_incluyendo_alianza[df_oponentes_incluyendo_alianza['Acum. Dato'] == 'per90']\n",
    "df_oponentes_perMatch_incluyendo_alianza = df_oponentes_incluyendo_alianza[df_oponentes_incluyendo_alianza['Acum. Dato'] == 'perMatch']\n",
    "\n",
    "# Crear un objeto de ExcelWriter para cada archivo\n",
    "with pd.ExcelWriter(archivo_alianza) as writer_alianza, pd.ExcelWriter(archivo_total) as writer_total:\n",
    "    # Exportar los datos de Alianza Lima\n",
    "    df_alianza_lima_2024_total.to_excel(writer_alianza, sheet_name='total', index=False)\n",
    "    df_alianza_lima_2024_per90.to_excel(writer_alianza, sheet_name='per90', index=False)\n",
    "    df_alianza_lima_2024_perMatch.to_excel(writer_alianza, sheet_name='perMatch', index=False)\n",
    "    \n",
    "    # Exportar los datos de oponentes incluyendo Alianza Lima\n",
    "    df_oponentes_total_incluyendo_alianza.to_excel(writer_total, sheet_name='total', index=False)\n",
    "    df_oponentes_per90_incluyendo_alianza.to_excel(writer_total, sheet_name='per90', index=False)\n",
    "    df_oponentes_perMatch_incluyendo_alianza.to_excel(writer_total, sheet_name='perMatch', index=False)"
   ]
  },
  {
   "cell_type": "code",
   "execution_count": 63,
   "metadata": {
    "vscode": {
     "languageId": "ruby"
    }
   },
   "outputs": [
    {
     "data": {
      "application/vnd.plotly.v1+json": {
       "config": {
        "plotlyServerURL": "https://plot.ly"
       },
       "data": [
        {
         "customdata": [
          [
           "Juan Freytes",
           "Alianza Lima",
           17
          ],
          [
           "Ricardo Lagos",
           "Alianza Lima",
           7
          ],
          [
           "Sebastián Rodríguez",
           "Alianza Lima",
           16
          ],
          [
           "Gabriel Costa",
           "Alianza Lima",
           9
          ],
          [
           "Catriel Cabellos",
           "Alianza Lima",
           15
          ],
          [
           "Kevin Serna",
           "Alianza Lima",
           16
          ],
          [
           "Christian Neira",
           "Alianza Lima",
           7
          ],
          [
           "Adrián Arregui",
           "Alianza Lima",
           10
          ],
          [
           "Jhamir D'Arrigo",
           "Alianza Lima",
           14
          ]
         ],
         "hovertemplate": "color=blue<br>% de Centros precisos=%{x}<br>Centros precisos=%{y}<br>keyPasses=%{marker.size}<br>player=%{customdata[0]}<br>team=%{customdata[1]}<br>appearances=%{customdata[2]}<extra></extra>",
         "legendgroup": "blue",
         "marker": {
          "color": "#636efa",
          "colorscale": [
           [
            0,
            "red"
           ],
           [
            1,
            "darkblue"
           ]
          ],
          "size": [
           13,
           4,
           36,
           11,
           11,
           22,
           4,
           5,
           9
          ],
          "sizemode": "area",
          "sizeref": 0.125,
          "symbol": "circle"
         },
         "mode": "markers",
         "name": "blue",
         "orientation": "v",
         "showlegend": true,
         "type": "scatter",
         "x": [
          21.74,
          20.69,
          37.78,
          47.37,
          35.71,
          30.67,
          42.86,
          57.14,
          23.08
         ],
         "xaxis": "x",
         "y": [
          5,
          6,
          34,
          9,
          5,
          23,
          3,
          4,
          3
         ],
         "yaxis": "y"
        },
        {
         "customdata": [
          [
           "Orlando Nuñez",
           "Cienciano",
           7
          ],
          [
           "Adrian Gutierrez",
           "Universidad Técnica de Cajamarca",
           7
          ],
          [
           "Marcelo Benítez",
           "Cienciano",
           16
          ],
          [
           "Josué Estrada",
           "Cienciano",
           15
          ],
          [
           "Jeremy Martin Rostaing",
           "Club Atlético Grau",
           16
          ],
          [
           "Elsar Rodas",
           "Club Atlético Grau",
           16
          ],
          [
           "Anthony Gordillo",
           "Deportivo Garcilaso",
           10
          ],
          [
           "Hugo Ángeles",
           "Sport Huancayo",
           15
          ],
          [
           "Nicolás Pasquini",
           "Club Sporting Cristal",
           15
          ],
          [
           "Paolo Reyna",
           "Melgar",
           11
          ],
          [
           "Dylan Caro",
           "Comerciantes Unidos",
           17
          ],
          [
           "Johan Madrid",
           "Universidad César Vallejo",
           16
          ],
          [
           "Jhilmar Lora",
           "Club Sporting Cristal",
           14
          ],
          [
           "Renzo Salazar",
           "Sport Boys",
           15
          ],
          [
           "Segundo Portocarrero",
           "Universitario",
           16
          ],
          [
           "Alejandro Ramos",
           "Melgar",
           13
          ],
          [
           "Alexis Cossio",
           "Carlos A. Mannucci",
           12
          ],
          [
           "Alessandro Milesi",
           "Alianza Atlético de Sullana",
           11
          ],
          [
           "Cristian Carbajal",
           "Sport Boys",
           15
          ],
          [
           "Jesus Mendieta",
           "Alianza Atlético de Sullana",
           7
          ],
          [
           "Denilson Vargas",
           "Unión Comercio",
           16
          ],
          [
           "Pedro Paulo Requena",
           "Universidad Técnica de Cajamarca",
           16
          ],
          [
           "Axel Chávez",
           "Los Chankas CYC",
           16
          ],
          [
           "Edgar Lastre",
           "Comerciantes Unidos",
           13
          ],
          [
           "José Zevallos",
           "Cusco FC",
           17
          ],
          [
           "Ángel Pérez",
           "Sport Huancayo",
           13
          ],
          [
           "Joe Martínez",
           "Los Chankas CYC",
           4
          ],
          [
           "Erick Perleche",
           "Deportivo Garcilaso",
           10
          ],
          [
           "Aldair Perleche",
           "Alianza Atlético de Sullana",
           12
          ],
          [
           "Mathias Llontop",
           "Carlos A. Mannucci",
           14
          ],
          [
           "Alexi Edwin Gómez",
           "Deportivo Garcilaso",
           16
          ],
          [
           "Carlos Cabello",
           "Universidad César Vallejo",
           13
          ],
          [
           "Erick Canales",
           "Deportivo Garcilaso",
           13
          ],
          [
           "Jorge Toledo",
           "Comerciantes Unidos",
           16
          ],
          [
           "Juan Quiñones",
           "Universidad César Vallejo",
           8
          ],
          [
           "Lucas Diarte",
           "Melgar",
           4
          ],
          [
           "Emilio Saba",
           "Carlos A. Mannucci",
           11
          ],
          [
           "Christian Vasquez",
           "Alianza Atlético de Sullana",
           15
          ],
          [
           "Luis Trujillo",
           "Unión Comercio",
           14
          ],
          [
           "Jairo Vélez",
           "Universidad César Vallejo",
           15
          ],
          [
           "Iván Colman",
           "Cusco FC",
           17
          ],
          [
           "Yoshimar Yotún",
           "Club Sporting Cristal",
           8
          ],
          [
           "Víctor Cedrón",
           "Asociación Deportiva Tarma",
           17
          ],
          [
           "Carlos López Vanegas",
           "Los Chankas CYC",
           17
          ],
          [
           "Tomás Martínez",
           "Melgar",
           17
          ],
          [
           "Santiago González",
           "Club Sporting Cristal",
           17
          ],
          [
           "Andy Polo",
           "Universitario",
           17
          ],
          [
           "Cristian Bordacahar",
           "Melgar",
           16
          ],
          [
           "Joao Rojas",
           "Asociación Deportiva Tarma",
           15
          ],
          [
           "Cristian Techera",
           "Sport Boys",
           17
          ],
          [
           "Joel Sánchez",
           "Universidad Técnica de Cajamarca",
           16
          ],
          [
           "Marcos Lliuya",
           "Sport Huancayo",
           17
          ],
          [
           "Lucas Colitto",
           "Cusco FC",
           16
          ],
          [
           "Jairo Concha",
           "Universitario",
           15
          ],
          [
           "Piero Vivanco",
           "Club Atlético Grau",
           8
          ],
          [
           "Martín Távara",
           "Club Sporting Cristal",
           16
          ],
          [
           "Mauro Da Luz",
           "Club Atlético Grau",
           16
          ],
          [
           "Gaspar Gentile",
           "Deportivo Garcilaso",
           17
          ],
          [
           "Martín Pérez Guedes",
           "Universitario",
           16
          ],
          [
           "Matías Pérez García",
           "Sport Huancayo",
           16
          ],
          [
           "Kenji Cabrera",
           "Melgar",
           13
          ],
          [
           "Fernando Bersano",
           "Asociación Deportiva Tarma",
           13
          ],
          [
           "Ademar Robles",
           "Los Chankas CYC",
           14
          ],
          [
           "Yimy Gamero",
           "Asociación Deportiva Tarma",
           16
          ],
          [
           "Luis Chicaiza",
           "Deportivo Garcilaso",
           12
          ],
          [
           "Ray Gómez",
           "Sport Huancayo",
           15
          ],
          [
           "Mario Otazú",
           "Universidad Técnica de Cajamarca",
           5
          ],
          [
           "Jeremy Canela",
           "Alianza Atlético de Sullana",
           17
          ],
          [
           "Marco Aldair Rodríguez",
           "Cienciano",
           16
          ],
          [
           "Christofer Gonzáles",
           "Universitario",
           12
          ],
          [
           "Horacio Calcaterra",
           "Universitario",
           17
          ],
          [
           "Hernán Pérez",
           "Unión Comercio",
           15
          ],
          [
           "Alfredo Ramúa",
           "Cienciano",
           17
          ],
          [
           "Carlos Ross",
           "Sport Huancayo",
           17
          ],
          [
           "Nicolás Silva",
           "Cusco FC",
           15
          ],
          [
           "Mauricio Cuero",
           "Deportivo Garcilaso",
           6
          ],
          [
           "Miguel Carranza",
           "Unión Comercio",
           8
          ],
          [
           "Diego Soto",
           "Club Atlético Grau",
           17
          ],
          [
           "Nicolás Albarracín",
           "Carlos A. Mannucci",
           15
          ],
          [
           "Willyan Mimbela",
           "Carlos A. Mannucci",
           8
          ],
          [
           "Nelson Cabanillas",
           "Universitario",
           12
          ],
          [
           "Jimmy Pérez",
           "Universidad Técnica de Cajamarca",
           17
          ],
          [
           "Rafael Guarderas",
           "Club Atlético Grau",
           16
          ],
          [
           "Juan González Peña",
           "Asociación Deportiva Tarma",
           15
          ],
          [
           "Piero Magallanes",
           "Comerciantes Unidos",
           17
          ],
          [
           "Kevin Ruiz",
           "Universidad Técnica de Cajamarca",
           15
          ],
          [
           "Pierre Da Silva",
           "Universidad César Vallejo",
           11
          ],
          [
           "André Vasquez",
           "Cusco FC",
           16
          ],
          [
           "Brandon Palacios",
           "Sport Boys",
           14
          ],
          [
           "Donald Millán",
           "Unión Comercio",
           6
          ],
          [
           "Alexis Arias",
           "Melgar",
           11
          ],
          [
           "Jesús Barco",
           "Sport Boys",
           14
          ],
          [
           "Santiago Arias",
           "Alianza Atlético de Sullana",
           15
          ],
          [
           "Gerson Barreto",
           "Universidad César Vallejo",
           17
          ],
          [
           "Leandro Sosa",
           "Club Sporting Cristal",
           7
          ],
          [
           "Victor Perlaza",
           "Universidad Técnica de Cajamarca",
           17
          ],
          [
           "Jorge Bazan",
           "Deportivo Garcilaso",
           11
          ],
          [
           "Paolo Hurtado",
           "Carlos A. Mannucci",
           11
          ],
          [
           "Gino Guerrero",
           "Unión Comercio",
           7
          ],
          [
           "Juan Romagnoli",
           "Cienciano",
           14
          ],
          [
           "Abel Casquete",
           "Los Chankas CYC",
           16
          ],
          [
           "Gustavo Viera",
           "Carlos A. Mannucci",
           14
          ],
          [
           "Didier La Torre",
           "Cienciano",
           13
          ],
          [
           "José Cortés",
           "Carlos A. Mannucci",
           16
          ],
          [
           "Johnny Vidales",
           "Carlos A. Mannucci",
           17
          ],
          [
           "Óscar Pinto",
           "Comerciantes Unidos",
           16
          ],
          [
           "Paulo De La Cruz",
           "Club Atlético Grau",
           17
          ],
          [
           "Jorge Rios",
           "Sport Boys",
           11
          ],
          [
           "Rodrigo Castro",
           "Alianza Atlético de Sullana",
           13
          ],
          [
           "Cristian Benavente",
           "Universidad César Vallejo",
           5
          ],
          [
           "Duván Palacios",
           "Comerciantes Unidos",
           17
          ],
          [
           "Carlos Diez",
           "Deportivo Garcilaso",
           17
          ],
          [
           "Kevin Santamaría",
           "Comerciantes Unidos",
           13
          ],
          [
           "Luis Benites",
           "Sport Huancayo",
           12
          ],
          [
           "Javier Núñez",
           "Sport Huancayo",
           11
          ],
          [
           "Relly Fernández",
           "Cusco FC",
           14
          ],
          [
           "Bernardo Cuesta",
           "Melgar",
           16
          ],
          [
           "Edison Flores",
           "Universitario",
           17
          ],
          [
           "Luis Urruti",
           "Deportivo Garcilaso",
           8
          ],
          [
           "José Miguel Manzaneda",
           "Los Chankas CYC",
           16
          ],
          [
           "Juan Tévez",
           "Cusco FC",
           17
          ],
          [
           "Marlon de Jesús",
           "Unión Comercio",
           8
          ],
          [
           "Jarlin Quintero",
           "Universidad Técnica de Cajamarca",
           17
          ],
          [
           "Joao Grimaldo",
           "Club Sporting Cristal",
           15
          ],
          [
           "Angel Quiñonez",
           "Asociación Deportiva Tarma",
           15
          ],
          [
           "Erinson Ramirez",
           "Deportivo Garcilaso",
           6
          ],
          [
           "Héctor Zeta",
           "Unión Comercio",
           11
          ],
          [
           "Pablo Lavandeira",
           "Melgar",
           9
          ],
          [
           "Roberto Siucho",
           "Alianza Atlético de Sullana",
           10
          ],
          [
           "Gonzalo Gabriel Ritacco",
           "Cienciano",
           14
          ],
          [
           "Kenji Barrios",
           "Comerciantes Unidos",
           11
          ]
         ],
         "hovertemplate": "color=red<br>% de Centros precisos=%{x}<br>Centros precisos=%{y}<br>keyPasses=%{marker.size}<br>player=%{customdata[0]}<br>team=%{customdata[1]}<br>appearances=%{customdata[2]}<extra></extra>",
         "legendgroup": "red",
         "marker": {
          "color": "#EF553B",
          "colorscale": [
           [
            0,
            "red"
           ],
           [
            1,
            "darkblue"
           ]
          ],
          "size": [
           6,
           6,
           15,
           18,
           11,
           26,
           7,
           11,
           15,
           7,
           7,
           14,
           12,
           11,
           15,
           16,
           9,
           6,
           6,
           7,
           10,
           8,
           7,
           9,
           4,
           6,
           3,
           10,
           6,
           6,
           17,
           6,
           7,
           8,
           3,
           5,
           6,
           7,
           9,
           39,
           39,
           20,
           34,
           50,
           40,
           34,
           34,
           27,
           26,
           28,
           47,
           35,
           38,
           22,
           13,
           18,
           16,
           24,
           13,
           12,
           12,
           18,
           18,
           25,
           30,
           15,
           5,
           13,
           18,
           7,
           21,
           22,
           36,
           23,
           12,
           5,
           13,
           16,
           24,
           6,
           10,
           11,
           10,
           7,
           17,
           11,
           9,
           13,
           11,
           6,
           9,
           10,
           14,
           7,
           2,
           8,
           9,
           8,
           2,
           5,
           5,
           8,
           6,
           13,
           16,
           12,
           10,
           4,
           12,
           5,
           22,
           7,
           9,
           8,
           6,
           3,
           18,
           21,
           17,
           14,
           12,
           9,
           14,
           21,
           16,
           9,
           6,
           8,
           5,
           7,
           5
          ],
          "sizemode": "area",
          "sizeref": 0.125,
          "symbol": "circle"
         },
         "mode": "markers",
         "name": "red",
         "orientation": "v",
         "showlegend": true,
         "type": "scatter",
         "x": [
          30,
          18.75,
          28.57,
          28.95,
          17.24,
          33.33,
          27.78,
          22,
          55.56,
          21.74,
          31.25,
          16.67,
          10.91,
          27.78,
          19.67,
          32.26,
          20.45,
          31.58,
          31.03,
          38.46,
          46.15,
          18.75,
          20.51,
          17.39,
          23.08,
          21.74,
          33.33,
          40,
          24,
          11.11,
          10.39,
          25,
          15.38,
          31.82,
          30,
          33.33,
          15.15,
          19.05,
          24,
          22.55,
          38.33,
          28.57,
          21.21,
          27.81,
          31.08,
          27.27,
          26.87,
          20.37,
          30.3,
          26.26,
          39.05,
          25,
          25,
          33.33,
          30.77,
          34.38,
          31.25,
          20.51,
          31.82,
          18.52,
          21.43,
          18.18,
          45.16,
          20.69,
          44.44,
          23.33,
          30.77,
          25,
          22.22,
          23.53,
          40.74,
          27.94,
          34.15,
          24.56,
          16.67,
          20,
          33.33,
          43.24,
          26.53,
          42.86,
          37.5,
          28.13,
          21.05,
          31.82,
          18.75,
          31.58,
          20,
          29.17,
          27.78,
          46.67,
          41.67,
          37.5,
          25,
          29.41,
          50,
          15.79,
          23.81,
          26.32,
          30,
          10,
          13.64,
          50,
          30,
          35,
          14.29,
          17.65,
          22.73,
          60,
          30.3,
          50,
          30,
          57.14,
          24,
          37.5,
          26.67,
          25,
          30,
          27.78,
          36.36,
          22.86,
          57.14,
          33.33,
          25,
          22.5,
          32.26,
          30.43,
          36.36,
          28.57,
          21.43,
          16.67,
          15
         ],
         "xaxis": "x",
         "y": [
          3,
          3,
          16,
          11,
          5,
          27,
          5,
          11,
          10,
          5,
          5,
          7,
          6,
          10,
          12,
          10,
          9,
          6,
          9,
          5,
          6,
          6,
          8,
          4,
          3,
          5,
          3,
          6,
          6,
          3,
          8,
          7,
          4,
          7,
          3,
          3,
          5,
          4,
          6,
          23,
          23,
          10,
          21,
          47,
          23,
          30,
          18,
          11,
          10,
          26,
          41,
          8,
          20,
          11,
          8,
          11,
          10,
          8,
          7,
          5,
          3,
          6,
          14,
          6,
          12,
          7,
          4,
          10,
          10,
          4,
          11,
          19,
          28,
          14,
          6,
          3,
          6,
          16,
          13,
          6,
          12,
          9,
          8,
          7,
          6,
          6,
          5,
          7,
          5,
          7,
          5,
          12,
          7,
          5,
          3,
          3,
          5,
          5,
          3,
          5,
          3,
          3,
          3,
          7,
          4,
          6,
          5,
          3,
          10,
          5,
          15,
          4,
          6,
          3,
          4,
          3,
          6,
          5,
          4,
          8,
          4,
          3,
          3,
          9,
          10,
          7,
          4,
          4,
          3,
          3,
          3
         ],
         "yaxis": "y"
        }
       ],
       "layout": {
        "legend": {
         "itemsizing": "constant",
         "title": {
          "text": "Equipo"
         },
         "tracegroupgap": 0
        },
        "template": {
         "data": {
          "bar": [
           {
            "error_x": {
             "color": "#2a3f5f"
            },
            "error_y": {
             "color": "#2a3f5f"
            },
            "marker": {
             "line": {
              "color": "#E5ECF6",
              "width": 0.5
             },
             "pattern": {
              "fillmode": "overlay",
              "size": 10,
              "solidity": 0.2
             }
            },
            "type": "bar"
           }
          ],
          "barpolar": [
           {
            "marker": {
             "line": {
              "color": "#E5ECF6",
              "width": 0.5
             },
             "pattern": {
              "fillmode": "overlay",
              "size": 10,
              "solidity": 0.2
             }
            },
            "type": "barpolar"
           }
          ],
          "carpet": [
           {
            "aaxis": {
             "endlinecolor": "#2a3f5f",
             "gridcolor": "white",
             "linecolor": "white",
             "minorgridcolor": "white",
             "startlinecolor": "#2a3f5f"
            },
            "baxis": {
             "endlinecolor": "#2a3f5f",
             "gridcolor": "white",
             "linecolor": "white",
             "minorgridcolor": "white",
             "startlinecolor": "#2a3f5f"
            },
            "type": "carpet"
           }
          ],
          "choropleth": [
           {
            "colorbar": {
             "outlinewidth": 0,
             "ticks": ""
            },
            "type": "choropleth"
           }
          ],
          "contour": [
           {
            "colorbar": {
             "outlinewidth": 0,
             "ticks": ""
            },
            "colorscale": [
             [
              0,
              "#0d0887"
             ],
             [
              0.1111111111111111,
              "#46039f"
             ],
             [
              0.2222222222222222,
              "#7201a8"
             ],
             [
              0.3333333333333333,
              "#9c179e"
             ],
             [
              0.4444444444444444,
              "#bd3786"
             ],
             [
              0.5555555555555556,
              "#d8576b"
             ],
             [
              0.6666666666666666,
              "#ed7953"
             ],
             [
              0.7777777777777778,
              "#fb9f3a"
             ],
             [
              0.8888888888888888,
              "#fdca26"
             ],
             [
              1,
              "#f0f921"
             ]
            ],
            "type": "contour"
           }
          ],
          "contourcarpet": [
           {
            "colorbar": {
             "outlinewidth": 0,
             "ticks": ""
            },
            "type": "contourcarpet"
           }
          ],
          "heatmap": [
           {
            "colorbar": {
             "outlinewidth": 0,
             "ticks": ""
            },
            "colorscale": [
             [
              0,
              "#0d0887"
             ],
             [
              0.1111111111111111,
              "#46039f"
             ],
             [
              0.2222222222222222,
              "#7201a8"
             ],
             [
              0.3333333333333333,
              "#9c179e"
             ],
             [
              0.4444444444444444,
              "#bd3786"
             ],
             [
              0.5555555555555556,
              "#d8576b"
             ],
             [
              0.6666666666666666,
              "#ed7953"
             ],
             [
              0.7777777777777778,
              "#fb9f3a"
             ],
             [
              0.8888888888888888,
              "#fdca26"
             ],
             [
              1,
              "#f0f921"
             ]
            ],
            "type": "heatmap"
           }
          ],
          "heatmapgl": [
           {
            "colorbar": {
             "outlinewidth": 0,
             "ticks": ""
            },
            "colorscale": [
             [
              0,
              "#0d0887"
             ],
             [
              0.1111111111111111,
              "#46039f"
             ],
             [
              0.2222222222222222,
              "#7201a8"
             ],
             [
              0.3333333333333333,
              "#9c179e"
             ],
             [
              0.4444444444444444,
              "#bd3786"
             ],
             [
              0.5555555555555556,
              "#d8576b"
             ],
             [
              0.6666666666666666,
              "#ed7953"
             ],
             [
              0.7777777777777778,
              "#fb9f3a"
             ],
             [
              0.8888888888888888,
              "#fdca26"
             ],
             [
              1,
              "#f0f921"
             ]
            ],
            "type": "heatmapgl"
           }
          ],
          "histogram": [
           {
            "marker": {
             "pattern": {
              "fillmode": "overlay",
              "size": 10,
              "solidity": 0.2
             }
            },
            "type": "histogram"
           }
          ],
          "histogram2d": [
           {
            "colorbar": {
             "outlinewidth": 0,
             "ticks": ""
            },
            "colorscale": [
             [
              0,
              "#0d0887"
             ],
             [
              0.1111111111111111,
              "#46039f"
             ],
             [
              0.2222222222222222,
              "#7201a8"
             ],
             [
              0.3333333333333333,
              "#9c179e"
             ],
             [
              0.4444444444444444,
              "#bd3786"
             ],
             [
              0.5555555555555556,
              "#d8576b"
             ],
             [
              0.6666666666666666,
              "#ed7953"
             ],
             [
              0.7777777777777778,
              "#fb9f3a"
             ],
             [
              0.8888888888888888,
              "#fdca26"
             ],
             [
              1,
              "#f0f921"
             ]
            ],
            "type": "histogram2d"
           }
          ],
          "histogram2dcontour": [
           {
            "colorbar": {
             "outlinewidth": 0,
             "ticks": ""
            },
            "colorscale": [
             [
              0,
              "#0d0887"
             ],
             [
              0.1111111111111111,
              "#46039f"
             ],
             [
              0.2222222222222222,
              "#7201a8"
             ],
             [
              0.3333333333333333,
              "#9c179e"
             ],
             [
              0.4444444444444444,
              "#bd3786"
             ],
             [
              0.5555555555555556,
              "#d8576b"
             ],
             [
              0.6666666666666666,
              "#ed7953"
             ],
             [
              0.7777777777777778,
              "#fb9f3a"
             ],
             [
              0.8888888888888888,
              "#fdca26"
             ],
             [
              1,
              "#f0f921"
             ]
            ],
            "type": "histogram2dcontour"
           }
          ],
          "mesh3d": [
           {
            "colorbar": {
             "outlinewidth": 0,
             "ticks": ""
            },
            "type": "mesh3d"
           }
          ],
          "parcoords": [
           {
            "line": {
             "colorbar": {
              "outlinewidth": 0,
              "ticks": ""
             }
            },
            "type": "parcoords"
           }
          ],
          "pie": [
           {
            "automargin": true,
            "type": "pie"
           }
          ],
          "scatter": [
           {
            "fillpattern": {
             "fillmode": "overlay",
             "size": 10,
             "solidity": 0.2
            },
            "type": "scatter"
           }
          ],
          "scatter3d": [
           {
            "line": {
             "colorbar": {
              "outlinewidth": 0,
              "ticks": ""
             }
            },
            "marker": {
             "colorbar": {
              "outlinewidth": 0,
              "ticks": ""
             }
            },
            "type": "scatter3d"
           }
          ],
          "scattercarpet": [
           {
            "marker": {
             "colorbar": {
              "outlinewidth": 0,
              "ticks": ""
             }
            },
            "type": "scattercarpet"
           }
          ],
          "scattergeo": [
           {
            "marker": {
             "colorbar": {
              "outlinewidth": 0,
              "ticks": ""
             }
            },
            "type": "scattergeo"
           }
          ],
          "scattergl": [
           {
            "marker": {
             "colorbar": {
              "outlinewidth": 0,
              "ticks": ""
             }
            },
            "type": "scattergl"
           }
          ],
          "scattermapbox": [
           {
            "marker": {
             "colorbar": {
              "outlinewidth": 0,
              "ticks": ""
             }
            },
            "type": "scattermapbox"
           }
          ],
          "scatterpolar": [
           {
            "marker": {
             "colorbar": {
              "outlinewidth": 0,
              "ticks": ""
             }
            },
            "type": "scatterpolar"
           }
          ],
          "scatterpolargl": [
           {
            "marker": {
             "colorbar": {
              "outlinewidth": 0,
              "ticks": ""
             }
            },
            "type": "scatterpolargl"
           }
          ],
          "scatterternary": [
           {
            "marker": {
             "colorbar": {
              "outlinewidth": 0,
              "ticks": ""
             }
            },
            "type": "scatterternary"
           }
          ],
          "surface": [
           {
            "colorbar": {
             "outlinewidth": 0,
             "ticks": ""
            },
            "colorscale": [
             [
              0,
              "#0d0887"
             ],
             [
              0.1111111111111111,
              "#46039f"
             ],
             [
              0.2222222222222222,
              "#7201a8"
             ],
             [
              0.3333333333333333,
              "#9c179e"
             ],
             [
              0.4444444444444444,
              "#bd3786"
             ],
             [
              0.5555555555555556,
              "#d8576b"
             ],
             [
              0.6666666666666666,
              "#ed7953"
             ],
             [
              0.7777777777777778,
              "#fb9f3a"
             ],
             [
              0.8888888888888888,
              "#fdca26"
             ],
             [
              1,
              "#f0f921"
             ]
            ],
            "type": "surface"
           }
          ],
          "table": [
           {
            "cells": {
             "fill": {
              "color": "#EBF0F8"
             },
             "line": {
              "color": "white"
             }
            },
            "header": {
             "fill": {
              "color": "#C8D4E3"
             },
             "line": {
              "color": "white"
             }
            },
            "type": "table"
           }
          ]
         },
         "layout": {
          "annotationdefaults": {
           "arrowcolor": "#2a3f5f",
           "arrowhead": 0,
           "arrowwidth": 1
          },
          "autotypenumbers": "strict",
          "coloraxis": {
           "colorbar": {
            "outlinewidth": 0,
            "ticks": ""
           }
          },
          "colorscale": {
           "diverging": [
            [
             0,
             "#8e0152"
            ],
            [
             0.1,
             "#c51b7d"
            ],
            [
             0.2,
             "#de77ae"
            ],
            [
             0.3,
             "#f1b6da"
            ],
            [
             0.4,
             "#fde0ef"
            ],
            [
             0.5,
             "#f7f7f7"
            ],
            [
             0.6,
             "#e6f5d0"
            ],
            [
             0.7,
             "#b8e186"
            ],
            [
             0.8,
             "#7fbc41"
            ],
            [
             0.9,
             "#4d9221"
            ],
            [
             1,
             "#276419"
            ]
           ],
           "sequential": [
            [
             0,
             "#0d0887"
            ],
            [
             0.1111111111111111,
             "#46039f"
            ],
            [
             0.2222222222222222,
             "#7201a8"
            ],
            [
             0.3333333333333333,
             "#9c179e"
            ],
            [
             0.4444444444444444,
             "#bd3786"
            ],
            [
             0.5555555555555556,
             "#d8576b"
            ],
            [
             0.6666666666666666,
             "#ed7953"
            ],
            [
             0.7777777777777778,
             "#fb9f3a"
            ],
            [
             0.8888888888888888,
             "#fdca26"
            ],
            [
             1,
             "#f0f921"
            ]
           ],
           "sequentialminus": [
            [
             0,
             "#0d0887"
            ],
            [
             0.1111111111111111,
             "#46039f"
            ],
            [
             0.2222222222222222,
             "#7201a8"
            ],
            [
             0.3333333333333333,
             "#9c179e"
            ],
            [
             0.4444444444444444,
             "#bd3786"
            ],
            [
             0.5555555555555556,
             "#d8576b"
            ],
            [
             0.6666666666666666,
             "#ed7953"
            ],
            [
             0.7777777777777778,
             "#fb9f3a"
            ],
            [
             0.8888888888888888,
             "#fdca26"
            ],
            [
             1,
             "#f0f921"
            ]
           ]
          },
          "colorway": [
           "#636efa",
           "#EF553B",
           "#00cc96",
           "#ab63fa",
           "#FFA15A",
           "#19d3f3",
           "#FF6692",
           "#B6E880",
           "#FF97FF",
           "#FECB52"
          ],
          "font": {
           "color": "#2a3f5f"
          },
          "geo": {
           "bgcolor": "white",
           "lakecolor": "white",
           "landcolor": "#E5ECF6",
           "showlakes": true,
           "showland": true,
           "subunitcolor": "white"
          },
          "hoverlabel": {
           "align": "left"
          },
          "hovermode": "closest",
          "mapbox": {
           "style": "light"
          },
          "paper_bgcolor": "white",
          "plot_bgcolor": "#E5ECF6",
          "polar": {
           "angularaxis": {
            "gridcolor": "white",
            "linecolor": "white",
            "ticks": ""
           },
           "bgcolor": "#E5ECF6",
           "radialaxis": {
            "gridcolor": "white",
            "linecolor": "white",
            "ticks": ""
           }
          },
          "scene": {
           "xaxis": {
            "backgroundcolor": "#E5ECF6",
            "gridcolor": "white",
            "gridwidth": 2,
            "linecolor": "white",
            "showbackground": true,
            "ticks": "",
            "zerolinecolor": "white"
           },
           "yaxis": {
            "backgroundcolor": "#E5ECF6",
            "gridcolor": "white",
            "gridwidth": 2,
            "linecolor": "white",
            "showbackground": true,
            "ticks": "",
            "zerolinecolor": "white"
           },
           "zaxis": {
            "backgroundcolor": "#E5ECF6",
            "gridcolor": "white",
            "gridwidth": 2,
            "linecolor": "white",
            "showbackground": true,
            "ticks": "",
            "zerolinecolor": "white"
           }
          },
          "shapedefaults": {
           "line": {
            "color": "#2a3f5f"
           }
          },
          "ternary": {
           "aaxis": {
            "gridcolor": "white",
            "linecolor": "white",
            "ticks": ""
           },
           "baxis": {
            "gridcolor": "white",
            "linecolor": "white",
            "ticks": ""
           },
           "bgcolor": "#E5ECF6",
           "caxis": {
            "gridcolor": "white",
            "linecolor": "white",
            "ticks": ""
           }
          },
          "title": {
           "x": 0.05
          },
          "xaxis": {
           "automargin": true,
           "gridcolor": "white",
           "linecolor": "white",
           "ticks": "",
           "title": {
            "standoff": 15
           },
           "zerolinecolor": "white",
           "zerolinewidth": 2
          },
          "yaxis": {
           "automargin": true,
           "gridcolor": "white",
           "linecolor": "white",
           "ticks": "",
           "title": {
            "standoff": 15
           },
           "zerolinecolor": "white",
           "zerolinewidth": 2
          }
         }
        },
        "title": {
         "text": "Dispersión de Centros precisos - Liga 1 2024"
        },
        "xaxis": {
         "anchor": "y",
         "domain": [
          0,
          1
         ],
         "title": {
          "text": "% de Centros precisos"
         }
        },
        "yaxis": {
         "anchor": "x",
         "domain": [
          0,
          1
         ],
         "title": {
          "text": "Centros precisos"
         }
        }
       }
      }
     },
     "metadata": {},
     "output_type": "display_data"
    }
   ],
   "source": [
    "import plotly.express as px\n",
    "\n",
    "# df_combined no tiene los datos de los jugadores con menos de 45 minutesPlayed\n",
    "df_combined = df_oponentes_total_incluyendo_alianza[df_oponentes_total_incluyendo_alianza['minutesPlayed'] >= 45]\n",
    "\n",
    "df_combined = df_combined[(df_combined['Posicion'] == 'D') | (df_combined['Posicion'] == 'M') | (df_combined['Posicion'] == 'F')]\n",
    "df_combined = df_combined[(df_combined['accurateCrossesPercentage'] < 90) & (df_combined['accurateCrosses'] >= 3)]\n",
    "\n",
    "# Crear una columna para el color según el equipo\n",
    "df_combined['color'] = df_combined['team'].apply(lambda x: 'blue' if x == 'Alianza Lima' else 'red')\n",
    "\n",
    "# Crear el gráfico de dispersión\n",
    "fig = px.scatter(df_combined, x='accurateCrossesPercentage', y='accurateCrosses', color='color',\n",
    "                 size='keyPasses', hover_data=['player', 'team', 'appearances'],\n",
    "                 title='Dispersión de Centros precisos - Liga 1 2024',\n",
    "                 labels={'accurateCrossesPercentage': '% de Centros precisos', 'accurateCrosses': 'Centros precisos'})\n",
    "\n",
    "# Actualizar el esquema de colores para que solo muestre azul y rojo\n",
    "fig.update_traces(marker=dict(colorscale=[[0, 'red'], [1, 'darkblue']]))\n",
    "\n",
    "# Personalizar los ejes y el diseño\n",
    "fig.update_layout(yaxis_title='Centros precisos', xaxis_title='% de Centros precisos',\n",
    "                  legend_title_text='Equipo')\n",
    "\n",
    "# Mostrar el gráfico\n",
    "fig.show()\n"
   ]
  },
  {
   "cell_type": "code",
   "execution_count": 86,
   "metadata": {
    "vscode": {
     "languageId": "ruby"
    }
   },
   "outputs": [
    {
     "data": {
      "application/vnd.plotly.v1+json": {
       "config": {
        "plotlyServerURL": "https://plot.ly"
       },
       "data": [
        {
         "customdata": [
          [
           "Juan Freytes",
           "Alianza Lima",
           37.06
          ],
          [
           "Carlos Zambrano",
           "Alianza Lima",
           40.4
          ],
          [
           "Jiovany Ramos",
           "Alianza Lima",
           34.59
          ],
          [
           "Renzo Garces",
           "Alianza Lima",
           32.48
          ],
          [
           "Marco Huaman",
           "Alianza Lima",
           17.81
          ],
          [
           "Yordi Vílchez",
           "Alianza Lima",
           48
          ],
          [
           "Sebastian Aranda",
           "Alianza Lima",
           45
          ],
          [
           "Ricardo Lagos",
           "Alianza Lima",
           15.28
          ],
          [
           "Sebastián Rodríguez",
           "Alianza Lima",
           44.74
          ],
          [
           "Gabriel Costa",
           "Alianza Lima",
           40.49
          ],
          [
           "Catriel Cabellos",
           "Alianza Lima",
           25.16
          ],
          [
           "Kevin Serna",
           "Alianza Lima",
           15.32
          ],
          [
           "Christian Neira",
           "Alianza Lima",
           40.37
          ],
          [
           "Aldair Fuentes",
           "Alianza Lima",
           40.02
          ],
          [
           "Adrián Arregui",
           "Alianza Lima",
           34.88
          ],
          [
           "Jhamir D'Arrigo",
           "Alianza Lima",
           22.35
          ],
          [
           "Jesús Castillo",
           "Alianza Lima",
           20.24
          ],
          [
           "Franco Zanelatto",
           "Alianza Lima",
           17.88
          ],
          [
           "Axel Moyano",
           "Alianza Lima",
           32.67
          ],
          [
           "Hernán Barcos",
           "Alianza Lima",
           16.01
          ],
          [
           "Cecilio Waterman",
           "Alianza Lima",
           9.96
          ],
          [
           "Víctor Guzmán",
           "Alianza Lima",
           17.65
          ],
          [
           "Jeriel De Santis",
           "Alianza Lima",
           14.15
          ]
         ],
         "hovertemplate": "color=blue<br>Pases Precisos en el Último Tercio=%{x}<br>accuratePassesPercentage=%{y}<br>Pases Precisos=%{customdata[2]}<br>player=%{customdata[0]}<br>team=%{customdata[1]}<extra></extra>",
         "legendgroup": "blue",
         "marker": {
          "color": "#636efa",
          "colorscale": [
           [
            0,
            "red"
           ],
           [
            1,
            "blue"
           ]
          ],
          "size": [
           37.06,
           40.4,
           34.59,
           32.48,
           17.81,
           48,
           45,
           15.28,
           44.74,
           40.49,
           25.16,
           15.32,
           40.37,
           40.02,
           34.88,
           22.35,
           20.24,
           17.88,
           32.67,
           16.01,
           9.96,
           17.65,
           14.15
          ],
          "sizemode": "area",
          "sizeref": 0.1875,
          "symbol": "circle"
         },
         "mode": "markers",
         "name": "blue",
         "orientation": "v",
         "showlegend": true,
         "type": "scatter",
         "x": [
          6.67,
          4.52,
          5.25,
          3.23,
          3.56,
          6,
          0,
          4.13,
          12.37,
          15.04,
          8.61,
          7.78,
          12.62,
          0.74,
          6.34,
          9.11,
          5.21,
          6.06,
          7.33,
          6.7,
          4.24,
          8.82,
          5.81
         ],
         "xaxis": "x",
         "y": [
          73.61,
          85.48,
          79.75,
          84.45,
          78.95,
          82.76,
          66.67,
          67.27,
          83.99,
          84.95,
          78.55,
          72.55,
          84.58,
          86.11,
          79.95,
          77.97,
          72.53,
          80.27,
          92.45,
          69.33,
          73.25,
          76.92,
          67.24
         ],
         "yaxis": "y"
        },
        {
         "customdata": [
          [
           "Piero Guzman",
           "Universitario",
           34
          ],
          [
           "Ignácio",
           "Club Sporting Cristal",
           26
          ],
          [
           "Otávio Gut",
           "Sport Huancayo",
           35.45
          ],
          [
           "Jean Pierre Archimbaud",
           "Melgar",
           24.9
          ],
          [
           "Pedro Garcia",
           "Los Chankas CYC",
           28.13
          ],
          [
           "Williams Riveros",
           "Universitario",
           30.65
          ],
          [
           "Jonathan Bilbao",
           "Cusco FC",
           45.66
          ],
          [
           "Aldo Corzo",
           "Universitario",
           29.51
          ],
          [
           "Orlando Nuñez",
           "Cienciano",
           21.84
          ],
          [
           "Carlos Beltran",
           "Deportivo Garcilaso",
           17.7
          ],
          [
           "Paolo Fuentes",
           "Cienciano",
           35.42
          ],
          [
           "Adrian Gutierrez",
           "Universidad Técnica de Cajamarca",
           16.71
          ],
          [
           "Marcelo Benítez",
           "Cienciano",
           27.66
          ],
          [
           "Josué Estrada",
           "Cienciano",
           25.47
          ],
          [
           "Jeremy Martin Rostaing",
           "Club Atlético Grau",
           32.73
          ],
          [
           "Elsar Rodas",
           "Club Atlético Grau",
           21.72
          ],
          [
           "Rodrigo Tapia",
           "Club Atlético Grau",
           41.31
          ],
          [
           "Anthony Gordillo",
           "Deportivo Garcilaso",
           19.69
          ],
          [
           "Koichi Aparicio",
           "Universidad Técnica de Cajamarca",
           21.27
          ],
          [
           "Guti",
           "Sport Huancayo",
           34
          ],
          [
           "Geisson Perea",
           "Universidad César Vallejo",
           36.57
          ],
          [
           "Daniel Franco",
           "Club Atlético Grau",
           45.12
          ],
          [
           "John Narváez",
           "Asociación Deportiva Tarma",
           33.14
          ],
          [
           "Horacio Benincasa",
           "Alianza Atlético de Sullana",
           21.66
          ],
          [
           "Hugo Ángeles",
           "Sport Huancayo",
           31.17
          ],
          [
           "Teodoro Paredes",
           "Unión Comercio",
           24.06
          ],
          [
           "Marco Saravia",
           "Universitario",
           49.35
          ],
          [
           "Nicolás Pasquini",
           "Club Sporting Cristal",
           25.93
          ],
          [
           "Germán Mera",
           "Cienciano",
           32.67
          ],
          [
           "Matías Di Benedetto",
           "Universitario",
           29.67
          ],
          [
           "Nelinho Quina",
           "Carlos A. Mannucci",
           23
          ],
          [
           "Alec Deneumostier",
           "Universidad César Vallejo",
           39.17
          ],
          [
           "Paolo Reyna",
           "Melgar",
           26.14
          ],
          [
           "Sebastian Cavero",
           "Melgar",
           25.29
          ],
          [
           "José Villegas",
           "Alianza Atlético de Sullana",
           20.76
          ],
          [
           "Dylan Caro",
           "Comerciantes Unidos",
           20.29
          ],
          [
           "Alex Rambal",
           "Asociación Deportiva Tarma",
           35.23
          ],
          [
           "Gianfranco Chávez",
           "Club Sporting Cristal",
           28.74
          ],
          [
           "Johan Madrid",
           "Universidad César Vallejo",
           32.04
          ],
          [
           "Erick Noriega",
           "Comerciantes Unidos",
           31.91
          ],
          [
           "Leonel Galeano",
           "Melgar",
           35.15
          ],
          [
           "Maximiliano Amondarain",
           "Sport Boys",
           25.05
          ],
          [
           "Carlos Gamarra",
           "Los Chankas CYC",
           20.36
          ],
          [
           "Facundo Mansilla",
           "Sport Boys",
           27.66
          ],
          [
           "Ayrthon Quintana",
           "Sport Boys",
           18.26
          ],
          [
           "Alan Perez",
           "Cusco FC",
           41.38
          ],
          [
           "Jhilmar Lora",
           "Club Sporting Cristal",
           21.95
          ],
          [
           "Leonel González",
           "Melgar",
           32.02
          ],
          [
           "Cristian González",
           "Comerciantes Unidos",
           27.92
          ],
          [
           "Matias Almiron",
           "Comerciantes Unidos",
           25.53
          ],
          [
           "Rafael Lutiger",
           "Sport Boys",
           26.04
          ],
          [
           "Eric Tovo",
           "Alianza Atlético de Sullana",
           25.85
          ],
          [
           "Gu Choi",
           "Asociación Deportiva Tarma",
           33.75
          ],
          [
           "Jimmy Valoyes",
           "Universidad Técnica de Cajamarca",
           20.72
          ],
          [
           "Marlon Ruidías",
           "Los Chankas CYC",
           28.32
          ],
          [
           "Renzo Salazar",
           "Sport Boys",
           12.7
          ],
          [
           "Segundo Portocarrero",
           "Universitario",
           17.35
          ],
          [
           "Ruben Ramirez",
           "Cusco FC",
           32.13
          ],
          [
           "Leonardo Díaz",
           "Club Sporting Cristal",
           26.98
          ],
          [
           "Carlos Ascues",
           "Universidad César Vallejo",
           39.42
          ],
          [
           "Alvaro Ampuero",
           "Club Atlético Grau",
           32.96
          ],
          [
           "Alejandro Ramos",
           "Melgar",
           35.94
          ],
          [
           "Alexis Cossio",
           "Carlos A. Mannucci",
           20.35
          ],
          [
           "Alessandro Milesi",
           "Alianza Atlético de Sullana",
           16.88
          ],
          [
           "Ederson Mogollón",
           "Los Chankas CYC",
           19.76
          ],
          [
           "Jefferson Portales",
           "Cienciano",
           52.85
          ],
          [
           "Francisco Duclos",
           "Alianza Atlético de Sullana",
           19.51
          ],
          [
           "Cristian Carbajal",
           "Sport Boys",
           16.59
          ],
          [
           "Jesus Mendieta",
           "Alianza Atlético de Sullana",
           13.11
          ],
          [
           "Denilson Vargas",
           "Unión Comercio",
           22.98
          ],
          [
           "Luis Caicedo",
           "Deportivo Garcilaso",
           26.59
          ],
          [
           "Aldair Salazar",
           "Deportivo Garcilaso",
           16.55
          ],
          [
           "Pedro Paulo Requena",
           "Universidad Técnica de Cajamarca",
           13.26
          ],
          [
           "Axel Chávez",
           "Los Chankas CYC",
           19.84
          ],
          [
           "Roberto Villamarín",
           "Unión Comercio",
           28.26
          ],
          [
           "Manuel Ganoza",
           "Universidad César Vallejo",
           22.22
          ],
          [
           "Edgar Lastre",
           "Comerciantes Unidos",
           14.31
          ],
          [
           "José Zevallos",
           "Cusco FC",
           34.39
          ],
          [
           "Ángel Pérez",
           "Sport Huancayo",
           31.59
          ],
          [
           "Maycol Infante",
           "Universidad Técnica de Cajamarca",
           11.61
          ],
          [
           "Gilmar Paredes",
           "Cienciano",
           34.14
          ],
          [
           "Joe Martínez",
           "Los Chankas CYC",
           25.99
          ],
          [
           "Pablo Cárdenas",
           "Cusco FC",
           29.35
          ],
          [
           "Erick Perleche",
           "Deportivo Garcilaso",
           19.26
          ],
          [
           "Aldair Perleche",
           "Alianza Atlético de Sullana",
           15.95
          ],
          [
           "Luis Garro",
           "Sport Huancayo",
           29.59
          ],
          [
           "Mathias Llontop",
           "Carlos A. Mannucci",
           17.35
          ],
          [
           "Jorge Bosmediano",
           "Comerciantes Unidos",
           33.93
          ],
          [
           "Matías Lazo",
           "Melgar",
           33.69
          ],
          [
           "Alexi Edwin Gómez",
           "Deportivo Garcilaso",
           26.75
          ],
          [
           "Leonardo Rugel",
           "Cienciano",
           37.38
          ],
          [
           "Carlos Cabello",
           "Universidad César Vallejo",
           25.67
          ],
          [
           "César Inga",
           "Asociación Deportiva Tarma",
           29.37
          ],
          [
           "Erick Canales",
           "Deportivo Garcilaso",
           17.97
          ],
          [
           "Diego Mondino",
           "Universidad Técnica de Cajamarca",
           13.58
          ],
          [
           "Jose Eduardo Caballero",
           "Carlos A. Mannucci",
           16.25
          ],
          [
           "Joaquín Aguirre",
           "Sport Huancayo",
           35.5
          ],
          [
           "Fabio Rojas",
           "Club Atlético Grau",
           30.25
          ],
          [
           "José Luján",
           "Los Chankas CYC",
           22.59
          ],
          [
           "Juan Diego Lojas",
           "Deportivo Garcilaso",
           24.08
          ],
          [
           "Kevin Becerra",
           "Los Chankas CYC",
           22.5
          ],
          [
           "Gonzalo Rizzo",
           "Carlos A. Mannucci",
           20.4
          ],
          [
           "Carlos Ramirez",
           "Unión Comercio",
           26.41
          ],
          [
           "Diego Minaya",
           "Sport Huancayo",
           26.8
          ],
          [
           "Diego Temoche",
           "Los Chankas CYC",
           28.62
          ],
          [
           "Jorge Toledo",
           "Comerciantes Unidos",
           26.16
          ],
          [
           "Werner Schuler",
           "Sport Boys",
           29.79
          ],
          [
           "Ronald Vega",
           "Asociación Deportiva Tarma",
           41.25
          ],
          [
           "Franco Medina",
           "Club Sporting Cristal",
           25.4
          ],
          [
           "Alonso Tamaríz",
           "Cusco FC",
           22.11
          ],
          [
           "Juan Quiñones",
           "Universidad César Vallejo",
           27.16
          ],
          [
           "Lucas Diarte",
           "Melgar",
           26.15
          ],
          [
           "Emilio Saba",
           "Carlos A. Mannucci",
           18.93
          ],
          [
           "Alonso Yovera",
           "Cusco FC",
           32.54
          ],
          [
           "Nilson Loyola",
           "Universidad César Vallejo",
           27.26
          ],
          [
           "Jose Cuero",
           "Deportivo Garcilaso",
           10.95
          ],
          [
           "Franz Schmidt",
           "Cusco FC",
           39.27
          ],
          [
           "Flavio Alcedo",
           "Sport Boys",
           24.86
          ],
          [
           "Jean Franco Falconi",
           "Asociación Deportiva Tarma",
           27.47
          ],
          [
           "Eduardo Rabanal",
           "Carlos A. Mannucci",
           14.26
          ],
          [
           "Edinson Chavez",
           "Sport Boys",
           21.44
          ],
          [
           "Jhon Alvarez",
           "Unión Comercio",
           14.75
          ],
          [
           "Marcelo Gaona",
           "Carlos A. Mannucci",
           17.34
          ],
          [
           "Christian Vasquez",
           "Alianza Atlético de Sullana",
           14.32
          ],
          [
           "Luis Trujillo",
           "Unión Comercio",
           20.13
          ],
          [
           "Pablo Míguez",
           "Carlos A. Mannucci",
           22.43
          ],
          [
           "Gabriel Alfaro",
           "Club Sporting Cristal",
           11.55
          ],
          [
           "Anthony Rosell",
           "Club Atlético Grau",
           20.82
          ],
          [
           "Matías Cortave",
           "Carlos A. Mannucci",
           16.74
          ],
          [
           "Minzun Quina",
           "Sport Huancayo",
           25.12
          ],
          [
           "Francys Arévalo",
           "Cusco FC",
           4.5
          ],
          [
           "Jose Meza",
           "Sport Huancayo",
           18
          ],
          [
           "Jean Pierre Sánchez",
           "Universidad Técnica de Cajamarca",
           18.75
          ],
          [
           "Jesus Serrano",
           "Universidad Técnica de Cajamarca",
           14.46
          ],
          [
           "Christian Ramos",
           "Deportivo Garcilaso",
           20.48
          ],
          [
           "Jeremy Salas",
           "Unión Comercio",
           17
          ],
          [
           "Iván Santillán",
           "Los Chankas CYC",
           15.73
          ],
          [
           "Jairo Vélez",
           "Universidad César Vallejo",
           25.74
          ],
          [
           "Jefferson Caceres",
           "Melgar",
           22.05
          ],
          [
           "Iván Colman",
           "Cusco FC",
           48.14
          ],
          [
           "Yoshimar Yotún",
           "Club Sporting Cristal",
           26.05
          ],
          [
           "Víctor Cedrón",
           "Asociación Deportiva Tarma",
           32.94
          ],
          [
           "Carlos López Vanegas",
           "Los Chankas CYC",
           22.34
          ],
          [
           "Tomás Martínez",
           "Melgar",
           31.2
          ],
          [
           "Santiago González",
           "Club Sporting Cristal",
           18.89
          ],
          [
           "Andy Polo",
           "Universitario",
           29.37
          ],
          [
           "Cristian Bordacahar",
           "Melgar",
           22.53
          ],
          [
           "Joao Rojas",
           "Asociación Deportiva Tarma",
           19.9
          ],
          [
           "Cristian Techera",
           "Sport Boys",
           16.09
          ],
          [
           "Joel Sánchez",
           "Universidad Técnica de Cajamarca",
           34.32
          ],
          [
           "Marcos Lliuya",
           "Sport Huancayo",
           58.4
          ],
          [
           "Lucas Colitto",
           "Cusco FC",
           24.46
          ],
          [
           "Gustavo Cazonatti",
           "Club Sporting Cristal",
           25.65
          ],
          [
           "Jairo Concha",
           "Universitario",
           34.51
          ],
          [
           "Piero Vivanco",
           "Club Atlético Grau",
           36.22
          ],
          [
           "Rodrigo Ureña",
           "Universitario",
           43.42
          ],
          [
           "Martín Távara",
           "Club Sporting Cristal",
           33.04
          ],
          [
           "Mauro Da Luz",
           "Club Atlético Grau",
           13.8
          ],
          [
           "Gaspar Gentile",
           "Deportivo Garcilaso",
           16.04
          ],
          [
           "Martín Pérez Guedes",
           "Universitario",
           33.01
          ],
          [
           "Matías Pérez García",
           "Sport Huancayo",
           41.69
          ],
          [
           "Kenji Cabrera",
           "Melgar",
           26.18
          ],
          [
           "Fernando Bersano",
           "Asociación Deportiva Tarma",
           21.77
          ],
          [
           "Horacio Orzan",
           "Melgar",
           41.07
          ],
          [
           "Diego Carabaño",
           "Los Chankas CYC",
           50.04
          ],
          [
           "Ademar Robles",
           "Los Chankas CYC",
           47.74
          ],
          [
           "Yimy Gamero",
           "Asociación Deportiva Tarma",
           29.32
          ],
          [
           "Luis Chicaiza",
           "Deportivo Garcilaso",
           24.4
          ],
          [
           "Kevin Sandoval",
           "Melgar",
           25.43
          ],
          [
           "Ray Gómez",
           "Sport Huancayo",
           33.6
          ],
          [
           "Mario Otazú",
           "Universidad Técnica de Cajamarca",
           15.71
          ],
          [
           "Ricardo Salcedo",
           "Sport Huancayo",
           33.68
          ],
          [
           "Jeremy Canela",
           "Alianza Atlético de Sullana",
           14.64
          ],
          [
           "Oslimg Mora",
           "Club Atlético Grau",
           21.2
          ],
          [
           "Marco Aldair Rodríguez",
           "Cienciano",
           21.34
          ],
          [
           "Christofer Gonzáles",
           "Universitario",
           39.19
          ],
          [
           "Horacio Calcaterra",
           "Universitario",
           42.23
          ],
          [
           "Hernán Pérez",
           "Unión Comercio",
           22.52
          ],
          [
           "Alfredo Ramúa",
           "Cienciano",
           26.98
          ],
          [
           "Carlos Ross",
           "Sport Huancayo",
           25.2
          ],
          [
           "Claudio Torrejón",
           "Cienciano",
           35.51
          ],
          [
           "Nicolás Silva",
           "Cusco FC",
           16.2
          ],
          [
           "Mauricio Cuero",
           "Deportivo Garcilaso",
           19.19
          ],
          [
           "Miguel Carranza",
           "Unión Comercio",
           16.43
          ],
          [
           "Diego Soto",
           "Club Atlético Grau",
           33.36
          ],
          [
           "Nicolás Albarracín",
           "Carlos A. Mannucci",
           25.97
          ],
          [
           "Carlos Correa",
           "Sport Boys",
           17.97
          ],
          [
           "Willyan Mimbela",
           "Carlos A. Mannucci",
           23.28
          ],
          [
           "Nelson Cabanillas",
           "Universitario",
           27.27
          ],
          [
           "Jimmy Pérez",
           "Universidad Técnica de Cajamarca",
           30.95
          ],
          [
           "Rafael Guarderas",
           "Club Atlético Grau",
           38.79
          ],
          [
           "Juan González Peña",
           "Asociación Deportiva Tarma",
           26.48
          ],
          [
           "Abdiel Ayarza",
           "Cienciano",
           16.11
          ],
          [
           "Piero Magallanes",
           "Comerciantes Unidos",
           22.57
          ],
          [
           "Alejandro Ramirez",
           "Universidad César Vallejo",
           25.88
          ],
          [
           "Freddy Oncoy",
           "Club Atlético Grau",
           37.23
          ],
          [
           "Kevin Ruiz",
           "Universidad Técnica de Cajamarca",
           20.54
          ],
          [
           "Christian Velarde",
           "Carlos A. Mannucci",
           28.7
          ],
          [
           "Pierre Da Silva",
           "Universidad César Vallejo",
           22.56
          ],
          [
           "André Vasquez",
           "Cusco FC",
           28.52
          ],
          [
           "Oswaldo Valenzuela",
           "Cusco FC",
           38.08
          ],
          [
           "Jostin Alarcón",
           "Club Sporting Cristal",
           22.46
          ],
          [
           "Brandon Palacios",
           "Sport Boys",
           17.89
          ],
          [
           "Miguel Aucca",
           "Cusco FC",
           33.78
          ],
          [
           "Donald Millán",
           "Unión Comercio",
           32.23
          ],
          [
           "Alexis Arias",
           "Melgar",
           37.64
          ],
          [
           "Jesús Barco",
           "Sport Boys",
           15.94
          ],
          [
           "Jhonier Viveros",
           "Sport Huancayo",
           41.09
          ],
          [
           "Santiago Arias",
           "Alianza Atlético de Sullana",
           29.6
          ],
          [
           "Gerson Barreto",
           "Universidad César Vallejo",
           35.47
          ],
          [
           "Frank Ysique",
           "Universidad César Vallejo",
           47.57
          ],
          [
           "Leandro Sosa",
           "Club Sporting Cristal",
           22.83
          ],
          [
           "Federico Illanes",
           "Alianza Atlético de Sullana",
           26.4
          ],
          [
           "Victor Perlaza",
           "Universidad Técnica de Cajamarca",
           14.6
          ],
          [
           "Luis Pérez",
           "Asociación Deportiva Tarma",
           37.1
          ],
          [
           "Jorge Bazan",
           "Deportivo Garcilaso",
           19.89
          ],
          [
           "Paolo Hurtado",
           "Carlos A. Mannucci",
           30.84
          ],
          [
           "Gino Guerrero",
           "Unión Comercio",
           21.96
          ],
          [
           "Juan Morales",
           "Sport Boys",
           30.43
          ],
          [
           "Juan Romagnoli",
           "Cienciano",
           15.55
          ],
          [
           "Jose Antonio Parodi",
           "Comerciantes Unidos",
           39.24
          ],
          [
           "Rudy Palomino",
           "Los Chankas CYC",
           37.05
          ],
          [
           "Abel Casquete",
           "Los Chankas CYC",
           18.32
          ],
          [
           "Gustavo Viera",
           "Carlos A. Mannucci",
           27.65
          ],
          [
           "Jhosep Nuñez",
           "Cusco FC",
           24.15
          ],
          [
           "Piero Serra",
           "Unión Comercio",
           33.35
          ],
          [
           "Didier La Torre",
           "Cienciano",
           16.94
          ],
          [
           "Jorge Murrugarra",
           "Universitario",
           32.82
          ],
          [
           "Yuriel Celi",
           "Universitario",
           31.72
          ],
          [
           "Cristian Mejia",
           "Los Chankas CYC",
           30.22
          ],
          [
           "Kelvin Sánchez",
           "Unión Comercio",
           19.95
          ],
          [
           "José Cortés",
           "Carlos A. Mannucci",
           13.38
          ],
          [
           "Hernan Lupú",
           "Alianza Atlético de Sullana",
           17
          ],
          [
           "Adrián Ascues",
           "Club Sporting Cristal",
           35.22
          ],
          [
           "Johnny Vidales",
           "Carlos A. Mannucci",
           20.31
          ],
          [
           "Óscar Pinto",
           "Comerciantes Unidos",
           16.08
          ],
          [
           "Tarek Carranza",
           "Sport Huancayo",
           43.41
          ],
          [
           "Ángel Ojeda",
           "Universidad Técnica de Cajamarca",
           26.85
          ],
          [
           "Paulo De La Cruz",
           "Club Atlético Grau",
           19.06
          ],
          [
           "Óscar Barreto",
           "Universidad César Vallejo",
           23.91
          ],
          [
           "Jorge Rios",
           "Sport Boys",
           26.78
          ],
          [
           "Hugo Ancajima",
           "Universitario",
           38.18
          ],
          [
           "Eslyn Correa",
           "Cusco FC",
           75
          ],
          [
           "Jhonnier Montaño",
           "Sport Boys",
           25.71
          ],
          [
           "David Dioses",
           "Sport Huancayo",
           38.64
          ],
          [
           "Walter Tandazo",
           "Melgar",
           38.82
          ],
          [
           "Rodrigo Castro",
           "Alianza Atlético de Sullana",
           16.98
          ],
          [
           "Josepmir Ballón",
           "Universidad César Vallejo",
           41.5
          ],
          [
           "Jordan Guivin",
           "Cienciano",
           39.36
          ],
          [
           "Ángel Benítez",
           "Carlos A. Mannucci",
           19.07
          ],
          [
           "Cristian Benavente",
           "Universidad César Vallejo",
           28.13
          ],
          [
           "Christian Flores",
           "Alianza Atlético de Sullana",
           30.27
          ],
          [
           "Duván Palacios",
           "Comerciantes Unidos",
           19.03
          ],
          [
           "Carlos Diez",
           "Deportivo Garcilaso",
           23.55
          ],
          [
           "Ray Sandoval",
           "Club Atlético Grau",
           16.44
          ],
          [
           "Ángel Romero",
           "Universidad Técnica de Cajamarca",
           18.1
          ],
          [
           "Keyvin Paico",
           "Comerciantes Unidos",
           42.32
          ],
          [
           "Byron Angulo",
           "Unión Comercio",
           13.54
          ],
          [
           "Kevin Santamaría",
           "Comerciantes Unidos",
           24.85
          ],
          [
           "Josue Torres",
           "Unión Comercio",
           18.07
          ],
          [
           "Arly Benites",
           "Sport Boys",
           17.59
          ],
          [
           "Joshua Cantt",
           "Sport Boys",
           15.83
          ],
          [
           "Richard Guevara",
           "Universidad Técnica de Cajamarca",
           13.08
          ],
          [
           "Ian Wisdom",
           "Club Sporting Cristal",
           36.4
          ],
          [
           "Alexander Lecaros",
           "Cienciano",
           15.96
          ],
          [
           "Luis Benites",
           "Sport Huancayo",
           46.76
          ],
          [
           "Javier Núñez",
           "Sport Huancayo",
           32.93
          ],
          [
           "Christian Vargas",
           "Asociación Deportiva Tarma",
           24.49
          ],
          [
           "Miguel Cornejo",
           "Deportivo Garcilaso",
           25.57
          ],
          [
           "Francisco Grahl",
           "Sport Boys",
           23.77
          ],
          [
           "Edson Aubert",
           "Asociación Deportiva Tarma",
           38.81
          ],
          [
           "Dustin Rengifo",
           "Los Chankas CYC",
           34.62
          ],
          [
           "Jherson Reyes",
           "Club Atlético Grau",
           23.33
          ],
          [
           "Rodrigo Salinas",
           "Comerciantes Unidos",
           25.47
          ],
          [
           "Emmanuel Páucar",
           "Comerciantes Unidos",
           28.76
          ],
          [
           "Carlos Fernandez",
           "Universidad Técnica de Cajamarca",
           10.18
          ],
          [
           "Relly Fernández",
           "Cusco FC",
           21.83
          ],
          [
           "Fernando Pacheco",
           "Club Sporting Cristal",
           12.86
          ],
          [
           "Carlos Uribe",
           "Unión Comercio",
           32.2
          ],
          [
           "Jesús Pretell",
           "Club Sporting Cristal",
           29.44
          ],
          [
           "Valentino Sandoval",
           "Unión Comercio",
           19.34
          ],
          [
           "Edgar Benítez",
           "Universidad César Vallejo",
           22.63
          ],
          [
           "Osama Vinladen",
           "Unión Comercio",
           16.51
          ],
          [
           "Aldair Vasquez",
           "Club Atlético Grau",
           23.25
          ],
          [
           "Stefano Fernández",
           "Alianza Atlético de Sullana",
           16.41
          ],
          [
           "Kevin Peña",
           "Sport Boys",
           29.81
          ],
          [
           "Enzo Borletti",
           "Comerciantes Unidos",
           32.06
          ],
          [
           "Oshiro Takeuchi",
           "Los Chankas CYC",
           13.08
          ],
          [
           "Paulo Rodríguez",
           "Deportivo Garcilaso",
           22.5
          ],
          [
           "Luis Alvarez",
           "Club Atlético Grau",
           35.16
          ],
          [
           "Victor Labrin",
           "Unión Comercio",
           16.09
          ],
          [
           "Alexis Huaman",
           "Sport Boys",
           8.78
          ],
          [
           "Erick Gonzales",
           "Deportivo Garcilaso",
           21.04
          ],
          [
           "Diego Ramírez",
           "Deportivo Garcilaso",
           26.5
          ],
          [
           "Jean Deza",
           "Alianza Atlético de Sullana",
           13.85
          ],
          [
           "Jack Carhuallanqui",
           "Unión Comercio",
           12.86
          ],
          [
           "Gian García",
           "Melgar",
           26.47
          ],
          [
           "Jorge Palomino",
           "Asociación Deportiva Tarma",
           25.2
          ],
          [
           "Leonardo Mifflin",
           "Cienciano",
           27.95
          ],
          [
           "Vieri Pérez",
           "Unión Comercio",
           11
          ],
          [
           "Joel Herrera",
           "Carlos A. Mannucci",
           14.69
          ],
          [
           "Diego Mesones",
           "Sport Huancayo",
           9.31
          ],
          [
           "Martín Cauteruccio",
           "Club Sporting Cristal",
           10.47
          ],
          [
           "Bernardo Cuesta",
           "Melgar",
           15.98
          ],
          [
           "Edison Flores",
           "Universitario",
           16.81
          ],
          [
           "Adrián Ugarriza",
           "Deportivo Garcilaso",
           14.85
          ],
          [
           "Luis Urruti",
           "Deportivo Garcilaso",
           16.53
          ],
          [
           "José Miguel Manzaneda",
           "Los Chankas CYC",
           23.2
          ],
          [
           "Brian Blando",
           "Melgar",
           13.06
          ],
          [
           "Carlos Garcés",
           "Cienciano",
           9.88
          ],
          [
           "Juan Tévez",
           "Cusco FC",
           11.41
          ],
          [
           "Marlon de Jesús",
           "Unión Comercio",
           10.81
          ],
          [
           "Paolo Guerrero",
           "Universidad César Vallejo",
           16.45
          ],
          [
           "Pablo Bueno",
           "Sport Boys",
           9.79
          ],
          [
           "Jarlin Quintero",
           "Universidad Técnica de Cajamarca",
           9.23
          ],
          [
           "Alex Valera",
           "Universitario",
           14.35
          ],
          [
           "Neri Bandiera",
           "Club Atlético Grau",
           8.88
          ],
          [
           "Pablo Erustes",
           "Deportivo Garcilaso",
           14.98
          ],
          [
           "Adrián Fernández",
           "Alianza Atlético de Sullana",
           13.74
          ],
          [
           "Joao Grimaldo",
           "Club Sporting Cristal",
           16.79
          ],
          [
           "Matías Succar",
           "Carlos A. Mannucci",
           11.78
          ],
          [
           "José Rivera",
           "Universitario",
           14.21
          ],
          [
           "Sebastián Gonzales Zela",
           "Comerciantes Unidos",
           16.28
          ],
          [
           "Diego Dorregaray",
           "Universitario",
           9.57
          ],
          [
           "Janio Pósito",
           "Asociación Deportiva Tarma",
           11.11
          ],
          [
           "Yorleys Mena",
           "Universidad César Vallejo",
           12.25
          ],
          [
           "Ángel Ledesma",
           "Los Chankas CYC",
           10.38
          ],
          [
           "Angel Quiñonez",
           "Asociación Deportiva Tarma",
           13.4
          ],
          [
           "Erinson Ramirez",
           "Deportivo Garcilaso",
           15.91
          ],
          [
           "Santiago Rebagliati",
           "Alianza Atlético de Sullana",
           16.68
          ],
          [
           "Beto Da Silva",
           "Asociación Deportiva Tarma",
           16.83
          ],
          [
           "Lucas Cano",
           "Sport Huancayo",
           18.28
          ],
          [
           "Matias Sen",
           "Comerciantes Unidos",
           9.18
          ],
          [
           "Christopher Olivares",
           "Universitario",
           16.53
          ],
          [
           "Héctor Zeta",
           "Unión Comercio",
           9
          ],
          [
           "Pablo Lavandeira",
           "Melgar",
           23.08
          ],
          [
           "Hernán Rengifo",
           "Asociación Deportiva Tarma",
           6.87
          ],
          [
           "Alan Murialdo",
           "Los Chankas CYC",
           7.68
          ],
          [
           "Luis Cano",
           "Universidad Técnica de Cajamarca",
           27.42
          ],
          [
           "Joao Villamarin",
           "Sport Boys",
           13.14
          ],
          [
           "James Morales",
           "Cusco FC",
           19.22
          ],
          [
           "Maxloren Castro",
           "Club Sporting Cristal",
           12.2
          ],
          [
           "Luis Ramos",
           "Cusco FC",
           12.8
          ],
          [
           "Diego Otoya",
           "Club Sporting Cristal",
           23.61
          ],
          [
           "Renny Sinisterra",
           "Deportivo Garcilaso",
           12.1
          ],
          [
           "Nicolás Figueroa",
           "Club Atlético Grau",
           12.45
          ],
          [
           "Osnar Noronha",
           "Universidad César Vallejo",
           15.5
          ],
          [
           "Irven Ávila",
           "Club Sporting Cristal",
           20.15
          ],
          [
           "Fabrizio Roca",
           "Sport Boys",
           15.21
          ],
          [
           "Roberto Siucho",
           "Alianza Atlético de Sullana",
           15.93
          ],
          [
           "Percy Liza",
           "Carlos A. Mannucci",
           15.15
          ],
          [
           "Gonzalo Gabriel Ritacco",
           "Cienciano",
           39.79
          ],
          [
           "Stefano Olaya",
           "Universidad César Vallejo",
           21.47
          ],
          [
           "Gonzalo Sanchez",
           "Los Chankas CYC",
           22.36
          ],
          [
           "Kenji Barrios",
           "Comerciantes Unidos",
           24.24
          ],
          [
           "Ronal Huaccha",
           "Sport Huancayo",
           16.7
          ],
          [
           "Jorge Tandazo",
           "Unión Comercio",
           12.12
          ],
          [
           "Luis Navea",
           "Unión Comercio",
           26.39
          ],
          [
           "Gilmar Rodríguez",
           "Sport Boys",
           5
          ],
          [
           "Hideyoshi Arakaki",
           "Alianza Atlético de Sullana",
           10.33
          ],
          [
           "Tiago Cantoro",
           "Universidad Técnica de Cajamarca",
           17.14
          ],
          [
           "Danilo Carando",
           "Cienciano",
           8.64
          ],
          [
           "Italo Regalado",
           "Unión Comercio",
           13.16
          ],
          [
           "Joseph Cox",
           "Los Chankas CYC",
           10.75
          ],
          [
           "José De la Cruz",
           "Alianza Atlético de Sullana",
           12.86
          ],
          [
           "Guillermo Larios",
           "Alianza Atlético de Sullana",
           9.88
          ],
          [
           "Alejandro Hohberg",
           "Club Sporting Cristal",
           17.27
          ],
          [
           "Renato Espinosa",
           "Sport Huancayo",
           20.77
          ],
          [
           "Richar Bazán",
           "Comerciantes Unidos",
           16.69
          ],
          [
           "Alexander Succar",
           "Carlos A. Mannucci",
           18.95
          ]
         ],
         "hovertemplate": "color=red<br>Pases Precisos en el Último Tercio=%{x}<br>accuratePassesPercentage=%{y}<br>Pases Precisos=%{customdata[2]}<br>player=%{customdata[0]}<br>team=%{customdata[1]}<extra></extra>",
         "legendgroup": "red",
         "marker": {
          "color": "#EF553B",
          "colorscale": [
           [
            0,
            "red"
           ],
           [
            1,
            "blue"
           ]
          ],
          "size": [
           34,
           26,
           35.45,
           24.9,
           28.13,
           30.65,
           45.66,
           29.51,
           21.84,
           17.7,
           35.42,
           16.71,
           27.66,
           25.47,
           32.73,
           21.72,
           41.31,
           19.69,
           21.27,
           34,
           36.57,
           45.12,
           33.14,
           21.66,
           31.17,
           24.06,
           49.35,
           25.93,
           32.67,
           29.67,
           23,
           39.17,
           26.14,
           25.29,
           20.76,
           20.29,
           35.23,
           28.74,
           32.04,
           31.91,
           35.15,
           25.05,
           20.36,
           27.66,
           18.26,
           41.38,
           21.95,
           32.02,
           27.92,
           25.53,
           26.04,
           25.85,
           33.75,
           20.72,
           28.32,
           12.7,
           17.35,
           32.13,
           26.98,
           39.42,
           32.96,
           35.94,
           20.35,
           16.88,
           19.76,
           52.85,
           19.51,
           16.59,
           13.11,
           22.98,
           26.59,
           16.55,
           13.26,
           19.84,
           28.26,
           22.22,
           14.31,
           34.39,
           31.59,
           11.61,
           34.14,
           25.99,
           29.35,
           19.26,
           15.95,
           29.59,
           17.35,
           33.93,
           33.69,
           26.75,
           37.38,
           25.67,
           29.37,
           17.97,
           13.58,
           16.25,
           35.5,
           30.25,
           22.59,
           24.08,
           22.5,
           20.4,
           26.41,
           26.8,
           28.62,
           26.16,
           29.79,
           41.25,
           25.4,
           22.11,
           27.16,
           26.15,
           18.93,
           32.54,
           27.26,
           10.95,
           39.27,
           24.86,
           27.47,
           14.26,
           21.44,
           14.75,
           17.34,
           14.32,
           20.13,
           22.43,
           11.55,
           20.82,
           16.74,
           25.12,
           4.5,
           18,
           18.75,
           14.46,
           20.48,
           17,
           15.73,
           25.74,
           22.05,
           48.14,
           26.05,
           32.94,
           22.34,
           31.2,
           18.89,
           29.37,
           22.53,
           19.9,
           16.09,
           34.32,
           58.4,
           24.46,
           25.65,
           34.51,
           36.22,
           43.42,
           33.04,
           13.8,
           16.04,
           33.01,
           41.69,
           26.18,
           21.77,
           41.07,
           50.04,
           47.74,
           29.32,
           24.4,
           25.43,
           33.6,
           15.71,
           33.68,
           14.64,
           21.2,
           21.34,
           39.19,
           42.23,
           22.52,
           26.98,
           25.2,
           35.51,
           16.2,
           19.19,
           16.43,
           33.36,
           25.97,
           17.97,
           23.28,
           27.27,
           30.95,
           38.79,
           26.48,
           16.11,
           22.57,
           25.88,
           37.23,
           20.54,
           28.7,
           22.56,
           28.52,
           38.08,
           22.46,
           17.89,
           33.78,
           32.23,
           37.64,
           15.94,
           41.09,
           29.6,
           35.47,
           47.57,
           22.83,
           26.4,
           14.6,
           37.1,
           19.89,
           30.84,
           21.96,
           30.43,
           15.55,
           39.24,
           37.05,
           18.32,
           27.65,
           24.15,
           33.35,
           16.94,
           32.82,
           31.72,
           30.22,
           19.95,
           13.38,
           17,
           35.22,
           20.31,
           16.08,
           43.41,
           26.85,
           19.06,
           23.91,
           26.78,
           38.18,
           75,
           25.71,
           38.64,
           38.82,
           16.98,
           41.5,
           39.36,
           19.07,
           28.13,
           30.27,
           19.03,
           23.55,
           16.44,
           18.1,
           42.32,
           13.54,
           24.85,
           18.07,
           17.59,
           15.83,
           13.08,
           36.4,
           15.96,
           46.76,
           32.93,
           24.49,
           25.57,
           23.77,
           38.81,
           34.62,
           23.33,
           25.47,
           28.76,
           10.18,
           21.83,
           12.86,
           32.2,
           29.44,
           19.34,
           22.63,
           16.51,
           23.25,
           16.41,
           29.81,
           32.06,
           13.08,
           22.5,
           35.16,
           16.09,
           8.78,
           21.04,
           26.5,
           13.85,
           12.86,
           26.47,
           25.2,
           27.95,
           11,
           14.69,
           9.31,
           10.47,
           15.98,
           16.81,
           14.85,
           16.53,
           23.2,
           13.06,
           9.88,
           11.41,
           10.81,
           16.45,
           9.79,
           9.23,
           14.35,
           8.88,
           14.98,
           13.74,
           16.79,
           11.78,
           14.21,
           16.28,
           9.57,
           11.11,
           12.25,
           10.38,
           13.4,
           15.91,
           16.68,
           16.83,
           18.28,
           9.18,
           16.53,
           9,
           23.08,
           6.87,
           7.68,
           27.42,
           13.14,
           19.22,
           12.2,
           12.8,
           23.61,
           12.1,
           12.45,
           15.5,
           20.15,
           15.21,
           15.93,
           15.15,
           39.79,
           21.47,
           22.36,
           24.24,
           16.7,
           12.12,
           26.39,
           5,
           10.33,
           17.14,
           8.64,
           13.16,
           10.75,
           12.86,
           9.88,
           17.27,
           20.77,
           16.69,
           18.95
          ],
          "sizemode": "area",
          "sizeref": 0.1875,
          "symbol": "circle"
         },
         "mode": "markers",
         "name": "red",
         "orientation": "v",
         "showlegend": true,
         "type": "scatter",
         "x": [
          4,
          2.82,
          1.82,
          7.24,
          11.25,
          1.71,
          1.56,
          4.04,
          4.72,
          4.58,
          2.21,
          3.57,
          5.63,
          6.53,
          9.87,
          8.35,
          3.3,
          4.62,
          3.04,
          1.17,
          2.49,
          8.42,
          6.15,
          2.25,
          5.45,
          2.47,
          14.52,
          5.7,
          2.11,
          3.64,
          2.57,
          4.79,
          7.23,
          10.03,
          1.98,
          2.86,
          4.05,
          4.13,
          6.31,
          5.02,
          4.43,
          1.66,
          2.16,
          1.78,
          3.2,
          4.5,
          5.69,
          3.25,
          3.38,
          2.54,
          2.17,
          3.89,
          2.81,
          4.4,
          8.84,
          2.71,
          4.93,
          3.36,
          1.32,
          4.9,
          4.78,
          11.5,
          4.91,
          6.66,
          2.71,
          1.6,
          5.85,
          3.26,
          6.05,
          4.99,
          4.13,
          2.86,
          4.11,
          4.52,
          8.37,
          2.78,
          5.35,
          4.12,
          7.72,
          5.81,
          7.09,
          6.97,
          16.63,
          6.29,
          6.38,
          7.05,
          4.44,
          0,
          5.68,
          8.89,
          2.75,
          6.13,
          6.23,
          5.46,
          1.78,
          5,
          5,
          6.08,
          1.13,
          1.65,
          2.03,
          3.05,
          1.93,
          1,
          3.23,
          3.51,
          0,
          3.75,
          4.9,
          3.54,
          6.39,
          8.21,
          5.03,
          2.08,
          4.23,
          4.86,
          2.73,
          3.22,
          6.43,
          1.78,
          5.25,
          2.27,
          5.08,
          3.64,
          4.03,
          2.3,
          3.04,
          6.04,
          1.42,
          0.74,
          0,
          0,
          2.5,
          1.61,
          1.86,
          0.39,
          2.62,
          10.84,
          14.19,
          14.29,
          13.6,
          15.28,
          11.14,
          13.98,
          7.64,
          8.79,
          9.49,
          10.07,
          4.8,
          13.53,
          22.45,
          8.76,
          7.55,
          13.54,
          15.37,
          11.43,
          9.64,
          7.22,
          7.22,
          9.96,
          11.69,
          11.46,
          6.56,
          7.36,
          17.37,
          14.03,
          11.46,
          12.56,
          12.13,
          11.49,
          3.33,
          4.88,
          5.39,
          10.84,
          8.43,
          12.01,
          14.64,
          7.57,
          9.38,
          10.49,
          5.3,
          6.08,
          9.81,
          7.34,
          9.71,
          11.36,
          3.46,
          6.21,
          7.82,
          7.93,
          9.98,
          12.41,
          3.43,
          8.61,
          9.6,
          8.43,
          7.09,
          6.73,
          5.21,
          9.78,
          6.25,
          8.28,
          6.76,
          4.65,
          10.36,
          13.79,
          5.14,
          10.43,
          7.13,
          6.52,
          10.11,
          7.17,
          3.4,
          3.73,
          9.85,
          6.97,
          8.97,
          5.6,
          4.2,
          6.83,
          4.88,
          7.45,
          8.2,
          6.6,
          4.39,
          5.28,
          7.65,
          5.12,
          14.75,
          5.16,
          4.88,
          5.03,
          5.63,
          10.43,
          8.17,
          5.24,
          6.17,
          7.41,
          7.96,
          9.63,
          5.55,
          13.64,
          7.5,
          11.25,
          8.01,
          10,
          4.99,
          5.77,
          9.88,
          3.66,
          11.25,
          10.64,
          5.38,
          5.12,
          8.4,
          2.73,
          6.46,
          4.94,
          5.6,
          4.7,
          3.05,
          4.17,
          2.62,
          5.06,
          5.77,
          12.06,
          11.46,
          13.47,
          7.16,
          5.06,
          10.73,
          17.31,
          6.67,
          6.11,
          3.73,
          3.85,
          8.06,
          3.51,
          6.26,
          5.77,
          5.21,
          5.33,
          4.47,
          13.88,
          3.71,
          6.37,
          1.16,
          3.49,
          15,
          7.03,
          4.77,
          2.93,
          3.19,
          10.96,
          2.31,
          0,
          15.88,
          4.8,
          0.68,
          1,
          5.51,
          0,
          3.76,
          7.93,
          7.84,
          8.59,
          7.37,
          8.67,
          6.88,
          3.92,
          3.92,
          3.98,
          7.14,
          3.36,
          3.57,
          6.12,
          3.96,
          7.49,
          4.29,
          7.71,
          4.81,
          3.99,
          4.67,
          3.29,
          4.31,
          4.64,
          4.42,
          6.41,
          7.36,
          7.55,
          7.57,
          4.64,
          2.52,
          12.86,
          2.73,
          14.03,
          2.29,
          3.54,
          5.63,
          3.98,
          8.74,
          5.08,
          5.37,
          11.8,
          5.9,
          6.7,
          6.42,
          9.03,
          5.49,
          5.08,
          5.22,
          14.54,
          9.91,
          7.83,
          4.49,
          5.73,
          3.46,
          7.36,
          2,
          4.38,
          2.86,
          2.73,
          4.79,
          4.03,
          3.67,
          3.2,
          8.37,
          6.06,
          4.35,
          7.58
         ],
         "xaxis": "x",
         "y": [
          65.38,
          76.87,
          85.53,
          78.46,
          83.33,
          82.7,
          88.41,
          82.73,
          75.3,
          72.04,
          82.84,
          70.91,
          73.7,
          76.1,
          77.64,
          72.04,
          82.77,
          72.32,
          78.67,
          82.59,
          85.48,
          77.51,
          78.56,
          73.76,
          85.42,
          76.74,
          89.47,
          77.56,
          85.22,
          75.63,
          80.9,
          80.48,
          77.81,
          77.08,
          70.5,
          76.22,
          83.86,
          79.21,
          79.46,
          78.93,
          78.92,
          71.72,
          74.21,
          72.33,
          65.52,
          81.13,
          77.38,
          77.22,
          76.67,
          73.39,
          75.75,
          70.64,
          84.64,
          69.87,
          83.37,
          63.85,
          77.27,
          78.21,
          74.89,
          82.16,
          77.51,
          84.45,
          73.59,
          70.33,
          70.53,
          89.19,
          70.75,
          68.77,
          63.41,
          80.26,
          77.63,
          76.06,
          63.67,
          73.18,
          87.1,
          76.19,
          80.86,
          87.76,
          77.75,
          80,
          84.62,
          75.93,
          88.24,
          77.84,
          65.52,
          83.27,
          70.26,
          85.21,
          86.67,
          73.47,
          80.69,
          73.19,
          77.55,
          72.97,
          65.58,
          61.9,
          79.78,
          77.13,
          74.53,
          81.17,
          69.72,
          67.65,
          75.69,
          81.71,
          67.39,
          77.46,
          84.21,
          78.57,
          74.03,
          82.64,
          73.91,
          80.37,
          71.11,
          73.44,
          67.84,
          72.97,
          87.8,
          75.44,
          81.74,
          59.26,
          72.41,
          73.58,
          59.18,
          71.61,
          73.53,
          71.95,
          67.86,
          65.96,
          70.5,
          84.58,
          50,
          90,
          65.22,
          75,
          71.74,
          67.69,
          72,
          73.28,
          71.57,
          82.36,
          79.65,
          77.47,
          71.87,
          83.75,
          74.82,
          82.31,
          70.37,
          79.94,
          69.29,
          81.3,
          86.87,
          78.87,
          77.57,
          82.06,
          78.57,
          80.86,
          83.12,
          67.73,
          71.38,
          79.73,
          84.8,
          75,
          79,
          84.56,
          83.23,
          84.81,
          77.39,
          76.96,
          82.28,
          86.47,
          66.67,
          89.46,
          72.11,
          84.11,
          79.84,
          85.04,
          84.83,
          71.15,
          74.68,
          87.08,
          88.24,
          79.78,
          83.33,
          66.67,
          82.97,
          77.43,
          69.87,
          72.58,
          75.66,
          85.68,
          80.35,
          83.66,
          76.42,
          77.29,
          84.36,
          79.84,
          68.81,
          75.7,
          77.12,
          78.43,
          87.42,
          80.4,
          74.59,
          81.25,
          78.21,
          84.29,
          68.36,
          88.73,
          79.22,
          82.22,
          90.66,
          78.18,
          83.72,
          77.31,
          82.61,
          87.82,
          77.46,
          76.12,
          83.44,
          74.55,
          80.72,
          84.29,
          79.31,
          77.19,
          84.62,
          81.11,
          69.4,
          80.34,
          68.25,
          84.89,
          80.07,
          73.71,
          73.48,
          72.97,
          74.09,
          81.78,
          81.95,
          79.11,
          77.74,
          72,
          77.08,
          70,
          90.91,
          69.57,
          80.39,
          87.71,
          79.69,
          90.78,
          86.31,
          76.85,
          85.11,
          86.05,
          70.23,
          79.19,
          79.43,
          74.87,
          86.52,
          71.11,
          73.03,
          75.76,
          88.14,
          65.52,
          69.44,
          90,
          79.66,
          85.48,
          82.32,
          78.43,
          79.37,
          69.32,
          79.75,
          76.92,
          63.64,
          93.75,
          89.49,
          76.55,
          79.27,
          64.71,
          85.76,
          75.18,
          81.25,
          83.33,
          76.73,
          74.7,
          68.89,
          78.63,
          87.37,
          82.42,
          75,
          84.75,
          79.41,
          66.67,
          74.67,
          78.38,
          85.71,
          75,
          83.33,
          95.45,
          91.11,
          73.33,
          61.54,
          66.67,
          68.21,
          70.52,
          74.58,
          72.81,
          69.17,
          81.21,
          70.49,
          62.4,
          70.34,
          72.38,
          70.94,
          57.21,
          73.17,
          69.76,
          64.95,
          74.77,
          63.72,
          77.89,
          71.3,
          85.07,
          69.73,
          62.75,
          73.89,
          70,
          63.95,
          75.97,
          67.68,
          67.09,
          76.41,
          75.39,
          65.94,
          81.82,
          61.68,
          74.53,
          63.64,
          69.23,
          76.47,
          70.21,
          75.86,
          68.57,
          73.81,
          88.89,
          73.21,
          81.25,
          71.22,
          73.68,
          76.6,
          72.8,
          77.68,
          81.92,
          72.22,
          72.73,
          85.04,
          77.46,
          60.87,
          77.71,
          55.56,
          64.08,
          84.21,
          57.58,
          59.64,
          57.14,
          70,
          54.41,
          78.57,
          77.42,
          82.14,
          65.57
         ],
         "yaxis": "y"
        }
       ],
       "layout": {
        "legend": {
         "itemsizing": "constant",
         "title": {
          "text": "Equipo"
         },
         "tracegroupgap": 0
        },
        "template": {
         "data": {
          "bar": [
           {
            "error_x": {
             "color": "#2a3f5f"
            },
            "error_y": {
             "color": "#2a3f5f"
            },
            "marker": {
             "line": {
              "color": "#E5ECF6",
              "width": 0.5
             },
             "pattern": {
              "fillmode": "overlay",
              "size": 10,
              "solidity": 0.2
             }
            },
            "type": "bar"
           }
          ],
          "barpolar": [
           {
            "marker": {
             "line": {
              "color": "#E5ECF6",
              "width": 0.5
             },
             "pattern": {
              "fillmode": "overlay",
              "size": 10,
              "solidity": 0.2
             }
            },
            "type": "barpolar"
           }
          ],
          "carpet": [
           {
            "aaxis": {
             "endlinecolor": "#2a3f5f",
             "gridcolor": "white",
             "linecolor": "white",
             "minorgridcolor": "white",
             "startlinecolor": "#2a3f5f"
            },
            "baxis": {
             "endlinecolor": "#2a3f5f",
             "gridcolor": "white",
             "linecolor": "white",
             "minorgridcolor": "white",
             "startlinecolor": "#2a3f5f"
            },
            "type": "carpet"
           }
          ],
          "choropleth": [
           {
            "colorbar": {
             "outlinewidth": 0,
             "ticks": ""
            },
            "type": "choropleth"
           }
          ],
          "contour": [
           {
            "colorbar": {
             "outlinewidth": 0,
             "ticks": ""
            },
            "colorscale": [
             [
              0,
              "#0d0887"
             ],
             [
              0.1111111111111111,
              "#46039f"
             ],
             [
              0.2222222222222222,
              "#7201a8"
             ],
             [
              0.3333333333333333,
              "#9c179e"
             ],
             [
              0.4444444444444444,
              "#bd3786"
             ],
             [
              0.5555555555555556,
              "#d8576b"
             ],
             [
              0.6666666666666666,
              "#ed7953"
             ],
             [
              0.7777777777777778,
              "#fb9f3a"
             ],
             [
              0.8888888888888888,
              "#fdca26"
             ],
             [
              1,
              "#f0f921"
             ]
            ],
            "type": "contour"
           }
          ],
          "contourcarpet": [
           {
            "colorbar": {
             "outlinewidth": 0,
             "ticks": ""
            },
            "type": "contourcarpet"
           }
          ],
          "heatmap": [
           {
            "colorbar": {
             "outlinewidth": 0,
             "ticks": ""
            },
            "colorscale": [
             [
              0,
              "#0d0887"
             ],
             [
              0.1111111111111111,
              "#46039f"
             ],
             [
              0.2222222222222222,
              "#7201a8"
             ],
             [
              0.3333333333333333,
              "#9c179e"
             ],
             [
              0.4444444444444444,
              "#bd3786"
             ],
             [
              0.5555555555555556,
              "#d8576b"
             ],
             [
              0.6666666666666666,
              "#ed7953"
             ],
             [
              0.7777777777777778,
              "#fb9f3a"
             ],
             [
              0.8888888888888888,
              "#fdca26"
             ],
             [
              1,
              "#f0f921"
             ]
            ],
            "type": "heatmap"
           }
          ],
          "heatmapgl": [
           {
            "colorbar": {
             "outlinewidth": 0,
             "ticks": ""
            },
            "colorscale": [
             [
              0,
              "#0d0887"
             ],
             [
              0.1111111111111111,
              "#46039f"
             ],
             [
              0.2222222222222222,
              "#7201a8"
             ],
             [
              0.3333333333333333,
              "#9c179e"
             ],
             [
              0.4444444444444444,
              "#bd3786"
             ],
             [
              0.5555555555555556,
              "#d8576b"
             ],
             [
              0.6666666666666666,
              "#ed7953"
             ],
             [
              0.7777777777777778,
              "#fb9f3a"
             ],
             [
              0.8888888888888888,
              "#fdca26"
             ],
             [
              1,
              "#f0f921"
             ]
            ],
            "type": "heatmapgl"
           }
          ],
          "histogram": [
           {
            "marker": {
             "pattern": {
              "fillmode": "overlay",
              "size": 10,
              "solidity": 0.2
             }
            },
            "type": "histogram"
           }
          ],
          "histogram2d": [
           {
            "colorbar": {
             "outlinewidth": 0,
             "ticks": ""
            },
            "colorscale": [
             [
              0,
              "#0d0887"
             ],
             [
              0.1111111111111111,
              "#46039f"
             ],
             [
              0.2222222222222222,
              "#7201a8"
             ],
             [
              0.3333333333333333,
              "#9c179e"
             ],
             [
              0.4444444444444444,
              "#bd3786"
             ],
             [
              0.5555555555555556,
              "#d8576b"
             ],
             [
              0.6666666666666666,
              "#ed7953"
             ],
             [
              0.7777777777777778,
              "#fb9f3a"
             ],
             [
              0.8888888888888888,
              "#fdca26"
             ],
             [
              1,
              "#f0f921"
             ]
            ],
            "type": "histogram2d"
           }
          ],
          "histogram2dcontour": [
           {
            "colorbar": {
             "outlinewidth": 0,
             "ticks": ""
            },
            "colorscale": [
             [
              0,
              "#0d0887"
             ],
             [
              0.1111111111111111,
              "#46039f"
             ],
             [
              0.2222222222222222,
              "#7201a8"
             ],
             [
              0.3333333333333333,
              "#9c179e"
             ],
             [
              0.4444444444444444,
              "#bd3786"
             ],
             [
              0.5555555555555556,
              "#d8576b"
             ],
             [
              0.6666666666666666,
              "#ed7953"
             ],
             [
              0.7777777777777778,
              "#fb9f3a"
             ],
             [
              0.8888888888888888,
              "#fdca26"
             ],
             [
              1,
              "#f0f921"
             ]
            ],
            "type": "histogram2dcontour"
           }
          ],
          "mesh3d": [
           {
            "colorbar": {
             "outlinewidth": 0,
             "ticks": ""
            },
            "type": "mesh3d"
           }
          ],
          "parcoords": [
           {
            "line": {
             "colorbar": {
              "outlinewidth": 0,
              "ticks": ""
             }
            },
            "type": "parcoords"
           }
          ],
          "pie": [
           {
            "automargin": true,
            "type": "pie"
           }
          ],
          "scatter": [
           {
            "fillpattern": {
             "fillmode": "overlay",
             "size": 10,
             "solidity": 0.2
            },
            "type": "scatter"
           }
          ],
          "scatter3d": [
           {
            "line": {
             "colorbar": {
              "outlinewidth": 0,
              "ticks": ""
             }
            },
            "marker": {
             "colorbar": {
              "outlinewidth": 0,
              "ticks": ""
             }
            },
            "type": "scatter3d"
           }
          ],
          "scattercarpet": [
           {
            "marker": {
             "colorbar": {
              "outlinewidth": 0,
              "ticks": ""
             }
            },
            "type": "scattercarpet"
           }
          ],
          "scattergeo": [
           {
            "marker": {
             "colorbar": {
              "outlinewidth": 0,
              "ticks": ""
             }
            },
            "type": "scattergeo"
           }
          ],
          "scattergl": [
           {
            "marker": {
             "colorbar": {
              "outlinewidth": 0,
              "ticks": ""
             }
            },
            "type": "scattergl"
           }
          ],
          "scattermapbox": [
           {
            "marker": {
             "colorbar": {
              "outlinewidth": 0,
              "ticks": ""
             }
            },
            "type": "scattermapbox"
           }
          ],
          "scatterpolar": [
           {
            "marker": {
             "colorbar": {
              "outlinewidth": 0,
              "ticks": ""
             }
            },
            "type": "scatterpolar"
           }
          ],
          "scatterpolargl": [
           {
            "marker": {
             "colorbar": {
              "outlinewidth": 0,
              "ticks": ""
             }
            },
            "type": "scatterpolargl"
           }
          ],
          "scatterternary": [
           {
            "marker": {
             "colorbar": {
              "outlinewidth": 0,
              "ticks": ""
             }
            },
            "type": "scatterternary"
           }
          ],
          "surface": [
           {
            "colorbar": {
             "outlinewidth": 0,
             "ticks": ""
            },
            "colorscale": [
             [
              0,
              "#0d0887"
             ],
             [
              0.1111111111111111,
              "#46039f"
             ],
             [
              0.2222222222222222,
              "#7201a8"
             ],
             [
              0.3333333333333333,
              "#9c179e"
             ],
             [
              0.4444444444444444,
              "#bd3786"
             ],
             [
              0.5555555555555556,
              "#d8576b"
             ],
             [
              0.6666666666666666,
              "#ed7953"
             ],
             [
              0.7777777777777778,
              "#fb9f3a"
             ],
             [
              0.8888888888888888,
              "#fdca26"
             ],
             [
              1,
              "#f0f921"
             ]
            ],
            "type": "surface"
           }
          ],
          "table": [
           {
            "cells": {
             "fill": {
              "color": "#EBF0F8"
             },
             "line": {
              "color": "white"
             }
            },
            "header": {
             "fill": {
              "color": "#C8D4E3"
             },
             "line": {
              "color": "white"
             }
            },
            "type": "table"
           }
          ]
         },
         "layout": {
          "annotationdefaults": {
           "arrowcolor": "#2a3f5f",
           "arrowhead": 0,
           "arrowwidth": 1
          },
          "autotypenumbers": "strict",
          "coloraxis": {
           "colorbar": {
            "outlinewidth": 0,
            "ticks": ""
           }
          },
          "colorscale": {
           "diverging": [
            [
             0,
             "#8e0152"
            ],
            [
             0.1,
             "#c51b7d"
            ],
            [
             0.2,
             "#de77ae"
            ],
            [
             0.3,
             "#f1b6da"
            ],
            [
             0.4,
             "#fde0ef"
            ],
            [
             0.5,
             "#f7f7f7"
            ],
            [
             0.6,
             "#e6f5d0"
            ],
            [
             0.7,
             "#b8e186"
            ],
            [
             0.8,
             "#7fbc41"
            ],
            [
             0.9,
             "#4d9221"
            ],
            [
             1,
             "#276419"
            ]
           ],
           "sequential": [
            [
             0,
             "#0d0887"
            ],
            [
             0.1111111111111111,
             "#46039f"
            ],
            [
             0.2222222222222222,
             "#7201a8"
            ],
            [
             0.3333333333333333,
             "#9c179e"
            ],
            [
             0.4444444444444444,
             "#bd3786"
            ],
            [
             0.5555555555555556,
             "#d8576b"
            ],
            [
             0.6666666666666666,
             "#ed7953"
            ],
            [
             0.7777777777777778,
             "#fb9f3a"
            ],
            [
             0.8888888888888888,
             "#fdca26"
            ],
            [
             1,
             "#f0f921"
            ]
           ],
           "sequentialminus": [
            [
             0,
             "#0d0887"
            ],
            [
             0.1111111111111111,
             "#46039f"
            ],
            [
             0.2222222222222222,
             "#7201a8"
            ],
            [
             0.3333333333333333,
             "#9c179e"
            ],
            [
             0.4444444444444444,
             "#bd3786"
            ],
            [
             0.5555555555555556,
             "#d8576b"
            ],
            [
             0.6666666666666666,
             "#ed7953"
            ],
            [
             0.7777777777777778,
             "#fb9f3a"
            ],
            [
             0.8888888888888888,
             "#fdca26"
            ],
            [
             1,
             "#f0f921"
            ]
           ]
          },
          "colorway": [
           "#636efa",
           "#EF553B",
           "#00cc96",
           "#ab63fa",
           "#FFA15A",
           "#19d3f3",
           "#FF6692",
           "#B6E880",
           "#FF97FF",
           "#FECB52"
          ],
          "font": {
           "color": "#2a3f5f"
          },
          "geo": {
           "bgcolor": "white",
           "lakecolor": "white",
           "landcolor": "#E5ECF6",
           "showlakes": true,
           "showland": true,
           "subunitcolor": "white"
          },
          "hoverlabel": {
           "align": "left"
          },
          "hovermode": "closest",
          "mapbox": {
           "style": "light"
          },
          "paper_bgcolor": "white",
          "plot_bgcolor": "#E5ECF6",
          "polar": {
           "angularaxis": {
            "gridcolor": "white",
            "linecolor": "white",
            "ticks": ""
           },
           "bgcolor": "#E5ECF6",
           "radialaxis": {
            "gridcolor": "white",
            "linecolor": "white",
            "ticks": ""
           }
          },
          "scene": {
           "xaxis": {
            "backgroundcolor": "#E5ECF6",
            "gridcolor": "white",
            "gridwidth": 2,
            "linecolor": "white",
            "showbackground": true,
            "ticks": "",
            "zerolinecolor": "white"
           },
           "yaxis": {
            "backgroundcolor": "#E5ECF6",
            "gridcolor": "white",
            "gridwidth": 2,
            "linecolor": "white",
            "showbackground": true,
            "ticks": "",
            "zerolinecolor": "white"
           },
           "zaxis": {
            "backgroundcolor": "#E5ECF6",
            "gridcolor": "white",
            "gridwidth": 2,
            "linecolor": "white",
            "showbackground": true,
            "ticks": "",
            "zerolinecolor": "white"
           }
          },
          "shapedefaults": {
           "line": {
            "color": "#2a3f5f"
           }
          },
          "ternary": {
           "aaxis": {
            "gridcolor": "white",
            "linecolor": "white",
            "ticks": ""
           },
           "baxis": {
            "gridcolor": "white",
            "linecolor": "white",
            "ticks": ""
           },
           "bgcolor": "#E5ECF6",
           "caxis": {
            "gridcolor": "white",
            "linecolor": "white",
            "ticks": ""
           }
          },
          "title": {
           "x": 0.05
          },
          "xaxis": {
           "automargin": true,
           "gridcolor": "white",
           "linecolor": "white",
           "ticks": "",
           "title": {
            "standoff": 15
           },
           "zerolinecolor": "white",
           "zerolinewidth": 2
          },
          "yaxis": {
           "automargin": true,
           "gridcolor": "white",
           "linecolor": "white",
           "ticks": "",
           "title": {
            "standoff": 15
           },
           "zerolinecolor": "white",
           "zerolinewidth": 2
          }
         }
        },
        "title": {
         "text": "Dispersión de Pases Precisos en el Último Tercio y Grandes Oportunidades Creadas - Liga 1 2024"
        },
        "xaxis": {
         "anchor": "y",
         "domain": [
          0,
          1
         ],
         "title": {
          "text": "Pases Precisos en el Último Tercio"
         }
        },
        "yaxis": {
         "anchor": "x",
         "domain": [
          0,
          1
         ],
         "title": {
          "text": "Pases Precisos"
         }
        }
       }
      }
     },
     "metadata": {},
     "output_type": "display_data"
    }
   ],
   "source": [
    "df_combined = df_oponentes_per90_incluyendo_alianza\n",
    "\n",
    "# Crear una columna para el color según el equipo\n",
    "df_combined['color'] = df_combined['team'].apply(lambda x: 'blue' if x == 'Alianza Lima' else 'red')\n",
    "df_combined = df_combined[(df_combined['Posicion'] == 'D') | (df_combined['Posicion'] == 'M') | (df_combined['Posicion'] == 'F')]\n",
    "# Eliminar atipicos\n",
    "df_combined = df_combined[(df_combined['accuratePassesPercentage'] != 100) & (df_combined['accuratePassesPercentage'] >= 50)]\n",
    "\n",
    "\n",
    "# Crear el gráfico de dispersión\n",
    "fig = px.scatter(df_combined, y='accuratePassesPercentage', x='accurateFinalThirdPasses', color='color',\n",
    "                 size='accuratePasses', hover_data=['player', 'team', 'accuratePasses'],\n",
    "                 title='Dispersión de Pases Precisos en el Último Tercio y Grandes Oportunidades Creadas - Liga 1 2024',\n",
    "                 labels={'accurateFinalThirdPasses': 'Pases Precisos en el Último Tercio',\n",
    "                         'bigChancesCreated': 'Grandes Oportunidades Creadas',\n",
    "                         'accuratePasses': 'Pases Precisos'})\n",
    "\n",
    "# Actualizar el esquema de colores para que solo muestre azul y rojo\n",
    "fig.update_traces(marker=dict(colorscale=[[0, 'red'], [1, 'blue']]))\n",
    "\n",
    "# Personalizar los ejes y el diseño\n",
    "fig.update_layout(xaxis_title='Pases Precisos en el Último Tercio', yaxis_title='Pases Precisos',\n",
    "                  legend_title_text='Equipo')\n",
    "\n",
    "# Mostrar el gráfico\n",
    "fig.show()\n"
   ]
  },
  {
   "cell_type": "code",
   "execution_count": 88,
   "metadata": {
    "vscode": {
     "languageId": "ruby"
    }
   },
   "outputs": [
    {
     "data": {
      "application/vnd.plotly.v1+json": {
       "config": {
        "plotlyServerURL": "https://plot.ly"
       },
       "data": [
        {
         "customdata": [
          [
           "Carlos Zambrano",
           "Alianza Lima",
           40.4
          ],
          [
           "Marco Huaman",
           "Alianza Lima",
           17.81
          ],
          [
           "Sebastián Rodríguez",
           "Alianza Lima",
           44.74
          ],
          [
           "Gabriel Costa",
           "Alianza Lima",
           40.49
          ],
          [
           "Catriel Cabellos",
           "Alianza Lima",
           25.16
          ],
          [
           "Kevin Serna",
           "Alianza Lima",
           15.32
          ],
          [
           "Christian Neira",
           "Alianza Lima",
           40.37
          ],
          [
           "Adrián Arregui",
           "Alianza Lima",
           34.88
          ],
          [
           "Franco Zanelatto",
           "Alianza Lima",
           17.88
          ],
          [
           "Axel Moyano",
           "Alianza Lima",
           32.67
          ],
          [
           "Hernán Barcos",
           "Alianza Lima",
           16.01
          ],
          [
           "Cecilio Waterman",
           "Alianza Lima",
           9.96
          ]
         ],
         "hovertemplate": "color=blue<br>Pases Largos Precisos=%{x}<br>Porcentaje de Pases Largos Precisos=%{y}<br>Pases Precisos=%{customdata[2]}<br>player=%{customdata[0]}<br>team=%{customdata[1]}<extra></extra>",
         "legendgroup": "blue",
         "marker": {
          "color": "#636efa",
          "colorscale": [
           [
            0,
            "red"
           ],
           [
            1,
            "blue"
           ]
          ],
          "size": [
           40.4,
           17.81,
           44.74,
           40.49,
           25.16,
           15.32,
           40.37,
           34.88,
           17.88,
           32.67,
           16.01,
           9.96
          ],
          "sizemode": "area",
          "sizeref": 0.1875,
          "symbol": "circle"
         },
         "mode": "markers",
         "name": "blue",
         "orientation": "v",
         "showlegend": true,
         "type": "scatter",
         "x": [
          5.77,
          1.66,
          3.84,
          2.54,
          2.03,
          0.99,
          3.15,
          2.84,
          0.91,
          2.67,
          0.77,
          0.26
         ],
         "xaxis": "x",
         "y": [
          67.27,
          63.64,
          60.2,
          91.67,
          58.33,
          52.17,
          65.22,
          50,
          66.67,
          80,
          50,
          75
         ],
         "yaxis": "y"
        },
        {
         "customdata": [
          [
           "Piero Guzman",
           "Universitario",
           34
          ],
          [
           "Jean Pierre Archimbaud",
           "Melgar",
           24.9
          ],
          [
           "Pedro Garcia",
           "Los Chankas CYC",
           28.13
          ],
          [
           "Williams Riveros",
           "Universitario",
           30.65
          ],
          [
           "Jonathan Bilbao",
           "Cusco FC",
           45.66
          ],
          [
           "Koichi Aparicio",
           "Universidad Técnica de Cajamarca",
           21.27
          ],
          [
           "Geisson Perea",
           "Universidad César Vallejo",
           36.57
          ],
          [
           "Daniel Franco",
           "Club Atlético Grau",
           45.12
          ],
          [
           "Marco Saravia",
           "Universitario",
           49.35
          ],
          [
           "Germán Mera",
           "Cienciano",
           32.67
          ],
          [
           "Nelinho Quina",
           "Carlos A. Mannucci",
           23
          ],
          [
           "Alex Rambal",
           "Asociación Deportiva Tarma",
           35.23
          ],
          [
           "Johan Madrid",
           "Universidad César Vallejo",
           32.04
          ],
          [
           "Leonel Galeano",
           "Melgar",
           35.15
          ],
          [
           "Leonel González",
           "Melgar",
           32.02
          ],
          [
           "Cristian González",
           "Comerciantes Unidos",
           27.92
          ],
          [
           "Gu Choi",
           "Asociación Deportiva Tarma",
           33.75
          ],
          [
           "Marlon Ruidías",
           "Los Chankas CYC",
           28.32
          ],
          [
           "Alejandro Ramos",
           "Melgar",
           35.94
          ],
          [
           "Jefferson Portales",
           "Cienciano",
           52.85
          ],
          [
           "Denilson Vargas",
           "Unión Comercio",
           22.98
          ],
          [
           "Luis Caicedo",
           "Deportivo Garcilaso",
           26.59
          ],
          [
           "Edgar Lastre",
           "Comerciantes Unidos",
           14.31
          ],
          [
           "José Zevallos",
           "Cusco FC",
           34.39
          ],
          [
           "Gilmar Paredes",
           "Cienciano",
           34.14
          ],
          [
           "Pablo Cárdenas",
           "Cusco FC",
           29.35
          ],
          [
           "Aldair Perleche",
           "Alianza Atlético de Sullana",
           15.95
          ],
          [
           "Jorge Bosmediano",
           "Comerciantes Unidos",
           33.93
          ],
          [
           "Matías Lazo",
           "Melgar",
           33.69
          ],
          [
           "Carlos Cabello",
           "Universidad César Vallejo",
           25.67
          ],
          [
           "Diego Minaya",
           "Sport Huancayo",
           26.8
          ],
          [
           "Alonso Tamaríz",
           "Cusco FC",
           22.11
          ],
          [
           "Lucas Diarte",
           "Melgar",
           26.15
          ],
          [
           "Jose Cuero",
           "Deportivo Garcilaso",
           10.95
          ],
          [
           "Franz Schmidt",
           "Cusco FC",
           39.27
          ],
          [
           "Flavio Alcedo",
           "Sport Boys",
           24.86
          ],
          [
           "Jean Franco Falconi",
           "Asociación Deportiva Tarma",
           27.47
          ],
          [
           "Jairo Vélez",
           "Universidad César Vallejo",
           25.74
          ],
          [
           "Iván Colman",
           "Cusco FC",
           48.14
          ],
          [
           "Yoshimar Yotún",
           "Club Sporting Cristal",
           26.05
          ],
          [
           "Víctor Cedrón",
           "Asociación Deportiva Tarma",
           32.94
          ],
          [
           "Tomás Martínez",
           "Melgar",
           31.2
          ],
          [
           "Joao Rojas",
           "Asociación Deportiva Tarma",
           19.9
          ],
          [
           "Joel Sánchez",
           "Universidad Técnica de Cajamarca",
           34.32
          ],
          [
           "Marcos Lliuya",
           "Sport Huancayo",
           58.4
          ],
          [
           "Lucas Colitto",
           "Cusco FC",
           24.46
          ],
          [
           "Jairo Concha",
           "Universitario",
           34.51
          ],
          [
           "Rodrigo Ureña",
           "Universitario",
           43.42
          ],
          [
           "Martín Távara",
           "Club Sporting Cristal",
           33.04
          ],
          [
           "Mauro Da Luz",
           "Club Atlético Grau",
           13.8
          ],
          [
           "Martín Pérez Guedes",
           "Universitario",
           33.01
          ],
          [
           "Matías Pérez García",
           "Sport Huancayo",
           41.69
          ],
          [
           "Kenji Cabrera",
           "Melgar",
           26.18
          ],
          [
           "Horacio Orzan",
           "Melgar",
           41.07
          ],
          [
           "Diego Carabaño",
           "Los Chankas CYC",
           50.04
          ],
          [
           "Ademar Robles",
           "Los Chankas CYC",
           47.74
          ],
          [
           "Yimy Gamero",
           "Asociación Deportiva Tarma",
           29.32
          ],
          [
           "Luis Chicaiza",
           "Deportivo Garcilaso",
           24.4
          ],
          [
           "Ray Gómez",
           "Sport Huancayo",
           33.6
          ],
          [
           "Ricardo Salcedo",
           "Sport Huancayo",
           33.68
          ],
          [
           "Oslimg Mora",
           "Club Atlético Grau",
           21.2
          ],
          [
           "Marco Aldair Rodríguez",
           "Cienciano",
           21.34
          ],
          [
           "Christofer Gonzáles",
           "Universitario",
           39.19
          ],
          [
           "Horacio Calcaterra",
           "Universitario",
           42.23
          ],
          [
           "Carlos Ross",
           "Sport Huancayo",
           25.2
          ],
          [
           "Claudio Torrejón",
           "Cienciano",
           35.51
          ],
          [
           "Nicolás Silva",
           "Cusco FC",
           16.2
          ],
          [
           "Mauricio Cuero",
           "Deportivo Garcilaso",
           19.19
          ],
          [
           "Diego Soto",
           "Club Atlético Grau",
           33.36
          ],
          [
           "Nicolás Albarracín",
           "Carlos A. Mannucci",
           25.97
          ],
          [
           "Jimmy Pérez",
           "Universidad Técnica de Cajamarca",
           30.95
          ],
          [
           "Abdiel Ayarza",
           "Cienciano",
           16.11
          ],
          [
           "Piero Magallanes",
           "Comerciantes Unidos",
           22.57
          ],
          [
           "Alejandro Ramirez",
           "Universidad César Vallejo",
           25.88
          ],
          [
           "Freddy Oncoy",
           "Club Atlético Grau",
           37.23
          ],
          [
           "Kevin Ruiz",
           "Universidad Técnica de Cajamarca",
           20.54
          ],
          [
           "Pierre Da Silva",
           "Universidad César Vallejo",
           22.56
          ],
          [
           "Oswaldo Valenzuela",
           "Cusco FC",
           38.08
          ],
          [
           "Brandon Palacios",
           "Sport Boys",
           17.89
          ],
          [
           "Donald Millán",
           "Unión Comercio",
           32.23
          ],
          [
           "Alexis Arias",
           "Melgar",
           37.64
          ],
          [
           "Jhonier Viveros",
           "Sport Huancayo",
           41.09
          ],
          [
           "Gerson Barreto",
           "Universidad César Vallejo",
           35.47
          ],
          [
           "Frank Ysique",
           "Universidad César Vallejo",
           47.57
          ],
          [
           "Luis Pérez",
           "Asociación Deportiva Tarma",
           37.1
          ],
          [
           "Jorge Bazan",
           "Deportivo Garcilaso",
           19.89
          ],
          [
           "Gino Guerrero",
           "Unión Comercio",
           21.96
          ],
          [
           "Jose Antonio Parodi",
           "Comerciantes Unidos",
           39.24
          ],
          [
           "Rudy Palomino",
           "Los Chankas CYC",
           37.05
          ],
          [
           "Abel Casquete",
           "Los Chankas CYC",
           18.32
          ],
          [
           "Gustavo Viera",
           "Carlos A. Mannucci",
           27.65
          ],
          [
           "Piero Serra",
           "Unión Comercio",
           33.35
          ],
          [
           "Didier La Torre",
           "Cienciano",
           16.94
          ],
          [
           "Jorge Murrugarra",
           "Universitario",
           32.82
          ],
          [
           "José Cortés",
           "Carlos A. Mannucci",
           13.38
          ],
          [
           "Óscar Pinto",
           "Comerciantes Unidos",
           16.08
          ],
          [
           "Tarek Carranza",
           "Sport Huancayo",
           43.41
          ],
          [
           "Ángel Ojeda",
           "Universidad Técnica de Cajamarca",
           26.85
          ],
          [
           "Paulo De La Cruz",
           "Club Atlético Grau",
           19.06
          ],
          [
           "Jorge Rios",
           "Sport Boys",
           26.78
          ],
          [
           "Eslyn Correa",
           "Cusco FC",
           75
          ],
          [
           "David Dioses",
           "Sport Huancayo",
           38.64
          ],
          [
           "Walter Tandazo",
           "Melgar",
           38.82
          ],
          [
           "Rodrigo Castro",
           "Alianza Atlético de Sullana",
           16.98
          ],
          [
           "Josepmir Ballón",
           "Universidad César Vallejo",
           41.5
          ],
          [
           "Jordan Guivin",
           "Cienciano",
           39.36
          ],
          [
           "Ángel Benítez",
           "Carlos A. Mannucci",
           19.07
          ],
          [
           "Cristian Benavente",
           "Universidad César Vallejo",
           28.13
          ],
          [
           "Christian Flores",
           "Alianza Atlético de Sullana",
           30.27
          ],
          [
           "Ray Sandoval",
           "Club Atlético Grau",
           16.44
          ],
          [
           "Keyvin Paico",
           "Comerciantes Unidos",
           42.32
          ],
          [
           "Byron Angulo",
           "Unión Comercio",
           13.54
          ],
          [
           "Kevin Santamaría",
           "Comerciantes Unidos",
           24.85
          ],
          [
           "Josue Torres",
           "Unión Comercio",
           18.07
          ],
          [
           "Alexander Lecaros",
           "Cienciano",
           15.96
          ],
          [
           "Luis Benites",
           "Sport Huancayo",
           46.76
          ],
          [
           "Javier Núñez",
           "Sport Huancayo",
           32.93
          ],
          [
           "Miguel Cornejo",
           "Deportivo Garcilaso",
           25.57
          ],
          [
           "Edson Aubert",
           "Asociación Deportiva Tarma",
           38.81
          ],
          [
           "Dustin Rengifo",
           "Los Chankas CYC",
           34.62
          ],
          [
           "Rodrigo Salinas",
           "Comerciantes Unidos",
           25.47
          ],
          [
           "Enzo Borletti",
           "Comerciantes Unidos",
           32.06
          ],
          [
           "Oshiro Takeuchi",
           "Los Chankas CYC",
           13.08
          ],
          [
           "Victor Labrin",
           "Unión Comercio",
           16.09
          ],
          [
           "Diego Ramírez",
           "Deportivo Garcilaso",
           26.5
          ],
          [
           "Leonardo Mifflin",
           "Cienciano",
           27.95
          ],
          [
           "Bernardo Cuesta",
           "Melgar",
           15.98
          ],
          [
           "Edison Flores",
           "Universitario",
           16.81
          ],
          [
           "José Miguel Manzaneda",
           "Los Chankas CYC",
           23.2
          ],
          [
           "Marlon de Jesús",
           "Unión Comercio",
           10.81
          ],
          [
           "Alex Valera",
           "Universitario",
           14.35
          ],
          [
           "Pablo Erustes",
           "Deportivo Garcilaso",
           14.98
          ],
          [
           "Joao Grimaldo",
           "Club Sporting Cristal",
           16.79
          ],
          [
           "Sebastián Gonzales Zela",
           "Comerciantes Unidos",
           16.28
          ],
          [
           "Ángel Ledesma",
           "Los Chankas CYC",
           10.38
          ],
          [
           "Angel Quiñonez",
           "Asociación Deportiva Tarma",
           13.4
          ],
          [
           "Santiago Rebagliati",
           "Alianza Atlético de Sullana",
           16.68
          ],
          [
           "Lucas Cano",
           "Sport Huancayo",
           18.28
          ],
          [
           "Pablo Lavandeira",
           "Melgar",
           23.08
          ],
          [
           "Alan Murialdo",
           "Los Chankas CYC",
           7.68
          ],
          [
           "James Morales",
           "Cusco FC",
           19.22
          ],
          [
           "Luis Ramos",
           "Cusco FC",
           12.8
          ],
          [
           "Renny Sinisterra",
           "Deportivo Garcilaso",
           12.1
          ],
          [
           "Osnar Noronha",
           "Universidad César Vallejo",
           15.5
          ],
          [
           "Irven Ávila",
           "Club Sporting Cristal",
           20.15
          ],
          [
           "Percy Liza",
           "Carlos A. Mannucci",
           15.15
          ],
          [
           "Gonzalo Gabriel Ritacco",
           "Cienciano",
           39.79
          ],
          [
           "Kenji Barrios",
           "Comerciantes Unidos",
           24.24
          ],
          [
           "Ronal Huaccha",
           "Sport Huancayo",
           16.7
          ],
          [
           "Jorge Tandazo",
           "Unión Comercio",
           12.12
          ],
          [
           "Hideyoshi Arakaki",
           "Alianza Atlético de Sullana",
           10.33
          ],
          [
           "Danilo Carando",
           "Cienciano",
           8.64
          ],
          [
           "Alejandro Hohberg",
           "Club Sporting Cristal",
           17.27
          ]
         ],
         "hovertemplate": "color=red<br>Pases Largos Precisos=%{x}<br>Porcentaje de Pases Largos Precisos=%{y}<br>Pases Precisos=%{customdata[2]}<br>player=%{customdata[0]}<br>team=%{customdata[1]}<extra></extra>",
         "legendgroup": "red",
         "marker": {
          "color": "#EF553B",
          "colorscale": [
           [
            0,
            "red"
           ],
           [
            1,
            "blue"
           ]
          ],
          "size": [
           34,
           24.9,
           28.13,
           30.65,
           45.66,
           21.27,
           36.57,
           45.12,
           49.35,
           32.67,
           23,
           35.23,
           32.04,
           35.15,
           32.02,
           27.92,
           33.75,
           28.32,
           35.94,
           52.85,
           22.98,
           26.59,
           14.31,
           34.39,
           34.14,
           29.35,
           15.95,
           33.93,
           33.69,
           25.67,
           26.8,
           22.11,
           26.15,
           10.95,
           39.27,
           24.86,
           27.47,
           25.74,
           48.14,
           26.05,
           32.94,
           31.2,
           19.9,
           34.32,
           58.4,
           24.46,
           34.51,
           43.42,
           33.04,
           13.8,
           33.01,
           41.69,
           26.18,
           41.07,
           50.04,
           47.74,
           29.32,
           24.4,
           33.6,
           33.68,
           21.2,
           21.34,
           39.19,
           42.23,
           25.2,
           35.51,
           16.2,
           19.19,
           33.36,
           25.97,
           30.95,
           16.11,
           22.57,
           25.88,
           37.23,
           20.54,
           22.56,
           38.08,
           17.89,
           32.23,
           37.64,
           41.09,
           35.47,
           47.57,
           37.1,
           19.89,
           21.96,
           39.24,
           37.05,
           18.32,
           27.65,
           33.35,
           16.94,
           32.82,
           13.38,
           16.08,
           43.41,
           26.85,
           19.06,
           26.78,
           75,
           38.64,
           38.82,
           16.98,
           41.5,
           39.36,
           19.07,
           28.13,
           30.27,
           16.44,
           42.32,
           13.54,
           24.85,
           18.07,
           15.96,
           46.76,
           32.93,
           25.57,
           38.81,
           34.62,
           25.47,
           32.06,
           13.08,
           16.09,
           26.5,
           27.95,
           15.98,
           16.81,
           23.2,
           10.81,
           14.35,
           14.98,
           16.79,
           16.28,
           10.38,
           13.4,
           16.68,
           18.28,
           23.08,
           7.68,
           19.22,
           12.8,
           12.1,
           15.5,
           20.15,
           15.15,
           39.79,
           24.24,
           16.7,
           12.12,
           10.33,
           8.64,
           17.27
          ],
          "sizemode": "area",
          "sizeref": 0.1875,
          "symbol": "circle"
         },
         "mode": "markers",
         "name": "red",
         "orientation": "v",
         "showlegend": true,
         "type": "scatter",
         "x": [
          7,
          3.37,
          5.63,
          3,
          4.26,
          4.28,
          3.99,
          8.34,
          11.61,
          4.11,
          3.57,
          5.99,
          3.67,
          7.37,
          7,
          6.24,
          4.25,
          2.75,
          1.93,
          6.41,
          1.98,
          5.26,
          0.76,
          2.23,
          1.77,
          1.96,
          2.18,
          1.96,
          2.89,
          3.06,
          3.2,
          0.88,
          3.04,
          0.81,
          2.73,
          3.41,
          5.84,
          2.35,
          3.6,
          2.32,
          3.13,
          1.95,
          1.21,
          2.04,
          7.1,
          1.04,
          4,
          7.49,
          4.73,
          1.01,
          3.41,
          5.08,
          2.74,
          7.14,
          13.07,
          6.94,
          2.17,
          1.75,
          3.9,
          2.15,
          1.65,
          0.83,
          2.76,
          3.85,
          1.46,
          4.86,
          0.95,
          1.71,
          3.55,
          1.37,
          1.38,
          1.03,
          1.83,
          1.74,
          1.57,
          1.33,
          0.62,
          3.02,
          1.72,
          4.37,
          3.27,
          3.59,
          2.64,
          2.92,
          3.91,
          1.45,
          2.58,
          5.08,
          4.38,
          0.72,
          3.81,
          4.88,
          0.91,
          2.77,
          0.34,
          0.44,
          5.18,
          3.44,
          0.72,
          2.65,
          7.5,
          2.83,
          3.53,
          0.78,
          2,
          2.25,
          1.17,
          2.81,
          1.64,
          0.71,
          5.77,
          1.27,
          2.46,
          1.08,
          2.04,
          2.94,
          4.15,
          2.05,
          5.32,
          6.92,
          1.36,
          0.77,
          0.17,
          0.6,
          3.2,
          0.68,
          1.05,
          0.75,
          1.24,
          1,
          1.1,
          0.66,
          0.91,
          0.88,
          0.22,
          0.57,
          0.31,
          1.33,
          1.75,
          0.12,
          3.5,
          0.41,
          0.59,
          0.78,
          0.92,
          0.52,
          1.92,
          0.9,
          0.87,
          0.87,
          0.63,
          0.45,
          1.57
         ],
         "xaxis": "x",
         "y": [
          53.85,
          55.93,
          50,
          50,
          61.9,
          55.2,
          52.94,
          50.23,
          66.67,
          60.66,
          55.56,
          66.02,
          52.43,
          58.85,
          52.43,
          53.33,
          56.2,
          52.11,
          50,
          68.97,
          50.94,
          50.36,
          58.33,
          60,
          50,
          50,
          50,
          63.64,
          69.05,
          51.79,
          50.79,
          57.14,
          62.5,
          66.67,
          50,
          52.24,
          62.5,
          55.74,
          53.21,
          61.54,
          58.14,
          54,
          68.18,
          50.88,
          74.5,
          50,
          65.45,
          61.42,
          61.11,
          63.64,
          68.52,
          63.1,
          61.54,
          68.03,
          74.47,
          62.32,
          54.1,
          66.67,
          81.63,
          57.89,
          63.64,
          50,
          56,
          58.14,
          75,
          74.76,
          52,
          80,
          56.44,
          50,
          55.17,
          66.67,
          50.98,
          54.55,
          54.17,
          56.25,
          62.5,
          58.11,
          59.09,
          55.88,
          51.85,
          91.67,
          56.14,
          77.08,
          66.67,
          76.92,
          85.71,
          55.32,
          54.05,
          56.25,
          52.31,
          54.44,
          55.56,
          57.14,
          50,
          62.5,
          55.32,
          62.75,
          53.33,
          64.71,
          50,
          60,
          66.67,
          53.85,
          62.07,
          61.9,
          56,
          80,
          80,
          54.55,
          71.19,
          52.94,
          50,
          60,
          60,
          71.43,
          65.38,
          50,
          57.55,
          66.67,
          80,
          66.67,
          50,
          50,
          58.33,
          50,
          51.61,
          50,
          57.69,
          70,
          57.89,
          50,
          60,
          63.64,
          66.67,
          71.43,
          50,
          51.85,
          54.55,
          50,
          80,
          50,
          50,
          55.56,
          63.64,
          60,
          50,
          50,
          77.78,
          50,
          50,
          50,
          60
         ],
         "yaxis": "y"
        }
       ],
       "layout": {
        "legend": {
         "itemsizing": "constant",
         "title": {
          "text": "Equipo"
         },
         "tracegroupgap": 0
        },
        "template": {
         "data": {
          "bar": [
           {
            "error_x": {
             "color": "#2a3f5f"
            },
            "error_y": {
             "color": "#2a3f5f"
            },
            "marker": {
             "line": {
              "color": "#E5ECF6",
              "width": 0.5
             },
             "pattern": {
              "fillmode": "overlay",
              "size": 10,
              "solidity": 0.2
             }
            },
            "type": "bar"
           }
          ],
          "barpolar": [
           {
            "marker": {
             "line": {
              "color": "#E5ECF6",
              "width": 0.5
             },
             "pattern": {
              "fillmode": "overlay",
              "size": 10,
              "solidity": 0.2
             }
            },
            "type": "barpolar"
           }
          ],
          "carpet": [
           {
            "aaxis": {
             "endlinecolor": "#2a3f5f",
             "gridcolor": "white",
             "linecolor": "white",
             "minorgridcolor": "white",
             "startlinecolor": "#2a3f5f"
            },
            "baxis": {
             "endlinecolor": "#2a3f5f",
             "gridcolor": "white",
             "linecolor": "white",
             "minorgridcolor": "white",
             "startlinecolor": "#2a3f5f"
            },
            "type": "carpet"
           }
          ],
          "choropleth": [
           {
            "colorbar": {
             "outlinewidth": 0,
             "ticks": ""
            },
            "type": "choropleth"
           }
          ],
          "contour": [
           {
            "colorbar": {
             "outlinewidth": 0,
             "ticks": ""
            },
            "colorscale": [
             [
              0,
              "#0d0887"
             ],
             [
              0.1111111111111111,
              "#46039f"
             ],
             [
              0.2222222222222222,
              "#7201a8"
             ],
             [
              0.3333333333333333,
              "#9c179e"
             ],
             [
              0.4444444444444444,
              "#bd3786"
             ],
             [
              0.5555555555555556,
              "#d8576b"
             ],
             [
              0.6666666666666666,
              "#ed7953"
             ],
             [
              0.7777777777777778,
              "#fb9f3a"
             ],
             [
              0.8888888888888888,
              "#fdca26"
             ],
             [
              1,
              "#f0f921"
             ]
            ],
            "type": "contour"
           }
          ],
          "contourcarpet": [
           {
            "colorbar": {
             "outlinewidth": 0,
             "ticks": ""
            },
            "type": "contourcarpet"
           }
          ],
          "heatmap": [
           {
            "colorbar": {
             "outlinewidth": 0,
             "ticks": ""
            },
            "colorscale": [
             [
              0,
              "#0d0887"
             ],
             [
              0.1111111111111111,
              "#46039f"
             ],
             [
              0.2222222222222222,
              "#7201a8"
             ],
             [
              0.3333333333333333,
              "#9c179e"
             ],
             [
              0.4444444444444444,
              "#bd3786"
             ],
             [
              0.5555555555555556,
              "#d8576b"
             ],
             [
              0.6666666666666666,
              "#ed7953"
             ],
             [
              0.7777777777777778,
              "#fb9f3a"
             ],
             [
              0.8888888888888888,
              "#fdca26"
             ],
             [
              1,
              "#f0f921"
             ]
            ],
            "type": "heatmap"
           }
          ],
          "heatmapgl": [
           {
            "colorbar": {
             "outlinewidth": 0,
             "ticks": ""
            },
            "colorscale": [
             [
              0,
              "#0d0887"
             ],
             [
              0.1111111111111111,
              "#46039f"
             ],
             [
              0.2222222222222222,
              "#7201a8"
             ],
             [
              0.3333333333333333,
              "#9c179e"
             ],
             [
              0.4444444444444444,
              "#bd3786"
             ],
             [
              0.5555555555555556,
              "#d8576b"
             ],
             [
              0.6666666666666666,
              "#ed7953"
             ],
             [
              0.7777777777777778,
              "#fb9f3a"
             ],
             [
              0.8888888888888888,
              "#fdca26"
             ],
             [
              1,
              "#f0f921"
             ]
            ],
            "type": "heatmapgl"
           }
          ],
          "histogram": [
           {
            "marker": {
             "pattern": {
              "fillmode": "overlay",
              "size": 10,
              "solidity": 0.2
             }
            },
            "type": "histogram"
           }
          ],
          "histogram2d": [
           {
            "colorbar": {
             "outlinewidth": 0,
             "ticks": ""
            },
            "colorscale": [
             [
              0,
              "#0d0887"
             ],
             [
              0.1111111111111111,
              "#46039f"
             ],
             [
              0.2222222222222222,
              "#7201a8"
             ],
             [
              0.3333333333333333,
              "#9c179e"
             ],
             [
              0.4444444444444444,
              "#bd3786"
             ],
             [
              0.5555555555555556,
              "#d8576b"
             ],
             [
              0.6666666666666666,
              "#ed7953"
             ],
             [
              0.7777777777777778,
              "#fb9f3a"
             ],
             [
              0.8888888888888888,
              "#fdca26"
             ],
             [
              1,
              "#f0f921"
             ]
            ],
            "type": "histogram2d"
           }
          ],
          "histogram2dcontour": [
           {
            "colorbar": {
             "outlinewidth": 0,
             "ticks": ""
            },
            "colorscale": [
             [
              0,
              "#0d0887"
             ],
             [
              0.1111111111111111,
              "#46039f"
             ],
             [
              0.2222222222222222,
              "#7201a8"
             ],
             [
              0.3333333333333333,
              "#9c179e"
             ],
             [
              0.4444444444444444,
              "#bd3786"
             ],
             [
              0.5555555555555556,
              "#d8576b"
             ],
             [
              0.6666666666666666,
              "#ed7953"
             ],
             [
              0.7777777777777778,
              "#fb9f3a"
             ],
             [
              0.8888888888888888,
              "#fdca26"
             ],
             [
              1,
              "#f0f921"
             ]
            ],
            "type": "histogram2dcontour"
           }
          ],
          "mesh3d": [
           {
            "colorbar": {
             "outlinewidth": 0,
             "ticks": ""
            },
            "type": "mesh3d"
           }
          ],
          "parcoords": [
           {
            "line": {
             "colorbar": {
              "outlinewidth": 0,
              "ticks": ""
             }
            },
            "type": "parcoords"
           }
          ],
          "pie": [
           {
            "automargin": true,
            "type": "pie"
           }
          ],
          "scatter": [
           {
            "fillpattern": {
             "fillmode": "overlay",
             "size": 10,
             "solidity": 0.2
            },
            "type": "scatter"
           }
          ],
          "scatter3d": [
           {
            "line": {
             "colorbar": {
              "outlinewidth": 0,
              "ticks": ""
             }
            },
            "marker": {
             "colorbar": {
              "outlinewidth": 0,
              "ticks": ""
             }
            },
            "type": "scatter3d"
           }
          ],
          "scattercarpet": [
           {
            "marker": {
             "colorbar": {
              "outlinewidth": 0,
              "ticks": ""
             }
            },
            "type": "scattercarpet"
           }
          ],
          "scattergeo": [
           {
            "marker": {
             "colorbar": {
              "outlinewidth": 0,
              "ticks": ""
             }
            },
            "type": "scattergeo"
           }
          ],
          "scattergl": [
           {
            "marker": {
             "colorbar": {
              "outlinewidth": 0,
              "ticks": ""
             }
            },
            "type": "scattergl"
           }
          ],
          "scattermapbox": [
           {
            "marker": {
             "colorbar": {
              "outlinewidth": 0,
              "ticks": ""
             }
            },
            "type": "scattermapbox"
           }
          ],
          "scatterpolar": [
           {
            "marker": {
             "colorbar": {
              "outlinewidth": 0,
              "ticks": ""
             }
            },
            "type": "scatterpolar"
           }
          ],
          "scatterpolargl": [
           {
            "marker": {
             "colorbar": {
              "outlinewidth": 0,
              "ticks": ""
             }
            },
            "type": "scatterpolargl"
           }
          ],
          "scatterternary": [
           {
            "marker": {
             "colorbar": {
              "outlinewidth": 0,
              "ticks": ""
             }
            },
            "type": "scatterternary"
           }
          ],
          "surface": [
           {
            "colorbar": {
             "outlinewidth": 0,
             "ticks": ""
            },
            "colorscale": [
             [
              0,
              "#0d0887"
             ],
             [
              0.1111111111111111,
              "#46039f"
             ],
             [
              0.2222222222222222,
              "#7201a8"
             ],
             [
              0.3333333333333333,
              "#9c179e"
             ],
             [
              0.4444444444444444,
              "#bd3786"
             ],
             [
              0.5555555555555556,
              "#d8576b"
             ],
             [
              0.6666666666666666,
              "#ed7953"
             ],
             [
              0.7777777777777778,
              "#fb9f3a"
             ],
             [
              0.8888888888888888,
              "#fdca26"
             ],
             [
              1,
              "#f0f921"
             ]
            ],
            "type": "surface"
           }
          ],
          "table": [
           {
            "cells": {
             "fill": {
              "color": "#EBF0F8"
             },
             "line": {
              "color": "white"
             }
            },
            "header": {
             "fill": {
              "color": "#C8D4E3"
             },
             "line": {
              "color": "white"
             }
            },
            "type": "table"
           }
          ]
         },
         "layout": {
          "annotationdefaults": {
           "arrowcolor": "#2a3f5f",
           "arrowhead": 0,
           "arrowwidth": 1
          },
          "autotypenumbers": "strict",
          "coloraxis": {
           "colorbar": {
            "outlinewidth": 0,
            "ticks": ""
           }
          },
          "colorscale": {
           "diverging": [
            [
             0,
             "#8e0152"
            ],
            [
             0.1,
             "#c51b7d"
            ],
            [
             0.2,
             "#de77ae"
            ],
            [
             0.3,
             "#f1b6da"
            ],
            [
             0.4,
             "#fde0ef"
            ],
            [
             0.5,
             "#f7f7f7"
            ],
            [
             0.6,
             "#e6f5d0"
            ],
            [
             0.7,
             "#b8e186"
            ],
            [
             0.8,
             "#7fbc41"
            ],
            [
             0.9,
             "#4d9221"
            ],
            [
             1,
             "#276419"
            ]
           ],
           "sequential": [
            [
             0,
             "#0d0887"
            ],
            [
             0.1111111111111111,
             "#46039f"
            ],
            [
             0.2222222222222222,
             "#7201a8"
            ],
            [
             0.3333333333333333,
             "#9c179e"
            ],
            [
             0.4444444444444444,
             "#bd3786"
            ],
            [
             0.5555555555555556,
             "#d8576b"
            ],
            [
             0.6666666666666666,
             "#ed7953"
            ],
            [
             0.7777777777777778,
             "#fb9f3a"
            ],
            [
             0.8888888888888888,
             "#fdca26"
            ],
            [
             1,
             "#f0f921"
            ]
           ],
           "sequentialminus": [
            [
             0,
             "#0d0887"
            ],
            [
             0.1111111111111111,
             "#46039f"
            ],
            [
             0.2222222222222222,
             "#7201a8"
            ],
            [
             0.3333333333333333,
             "#9c179e"
            ],
            [
             0.4444444444444444,
             "#bd3786"
            ],
            [
             0.5555555555555556,
             "#d8576b"
            ],
            [
             0.6666666666666666,
             "#ed7953"
            ],
            [
             0.7777777777777778,
             "#fb9f3a"
            ],
            [
             0.8888888888888888,
             "#fdca26"
            ],
            [
             1,
             "#f0f921"
            ]
           ]
          },
          "colorway": [
           "#636efa",
           "#EF553B",
           "#00cc96",
           "#ab63fa",
           "#FFA15A",
           "#19d3f3",
           "#FF6692",
           "#B6E880",
           "#FF97FF",
           "#FECB52"
          ],
          "font": {
           "color": "#2a3f5f"
          },
          "geo": {
           "bgcolor": "white",
           "lakecolor": "white",
           "landcolor": "#E5ECF6",
           "showlakes": true,
           "showland": true,
           "subunitcolor": "white"
          },
          "hoverlabel": {
           "align": "left"
          },
          "hovermode": "closest",
          "mapbox": {
           "style": "light"
          },
          "paper_bgcolor": "white",
          "plot_bgcolor": "#E5ECF6",
          "polar": {
           "angularaxis": {
            "gridcolor": "white",
            "linecolor": "white",
            "ticks": ""
           },
           "bgcolor": "#E5ECF6",
           "radialaxis": {
            "gridcolor": "white",
            "linecolor": "white",
            "ticks": ""
           }
          },
          "scene": {
           "xaxis": {
            "backgroundcolor": "#E5ECF6",
            "gridcolor": "white",
            "gridwidth": 2,
            "linecolor": "white",
            "showbackground": true,
            "ticks": "",
            "zerolinecolor": "white"
           },
           "yaxis": {
            "backgroundcolor": "#E5ECF6",
            "gridcolor": "white",
            "gridwidth": 2,
            "linecolor": "white",
            "showbackground": true,
            "ticks": "",
            "zerolinecolor": "white"
           },
           "zaxis": {
            "backgroundcolor": "#E5ECF6",
            "gridcolor": "white",
            "gridwidth": 2,
            "linecolor": "white",
            "showbackground": true,
            "ticks": "",
            "zerolinecolor": "white"
           }
          },
          "shapedefaults": {
           "line": {
            "color": "#2a3f5f"
           }
          },
          "ternary": {
           "aaxis": {
            "gridcolor": "white",
            "linecolor": "white",
            "ticks": ""
           },
           "baxis": {
            "gridcolor": "white",
            "linecolor": "white",
            "ticks": ""
           },
           "bgcolor": "#E5ECF6",
           "caxis": {
            "gridcolor": "white",
            "linecolor": "white",
            "ticks": ""
           }
          },
          "title": {
           "x": 0.05
          },
          "xaxis": {
           "automargin": true,
           "gridcolor": "white",
           "linecolor": "white",
           "ticks": "",
           "title": {
            "standoff": 15
           },
           "zerolinecolor": "white",
           "zerolinewidth": 2
          },
          "yaxis": {
           "automargin": true,
           "gridcolor": "white",
           "linecolor": "white",
           "ticks": "",
           "title": {
            "standoff": 15
           },
           "zerolinecolor": "white",
           "zerolinewidth": 2
          }
         }
        },
        "title": {
         "text": "Dispersión de Pases Largos Precisos - Liga 1 2024"
        },
        "xaxis": {
         "anchor": "y",
         "domain": [
          0,
          1
         ],
         "title": {
          "text": "Pases Largos Precisos"
         }
        },
        "yaxis": {
         "anchor": "x",
         "domain": [
          0,
          1
         ],
         "title": {
          "text": "Porcentaje de Pases Largos Precisos"
         }
        }
       }
      }
     },
     "metadata": {},
     "output_type": "display_data"
    }
   ],
   "source": [
    "df_combined = df_oponentes_per90_incluyendo_alianza\n",
    "\n",
    "# Crear una columna para el color según el equipo\n",
    "df_combined['color'] = df_combined['team'].apply(lambda x: 'blue' if x == 'Alianza Lima' else 'red')\n",
    "\n",
    "# Filtrar por posiciones específicas\n",
    "df_combined = df_combined[(df_combined['Posicion'] == 'D') | (df_combined['Posicion'] == 'M') | (df_combined['Posicion'] == 'F')]\n",
    "\n",
    "# Eliminar atípicos\n",
    "df_combined = df_combined[(df_combined['accurateLongBallsPercentage'] != 100) & (df_combined['accurateLongBallsPercentage'] >= 50)]\n",
    "\n",
    "# Crear el gráfico de dispersión\n",
    "fig = px.scatter(df_combined, y='accurateLongBallsPercentage', x='accurateLongBalls', color='color',\n",
    "                 size='accuratePasses', hover_data=['player', 'team', 'accuratePasses'],\n",
    "                 title='Dispersión de Pases Largos Precisos - Liga 1 2024',\n",
    "                 labels={'accurateLongBalls': 'Pases Largos Precisos', 'accurateLongBallsPercentage': 'Porcentaje de Pases Largos Precisos',\n",
    "                         'accuratePasses': 'Pases Precisos'})\n",
    "\n",
    "# Actualizar el esquema de colores para que solo muestre azul y rojo\n",
    "fig.update_traces(marker=dict(colorscale=[[0, 'red'], [1, 'blue']]))\n",
    "\n",
    "# Personalizar los ejes y el diseño\n",
    "fig.update_layout(xaxis_title='Pases Largos Precisos', yaxis_title='Porcentaje de Pases Largos Precisos',\n",
    "                  legend_title_text='Equipo')\n",
    "\n",
    "# Mostrar el gráfico\n",
    "fig.show()"
   ]
  },
  {
   "cell_type": "code",
   "execution_count": 89,
   "metadata": {
    "vscode": {
     "languageId": "ruby"
    }
   },
   "outputs": [
    {
     "data": {
      "application/vnd.plotly.v1+json": {
       "config": {
        "plotlyServerURL": "https://plot.ly"
       },
       "data": [
        {
         "customdata": [
          [
           "Carlos Zambrano",
           "Alianza Lima",
           259
          ],
          [
           "Marco Huaman",
           "Alianza Lima",
           75
          ],
          [
           "Sebastián Rodríguez",
           "Alianza Lima",
           687
          ],
          [
           "Gabriel Costa",
           "Alianza Lima",
           175
          ],
          [
           "Catriel Cabellos",
           "Alianza Lima",
           260
          ],
          [
           "Kevin Serna",
           "Alianza Lima",
           185
          ],
          [
           "Christian Neira",
           "Alianza Lima",
           192
          ],
          [
           "Adrián Arregui",
           "Alianza Lima",
           319
          ],
          [
           "Franco Zanelatto",
           "Alianza Lima",
           118
          ],
          [
           "Axel Moyano",
           "Alianza Lima",
           49
          ],
          [
           "Hernán Barcos",
           "Alianza Lima",
           208
          ],
          [
           "Cecilio Waterman",
           "Alianza Lima",
           115
          ]
         ],
         "hovertemplate": "color=blue<br>Pases Largos Precisos=%{x}<br>Porcentaje de Pases Largos Precisos=%{y}<br>Pases Precisos=%{customdata[2]}<br>player=%{customdata[0]}<br>team=%{customdata[1]}<extra></extra>",
         "legendgroup": "blue",
         "marker": {
          "color": "#636efa",
          "colorscale": [
           [
            0,
            "red"
           ],
           [
            1,
            "blue"
           ]
          ],
          "size": [
           259,
           75,
           687,
           175,
           260,
           185,
           192,
           319,
           118,
           49,
           208,
           115
          ],
          "sizemode": "area",
          "sizeref": 2.2825,
          "symbol": "circle"
         },
         "mode": "markers",
         "name": "blue",
         "orientation": "v",
         "showlegend": true,
         "type": "scatter",
         "x": [
          37,
          7,
          59,
          11,
          21,
          12,
          15,
          26,
          6,
          4,
          10,
          3
         ],
         "xaxis": "x",
         "y": [
          67.27,
          63.64,
          60.2,
          91.67,
          58.33,
          52.17,
          65.22,
          50,
          66.67,
          80,
          50,
          75
         ],
         "yaxis": "y"
        },
        {
         "customdata": [
          [
           "Piero Guzman",
           "Universitario",
           34
          ],
          [
           "Jean Pierre Archimbaud",
           "Melgar",
           244
          ],
          [
           "Pedro Garcia",
           "Los Chankas CYC",
           5
          ],
          [
           "Williams Riveros",
           "Universitario",
           521
          ],
          [
           "Jonathan Bilbao",
           "Cusco FC",
           557
          ],
          [
           "Koichi Aparicio",
           "Universidad Técnica de Cajamarca",
           343
          ],
          [
           "Geisson Perea",
           "Universidad César Vallejo",
           412
          ],
          [
           "Daniel Franco",
           "Club Atlético Grau",
           579
          ],
          [
           "Marco Saravia",
           "Universitario",
           17
          ],
          [
           "Germán Mera",
           "Cienciano",
           294
          ],
          [
           "Nelinho Quina",
           "Carlos A. Mannucci",
           161
          ],
          [
           "Alex Rambal",
           "Asociación Deportiva Tarma",
           400
          ],
          [
           "Johan Madrid",
           "Universidad César Vallejo",
           472
          ],
          [
           "Leonel Galeano",
           "Melgar",
           539
          ],
          [
           "Leonel González",
           "Melgar",
           444
          ],
          [
           "Cristian González",
           "Comerciantes Unidos",
           322
          ],
          [
           "Gu Choi",
           "Asociación Deportiva Tarma",
           540
          ],
          [
           "Marlon Ruidías",
           "Los Chankas CYC",
           381
          ],
          [
           "Alejandro Ramos",
           "Melgar",
           353
          ],
          [
           "Jefferson Portales",
           "Cienciano",
           165
          ],
          [
           "Denilson Vargas",
           "Unión Comercio",
           313
          ],
          [
           "Luis Caicedo",
           "Deportivo Garcilaso",
           354
          ],
          [
           "Edgar Lastre",
           "Comerciantes Unidos",
           131
          ],
          [
           "José Zevallos",
           "Cusco FC",
           509
          ],
          [
           "Gilmar Paredes",
           "Cienciano",
           77
          ],
          [
           "Pablo Cárdenas",
           "Cusco FC",
           30
          ],
          [
           "Aldair Perleche",
           "Alianza Atlético de Sullana",
           95
          ],
          [
           "Jorge Bosmediano",
           "Comerciantes Unidos",
           121
          ],
          [
           "Matías Lazo",
           "Melgar",
           338
          ],
          [
           "Carlos Cabello",
           "Universidad César Vallejo",
           243
          ],
          [
           "Diego Minaya",
           "Sport Huancayo",
           268
          ],
          [
           "Alonso Tamaríz",
           "Cusco FC",
           100
          ],
          [
           "Lucas Diarte",
           "Melgar",
           86
          ],
          [
           "Jose Cuero",
           "Deportivo Garcilaso",
           27
          ],
          [
           "Franz Schmidt",
           "Cusco FC",
           72
          ],
          [
           "Flavio Alcedo",
           "Sport Boys",
           255
          ],
          [
           "Jean Franco Falconi",
           "Asociación Deportiva Tarma",
           94
          ],
          [
           "Jairo Vélez",
           "Universidad César Vallejo",
           373
          ],
          [
           "Iván Colman",
           "Cusco FC",
           775
          ],
          [
           "Yoshimar Yotún",
           "Club Sporting Cristal",
           180
          ],
          [
           "Víctor Cedrón",
           "Asociación Deportiva Tarma",
           526
          ],
          [
           "Tomás Martínez",
           "Melgar",
           433
          ],
          [
           "Joao Rojas",
           "Asociación Deportiva Tarma",
           247
          ],
          [
           "Joel Sánchez",
           "Universidad Técnica de Cajamarca",
           487
          ],
          [
           "Marcos Lliuya",
           "Sport Huancayo",
           913
          ],
          [
           "Lucas Colitto",
           "Cusco FC",
           377
          ],
          [
           "Jairo Concha",
           "Universitario",
           311
          ],
          [
           "Rodrigo Ureña",
           "Universitario",
           452
          ],
          [
           "Martín Távara",
           "Club Sporting Cristal",
           384
          ],
          [
           "Mauro Da Luz",
           "Club Atlético Grau",
           191
          ],
          [
           "Martín Pérez Guedes",
           "Universitario",
           358
          ],
          [
           "Matías Pérez García",
           "Sport Huancayo",
           435
          ],
          [
           "Kenji Cabrera",
           "Melgar",
           153
          ],
          [
           "Horacio Orzan",
           "Melgar",
           575
          ],
          [
           "Diego Carabaño",
           "Los Chankas CYC",
           268
          ],
          [
           "Ademar Robles",
           "Los Chankas CYC",
           296
          ],
          [
           "Yimy Gamero",
           "Asociación Deportiva Tarma",
           445
          ],
          [
           "Luis Chicaiza",
           "Deportivo Garcilaso",
           167
          ],
          [
           "Ray Gómez",
           "Sport Huancayo",
           345
          ],
          [
           "Ricardo Salcedo",
           "Sport Huancayo",
           518
          ],
          [
           "Oslimg Mora",
           "Club Atlético Grau",
           90
          ],
          [
           "Marco Aldair Rodríguez",
           "Cienciano",
           309
          ],
          [
           "Christofer Gonzáles",
           "Universitario",
           199
          ],
          [
           "Horacio Calcaterra",
           "Universitario",
           274
          ],
          [
           "Carlos Ross",
           "Sport Huancayo",
           310
          ],
          [
           "Claudio Torrejón",
           "Cienciano",
           563
          ],
          [
           "Nicolás Silva",
           "Cusco FC",
           221
          ],
          [
           "Mauricio Cuero",
           "Deportivo Garcilaso",
           45
          ],
          [
           "Diego Soto",
           "Club Atlético Grau",
           536
          ],
          [
           "Nicolás Albarracín",
           "Carlos A. Mannucci",
           247
          ],
          [
           "Jimmy Pérez",
           "Universidad Técnica de Cajamarca",
           359
          ],
          [
           "Abdiel Ayarza",
           "Cienciano",
           188
          ],
          [
           "Piero Magallanes",
           "Comerciantes Unidos",
           320
          ],
          [
           "Alejandro Ramirez",
           "Universidad César Vallejo",
           178
          ],
          [
           "Freddy Oncoy",
           "Club Atlético Grau",
           309
          ],
          [
           "Kevin Ruiz",
           "Universidad Técnica de Cajamarca",
           139
          ],
          [
           "Pierre Da Silva",
           "Universidad César Vallejo",
           182
          ],
          [
           "Oswaldo Valenzuela",
           "Cusco FC",
           542
          ],
          [
           "Brandon Palacios",
           "Sport Boys",
           135
          ],
          [
           "Donald Millán",
           "Unión Comercio",
           140
          ],
          [
           "Alexis Arias",
           "Melgar",
           161
          ],
          [
           "Jhonier Viveros",
           "Sport Huancayo",
           126
          ],
          [
           "Gerson Barreto",
           "Universidad César Vallejo",
           430
          ],
          [
           "Frank Ysique",
           "Universidad César Vallejo",
           602
          ],
          [
           "Luis Pérez",
           "Asociación Deportiva Tarma",
           418
          ],
          [
           "Jorge Bazan",
           "Deportivo Garcilaso",
           137
          ],
          [
           "Gino Guerrero",
           "Unión Comercio",
           51
          ],
          [
           "Jose Antonio Parodi",
           "Comerciantes Unidos",
           201
          ],
          [
           "Rudy Palomino",
           "Los Chankas CYC",
           338
          ],
          [
           "Abel Casquete",
           "Los Chankas CYC",
           230
          ],
          [
           "Gustavo Viera",
           "Carlos A. Mannucci",
           247
          ],
          [
           "Piero Serra",
           "Unión Comercio",
           335
          ],
          [
           "Didier La Torre",
           "Cienciano",
           93
          ],
          [
           "Jorge Murrugarra",
           "Universitario",
           237
          ],
          [
           "José Cortés",
           "Carlos A. Mannucci",
           157
          ],
          [
           "Óscar Pinto",
           "Comerciantes Unidos",
           184
          ],
          [
           "Tarek Carranza",
           "Sport Huancayo",
           218
          ],
          [
           "Ángel Ojeda",
           "Universidad Técnica de Cajamarca",
           250
          ],
          [
           "Paulo De La Cruz",
           "Club Atlético Grau",
           213
          ],
          [
           "Jorge Rios",
           "Sport Boys",
           111
          ],
          [
           "Eslyn Correa",
           "Cusco FC",
           10
          ],
          [
           "David Dioses",
           "Sport Huancayo",
           82
          ],
          [
           "Walter Tandazo",
           "Melgar",
           264
          ],
          [
           "Rodrigo Castro",
           "Alianza Atlético de Sullana",
           153
          ],
          [
           "Josepmir Ballón",
           "Universidad César Vallejo",
           374
          ],
          [
           "Jordan Guivin",
           "Cienciano",
           227
          ],
          [
           "Ángel Benítez",
           "Carlos A. Mannucci",
           229
          ],
          [
           "Cristian Benavente",
           "Universidad César Vallejo",
           40
          ],
          [
           "Christian Flores",
           "Alianza Atlético de Sullana",
           74
          ],
          [
           "Ray Sandoval",
           "Club Atlético Grau",
           139
          ],
          [
           "Keyvin Paico",
           "Comerciantes Unidos",
           308
          ],
          [
           "Byron Angulo",
           "Unión Comercio",
           96
          ],
          [
           "Kevin Santamaría",
           "Comerciantes Unidos",
           111
          ],
          [
           "Josue Torres",
           "Unión Comercio",
           50
          ],
          [
           "Alexander Lecaros",
           "Cienciano",
           47
          ],
          [
           "Luis Benites",
           "Sport Huancayo",
           159
          ],
          [
           "Javier Núñez",
           "Sport Huancayo",
           135
          ],
          [
           "Miguel Cornejo",
           "Deportivo Garcilaso",
           50
          ],
          [
           "Edson Aubert",
           "Asociación Deportiva Tarma",
           445
          ],
          [
           "Dustin Rengifo",
           "Los Chankas CYC",
           10
          ],
          [
           "Rodrigo Salinas",
           "Comerciantes Unidos",
           75
          ],
          [
           "Enzo Borletti",
           "Comerciantes Unidos",
           83
          ],
          [
           "Oshiro Takeuchi",
           "Los Chankas CYC",
           75
          ],
          [
           "Victor Labrin",
           "Unión Comercio",
           27
          ],
          [
           "Diego Ramírez",
           "Deportivo Garcilaso",
           58
          ],
          [
           "Leonardo Mifflin",
           "Cienciano",
           41
          ],
          [
           "Bernardo Cuesta",
           "Melgar",
           244
          ],
          [
           "Edison Flores",
           "Universitario",
           223
          ],
          [
           "José Miguel Manzaneda",
           "Los Chankas CYC",
           281
          ],
          [
           "Marlon de Jesús",
           "Unión Comercio",
           76
          ],
          [
           "Alex Valera",
           "Universitario",
           143
          ],
          [
           "Pablo Erustes",
           "Deportivo Garcilaso",
           160
          ],
          [
           "Joao Grimaldo",
           "Club Sporting Cristal",
           222
          ],
          [
           "Sebastián Gonzales Zela",
           "Comerciantes Unidos",
           129
          ],
          [
           "Ángel Ledesma",
           "Los Chankas CYC",
           94
          ],
          [
           "Angel Quiñonez",
           "Asociación Deportiva Tarma",
           117
          ],
          [
           "Santiago Rebagliati",
           "Alianza Atlético de Sullana",
           53
          ],
          [
           "Lucas Cano",
           "Sport Huancayo",
           193
          ],
          [
           "Pablo Lavandeira",
           "Melgar",
           79
          ],
          [
           "Alan Murialdo",
           "Los Chankas CYC",
           63
          ],
          [
           "James Morales",
           "Cusco FC",
           22
          ],
          [
           "Luis Ramos",
           "Cusco FC",
           62
          ],
          [
           "Renny Sinisterra",
           "Deportivo Garcilaso",
           41
          ],
          [
           "Osnar Noronha",
           "Universidad César Vallejo",
           99
          ],
          [
           "Irven Ávila",
           "Club Sporting Cristal",
           154
          ],
          [
           "Percy Liza",
           "Carlos A. Mannucci",
           87
          ],
          [
           "Gonzalo Gabriel Ritacco",
           "Cienciano",
           145
          ],
          [
           "Kenji Barrios",
           "Comerciantes Unidos",
           108
          ],
          [
           "Ronal Huaccha",
           "Sport Huancayo",
           134
          ],
          [
           "Jorge Tandazo",
           "Unión Comercio",
           14
          ],
          [
           "Hideyoshi Arakaki",
           "Alianza Atlético de Sullana",
           66
          ],
          [
           "Danilo Carando",
           "Cienciano",
           19
          ],
          [
           "Alejandro Hohberg",
           "Club Sporting Cristal",
           33
          ]
         ],
         "hovertemplate": "color=red<br>Pases Largos Precisos=%{x}<br>Porcentaje de Pases Largos Precisos=%{y}<br>Pases Precisos=%{customdata[2]}<br>player=%{customdata[0]}<br>team=%{customdata[1]}<extra></extra>",
         "legendgroup": "red",
         "marker": {
          "color": "#EF553B",
          "colorscale": [
           [
            0,
            "red"
           ],
           [
            1,
            "blue"
           ]
          ],
          "size": [
           34,
           244,
           5,
           521,
           557,
           343,
           412,
           579,
           17,
           294,
           161,
           400,
           472,
           539,
           444,
           322,
           540,
           381,
           353,
           165,
           313,
           354,
           131,
           509,
           77,
           30,
           95,
           121,
           338,
           243,
           268,
           100,
           86,
           27,
           72,
           255,
           94,
           373,
           775,
           180,
           526,
           433,
           247,
           487,
           913,
           377,
           311,
           452,
           384,
           191,
           358,
           435,
           153,
           575,
           268,
           296,
           445,
           167,
           345,
           518,
           90,
           309,
           199,
           274,
           310,
           563,
           221,
           45,
           536,
           247,
           359,
           188,
           320,
           178,
           309,
           139,
           182,
           542,
           135,
           140,
           161,
           126,
           430,
           602,
           418,
           137,
           51,
           201,
           338,
           230,
           247,
           335,
           93,
           237,
           157,
           184,
           218,
           250,
           213,
           111,
           10,
           82,
           264,
           153,
           374,
           227,
           229,
           40,
           74,
           139,
           308,
           96,
           111,
           50,
           47,
           159,
           135,
           50,
           445,
           10,
           75,
           83,
           75,
           27,
           58,
           41,
           244,
           223,
           281,
           76,
           143,
           160,
           222,
           129,
           94,
           117,
           53,
           193,
           79,
           63,
           22,
           62,
           41,
           99,
           154,
           87,
           145,
           108,
           134,
           14,
           66,
           19,
           33
          ],
          "sizemode": "area",
          "sizeref": 2.2825,
          "symbol": "circle"
         },
         "mode": "markers",
         "name": "red",
         "orientation": "v",
         "showlegend": true,
         "type": "scatter",
         "x": [
          7,
          33,
          1,
          51,
          52,
          69,
          45,
          107,
          4,
          37,
          25,
          68,
          54,
          113,
          97,
          72,
          68,
          37,
          19,
          20,
          27,
          70,
          7,
          33,
          4,
          2,
          13,
          7,
          29,
          29,
          32,
          4,
          10,
          2,
          5,
          35,
          20,
          34,
          58,
          16,
          50,
          27,
          15,
          29,
          111,
          16,
          36,
          78,
          55,
          14,
          37,
          53,
          16,
          100,
          70,
          43,
          33,
          12,
          40,
          33,
          7,
          12,
          14,
          25,
          18,
          77,
          13,
          4,
          57,
          13,
          16,
          12,
          26,
          12,
          13,
          9,
          5,
          43,
          13,
          19,
          14,
          11,
          32,
          37,
          44,
          10,
          6,
          26,
          40,
          9,
          34,
          49,
          5,
          20,
          4,
          5,
          26,
          32,
          8,
          11,
          1,
          6,
          24,
          7,
          18,
          13,
          14,
          4,
          4,
          6,
          42,
          9,
          11,
          3,
          6,
          10,
          17,
          4,
          61,
          2,
          4,
          2,
          1,
          1,
          7,
          1,
          16,
          10,
          15,
          7,
          11,
          7,
          12,
          7,
          2,
          5,
          1,
          14,
          6,
          1,
          4,
          2,
          2,
          5,
          7,
          3,
          7,
          4,
          7,
          1,
          4,
          1,
          3
         ],
         "xaxis": "x",
         "y": [
          53.85,
          55.93,
          50,
          50,
          61.9,
          55.2,
          52.94,
          50.23,
          66.67,
          60.66,
          55.56,
          66.02,
          52.43,
          58.85,
          52.43,
          53.33,
          56.2,
          52.11,
          50,
          68.97,
          50.94,
          50.36,
          58.33,
          60,
          50,
          50,
          50,
          63.64,
          69.05,
          51.79,
          50.79,
          57.14,
          62.5,
          66.67,
          50,
          52.24,
          62.5,
          55.74,
          53.21,
          61.54,
          58.14,
          54,
          68.18,
          50.88,
          74.5,
          50,
          65.45,
          61.42,
          61.11,
          63.64,
          68.52,
          63.1,
          61.54,
          68.03,
          74.47,
          62.32,
          54.1,
          66.67,
          81.63,
          57.89,
          63.64,
          50,
          56,
          58.14,
          75,
          74.76,
          52,
          80,
          56.44,
          50,
          55.17,
          66.67,
          50.98,
          54.55,
          54.17,
          56.25,
          62.5,
          58.11,
          59.09,
          55.88,
          51.85,
          91.67,
          56.14,
          77.08,
          66.67,
          76.92,
          85.71,
          55.32,
          54.05,
          56.25,
          52.31,
          54.44,
          55.56,
          57.14,
          50,
          62.5,
          55.32,
          62.75,
          53.33,
          64.71,
          50,
          60,
          66.67,
          53.85,
          62.07,
          61.9,
          56,
          80,
          80,
          54.55,
          71.19,
          52.94,
          50,
          60,
          60,
          71.43,
          65.38,
          50,
          57.55,
          66.67,
          80,
          66.67,
          50,
          50,
          58.33,
          50,
          51.61,
          50,
          57.69,
          70,
          57.89,
          50,
          60,
          63.64,
          66.67,
          71.43,
          50,
          51.85,
          54.55,
          50,
          80,
          50,
          50,
          55.56,
          63.64,
          60,
          50,
          50,
          77.78,
          50,
          50,
          50,
          60
         ],
         "yaxis": "y"
        }
       ],
       "layout": {
        "legend": {
         "itemsizing": "constant",
         "title": {
          "text": "Equipo"
         },
         "tracegroupgap": 0
        },
        "template": {
         "data": {
          "bar": [
           {
            "error_x": {
             "color": "#2a3f5f"
            },
            "error_y": {
             "color": "#2a3f5f"
            },
            "marker": {
             "line": {
              "color": "#E5ECF6",
              "width": 0.5
             },
             "pattern": {
              "fillmode": "overlay",
              "size": 10,
              "solidity": 0.2
             }
            },
            "type": "bar"
           }
          ],
          "barpolar": [
           {
            "marker": {
             "line": {
              "color": "#E5ECF6",
              "width": 0.5
             },
             "pattern": {
              "fillmode": "overlay",
              "size": 10,
              "solidity": 0.2
             }
            },
            "type": "barpolar"
           }
          ],
          "carpet": [
           {
            "aaxis": {
             "endlinecolor": "#2a3f5f",
             "gridcolor": "white",
             "linecolor": "white",
             "minorgridcolor": "white",
             "startlinecolor": "#2a3f5f"
            },
            "baxis": {
             "endlinecolor": "#2a3f5f",
             "gridcolor": "white",
             "linecolor": "white",
             "minorgridcolor": "white",
             "startlinecolor": "#2a3f5f"
            },
            "type": "carpet"
           }
          ],
          "choropleth": [
           {
            "colorbar": {
             "outlinewidth": 0,
             "ticks": ""
            },
            "type": "choropleth"
           }
          ],
          "contour": [
           {
            "colorbar": {
             "outlinewidth": 0,
             "ticks": ""
            },
            "colorscale": [
             [
              0,
              "#0d0887"
             ],
             [
              0.1111111111111111,
              "#46039f"
             ],
             [
              0.2222222222222222,
              "#7201a8"
             ],
             [
              0.3333333333333333,
              "#9c179e"
             ],
             [
              0.4444444444444444,
              "#bd3786"
             ],
             [
              0.5555555555555556,
              "#d8576b"
             ],
             [
              0.6666666666666666,
              "#ed7953"
             ],
             [
              0.7777777777777778,
              "#fb9f3a"
             ],
             [
              0.8888888888888888,
              "#fdca26"
             ],
             [
              1,
              "#f0f921"
             ]
            ],
            "type": "contour"
           }
          ],
          "contourcarpet": [
           {
            "colorbar": {
             "outlinewidth": 0,
             "ticks": ""
            },
            "type": "contourcarpet"
           }
          ],
          "heatmap": [
           {
            "colorbar": {
             "outlinewidth": 0,
             "ticks": ""
            },
            "colorscale": [
             [
              0,
              "#0d0887"
             ],
             [
              0.1111111111111111,
              "#46039f"
             ],
             [
              0.2222222222222222,
              "#7201a8"
             ],
             [
              0.3333333333333333,
              "#9c179e"
             ],
             [
              0.4444444444444444,
              "#bd3786"
             ],
             [
              0.5555555555555556,
              "#d8576b"
             ],
             [
              0.6666666666666666,
              "#ed7953"
             ],
             [
              0.7777777777777778,
              "#fb9f3a"
             ],
             [
              0.8888888888888888,
              "#fdca26"
             ],
             [
              1,
              "#f0f921"
             ]
            ],
            "type": "heatmap"
           }
          ],
          "heatmapgl": [
           {
            "colorbar": {
             "outlinewidth": 0,
             "ticks": ""
            },
            "colorscale": [
             [
              0,
              "#0d0887"
             ],
             [
              0.1111111111111111,
              "#46039f"
             ],
             [
              0.2222222222222222,
              "#7201a8"
             ],
             [
              0.3333333333333333,
              "#9c179e"
             ],
             [
              0.4444444444444444,
              "#bd3786"
             ],
             [
              0.5555555555555556,
              "#d8576b"
             ],
             [
              0.6666666666666666,
              "#ed7953"
             ],
             [
              0.7777777777777778,
              "#fb9f3a"
             ],
             [
              0.8888888888888888,
              "#fdca26"
             ],
             [
              1,
              "#f0f921"
             ]
            ],
            "type": "heatmapgl"
           }
          ],
          "histogram": [
           {
            "marker": {
             "pattern": {
              "fillmode": "overlay",
              "size": 10,
              "solidity": 0.2
             }
            },
            "type": "histogram"
           }
          ],
          "histogram2d": [
           {
            "colorbar": {
             "outlinewidth": 0,
             "ticks": ""
            },
            "colorscale": [
             [
              0,
              "#0d0887"
             ],
             [
              0.1111111111111111,
              "#46039f"
             ],
             [
              0.2222222222222222,
              "#7201a8"
             ],
             [
              0.3333333333333333,
              "#9c179e"
             ],
             [
              0.4444444444444444,
              "#bd3786"
             ],
             [
              0.5555555555555556,
              "#d8576b"
             ],
             [
              0.6666666666666666,
              "#ed7953"
             ],
             [
              0.7777777777777778,
              "#fb9f3a"
             ],
             [
              0.8888888888888888,
              "#fdca26"
             ],
             [
              1,
              "#f0f921"
             ]
            ],
            "type": "histogram2d"
           }
          ],
          "histogram2dcontour": [
           {
            "colorbar": {
             "outlinewidth": 0,
             "ticks": ""
            },
            "colorscale": [
             [
              0,
              "#0d0887"
             ],
             [
              0.1111111111111111,
              "#46039f"
             ],
             [
              0.2222222222222222,
              "#7201a8"
             ],
             [
              0.3333333333333333,
              "#9c179e"
             ],
             [
              0.4444444444444444,
              "#bd3786"
             ],
             [
              0.5555555555555556,
              "#d8576b"
             ],
             [
              0.6666666666666666,
              "#ed7953"
             ],
             [
              0.7777777777777778,
              "#fb9f3a"
             ],
             [
              0.8888888888888888,
              "#fdca26"
             ],
             [
              1,
              "#f0f921"
             ]
            ],
            "type": "histogram2dcontour"
           }
          ],
          "mesh3d": [
           {
            "colorbar": {
             "outlinewidth": 0,
             "ticks": ""
            },
            "type": "mesh3d"
           }
          ],
          "parcoords": [
           {
            "line": {
             "colorbar": {
              "outlinewidth": 0,
              "ticks": ""
             }
            },
            "type": "parcoords"
           }
          ],
          "pie": [
           {
            "automargin": true,
            "type": "pie"
           }
          ],
          "scatter": [
           {
            "fillpattern": {
             "fillmode": "overlay",
             "size": 10,
             "solidity": 0.2
            },
            "type": "scatter"
           }
          ],
          "scatter3d": [
           {
            "line": {
             "colorbar": {
              "outlinewidth": 0,
              "ticks": ""
             }
            },
            "marker": {
             "colorbar": {
              "outlinewidth": 0,
              "ticks": ""
             }
            },
            "type": "scatter3d"
           }
          ],
          "scattercarpet": [
           {
            "marker": {
             "colorbar": {
              "outlinewidth": 0,
              "ticks": ""
             }
            },
            "type": "scattercarpet"
           }
          ],
          "scattergeo": [
           {
            "marker": {
             "colorbar": {
              "outlinewidth": 0,
              "ticks": ""
             }
            },
            "type": "scattergeo"
           }
          ],
          "scattergl": [
           {
            "marker": {
             "colorbar": {
              "outlinewidth": 0,
              "ticks": ""
             }
            },
            "type": "scattergl"
           }
          ],
          "scattermapbox": [
           {
            "marker": {
             "colorbar": {
              "outlinewidth": 0,
              "ticks": ""
             }
            },
            "type": "scattermapbox"
           }
          ],
          "scatterpolar": [
           {
            "marker": {
             "colorbar": {
              "outlinewidth": 0,
              "ticks": ""
             }
            },
            "type": "scatterpolar"
           }
          ],
          "scatterpolargl": [
           {
            "marker": {
             "colorbar": {
              "outlinewidth": 0,
              "ticks": ""
             }
            },
            "type": "scatterpolargl"
           }
          ],
          "scatterternary": [
           {
            "marker": {
             "colorbar": {
              "outlinewidth": 0,
              "ticks": ""
             }
            },
            "type": "scatterternary"
           }
          ],
          "surface": [
           {
            "colorbar": {
             "outlinewidth": 0,
             "ticks": ""
            },
            "colorscale": [
             [
              0,
              "#0d0887"
             ],
             [
              0.1111111111111111,
              "#46039f"
             ],
             [
              0.2222222222222222,
              "#7201a8"
             ],
             [
              0.3333333333333333,
              "#9c179e"
             ],
             [
              0.4444444444444444,
              "#bd3786"
             ],
             [
              0.5555555555555556,
              "#d8576b"
             ],
             [
              0.6666666666666666,
              "#ed7953"
             ],
             [
              0.7777777777777778,
              "#fb9f3a"
             ],
             [
              0.8888888888888888,
              "#fdca26"
             ],
             [
              1,
              "#f0f921"
             ]
            ],
            "type": "surface"
           }
          ],
          "table": [
           {
            "cells": {
             "fill": {
              "color": "#EBF0F8"
             },
             "line": {
              "color": "white"
             }
            },
            "header": {
             "fill": {
              "color": "#C8D4E3"
             },
             "line": {
              "color": "white"
             }
            },
            "type": "table"
           }
          ]
         },
         "layout": {
          "annotationdefaults": {
           "arrowcolor": "#2a3f5f",
           "arrowhead": 0,
           "arrowwidth": 1
          },
          "autotypenumbers": "strict",
          "coloraxis": {
           "colorbar": {
            "outlinewidth": 0,
            "ticks": ""
           }
          },
          "colorscale": {
           "diverging": [
            [
             0,
             "#8e0152"
            ],
            [
             0.1,
             "#c51b7d"
            ],
            [
             0.2,
             "#de77ae"
            ],
            [
             0.3,
             "#f1b6da"
            ],
            [
             0.4,
             "#fde0ef"
            ],
            [
             0.5,
             "#f7f7f7"
            ],
            [
             0.6,
             "#e6f5d0"
            ],
            [
             0.7,
             "#b8e186"
            ],
            [
             0.8,
             "#7fbc41"
            ],
            [
             0.9,
             "#4d9221"
            ],
            [
             1,
             "#276419"
            ]
           ],
           "sequential": [
            [
             0,
             "#0d0887"
            ],
            [
             0.1111111111111111,
             "#46039f"
            ],
            [
             0.2222222222222222,
             "#7201a8"
            ],
            [
             0.3333333333333333,
             "#9c179e"
            ],
            [
             0.4444444444444444,
             "#bd3786"
            ],
            [
             0.5555555555555556,
             "#d8576b"
            ],
            [
             0.6666666666666666,
             "#ed7953"
            ],
            [
             0.7777777777777778,
             "#fb9f3a"
            ],
            [
             0.8888888888888888,
             "#fdca26"
            ],
            [
             1,
             "#f0f921"
            ]
           ],
           "sequentialminus": [
            [
             0,
             "#0d0887"
            ],
            [
             0.1111111111111111,
             "#46039f"
            ],
            [
             0.2222222222222222,
             "#7201a8"
            ],
            [
             0.3333333333333333,
             "#9c179e"
            ],
            [
             0.4444444444444444,
             "#bd3786"
            ],
            [
             0.5555555555555556,
             "#d8576b"
            ],
            [
             0.6666666666666666,
             "#ed7953"
            ],
            [
             0.7777777777777778,
             "#fb9f3a"
            ],
            [
             0.8888888888888888,
             "#fdca26"
            ],
            [
             1,
             "#f0f921"
            ]
           ]
          },
          "colorway": [
           "#636efa",
           "#EF553B",
           "#00cc96",
           "#ab63fa",
           "#FFA15A",
           "#19d3f3",
           "#FF6692",
           "#B6E880",
           "#FF97FF",
           "#FECB52"
          ],
          "font": {
           "color": "#2a3f5f"
          },
          "geo": {
           "bgcolor": "white",
           "lakecolor": "white",
           "landcolor": "#E5ECF6",
           "showlakes": true,
           "showland": true,
           "subunitcolor": "white"
          },
          "hoverlabel": {
           "align": "left"
          },
          "hovermode": "closest",
          "mapbox": {
           "style": "light"
          },
          "paper_bgcolor": "white",
          "plot_bgcolor": "#E5ECF6",
          "polar": {
           "angularaxis": {
            "gridcolor": "white",
            "linecolor": "white",
            "ticks": ""
           },
           "bgcolor": "#E5ECF6",
           "radialaxis": {
            "gridcolor": "white",
            "linecolor": "white",
            "ticks": ""
           }
          },
          "scene": {
           "xaxis": {
            "backgroundcolor": "#E5ECF6",
            "gridcolor": "white",
            "gridwidth": 2,
            "linecolor": "white",
            "showbackground": true,
            "ticks": "",
            "zerolinecolor": "white"
           },
           "yaxis": {
            "backgroundcolor": "#E5ECF6",
            "gridcolor": "white",
            "gridwidth": 2,
            "linecolor": "white",
            "showbackground": true,
            "ticks": "",
            "zerolinecolor": "white"
           },
           "zaxis": {
            "backgroundcolor": "#E5ECF6",
            "gridcolor": "white",
            "gridwidth": 2,
            "linecolor": "white",
            "showbackground": true,
            "ticks": "",
            "zerolinecolor": "white"
           }
          },
          "shapedefaults": {
           "line": {
            "color": "#2a3f5f"
           }
          },
          "ternary": {
           "aaxis": {
            "gridcolor": "white",
            "linecolor": "white",
            "ticks": ""
           },
           "baxis": {
            "gridcolor": "white",
            "linecolor": "white",
            "ticks": ""
           },
           "bgcolor": "#E5ECF6",
           "caxis": {
            "gridcolor": "white",
            "linecolor": "white",
            "ticks": ""
           }
          },
          "title": {
           "x": 0.05
          },
          "xaxis": {
           "automargin": true,
           "gridcolor": "white",
           "linecolor": "white",
           "ticks": "",
           "title": {
            "standoff": 15
           },
           "zerolinecolor": "white",
           "zerolinewidth": 2
          },
          "yaxis": {
           "automargin": true,
           "gridcolor": "white",
           "linecolor": "white",
           "ticks": "",
           "title": {
            "standoff": 15
           },
           "zerolinecolor": "white",
           "zerolinewidth": 2
          }
         }
        },
        "title": {
         "text": "Dispersión de Pases Largos Precisos - Liga 1 2024"
        },
        "xaxis": {
         "anchor": "y",
         "domain": [
          0,
          1
         ],
         "title": {
          "text": "Pases Largos Precisos"
         }
        },
        "yaxis": {
         "anchor": "x",
         "domain": [
          0,
          1
         ],
         "title": {
          "text": "Porcentaje de Pases Largos Precisos"
         }
        }
       }
      }
     },
     "metadata": {},
     "output_type": "display_data"
    }
   ],
   "source": [
    "df_combined = df_oponentes_total_incluyendo_alianza\n",
    "\n",
    "# Crear una columna para el color según el equipo\n",
    "df_combined['color'] = df_combined['team'].apply(lambda x: 'blue' if x == 'Alianza Lima' else 'red')\n",
    "\n",
    "# Filtrar por posiciones específicas\n",
    "df_combined = df_combined[(df_combined['Posicion'] == 'D') | (df_combined['Posicion'] == 'M') | (df_combined['Posicion'] == 'F')]\n",
    "\n",
    "# Eliminar atípicos\n",
    "df_combined = df_combined[(df_combined['accurateLongBallsPercentage'] != 100) & (df_combined['accurateLongBallsPercentage'] >= 50)]\n",
    "\n",
    "# Crear el gráfico de dispersión\n",
    "fig = px.scatter(df_combined, y='accurateLongBallsPercentage', x='accurateLongBalls', color='color',\n",
    "                 size='accuratePasses', hover_data=['player', 'team', 'accuratePasses'],\n",
    "                 title='Dispersión de Pases Largos Precisos - Liga 1 2024',\n",
    "                 labels={'accurateLongBalls': 'Pases Largos Precisos', 'accurateLongBallsPercentage': 'Porcentaje de Pases Largos Precisos',\n",
    "                         'accuratePasses': 'Pases Precisos'})\n",
    "\n",
    "# Actualizar el esquema de colores para que solo muestre azul y rojo\n",
    "fig.update_traces(marker=dict(colorscale=[[0, 'red'], [1, 'blue']]))\n",
    "\n",
    "# Personalizar los ejes y el diseño\n",
    "fig.update_layout(xaxis_title='Pases Largos Precisos', yaxis_title='Porcentaje de Pases Largos Precisos',\n",
    "                  legend_title_text='Equipo')\n",
    "\n",
    "# Mostrar el gráfico\n",
    "fig.show()"
   ]
  },
  {
   "cell_type": "markdown",
   "metadata": {},
   "source": [
    "# Mapas de tiro y calor"
   ]
  },
  {
   "cell_type": "code",
   "execution_count": null,
   "metadata": {},
   "outputs": [],
   "source": [
    "df_shotmap = sofascore.get_match_shotmap(\"https://www.sofascore.com/universidad-cesar-vallejo-alianza-lima/lWsGfc#id:11967822\", save_csv=True)"
   ]
  },
  {
   "cell_type": "code",
   "execution_count": null,
   "metadata": {},
   "outputs": [
    {
     "name": "stdout",
     "output_type": "stream",
     "text": [
      "Index(['isHome', 'shotType', 'situation', 'bodyPart', 'goalMouthLocation',\n",
      "       'goalMouthCoordinates', 'id', 'time', 'timeSeconds', 'draw',\n",
      "       'reversedPeriodTime', 'reversedPeriodTimeSeconds', 'incidentType',\n",
      "       'blockCoordinates', 'goalType', 'name', 'firstName', 'lastName', 'slug',\n",
      "       'shortName', 'position', 'jerseyNumber', 'userCount', 'id', 'x', 'y',\n",
      "       'z'],\n",
      "      dtype='object')\n"
     ]
    }
   ],
   "source": [
    "print(df_shotmap.columns)"
   ]
  },
  {
   "cell_type": "markdown",
   "metadata": {},
   "source": [
    "# Exportar a Excel"
   ]
  },
  {
   "cell_type": "code",
   "execution_count": 55,
   "metadata": {
    "vscode": {
     "languageId": "ruby"
    }
   },
   "outputs": [
    {
     "name": "stdout",
     "output_type": "stream",
     "text": [
      "Nombre de jornada: Jornada 1 - Local vs Universidad Cesar Vallejo\n",
      "                                                               A01\n",
      "nombre              Jornada 1 - Local vs Universidad Cesar Vallejo\n",
      "Condicion                                                    Local\n",
      "Equipo Oponente                          Universidad César Vallejo\n",
      "Torneo                                             Apertura Liga 1\n",
      "Goles Alianza Lima                                               2\n",
      "Goles Oponente                                                   1\n",
      "Resultado                                                 Victoria\n",
      "DT Alianza Lima                                 Alejandro Restrepo\n",
      "DT Oponente                                        Guillermo Salas\n",
      "Puntos obtenidos                                                 3\n",
      "Puntos acumulados                                                3\n",
      "Estadisticas de Alianza Lima\n",
      "                        Valor\n",
      "Ball possession         39.00\n",
      "Expected goals           2.55\n",
      "Big chances              2.00\n",
      "Big chances scored       0.00\n",
      "Big chances missed       2.00\n",
      "Total shots             21.00\n",
      "Shots on target          8.00\n",
      "Shots off target         9.00\n",
      "Blocked shots            4.00\n",
      "Shots inside box        15.00\n",
      "Shots outside box        6.00\n",
      "Hit woodwork             1.00\n",
      "Goalkeeper saves         0.00\n",
      "Total saves              0.00\n",
      "Goal kicks               2.00\n",
      "Corner kicks             7.00\n",
      "Throw-ins               28.00\n",
      "Fouls                    8.00\n",
      "Free kicks               5.00\n",
      "Fouled in final third    1.00\n",
      "Yellow cards             1.00\n",
      "Red cards                1.00\n",
      "Passes                 298.00\n",
      "Accurate passes        206.00\n",
      "Tackles                 25.00\n",
      "Tackles won             17.00\n",
      "Total tackles           25.00\n",
      "Final third entries     45.00\n",
      "Interceptions           11.00\n",
      "Recoveries              58.00\n",
      "Clearances              21.00\n",
      "Duels                   52.00\n",
      "Dispossessed            10.00\n",
      "Offsides                 1.00\n",
      "Long balls              18.00\n",
      "Tried Long balls        40.00\n",
      "Crosses                  6.00\n",
      "Tried Crosses           18.00\n",
      "Ground duels            33.00\n",
      "Tried Ground duels      63.00\n",
      "Aerial duels            10.00\n",
      "Tried Aerial duels      19.00\n",
      "Dribbles                 3.00\n",
      "Tried Dribbles           6.00\n",
      "Estadisticas del Oponente\n",
      "                        Valor\n",
      "Ball possession         61.00\n",
      "Expected goals           0.64\n",
      "Big chances              1.00\n",
      "Big chances scored       1.00\n",
      "Big chances missed       0.00\n",
      "Total shots              3.00\n",
      "Shots on target          1.00\n",
      "Shots off target         2.00\n",
      "Blocked shots            0.00\n",
      "Shots inside box         1.00\n",
      "Shots outside box        2.00\n",
      "Hit woodwork             1.00\n",
      "Goalkeeper saves         6.00\n",
      "Total saves              6.00\n",
      "Goal kicks              12.00\n",
      "Corner kicks             1.00\n",
      "Throw-ins               25.00\n",
      "Fouls                    7.00\n",
      "Free kicks               7.00\n",
      "Fouled in final third    0.00\n",
      "Yellow cards             1.00\n",
      "Red cards                1.00\n",
      "Passes                 479.00\n",
      "Accurate passes        386.00\n",
      "Tackles                 13.00\n",
      "Tackles won             10.00\n",
      "Total tackles           13.00\n",
      "Final third entries     83.00\n",
      "Interceptions           13.00\n",
      "Recoveries              57.00\n",
      "Clearances              30.00\n",
      "Duels                   48.00\n",
      "Dispossessed            10.00\n",
      "Offsides                 2.00\n",
      "Long balls              43.00\n",
      "Tried Long balls        82.00\n",
      "Crosses                  2.00\n",
      "Tried Crosses           11.00\n",
      "Ground duels            30.00\n",
      "Tried Ground duels      63.00\n",
      "Aerial duels             9.00\n",
      "Tried Aerial duels      19.00\n",
      "Dribbles                10.00\n",
      "Tried Dribbles          25.00\n",
      "Nombre de jornada: Jornada 2 - Visita vs Alianza Atlético de Sullana\n",
      "                                                                  A02\n",
      "nombre              Jornada 2 - Visita vs Alianza Atlético de Sullana\n",
      "Condicion                                                      Visita\n",
      "Equipo Oponente                           Alianza Atlético de Sullana\n",
      "Torneo                                                Apertura Liga 1\n",
      "Goles Alianza Lima                                                  2\n",
      "Goles Oponente                                                      0\n",
      "Resultado                                                    Victoria\n",
      "DT Alianza Lima                                    Alejandro Restrepo\n",
      "DT Oponente                                              Jorge Espejo\n",
      "Puntos obtenidos                                                    3\n",
      "Puntos acumulados                                                   6\n",
      "Estadisticas de Alianza Lima\n",
      "                       Valor\n",
      "Ball possession         60.0\n",
      "Expected goals           1.3\n",
      "Big chances              4.0\n",
      "Big chances scored       2.0\n",
      "Big chances missed       2.0\n",
      "Total shots              8.0\n",
      "Shots on target          4.0\n",
      "Shots off target         4.0\n",
      "Blocked shots            0.0\n",
      "Shots inside box         5.0\n",
      "Shots outside box        3.0\n",
      "Hit woodwork             0.0\n",
      "Goalkeeper saves         1.0\n",
      "Total saves              1.0\n",
      "Goal kicks               5.0\n",
      "Corner kicks             2.0\n",
      "Throw-ins               28.0\n",
      "Fouls                   12.0\n",
      "Free kicks              12.0\n",
      "Fouled in final third    2.0\n",
      "Yellow cards             3.0\n",
      "Red cards                0.0\n",
      "Passes                 376.0\n",
      "Accurate passes        284.0\n",
      "Tackles                 10.0\n",
      "Tackles won              9.0\n",
      "Total tackles           10.0\n",
      "Final third entries     50.0\n",
      "Interceptions            3.0\n",
      "Recoveries              43.0\n",
      "Clearances              13.0\n",
      "Duels                   51.0\n",
      "Dispossessed            18.0\n",
      "Offsides                 2.0\n",
      "Long balls              31.0\n",
      "Tried Long balls        60.0\n",
      "Crosses                  3.0\n",
      "Tried Crosses           12.0\n",
      "Ground duels            27.0\n",
      "Tried Ground duels      58.0\n",
      "Aerial duels            16.0\n",
      "Tried Aerial duels      26.0\n",
      "Dribbles                 5.0\n",
      "Tried Dribbles           7.0\n",
      "Estadisticas del Oponente\n",
      "                        Valor\n",
      "Ball possession         40.00\n",
      "Expected goals           0.39\n",
      "Big chances              0.00\n",
      "Big chances scored       0.00\n",
      "Big chances missed       0.00\n",
      "Total shots              3.00\n",
      "Shots on target          1.00\n",
      "Shots off target         2.00\n",
      "Blocked shots            0.00\n",
      "Shots inside box         2.00\n",
      "Shots outside box        1.00\n",
      "Hit woodwork             1.00\n",
      "Goalkeeper saves         2.00\n",
      "Total saves              2.00\n",
      "Goal kicks               7.00\n",
      "Corner kicks             2.00\n",
      "Throw-ins               11.00\n",
      "Fouls                   12.00\n",
      "Free kicks              11.00\n",
      "Fouled in final third    2.00\n",
      "Yellow cards             0.00\n",
      "Red cards                1.00\n",
      "Passes                 244.00\n",
      "Accurate passes        166.00\n",
      "Tackles                 20.00\n",
      "Tackles won             13.00\n",
      "Total tackles           20.00\n",
      "Final third entries     37.00\n",
      "Interceptions           12.00\n",
      "Recoveries              46.00\n",
      "Clearances              20.00\n",
      "Duels                   49.00\n",
      "Dispossessed             7.00\n",
      "Offsides                 0.00\n",
      "Long balls              18.00\n",
      "Tried Long balls        54.00\n",
      "Crosses                  1.00\n",
      "Tried Crosses           13.00\n",
      "Ground duels            31.00\n",
      "Tried Ground duels      58.00\n",
      "Aerial duels            10.00\n",
      "Tried Aerial duels      26.00\n",
      "Dribbles                 1.00\n",
      "Tried Dribbles           4.00\n",
      "Nombre de jornada: Jornada 3 - Local vs Universitario de Deportes\n",
      "                                                               A03\n",
      "nombre              Jornada 3 - Local vs Universitario de Deportes\n",
      "Condicion                                                    Local\n",
      "Equipo Oponente                                      Universitario\n",
      "Torneo                                             Apertura Liga 1\n",
      "Goles Alianza Lima                                               0\n",
      "Goles Oponente                                                   1\n",
      "Resultado                                                  Derrota\n",
      "DT Alianza Lima                                 Alejandro Restrepo\n",
      "DT Oponente                                          Fabian Bustos\n",
      "Puntos obtenidos                                                 0\n",
      "Puntos acumulados                                                6\n",
      "Estadisticas de Alianza Lima\n",
      "                        Valor\n",
      "Ball possession         61.00\n",
      "Expected goals           1.43\n",
      "Big chances              2.00\n",
      "Big chances scored        NaN\n",
      "Big chances missed       2.00\n",
      "Total shots             18.00\n",
      "Shots on target          5.00\n",
      "Shots off target        10.00\n",
      "Blocked shots            3.00\n",
      "Shots inside box        10.00\n",
      "Shots outside box        8.00\n",
      "Hit woodwork             1.00\n",
      "Goalkeeper saves         4.00\n",
      "Total saves              4.00\n",
      "Goal kicks              11.00\n",
      "Corner kicks             8.00\n",
      "Throw-ins               24.00\n",
      "Fouls                   15.00\n",
      "Free kicks              14.00\n",
      "Fouled in final third    2.00\n",
      "Yellow cards             2.00\n",
      "Red cards                2.00\n",
      "Passes                 400.00\n",
      "Accurate passes        313.00\n",
      "Tackles                 11.00\n",
      "Tackles won              9.00\n",
      "Total tackles           11.00\n",
      "Final third entries     73.00\n",
      "Interceptions            5.00\n",
      "Recoveries              47.00\n",
      "Clearances               3.00\n",
      "Duels                   43.00\n",
      "Dispossessed            14.00\n",
      "Offsides                 2.00\n",
      "Long balls              37.00\n",
      "Tried Long balls        70.00\n",
      "Crosses                  6.00\n",
      "Tried Crosses           21.00\n",
      "Ground duels            30.00\n",
      "Tried Ground duels      68.00\n",
      "Aerial duels            14.00\n",
      "Tried Aerial duels      35.00\n",
      "Dribbles                 5.00\n",
      "Tried Dribbles           9.00\n",
      "Estadisticas del Oponente\n",
      "                        Valor\n",
      "Ball possession         39.00\n",
      "Expected goals           1.01\n",
      "Big chances              0.00\n",
      "Big chances scored        NaN\n",
      "Big chances missed       0.00\n",
      "Total shots             12.00\n",
      "Shots on target          5.00\n",
      "Shots off target         7.00\n",
      "Blocked shots            0.00\n",
      "Shots inside box         7.00\n",
      "Shots outside box        5.00\n",
      "Hit woodwork             0.00\n",
      "Goalkeeper saves         5.00\n",
      "Total saves              5.00\n",
      "Goal kicks              13.00\n",
      "Corner kicks             0.00\n",
      "Throw-ins                9.00\n",
      "Fouls                   14.00\n",
      "Free kicks              15.00\n",
      "Fouled in final third    3.00\n",
      "Yellow cards             6.00\n",
      "Red cards                0.00\n",
      "Passes                 260.00\n",
      "Accurate passes        188.00\n",
      "Tackles                 18.00\n",
      "Tackles won             12.00\n",
      "Total tackles           18.00\n",
      "Final third entries     43.00\n",
      "Interceptions            9.00\n",
      "Recoveries              42.00\n",
      "Clearances              31.00\n",
      "Duels                   57.00\n",
      "Dispossessed             4.00\n",
      "Offsides                 0.00\n",
      "Long balls              31.00\n",
      "Tried Long balls        70.00\n",
      "Crosses                  2.00\n",
      "Tried Crosses            5.00\n",
      "Ground duels            38.00\n",
      "Tried Ground duels      68.00\n",
      "Aerial duels            21.00\n",
      "Tried Aerial duels      35.00\n",
      "Dribbles                 6.00\n",
      "Tried Dribbles          13.00\n",
      "Nombre de jornada: Jornada 4 - Visita vs Unión Comercio\n",
      "                                                     A04\n",
      "nombre              Jornada 4 - Visita vs Unión Comercio\n",
      "Condicion                                         Visita\n",
      "Equipo Oponente                           Unión Comercio\n",
      "Torneo                                   Apertura Liga 1\n",
      "Goles Alianza Lima                                     3\n",
      "Goles Oponente                                         1\n",
      "Resultado                                       Victoria\n",
      "DT Alianza Lima                       Alejandro Restrepo\n",
      "DT Oponente                                  Andy Loayza\n",
      "Puntos obtenidos                                       3\n",
      "Puntos acumulados                                      9\n",
      "Estadisticas de Alianza Lima\n",
      "                        Valor\n",
      "Ball possession         54.00\n",
      "Expected goals           1.56\n",
      "Big chances              6.00\n",
      "Big chances scored       2.00\n",
      "Big chances missed       4.00\n",
      "Total shots             14.00\n",
      "Shots on target          5.00\n",
      "Shots off target         6.00\n",
      "Blocked shots            3.00\n",
      "Shots inside box        11.00\n",
      "Shots outside box        3.00\n",
      "Hit woodwork             0.00\n",
      "Goalkeeper saves         3.00\n",
      "Total saves              3.00\n",
      "Goal kicks               7.00\n",
      "Corner kicks             8.00\n",
      "Throw-ins               17.00\n",
      "Fouls                    8.00\n",
      "Free kicks              12.00\n",
      "Fouled in final third    2.00\n",
      "Yellow cards             2.00\n",
      "Red cards                0.00\n",
      "Passes                 347.00\n",
      "Accurate passes        265.00\n",
      "Tackles                 15.00\n",
      "Tackles won             11.00\n",
      "Total tackles           15.00\n",
      "Final third entries     40.00\n",
      "Interceptions            8.00\n",
      "Recoveries              54.00\n",
      "Clearances               7.00\n",
      "Duels                   53.00\n",
      "Dispossessed             8.00\n",
      "Offsides                 3.00\n",
      "Long balls              19.00\n",
      "Tried Long balls        49.00\n",
      "Crosses                  7.00\n",
      "Tried Crosses           18.00\n",
      "Ground duels            32.00\n",
      "Tried Ground duels      57.00\n",
      "Aerial duels             8.00\n",
      "Tried Aerial duels      18.00\n",
      "Dribbles                 5.00\n",
      "Tried Dribbles           8.00\n",
      "Estadisticas del Oponente\n",
      "                        Valor\n",
      "Ball possession         46.00\n",
      "Expected goals           0.98\n",
      "Big chances              1.00\n",
      "Big chances scored       1.00\n",
      "Big chances missed       0.00\n",
      "Total shots              9.00\n",
      "Shots on target          4.00\n",
      "Shots off target         1.00\n",
      "Blocked shots            4.00\n",
      "Shots inside box         3.00\n",
      "Shots outside box        6.00\n",
      "Hit woodwork             0.00\n",
      "Goalkeeper saves         3.00\n",
      "Total saves              3.00\n",
      "Goal kicks               5.00\n",
      "Corner kicks             5.00\n",
      "Throw-ins               14.00\n",
      "Fouls                   13.00\n",
      "Free kicks               8.00\n",
      "Fouled in final third    3.00\n",
      "Yellow cards             4.00\n",
      "Red cards                1.00\n",
      "Passes                 296.00\n",
      "Accurate passes        234.00\n",
      "Tackles                 11.00\n",
      "Tackles won              8.00\n",
      "Total tackles           11.00\n",
      "Final third entries     59.00\n",
      "Interceptions           13.00\n",
      "Recoveries              53.00\n",
      "Clearances              16.00\n",
      "Duels                   47.00\n",
      "Dispossessed            13.00\n",
      "Offsides                 3.00\n",
      "Long balls              36.00\n",
      "Tried Long balls        64.00\n",
      "Crosses                  5.00\n",
      "Tried Crosses           20.00\n",
      "Ground duels            25.00\n",
      "Tried Ground duels      57.00\n",
      "Aerial duels            10.00\n",
      "Tried Aerial duels      18.00\n",
      "Dribbles                 6.00\n",
      "Tried Dribbles           8.00\n",
      "Nombre de jornada: Jornada 5 - Local vs Comerciantes Unidos\n",
      "                                                         A05\n",
      "nombre              Jornada 5 - Local vs Comerciantes Unidos\n",
      "Condicion                                              Local\n",
      "Equipo Oponente                          Comerciantes Unidos\n",
      "Torneo                                       Apertura Liga 1\n",
      "Goles Alianza Lima                                         5\n",
      "Goles Oponente                                             1\n",
      "Resultado                                           Victoria\n",
      "DT Alianza Lima                           Alejandro Restrepo\n",
      "DT Oponente                                 Carlos Silvestri\n",
      "Puntos obtenidos                                           3\n",
      "Puntos acumulados                                         12\n",
      "Estadisticas de Alianza Lima\n",
      "                        Valor\n",
      "Ball possession         60.00\n",
      "Expected goals           3.91\n",
      "Big chances              6.00\n",
      "Big chances scored       4.00\n",
      "Big chances missed       2.00\n",
      "Total shots             24.00\n",
      "Shots on target          8.00\n",
      "Shots off target        13.00\n",
      "Blocked shots            3.00\n",
      "Shots inside box        17.00\n",
      "Shots outside box        7.00\n",
      "Hit woodwork             1.00\n",
      "Goalkeeper saves         1.00\n",
      "Total saves              1.00\n",
      "Goal kicks               4.00\n",
      "Corner kicks             9.00\n",
      "Throw-ins               25.00\n",
      "Fouls                   12.00\n",
      "Free kicks               8.00\n",
      "Fouled in final third    3.00\n",
      "Yellow cards             2.00\n",
      "Red cards                 NaN\n",
      "Passes                 414.00\n",
      "Accurate passes        348.00\n",
      "Tackles                 23.00\n",
      "Tackles won             15.00\n",
      "Total tackles           23.00\n",
      "Final third entries     57.00\n",
      "Interceptions            7.00\n",
      "Recoveries              46.00\n",
      "Clearances               5.00\n",
      "Duels                   56.00\n",
      "Dispossessed             8.00\n",
      "Offsides                 0.00\n",
      "Long balls              31.00\n",
      "Tried Long balls        51.00\n",
      "Crosses                 11.00\n",
      "Tried Crosses           28.00\n",
      "Ground duels            36.00\n",
      "Tried Ground duels      65.00\n",
      "Aerial duels            11.00\n",
      "Tried Aerial duels      19.00\n",
      "Dribbles                 5.00\n",
      "Tried Dribbles          12.00\n",
      "Estadisticas del Oponente\n",
      "                       Valor\n",
      "Ball possession         40.0\n",
      "Expected goals           0.2\n",
      "Big chances              1.0\n",
      "Big chances scored       1.0\n",
      "Big chances missed       0.0\n",
      "Total shots              5.0\n",
      "Shots on target          2.0\n",
      "Shots off target         2.0\n",
      "Blocked shots            1.0\n",
      "Shots inside box         1.0\n",
      "Shots outside box        4.0\n",
      "Hit woodwork             0.0\n",
      "Goalkeeper saves         4.0\n",
      "Total saves              4.0\n",
      "Goal kicks              14.0\n",
      "Corner kicks             0.0\n",
      "Throw-ins               19.0\n",
      "Fouls                    8.0\n",
      "Free kicks              12.0\n",
      "Fouled in final third    0.0\n",
      "Yellow cards             4.0\n",
      "Red cards                NaN\n",
      "Passes                 288.0\n",
      "Accurate passes        212.0\n",
      "Tackles                 15.0\n",
      "Tackles won             11.0\n",
      "Total tackles           15.0\n",
      "Final third entries     42.0\n",
      "Interceptions           12.0\n",
      "Recoveries              46.0\n",
      "Clearances              17.0\n",
      "Duels                   44.0\n",
      "Dispossessed             8.0\n",
      "Offsides                 1.0\n",
      "Long balls              27.0\n",
      "Tried Long balls        64.0\n",
      "Crosses                  1.0\n",
      "Tried Crosses            4.0\n",
      "Ground duels            29.0\n",
      "Tried Ground duels      65.0\n",
      "Aerial duels             8.0\n",
      "Tried Aerial duels      19.0\n",
      "Dribbles                 2.0\n",
      "Tried Dribbles          17.0\n",
      "Nombre de jornada: Jornada 6 - Visita vs ADT\n",
      "                                           A06\n",
      "nombre               Jornada 6 - Visita vs ADT\n",
      "Condicion                               Visita\n",
      "Equipo Oponente     Asociación Deportiva Tarma\n",
      "Torneo                         Apertura Liga 1\n",
      "Goles Alianza Lima                           0\n",
      "Goles Oponente                               2\n",
      "Resultado                              Derrota\n",
      "DT Alianza Lima             Alejandro Restrepo\n",
      "DT Oponente                       Carlos Desio\n",
      "Puntos obtenidos                             0\n",
      "Puntos acumulados                           12\n",
      "Estadisticas de Alianza Lima\n",
      "                        Valor\n",
      "Ball possession         34.00\n",
      "Expected goals           0.87\n",
      "Big chances              0.00\n",
      "Big chances scored       0.00\n",
      "Big chances missed       0.00\n",
      "Total shots              6.00\n",
      "Shots on target          2.00\n",
      "Shots off target         3.00\n",
      "Blocked shots            1.00\n",
      "Shots inside box         4.00\n",
      "Shots outside box        2.00\n",
      "Hit woodwork             0.00\n",
      "Goalkeeper saves         3.00\n",
      "Total saves              3.00\n",
      "Goal kicks               9.00\n",
      "Corner kicks             2.00\n",
      "Throw-ins               24.00\n",
      "Fouls                   12.00\n",
      "Free kicks               9.00\n",
      "Fouled in final third    2.00\n",
      "Yellow cards             1.00\n",
      "Red cards                1.00\n",
      "Passes                 236.00\n",
      "Accurate passes        134.00\n",
      "Tackles                 10.00\n",
      "Tackles won              6.00\n",
      "Total tackles           10.00\n",
      "Final third entries     57.00\n",
      "Interceptions            5.00\n",
      "Recoveries              49.00\n",
      "Clearances              13.00\n",
      "Duels                   42.00\n",
      "Dispossessed            12.00\n",
      "Offsides                 1.00\n",
      "Long balls              19.00\n",
      "Tried Long balls        78.00\n",
      "Crosses                  1.00\n",
      "Tried Crosses            8.00\n",
      "Ground duels            21.00\n",
      "Tried Ground duels      51.00\n",
      "Aerial duels             7.00\n",
      "Tried Aerial duels      15.00\n",
      "Dribbles                 2.00\n",
      "Tried Dribbles           4.00\n",
      "Estadisticas del Oponente\n",
      "                        Valor\n",
      "Ball possession         66.00\n",
      "Expected goals           1.52\n",
      "Big chances              2.00\n",
      "Big chances scored       1.00\n",
      "Big chances missed       1.00\n",
      "Total shots             18.00\n",
      "Shots on target          5.00\n",
      "Shots off target         8.00\n",
      "Blocked shots            5.00\n",
      "Shots inside box         8.00\n",
      "Shots outside box       10.00\n",
      "Hit woodwork             1.00\n",
      "Goalkeeper saves         2.00\n",
      "Total saves              2.00\n",
      "Goal kicks               8.00\n",
      "Corner kicks             2.00\n",
      "Throw-ins               27.00\n",
      "Fouls                    9.00\n",
      "Free kicks              10.00\n",
      "Fouled in final third    3.00\n",
      "Yellow cards             1.00\n",
      "Red cards                0.00\n",
      "Passes                 454.00\n",
      "Accurate passes        366.00\n",
      "Tackles                 14.00\n",
      "Tackles won              9.00\n",
      "Total tackles           14.00\n",
      "Final third entries     86.00\n",
      "Interceptions            5.00\n",
      "Recoveries              53.00\n",
      "Clearances              12.00\n",
      "Duels                   58.00\n",
      "Dispossessed             8.00\n",
      "Offsides                 4.00\n",
      "Long balls              48.00\n",
      "Tried Long balls        75.00\n",
      "Crosses                  3.00\n",
      "Tried Crosses           14.00\n",
      "Ground duels            30.00\n",
      "Tried Ground duels      51.00\n",
      "Aerial duels             8.00\n",
      "Tried Aerial duels      15.00\n",
      "Dribbles                 7.00\n",
      "Tried Dribbles           9.00\n",
      "Nombre de jornada: Jornada 7 - Local vs Sporting Cristal\n",
      "                                                      A07\n",
      "nombre              Jornada 7 - Local vs Sporting Cristal\n",
      "Condicion                                           Local\n",
      "Equipo Oponente                     Club Sporting Cristal\n",
      "Torneo                                    Apertura Liga 1\n",
      "Goles Alianza Lima                                      1\n",
      "Goles Oponente                                          2\n",
      "Resultado                                         Derrota\n",
      "DT Alianza Lima                        Alejandro Restrepo\n",
      "DT Oponente                                 No disponible\n",
      "Puntos obtenidos                                        0\n",
      "Puntos acumulados                                      12\n",
      "Estadisticas de Alianza Lima\n",
      "                        Valor\n",
      "Ball possession         58.00\n",
      "Expected goals           2.04\n",
      "Big chances              2.00\n",
      "Big chances scored       1.00\n",
      "Big chances missed       1.00\n",
      "Total shots             14.00\n",
      "Shots on target          5.00\n",
      "Shots off target         6.00\n",
      "Blocked shots            3.00\n",
      "Shots inside box        12.00\n",
      "Shots outside box        2.00\n",
      "Hit woodwork             0.00\n",
      "Goalkeeper saves         3.00\n",
      "Total saves              3.00\n",
      "Goal kicks              11.00\n",
      "Corner kicks            11.00\n",
      "Throw-ins               20.00\n",
      "Fouls                   11.00\n",
      "Free kicks              11.00\n",
      "Fouled in final third    1.00\n",
      "Yellow cards             2.00\n",
      "Red cards                 NaN\n",
      "Passes                 399.00\n",
      "Accurate passes        308.00\n",
      "Tackles                 22.00\n",
      "Tackles won             17.00\n",
      "Total tackles           22.00\n",
      "Final third entries     68.00\n",
      "Interceptions           23.00\n",
      "Recoveries              47.00\n",
      "Clearances               9.00\n",
      "Duels                   62.00\n",
      "Dispossessed            12.00\n",
      "Offsides                 0.00\n",
      "Long balls              35.00\n",
      "Tried Long balls        68.00\n",
      "Crosses                  8.00\n",
      "Tried Crosses           23.00\n",
      "Ground duels            43.00\n",
      "Tried Ground duels      74.00\n",
      "Aerial duels            23.00\n",
      "Tried Aerial duels      33.00\n",
      "Dribbles                10.00\n",
      "Tried Dribbles          15.00\n",
      "Estadisticas del Oponente\n",
      "                        Valor\n",
      "Ball possession         42.00\n",
      "Expected goals           1.82\n",
      "Big chances              2.00\n",
      "Big chances scored       2.00\n",
      "Big chances missed       0.00\n",
      "Total shots             15.00\n",
      "Shots on target          5.00\n",
      "Shots off target         7.00\n",
      "Blocked shots            3.00\n",
      "Shots inside box        10.00\n",
      "Shots outside box        5.00\n",
      "Hit woodwork             0.00\n",
      "Goalkeeper saves         4.00\n",
      "Total saves              4.00\n",
      "Goal kicks              11.00\n",
      "Corner kicks             5.00\n",
      "Throw-ins               21.00\n",
      "Fouls                   11.00\n",
      "Free kicks              10.00\n",
      "Fouled in final third    1.00\n",
      "Yellow cards             4.00\n",
      "Red cards                 NaN\n",
      "Passes                 295.00\n",
      "Accurate passes        207.00\n",
      "Tackles                 17.00\n",
      "Tackles won             15.00\n",
      "Total tackles           17.00\n",
      "Final third entries     52.00\n",
      "Interceptions            8.00\n",
      "Recoveries              53.00\n",
      "Clearances              26.00\n",
      "Duels                   38.00\n",
      "Dispossessed             8.00\n",
      "Offsides                 1.00\n",
      "Long balls              27.00\n",
      "Tried Long balls        69.00\n",
      "Crosses                  4.00\n",
      "Tried Crosses           10.00\n",
      "Ground duels            31.00\n",
      "Tried Ground duels      74.00\n",
      "Aerial duels            10.00\n",
      "Tried Aerial duels      33.00\n",
      "Dribbles                 5.00\n",
      "Tried Dribbles          19.00\n",
      "Nombre de jornada: Jornada 8 - Visita vs Cienciano\n",
      "                                                A08\n",
      "nombre              Jornada 8 - Visita vs Cienciano\n",
      "Condicion                                    Visita\n",
      "Equipo Oponente                           Cienciano\n",
      "Torneo                              Apertura Liga 1\n",
      "Goles Alianza Lima                                1\n",
      "Goles Oponente                                    2\n",
      "Resultado                                   Derrota\n",
      "DT Alianza Lima                  Alejandro Restrepo\n",
      "DT Oponente                            Oscar Ibanez\n",
      "Puntos obtenidos                                  0\n",
      "Puntos acumulados                                12\n",
      "Estadisticas de Alianza Lima\n",
      "                        Valor\n",
      "Ball possession         42.00\n",
      "Expected goals           1.41\n",
      "Big chances              1.00\n",
      "Big chances scored       1.00\n",
      "Big chances missed       0.00\n",
      "Total shots             12.00\n",
      "Shots on target          4.00\n",
      "Shots off target         6.00\n",
      "Blocked shots            2.00\n",
      "Shots inside box         7.00\n",
      "Shots outside box        5.00\n",
      "Hit woodwork             0.00\n",
      "Goalkeeper saves         3.00\n",
      "Total saves              3.00\n",
      "Goal kicks              13.00\n",
      "Corner kicks             1.00\n",
      "Throw-ins               21.00\n",
      "Fouls                   11.00\n",
      "Free kicks              11.00\n",
      "Fouled in final third    3.00\n",
      "Yellow cards             4.00\n",
      "Red cards                1.00\n",
      "Passes                 261.00\n",
      "Accurate passes        196.00\n",
      "Tackles                 13.00\n",
      "Tackles won             12.00\n",
      "Total tackles           13.00\n",
      "Final third entries     62.00\n",
      "Interceptions            9.00\n",
      "Recoveries              41.00\n",
      "Clearances              14.00\n",
      "Duels                   48.00\n",
      "Dispossessed             3.00\n",
      "Offsides                 0.00\n",
      "Long balls              19.00\n",
      "Tried Long balls        53.00\n",
      "Crosses                  1.00\n",
      "Tried Crosses           10.00\n",
      "Ground duels            30.00\n",
      "Tried Ground duels      56.00\n",
      "Aerial duels            10.00\n",
      "Tried Aerial duels      27.00\n",
      "Dribbles                 7.00\n",
      "Tried Dribbles          13.00\n",
      "Estadisticas del Oponente\n",
      "                       Valor\n",
      "Ball possession         58.0\n",
      "Expected goals           1.6\n",
      "Big chances              3.0\n",
      "Big chances scored       1.0\n",
      "Big chances missed       2.0\n",
      "Total shots             11.0\n",
      "Shots on target          5.0\n",
      "Shots off target         5.0\n",
      "Blocked shots            1.0\n",
      "Shots inside box         7.0\n",
      "Shots outside box        4.0\n",
      "Hit woodwork             0.0\n",
      "Goalkeeper saves         4.0\n",
      "Total saves              4.0\n",
      "Goal kicks              14.0\n",
      "Corner kicks             3.0\n",
      "Throw-ins               21.0\n",
      "Fouls                   12.0\n",
      "Free kicks              10.0\n",
      "Fouled in final third    3.0\n",
      "Yellow cards             2.0\n",
      "Red cards                0.0\n",
      "Passes                 356.0\n",
      "Accurate passes        293.0\n",
      "Tackles                  9.0\n",
      "Tackles won              7.0\n",
      "Total tackles            9.0\n",
      "Final third entries     60.0\n",
      "Interceptions            5.0\n",
      "Recoveries              33.0\n",
      "Clearances              18.0\n",
      "Duels                   52.0\n",
      "Dispossessed             8.0\n",
      "Offsides                 1.0\n",
      "Long balls              41.0\n",
      "Tried Long balls        70.0\n",
      "Crosses                  3.0\n",
      "Tried Crosses           12.0\n",
      "Ground duels            26.0\n",
      "Tried Ground duels      56.0\n",
      "Aerial duels            17.0\n",
      "Tried Aerial duels      27.0\n",
      "Dribbles                 7.0\n",
      "Tried Dribbles          12.0\n",
      "Nombre de jornada: Jornada 9 - Local vs Los Chankas\n",
      "                                                 A09\n",
      "nombre              Jornada 9 - Local vs Los Chankas\n",
      "Condicion                                      Local\n",
      "Equipo Oponente                      Los Chankas CYC\n",
      "Torneo                               Apertura Liga 1\n",
      "Goles Alianza Lima                                 3\n",
      "Goles Oponente                                     0\n",
      "Resultado                                   Victoria\n",
      "DT Alianza Lima                   Alejandro Restrepo\n",
      "DT Oponente                              Pablo Bossi\n",
      "Puntos obtenidos                                   3\n",
      "Puntos acumulados                                 15\n",
      "Estadisticas de Alianza Lima\n",
      "                        Valor\n",
      "Ball possession         61.00\n",
      "Expected goals           3.46\n",
      "Big chances              3.00\n",
      "Big chances scored       2.00\n",
      "Big chances missed       1.00\n",
      "Total shots             19.00\n",
      "Shots on target          6.00\n",
      "Shots off target        10.00\n",
      "Blocked shots            3.00\n",
      "Shots inside box        14.00\n",
      "Shots outside box        5.00\n",
      "Hit woodwork             1.00\n",
      "Goalkeeper saves         0.00\n",
      "Total saves              0.00\n",
      "Goal kicks               2.00\n",
      "Corner kicks            11.00\n",
      "Throw-ins               15.00\n",
      "Fouls                    7.00\n",
      "Free kicks              11.00\n",
      "Fouled in final third    4.00\n",
      "Yellow cards              NaN\n",
      "Red cards                 NaN\n",
      "Passes                 411.00\n",
      "Accurate passes        336.00\n",
      "Tackles                 14.00\n",
      "Tackles won              9.00\n",
      "Total tackles           14.00\n",
      "Final third entries     68.00\n",
      "Interceptions            9.00\n",
      "Recoveries              53.00\n",
      "Clearances               8.00\n",
      "Duels                   59.00\n",
      "Dispossessed             7.00\n",
      "Offsides                 3.00\n",
      "Long balls              33.00\n",
      "Tried Long balls        54.00\n",
      "Crosses                 13.00\n",
      "Tried Crosses           27.00\n",
      "Ground duels            34.00\n",
      "Tried Ground duels      62.00\n",
      "Aerial duels            17.00\n",
      "Tried Aerial duels      24.00\n",
      "Dribbles                10.00\n",
      "Tried Dribbles          18.00\n",
      "Estadisticas del Oponente\n",
      "                        Valor\n",
      "Ball possession         39.00\n",
      "Expected goals           0.09\n",
      "Big chances              0.00\n",
      "Big chances scored       0.00\n",
      "Big chances missed       0.00\n",
      "Total shots              1.00\n",
      "Shots on target          0.00\n",
      "Shots off target         1.00\n",
      "Blocked shots            0.00\n",
      "Shots inside box         1.00\n",
      "Shots outside box        0.00\n",
      "Hit woodwork             0.00\n",
      "Goalkeeper saves         4.00\n",
      "Total saves              4.00\n",
      "Goal kicks              16.00\n",
      "Corner kicks             0.00\n",
      "Throw-ins               16.00\n",
      "Fouls                   11.00\n",
      "Free kicks               6.00\n",
      "Fouled in final third    2.00\n",
      "Yellow cards              NaN\n",
      "Red cards                 NaN\n",
      "Passes                 266.00\n",
      "Accurate passes        197.00\n",
      "Tackles                 15.00\n",
      "Tackles won              8.00\n",
      "Total tackles           15.00\n",
      "Final third entries     32.00\n",
      "Interceptions            2.00\n",
      "Recoveries              34.00\n",
      "Clearances              28.00\n",
      "Duels                   41.00\n",
      "Dispossessed             6.00\n",
      "Offsides                 0.00\n",
      "Long balls              27.00\n",
      "Tried Long balls        66.00\n",
      "Crosses                  1.00\n",
      "Tried Crosses           10.00\n",
      "Ground duels            28.00\n",
      "Tried Ground duels      62.00\n",
      "Aerial duels             7.00\n",
      "Tried Aerial duels      24.00\n",
      "Dribbles                 7.00\n",
      "Tried Dribbles          15.00\n",
      "Nombre de jornada: Jornada 10 - Visita vs Carlos Manucci\n",
      "                                                      A10\n",
      "nombre              Jornada 10 - Visita vs Carlos Manucci\n",
      "Condicion                                          Visita\n",
      "Equipo Oponente                        Carlos A. Mannucci\n",
      "Torneo                                    Apertura Liga 1\n",
      "Goles Alianza Lima                                      4\n",
      "Goles Oponente                                          0\n",
      "Resultado                                        Victoria\n",
      "DT Alianza Lima                        Alejandro Restrepo\n",
      "DT Oponente                                 Milton Mendes\n",
      "Puntos obtenidos                                        3\n",
      "Puntos acumulados                                      18\n",
      "Estadisticas de Alianza Lima\n",
      "                        Valor\n",
      "Ball possession         66.00\n",
      "Expected goals           2.78\n",
      "Big chances              3.00\n",
      "Big chances scored       2.00\n",
      "Big chances missed       1.00\n",
      "Total shots             16.00\n",
      "Shots on target          7.00\n",
      "Shots off target         7.00\n",
      "Blocked shots            2.00\n",
      "Shots inside box        12.00\n",
      "Shots outside box        4.00\n",
      "Hit woodwork             0.00\n",
      "Goalkeeper saves         0.00\n",
      "Total saves              0.00\n",
      "Goal kicks               5.00\n",
      "Corner kicks            11.00\n",
      "Throw-ins               26.00\n",
      "Fouls                   12.00\n",
      "Free kicks              12.00\n",
      "Fouled in final third    2.00\n",
      "Yellow cards             1.00\n",
      "Red cards                 NaN\n",
      "Passes                 418.00\n",
      "Accurate passes        342.00\n",
      "Tackles                 16.00\n",
      "Tackles won              9.00\n",
      "Total tackles           16.00\n",
      "Final third entries     59.00\n",
      "Interceptions            7.00\n",
      "Recoveries              45.00\n",
      "Clearances               4.00\n",
      "Duels                   54.00\n",
      "Dispossessed             8.00\n",
      "Offsides                 1.00\n",
      "Long balls              26.00\n",
      "Tried Long balls        58.00\n",
      "Crosses                  4.00\n",
      "Tried Crosses           26.00\n",
      "Ground duels            28.00\n",
      "Tried Ground duels      55.00\n",
      "Aerial duels            13.00\n",
      "Tried Aerial duels      21.00\n",
      "Dribbles                 1.00\n",
      "Tried Dribbles           3.00\n",
      "Estadisticas del Oponente\n",
      "                        Valor\n",
      "Ball possession         34.00\n",
      "Expected goals           0.09\n",
      "Big chances              0.00\n",
      "Big chances scored       0.00\n",
      "Big chances missed       0.00\n",
      "Total shots              6.00\n",
      "Shots on target          0.00\n",
      "Shots off target         3.00\n",
      "Blocked shots            3.00\n",
      "Shots inside box         4.00\n",
      "Shots outside box        2.00\n",
      "Hit woodwork             1.00\n",
      "Goalkeeper saves         3.00\n",
      "Total saves              3.00\n",
      "Goal kicks               6.00\n",
      "Corner kicks             2.00\n",
      "Throw-ins               17.00\n",
      "Fouls                   12.00\n",
      "Free kicks              11.00\n",
      "Fouled in final third    3.00\n",
      "Yellow cards             1.00\n",
      "Red cards                 NaN\n",
      "Passes                 219.00\n",
      "Accurate passes        148.00\n",
      "Tackles                 10.00\n",
      "Tackles won              9.00\n",
      "Total tackles           10.00\n",
      "Final third entries     50.00\n",
      "Interceptions           11.00\n",
      "Recoveries              41.00\n",
      "Clearances              29.00\n",
      "Duels                   46.00\n",
      "Dispossessed            14.00\n",
      "Offsides                 2.00\n",
      "Long balls              23.00\n",
      "Tried Long balls        63.00\n",
      "Crosses                  0.00\n",
      "Tried Crosses            8.00\n",
      "Ground duels            27.00\n",
      "Tried Ground duels      55.00\n",
      "Aerial duels             8.00\n",
      "Tried Aerial duels      21.00\n",
      "Dribbles                 6.00\n",
      "Tried Dribbles           8.00\n",
      "Nombre de jornada: Jornada 11 - Local vs Atlético Grau\n",
      "                                                    A11\n",
      "nombre              Jornada 11 - Local vs Atlético Grau\n",
      "Condicion                                         Local\n",
      "Equipo Oponente                      Club Atlético Grau\n",
      "Torneo                                  Apertura Liga 1\n",
      "Goles Alianza Lima                                    2\n",
      "Goles Oponente                                        0\n",
      "Resultado                                      Victoria\n",
      "DT Alianza Lima                      Alejandro Restrepo\n",
      "DT Oponente                         Angel David Comizzo\n",
      "Puntos obtenidos                                      3\n",
      "Puntos acumulados                                    21\n",
      "Estadisticas de Alianza Lima\n",
      "                        Valor\n",
      "Ball possession         44.00\n",
      "Expected goals           0.72\n",
      "Big chances              1.00\n",
      "Big chances scored       1.00\n",
      "Big chances missed       0.00\n",
      "Total shots             14.00\n",
      "Shots on target          3.00\n",
      "Shots off target         8.00\n",
      "Blocked shots            3.00\n",
      "Shots inside box         8.00\n",
      "Shots outside box        6.00\n",
      "Hit woodwork             0.00\n",
      "Goalkeeper saves         1.00\n",
      "Total saves              1.00\n",
      "Goal kicks              10.00\n",
      "Corner kicks             3.00\n",
      "Throw-ins               22.00\n",
      "Fouls                    8.00\n",
      "Free kicks               8.00\n",
      "Fouled in final third    2.00\n",
      "Yellow cards             1.00\n",
      "Red cards                1.00\n",
      "Passes                 330.00\n",
      "Accurate passes        246.00\n",
      "Tackles                  9.00\n",
      "Tackles won              5.00\n",
      "Total tackles            9.00\n",
      "Final third entries     60.00\n",
      "Interceptions           19.00\n",
      "Recoveries              44.00\n",
      "Clearances              22.00\n",
      "Duels                   52.00\n",
      "Dispossessed             4.00\n",
      "Offsides                 2.00\n",
      "Long balls              33.00\n",
      "Tried Long balls        72.00\n",
      "Crosses                  7.00\n",
      "Tried Crosses           19.00\n",
      "Ground duels            23.00\n",
      "Tried Ground duels      53.00\n",
      "Aerial duels            14.00\n",
      "Tried Aerial duels      18.00\n",
      "Dribbles                 6.00\n",
      "Tried Dribbles          21.00\n",
      "Estadisticas del Oponente\n",
      "                        Valor\n",
      "Ball possession         56.00\n",
      "Expected goals           1.18\n",
      "Big chances              2.00\n",
      "Big chances scored       0.00\n",
      "Big chances missed       2.00\n",
      "Total shots              6.00\n",
      "Shots on target          1.00\n",
      "Shots off target         3.00\n",
      "Blocked shots            2.00\n",
      "Shots inside box         3.00\n",
      "Shots outside box        3.00\n",
      "Hit woodwork             0.00\n",
      "Goalkeeper saves         1.00\n",
      "Total saves              1.00\n",
      "Goal kicks               8.00\n",
      "Corner kicks             3.00\n",
      "Throw-ins               24.00\n",
      "Fouls                    9.00\n",
      "Free kicks               8.00\n",
      "Fouled in final third    1.00\n",
      "Yellow cards             1.00\n",
      "Red cards                1.00\n",
      "Passes                 433.00\n",
      "Accurate passes        327.00\n",
      "Tackles                 19.00\n",
      "Tackles won             11.00\n",
      "Total tackles           19.00\n",
      "Final third entries     74.00\n",
      "Interceptions            5.00\n",
      "Recoveries              49.00\n",
      "Clearances              13.00\n",
      "Duels                   48.00\n",
      "Dispossessed             8.00\n",
      "Offsides                 1.00\n",
      "Long balls              35.00\n",
      "Tried Long balls        64.00\n",
      "Crosses                  1.00\n",
      "Tried Crosses           10.00\n",
      "Ground duels            30.00\n",
      "Tried Ground duels      53.00\n",
      "Aerial duels             4.00\n",
      "Tried Aerial duels      18.00\n",
      "Dribbles                 3.00\n",
      "Tried Dribbles           4.00\n",
      "Nombre de jornada: Jornada 12 - Local vs Sport Boys\n",
      "                                                 A12\n",
      "nombre              Jornada 12 - Local vs Sport Boys\n",
      "Condicion                                      Local\n",
      "Equipo Oponente                           Sport Boys\n",
      "Torneo                               Apertura Liga 1\n",
      "Goles Alianza Lima                                 3\n",
      "Goles Oponente                                     0\n",
      "Resultado                                   Victoria\n",
      "DT Alianza Lima                   Alejandro Restrepo\n",
      "DT Oponente                               Juan Alayo\n",
      "Puntos obtenidos                                   3\n",
      "Puntos acumulados                                 24\n",
      "Estadisticas de Alianza Lima\n",
      "                       Valor\n",
      "Ball possession         51.0\n",
      "Expected goals           1.8\n",
      "Big chances              5.0\n",
      "Big chances scored       3.0\n",
      "Big chances missed       2.0\n",
      "Total shots             15.0\n",
      "Shots on target          6.0\n",
      "Shots off target         5.0\n",
      "Blocked shots            4.0\n",
      "Shots inside box         9.0\n",
      "Shots outside box        6.0\n",
      "Hit woodwork             0.0\n",
      "Goalkeeper saves         0.0\n",
      "Total saves              0.0\n",
      "Goal kicks               5.0\n",
      "Corner kicks             5.0\n",
      "Throw-ins               20.0\n",
      "Fouls                   11.0\n",
      "Free kicks              16.0\n",
      "Fouled in final third    5.0\n",
      "Yellow cards             2.0\n",
      "Red cards                0.0\n",
      "Passes                 347.0\n",
      "Accurate passes        287.0\n",
      "Tackles                 10.0\n",
      "Tackles won              8.0\n",
      "Total tackles           10.0\n",
      "Final third entries     45.0\n",
      "Interceptions            3.0\n",
      "Recoveries              41.0\n",
      "Clearances              14.0\n",
      "Duels                   55.0\n",
      "Dispossessed             7.0\n",
      "Offsides                 0.0\n",
      "Long balls              30.0\n",
      "Tried Long balls        54.0\n",
      "Crosses                  5.0\n",
      "Tried Crosses           18.0\n",
      "Ground duels            36.0\n",
      "Tried Ground duels      65.0\n",
      "Aerial duels            12.0\n",
      "Tried Aerial duels      22.0\n",
      "Dribbles                10.0\n",
      "Tried Dribbles          19.0\n",
      "Estadisticas del Oponente\n",
      "                        Valor\n",
      "Ball possession         49.00\n",
      "Expected goals           0.17\n",
      "Big chances              0.00\n",
      "Big chances scored       0.00\n",
      "Big chances missed       0.00\n",
      "Total shots              5.00\n",
      "Shots on target          0.00\n",
      "Shots off target         5.00\n",
      "Blocked shots            0.00\n",
      "Shots inside box         3.00\n",
      "Shots outside box        2.00\n",
      "Hit woodwork             1.00\n",
      "Goalkeeper saves         3.00\n",
      "Total saves              3.00\n",
      "Goal kicks               9.00\n",
      "Corner kicks             2.00\n",
      "Throw-ins               17.00\n",
      "Fouls                   16.00\n",
      "Free kicks              10.00\n",
      "Fouled in final third    3.00\n",
      "Yellow cards             4.00\n",
      "Red cards                1.00\n",
      "Passes                 333.00\n",
      "Accurate passes        263.00\n",
      "Tackles                 16.00\n",
      "Tackles won             12.00\n",
      "Total tackles           16.00\n",
      "Final third entries     50.00\n",
      "Interceptions            9.00\n",
      "Recoveries              36.00\n",
      "Clearances              13.00\n",
      "Duels                   45.00\n",
      "Dispossessed             6.00\n",
      "Offsides                 2.00\n",
      "Long balls              19.00\n",
      "Tried Long balls        51.00\n",
      "Crosses                  3.00\n",
      "Tried Crosses           13.00\n",
      "Ground duels            29.00\n",
      "Tried Ground duels      65.00\n",
      "Aerial duels            10.00\n",
      "Tried Aerial duels      22.00\n",
      "Dribbles                 3.00\n",
      "Tried Dribbles           7.00\n",
      "Nombre de jornada: Jornada 13 - Visita vs Melgar\n",
      "                                              A13\n",
      "nombre              Jornada 13 - Visita vs Melgar\n",
      "Condicion                                  Visita\n",
      "Equipo Oponente                            Melgar\n",
      "Torneo                            Apertura Liga 1\n",
      "Goles Alianza Lima                              0\n",
      "Goles Oponente                                  1\n",
      "Resultado                                 Derrota\n",
      "DT Alianza Lima                Alejandro Restrepo\n",
      "DT Oponente                        Marco Valencia\n",
      "Puntos obtenidos                                0\n",
      "Puntos acumulados                              24\n",
      "Estadisticas de Alianza Lima\n",
      "                       Valor\n",
      "Ball possession         47.0\n",
      "Expected goals           0.9\n",
      "Big chances              1.0\n",
      "Big chances scored       NaN\n",
      "Big chances missed       1.0\n",
      "Total shots             15.0\n",
      "Shots on target          3.0\n",
      "Shots off target         9.0\n",
      "Blocked shots            3.0\n",
      "Shots inside box         6.0\n",
      "Shots outside box        9.0\n",
      "Hit woodwork             0.0\n",
      "Goalkeeper saves         5.0\n",
      "Total saves              5.0\n",
      "Goal kicks               7.0\n",
      "Corner kicks             5.0\n",
      "Throw-ins               27.0\n",
      "Fouls                    7.0\n",
      "Free kicks               8.0\n",
      "Fouled in final third    1.0\n",
      "Yellow cards             1.0\n",
      "Red cards                NaN\n",
      "Passes                 349.0\n",
      "Accurate passes        271.0\n",
      "Tackles                 15.0\n",
      "Tackles won             14.0\n",
      "Total tackles           15.0\n",
      "Final third entries     58.0\n",
      "Interceptions           15.0\n",
      "Recoveries              49.0\n",
      "Clearances              14.0\n",
      "Duels                   55.0\n",
      "Dispossessed            13.0\n",
      "Offsides                 0.0\n",
      "Long balls              39.0\n",
      "Tried Long balls        74.0\n",
      "Crosses                  4.0\n",
      "Tried Crosses           10.0\n",
      "Ground duels            28.0\n",
      "Tried Ground duels      56.0\n",
      "Aerial duels            13.0\n",
      "Tried Aerial duels      19.0\n",
      "Dribbles                 5.0\n",
      "Tried Dribbles          11.0\n",
      "Estadisticas del Oponente\n",
      "                        Valor\n",
      "Ball possession         53.00\n",
      "Expected goals           1.08\n",
      "Big chances              0.00\n",
      "Big chances scored        NaN\n",
      "Big chances missed       0.00\n",
      "Total shots             11.00\n",
      "Shots on target          6.00\n",
      "Shots off target         3.00\n",
      "Blocked shots            2.00\n",
      "Shots inside box         8.00\n",
      "Shots outside box        3.00\n",
      "Hit woodwork             0.00\n",
      "Goalkeeper saves         3.00\n",
      "Total saves              3.00\n",
      "Goal kicks              15.00\n",
      "Corner kicks             5.00\n",
      "Throw-ins               24.00\n",
      "Fouls                    8.00\n",
      "Free kicks               7.00\n",
      "Fouled in final third    2.00\n",
      "Yellow cards             2.00\n",
      "Red cards                 NaN\n",
      "Passes                 392.00\n",
      "Accurate passes        310.00\n",
      "Tackles                 19.00\n",
      "Tackles won             15.00\n",
      "Total tackles           19.00\n",
      "Final third entries     68.00\n",
      "Interceptions            9.00\n",
      "Recoveries              40.00\n",
      "Clearances              11.00\n",
      "Duels                   45.00\n",
      "Dispossessed            12.00\n",
      "Offsides                 4.00\n",
      "Long balls              42.00\n",
      "Tried Long balls        79.00\n",
      "Crosses                  3.00\n",
      "Tried Crosses           17.00\n",
      "Ground duels            28.00\n",
      "Tried Ground duels      56.00\n",
      "Aerial duels             6.00\n",
      "Tried Aerial duels      19.00\n",
      "Dribbles                 2.00\n",
      "Tried Dribbles           5.00\n",
      "Nombre de jornada: Jornada 14 - Local vs UTC\n",
      "                                                 A14\n",
      "nombre                     Jornada 14 - Local vs UTC\n",
      "Condicion                                      Local\n",
      "Equipo Oponente     Universidad Técnica de Cajamarca\n",
      "Torneo                               Apertura Liga 1\n",
      "Goles Alianza Lima                                 1\n",
      "Goles Oponente                                     0\n",
      "Resultado                                   Victoria\n",
      "DT Alianza Lima                   Alejandro Restrepo\n",
      "DT Oponente                       Carlos Ramacciotti\n",
      "Puntos obtenidos                                   3\n",
      "Puntos acumulados                                 27\n",
      "Estadisticas de Alianza Lima\n",
      "                        Valor\n",
      "Ball possession         71.00\n",
      "Expected goals           1.81\n",
      "Big chances              2.00\n",
      "Big chances scored       1.00\n",
      "Big chances missed       1.00\n",
      "Total shots             15.00\n",
      "Shots on target          4.00\n",
      "Shots off target         7.00\n",
      "Blocked shots            4.00\n",
      "Shots inside box        10.00\n",
      "Shots outside box        5.00\n",
      "Hit woodwork             0.00\n",
      "Goalkeeper saves         1.00\n",
      "Total saves              1.00\n",
      "Goal kicks               1.00\n",
      "Corner kicks            10.00\n",
      "Throw-ins               28.00\n",
      "Fouls                    9.00\n",
      "Free kicks              13.00\n",
      "Fouled in final third    1.00\n",
      "Yellow cards             1.00\n",
      "Red cards                 NaN\n",
      "Passes                 524.00\n",
      "Accurate passes        445.00\n",
      "Tackles                 21.00\n",
      "Tackles won             15.00\n",
      "Total tackles           21.00\n",
      "Final third entries     84.00\n",
      "Interceptions           11.00\n",
      "Recoveries              61.00\n",
      "Clearances               4.00\n",
      "Duels                   63.00\n",
      "Dispossessed            11.00\n",
      "Offsides                 7.00\n",
      "Long balls              27.00\n",
      "Tried Long balls        50.00\n",
      "Crosses                 10.00\n",
      "Tried Crosses           23.00\n",
      "Ground duels            47.00\n",
      "Tried Ground duels      76.00\n",
      "Aerial duels            12.00\n",
      "Tried Aerial duels      17.00\n",
      "Dribbles                13.00\n",
      "Tried Dribbles          21.00\n",
      "Estadisticas del Oponente\n",
      "                        Valor\n",
      "Ball possession         29.00\n",
      "Expected goals           0.27\n",
      "Big chances              1.00\n",
      "Big chances scored       0.00\n",
      "Big chances missed       1.00\n",
      "Total shots              2.00\n",
      "Shots on target          1.00\n",
      "Shots off target         1.00\n",
      "Blocked shots            0.00\n",
      "Shots inside box         1.00\n",
      "Shots outside box        1.00\n",
      "Hit woodwork             0.00\n",
      "Goalkeeper saves         3.00\n",
      "Total saves              3.00\n",
      "Goal kicks              18.00\n",
      "Corner kicks             0.00\n",
      "Throw-ins               17.00\n",
      "Fouls                   17.00\n",
      "Free kicks               9.00\n",
      "Fouled in final third    1.00\n",
      "Yellow cards             2.00\n",
      "Red cards                 NaN\n",
      "Passes                 224.00\n",
      "Accurate passes        137.00\n",
      "Tackles                 19.00\n",
      "Tackles won             18.00\n",
      "Total tackles           19.00\n",
      "Final third entries     38.00\n",
      "Interceptions           14.00\n",
      "Recoveries              46.00\n",
      "Clearances              15.00\n",
      "Duels                   37.00\n",
      "Dispossessed            10.00\n",
      "Offsides                 0.00\n",
      "Long balls              23.00\n",
      "Tried Long balls        66.00\n",
      "Crosses                  0.00\n",
      "Tried Crosses            0.00\n",
      "Ground duels            29.00\n",
      "Tried Ground duels      76.00\n",
      "Aerial duels             5.00\n",
      "Tried Aerial duels      17.00\n",
      "Dribbles                 1.00\n",
      "Tried Dribbles          12.00\n",
      "Nombre de jornada: Jornada 15 - Visita vs Sport Huancayo\n",
      "                                                      A15\n",
      "nombre              Jornada 15 - Visita vs Sport Huancayo\n",
      "Condicion                                          Visita\n",
      "Equipo Oponente                            Sport Huancayo\n",
      "Torneo                                    Apertura Liga 1\n",
      "Goles Alianza Lima                                      2\n",
      "Goles Oponente                                          0\n",
      "Resultado                                        Victoria\n",
      "DT Alianza Lima                        Alejandro Restrepo\n",
      "DT Oponente                              Mifflin Bermudez\n",
      "Puntos obtenidos                                        3\n",
      "Puntos acumulados                                      30\n",
      "Estadisticas de Alianza Lima\n",
      "                        Valor\n",
      "Ball possession         45.00\n",
      "Expected goals           1.85\n",
      "Big chances              2.00\n",
      "Big chances scored       2.00\n",
      "Big chances missed        NaN\n",
      "Total shots              7.00\n",
      "Shots on target          5.00\n",
      "Shots off target         2.00\n",
      "Blocked shots            0.00\n",
      "Shots inside box         4.00\n",
      "Shots outside box        3.00\n",
      "Hit woodwork             0.00\n",
      "Goalkeeper saves         4.00\n",
      "Total saves              4.00\n",
      "Goal kicks               7.00\n",
      "Corner kicks             2.00\n",
      "Throw-ins               16.00\n",
      "Fouls                   22.00\n",
      "Free kicks              10.00\n",
      "Fouled in final third    3.00\n",
      "Yellow cards             3.00\n",
      "Red cards                1.00\n",
      "Passes                 364.00\n",
      "Accurate passes        299.00\n",
      "Tackles                 26.00\n",
      "Tackles won             20.00\n",
      "Total tackles           26.00\n",
      "Final third entries     63.00\n",
      "Interceptions            3.00\n",
      "Recoveries              40.00\n",
      "Clearances              12.00\n",
      "Duels                   52.00\n",
      "Dispossessed            11.00\n",
      "Offsides                 0.00\n",
      "Long balls              23.00\n",
      "Tried Long balls        51.00\n",
      "Crosses                  1.00\n",
      "Tried Crosses            7.00\n",
      "Ground duels            41.00\n",
      "Tried Ground duels      77.00\n",
      "Aerial duels             6.00\n",
      "Tried Aerial duels      14.00\n",
      "Dribbles                 5.00\n",
      "Tried Dribbles           6.00\n",
      "Estadisticas del Oponente\n",
      "                        Valor\n",
      "Ball possession         55.00\n",
      "Expected goals           0.31\n",
      "Big chances              0.00\n",
      "Big chances scored       0.00\n",
      "Big chances missed        NaN\n",
      "Total shots              7.00\n",
      "Shots on target          4.00\n",
      "Shots off target         1.00\n",
      "Blocked shots            2.00\n",
      "Shots inside box         4.00\n",
      "Shots outside box        3.00\n",
      "Hit woodwork             0.00\n",
      "Goalkeeper saves         3.00\n",
      "Total saves              3.00\n",
      "Goal kicks               6.00\n",
      "Corner kicks             4.00\n",
      "Throw-ins               26.00\n",
      "Fouls                   11.00\n",
      "Free kicks              22.00\n",
      "Fouled in final third    3.00\n",
      "Yellow cards             1.00\n",
      "Red cards                0.00\n",
      "Passes                 442.00\n",
      "Accurate passes        386.00\n",
      "Tackles                 12.00\n",
      "Tackles won              9.00\n",
      "Total tackles           12.00\n",
      "Final third entries     71.00\n",
      "Interceptions           10.00\n",
      "Recoveries              35.00\n",
      "Clearances               6.00\n",
      "Duels                   48.00\n",
      "Dispossessed            16.00\n",
      "Offsides                 4.00\n",
      "Long balls              43.00\n",
      "Tried Long balls        66.00\n",
      "Crosses                  4.00\n",
      "Tried Crosses           19.00\n",
      "Ground duels            36.00\n",
      "Tried Ground duels      77.00\n",
      "Aerial duels             8.00\n",
      "Tried Aerial duels      14.00\n",
      "Dribbles                 2.00\n",
      "Tried Dribbles          12.00\n",
      "Nombre de jornada: Jornada 16 - Local vs Deportivo Garcilaso\n",
      "                                                          A16\n",
      "nombre              Jornada 16 - Local vs Deportivo Garcilaso\n",
      "Condicion                                               Local\n",
      "Equipo Oponente                           Deportivo Garcilaso\n",
      "Torneo                                        Apertura Liga 1\n",
      "Goles Alianza Lima                                          3\n",
      "Goles Oponente                                              2\n",
      "Resultado                                            Victoria\n",
      "DT Alianza Lima                            Alejandro Restrepo\n",
      "DT Oponente                                    Bernardo Redin\n",
      "Puntos obtenidos                                            3\n",
      "Puntos acumulados                                          33\n",
      "Estadisticas de Alianza Lima\n",
      "                        Valor\n",
      "Ball possession         64.00\n",
      "Expected goals           3.02\n",
      "Big chances              4.00\n",
      "Big chances scored       2.00\n",
      "Big chances missed       2.00\n",
      "Total shots             13.00\n",
      "Shots on target          9.00\n",
      "Shots off target         1.00\n",
      "Blocked shots            3.00\n",
      "Shots inside box        11.00\n",
      "Shots outside box        2.00\n",
      "Hit woodwork             0.00\n",
      "Goalkeeper saves         2.00\n",
      "Total saves              2.00\n",
      "Goal kicks               3.00\n",
      "Corner kicks            11.00\n",
      "Throw-ins               15.00\n",
      "Fouls                   16.00\n",
      "Free kicks              13.00\n",
      "Fouled in final third    3.00\n",
      "Yellow cards             5.00\n",
      "Red cards                1.00\n",
      "Passes                 405.00\n",
      "Accurate passes        342.00\n",
      "Tackles                 11.00\n",
      "Tackles won             11.00\n",
      "Total tackles           11.00\n",
      "Final third entries     66.00\n",
      "Interceptions            8.00\n",
      "Recoveries              46.00\n",
      "Clearances               5.00\n",
      "Duels                   55.00\n",
      "Dispossessed             2.00\n",
      "Offsides                 5.00\n",
      "Long balls              28.00\n",
      "Tried Long balls        41.00\n",
      "Crosses                 11.00\n",
      "Tried Crosses           32.00\n",
      "Ground duels            31.00\n",
      "Tried Ground duels      63.00\n",
      "Aerial duels            13.00\n",
      "Tried Aerial duels      17.00\n",
      "Dribbles                 7.00\n",
      "Tried Dribbles          12.00\n",
      "Estadisticas del Oponente\n",
      "                       Valor\n",
      "Ball possession         36.0\n",
      "Expected goals           0.6\n",
      "Big chances              2.0\n",
      "Big chances scored       1.0\n",
      "Big chances missed       1.0\n",
      "Total shots             10.0\n",
      "Shots on target          4.0\n",
      "Shots off target         4.0\n",
      "Blocked shots            2.0\n",
      "Shots inside box         3.0\n",
      "Shots outside box        7.0\n",
      "Hit woodwork             0.0\n",
      "Goalkeeper saves         6.0\n",
      "Total saves              6.0\n",
      "Goal kicks               2.0\n",
      "Corner kicks             0.0\n",
      "Throw-ins               20.0\n",
      "Fouls                   15.0\n",
      "Free kicks              16.0\n",
      "Fouled in final third    2.0\n",
      "Yellow cards             1.0\n",
      "Red cards                1.0\n",
      "Passes                 240.0\n",
      "Accurate passes        173.0\n",
      "Tackles                  6.0\n",
      "Tackles won              4.0\n",
      "Total tackles            6.0\n",
      "Final third entries     44.0\n",
      "Interceptions           11.0\n",
      "Recoveries              32.0\n",
      "Clearances              20.0\n",
      "Duels                   45.0\n",
      "Dispossessed             5.0\n",
      "Offsides                 1.0\n",
      "Long balls              16.0\n",
      "Tried Long balls        45.0\n",
      "Crosses                  0.0\n",
      "Tried Crosses            2.0\n",
      "Ground duels            32.0\n",
      "Tried Ground duels      63.0\n",
      "Aerial duels             4.0\n",
      "Tried Aerial duels      17.0\n",
      "Dribbles                 9.0\n",
      "Tried Dribbles          15.0\n",
      "Nombre de jornada: Jornada 17 - Visita vs Cusco\n",
      "                                             A17\n",
      "nombre              Jornada 17 - Visita vs Cusco\n",
      "Condicion                                 Visita\n",
      "Equipo Oponente                         Cusco FC\n",
      "Torneo                           Apertura Liga 1\n",
      "Goles Alianza Lima                             0\n",
      "Goles Oponente                                 3\n",
      "Resultado                                Derrota\n",
      "DT Alianza Lima               Alejandro Restrepo\n",
      "DT Oponente                      Miguel Rondelli\n",
      "Puntos obtenidos                               0\n",
      "Puntos acumulados                             33\n",
      "Estadisticas de Alianza Lima\n",
      "                        Valor\n",
      "Ball possession         56.00\n",
      "Expected goals           0.51\n",
      "Big chances              1.00\n",
      "Big chances scored        NaN\n",
      "Big chances missed       1.00\n",
      "Total shots              8.00\n",
      "Shots on target          1.00\n",
      "Shots off target         4.00\n",
      "Blocked shots            3.00\n",
      "Shots inside box         3.00\n",
      "Shots outside box        5.00\n",
      "Hit woodwork             0.00\n",
      "Goalkeeper saves         3.00\n",
      "Total saves              3.00\n",
      "Goal kicks               7.00\n",
      "Corner kicks            10.00\n",
      "Throw-ins               26.00\n",
      "Fouls                    8.00\n",
      "Free kicks              14.00\n",
      "Fouled in final third    3.00\n",
      "Yellow cards             1.00\n",
      "Red cards                 NaN\n",
      "Passes                 407.00\n",
      "Accurate passes        331.00\n",
      "Tackles                 11.00\n",
      "Tackles won             10.00\n",
      "Total tackles           11.00\n",
      "Final third entries     62.00\n",
      "Interceptions            4.00\n",
      "Recoveries              37.00\n",
      "Clearances               5.00\n",
      "Duels                   46.00\n",
      "Dispossessed             7.00\n",
      "Offsides                 2.00\n",
      "Long balls              20.00\n",
      "Tried Long balls        45.00\n",
      "Crosses                  3.00\n",
      "Tried Crosses           28.00\n",
      "Ground duels            28.00\n",
      "Tried Ground duels      47.00\n",
      "Aerial duels             2.00\n",
      "Tried Aerial duels      18.00\n",
      "Dribbles                 3.00\n",
      "Tried Dribbles           6.00\n",
      "Estadisticas del Oponente\n",
      "                        Valor\n",
      "Ball possession         44.00\n",
      "Expected goals           1.06\n",
      "Big chances              0.00\n",
      "Big chances scored        NaN\n",
      "Big chances missed       0.00\n",
      "Total shots             13.00\n",
      "Shots on target          6.00\n",
      "Shots off target         6.00\n",
      "Blocked shots            1.00\n",
      "Shots inside box         5.00\n",
      "Shots outside box        8.00\n",
      "Hit woodwork             1.00\n",
      "Goalkeeper saves         1.00\n",
      "Total saves              1.00\n",
      "Goal kicks              11.00\n",
      "Corner kicks             4.00\n",
      "Throw-ins               17.00\n",
      "Fouls                   16.00\n",
      "Free kicks               8.00\n",
      "Fouled in final third    0.00\n",
      "Yellow cards             4.00\n",
      "Red cards                 NaN\n",
      "Passes                 328.00\n",
      "Accurate passes        261.00\n",
      "Tackles                 10.00\n",
      "Tackles won              7.00\n",
      "Total tackles           10.00\n",
      "Final third entries     34.00\n",
      "Interceptions           12.00\n",
      "Recoveries              39.00\n",
      "Clearances              23.00\n",
      "Duels                   54.00\n",
      "Dispossessed             6.00\n",
      "Offsides                 5.00\n",
      "Long balls              17.00\n",
      "Tried Long balls        41.00\n",
      "Crosses                  3.00\n",
      "Tried Crosses           12.00\n",
      "Ground duels            19.00\n",
      "Tried Ground duels      47.00\n",
      "Aerial duels            16.00\n",
      "Tried Aerial duels      18.00\n",
      "Dribbles                 1.00\n",
      "Tried Dribbles           6.00\n",
      "Nombre de jornada: Jornada 1 - Local vs Fluminense\n",
      "                                                CL1\n",
      "nombre              Jornada 1 - Local vs Fluminense\n",
      "Condicion                                     Local\n",
      "Equipo Oponente                          Fluminense\n",
      "Torneo                            Copa Libertadores\n",
      "Goles Alianza Lima                                1\n",
      "Goles Oponente                                    1\n",
      "Resultado                                    Empate\n",
      "DT Alianza Lima                  Alejandro Restrepo\n",
      "DT Oponente                          Fernando Diniz\n",
      "Puntos obtenidos                                  1\n",
      "Puntos acumulados                                 1\n",
      "Estadisticas de Alianza Lima\n",
      "                        Valor\n",
      "Ball possession         21.00\n",
      "Expected goals           1.08\n",
      "Big chances              2.00\n",
      "Big chances scored       0.00\n",
      "Big chances missed       2.00\n",
      "Total shots             12.00\n",
      "Shots on target          4.00\n",
      "Shots off target         6.00\n",
      "Blocked shots            2.00\n",
      "Shots inside box         8.00\n",
      "Shots outside box        4.00\n",
      "Hit woodwork             0.00\n",
      "Goalkeeper saves         1.00\n",
      "Total saves              1.00\n",
      "Goal kicks               5.00\n",
      "Corner kicks             1.00\n",
      "Throw-ins               20.00\n",
      "Fouls                   13.00\n",
      "Free kicks              11.00\n",
      "Fouled in final third    0.00\n",
      "Yellow cards             2.00\n",
      "Red cards                 NaN\n",
      "Passes                 203.00\n",
      "Accurate passes        134.00\n",
      "Tackles                 19.00\n",
      "Tackles won             11.00\n",
      "Total tackles           19.00\n",
      "Final third entries     38.00\n",
      "Interceptions            8.00\n",
      "Recoveries              49.00\n",
      "Clearances              18.00\n",
      "Duels                   49.00\n",
      "Dispossessed            13.00\n",
      "Offsides                 2.00\n",
      "Long balls              19.00\n",
      "Tried Long balls        51.00\n",
      "Crosses                  2.00\n",
      "Tried Crosses           11.00\n",
      "Ground duels            37.00\n",
      "Tried Ground duels      78.00\n",
      "Aerial duels            16.00\n",
      "Tried Aerial duels      31.00\n",
      "Dribbles                 7.00\n",
      "Tried Dribbles           9.00\n",
      "Estadisticas del Oponente\n",
      "                        Valor\n",
      "Ball possession         79.00\n",
      "Expected goals           0.45\n",
      "Big chances              1.00\n",
      "Big chances scored       1.00\n",
      "Big chances missed       0.00\n",
      "Total shots             11.00\n",
      "Shots on target          2.00\n",
      "Shots off target         4.00\n",
      "Blocked shots            5.00\n",
      "Shots inside box         4.00\n",
      "Shots outside box        7.00\n",
      "Hit woodwork             0.00\n",
      "Goalkeeper saves         3.00\n",
      "Total saves              3.00\n",
      "Goal kicks               8.00\n",
      "Corner kicks             2.00\n",
      "Throw-ins               16.00\n",
      "Fouls                   11.00\n",
      "Free kicks              13.00\n",
      "Fouled in final third    1.00\n",
      "Yellow cards             1.00\n",
      "Red cards                 NaN\n",
      "Passes                 775.00\n",
      "Accurate passes        710.00\n",
      "Tackles                 15.00\n",
      "Tackles won             10.00\n",
      "Total tackles           15.00\n",
      "Final third entries     84.00\n",
      "Interceptions           10.00\n",
      "Recoveries              49.00\n",
      "Clearances              15.00\n",
      "Duels                   51.00\n",
      "Dispossessed             6.00\n",
      "Offsides                 1.00\n",
      "Long balls              24.00\n",
      "Tried Long balls        41.00\n",
      "Crosses                  3.00\n",
      "Tried Crosses           18.00\n",
      "Ground duels            41.00\n",
      "Tried Ground duels      78.00\n",
      "Aerial duels            15.00\n",
      "Tried Aerial duels      31.00\n",
      "Dribbles                13.00\n",
      "Tried Dribbles          26.00\n",
      "Nombre de jornada: Jornada 2 - Visita vs Cerro Porteño\n",
      "                                                    CL2\n",
      "nombre              Jornada 2 - Visita vs Cerro Porteño\n",
      "Condicion                                        Visita\n",
      "Equipo Oponente                           Cerro Porteño\n",
      "Torneo                                Copa Libertadores\n",
      "Goles Alianza Lima                                    0\n",
      "Goles Oponente                                        1\n",
      "Resultado                                       Derrota\n",
      "DT Alianza Lima                      Alejandro Restrepo\n",
      "DT Oponente                              Manolo Jimenez\n",
      "Puntos obtenidos                                      0\n",
      "Puntos acumulados                                     1\n",
      "Estadisticas de Alianza Lima\n",
      "                        Valor\n",
      "Ball possession         37.00\n",
      "Expected goals           0.36\n",
      "Big chances               NaN\n",
      "Big chances scored        NaN\n",
      "Big chances missed        NaN\n",
      "Total shots              8.00\n",
      "Shots on target          3.00\n",
      "Shots off target         4.00\n",
      "Blocked shots            1.00\n",
      "Shots inside box         3.00\n",
      "Shots outside box        5.00\n",
      "Hit woodwork             0.00\n",
      "Goalkeeper saves         1.00\n",
      "Total saves              1.00\n",
      "Goal kicks              11.00\n",
      "Corner kicks             2.00\n",
      "Throw-ins               19.00\n",
      "Fouls                   16.00\n",
      "Free kicks              12.00\n",
      "Fouled in final third    2.00\n",
      "Yellow cards             4.00\n",
      "Red cards                 NaN\n",
      "Passes                 283.00\n",
      "Accurate passes        204.00\n",
      "Tackles                 13.00\n",
      "Tackles won             10.00\n",
      "Total tackles           13.00\n",
      "Final third entries     49.00\n",
      "Interceptions           16.00\n",
      "Recoveries              56.00\n",
      "Clearances              45.00\n",
      "Duels                   46.00\n",
      "Dispossessed            14.00\n",
      "Offsides                 2.00\n",
      "Long balls              17.00\n",
      "Tried Long balls        51.00\n",
      "Crosses                  2.00\n",
      "Tried Crosses            7.00\n",
      "Ground duels            35.00\n",
      "Tried Ground duels      81.00\n",
      "Aerial duels            19.00\n",
      "Tried Aerial duels      37.00\n",
      "Dribbles                10.00\n",
      "Tried Dribbles          20.00\n",
      "Estadisticas del Oponente\n",
      "                        Valor\n",
      "Ball possession         63.00\n",
      "Expected goals           0.36\n",
      "Big chances               NaN\n",
      "Big chances scored        NaN\n",
      "Big chances missed        NaN\n",
      "Total shots             15.00\n",
      "Shots on target          2.00\n",
      "Shots off target         8.00\n",
      "Blocked shots            5.00\n",
      "Shots inside box         3.00\n",
      "Shots outside box       12.00\n",
      "Hit woodwork             0.00\n",
      "Goalkeeper saves         3.00\n",
      "Total saves              3.00\n",
      "Goal kicks               6.00\n",
      "Corner kicks             7.00\n",
      "Throw-ins               23.00\n",
      "Fouls                   12.00\n",
      "Free kicks              15.00\n",
      "Fouled in final third    7.00\n",
      "Yellow cards             4.00\n",
      "Red cards                 NaN\n",
      "Passes                 470.00\n",
      "Accurate passes        369.00\n",
      "Tackles                 24.00\n",
      "Tackles won             16.00\n",
      "Total tackles           24.00\n",
      "Final third entries     69.00\n",
      "Interceptions            8.00\n",
      "Recoveries              51.00\n",
      "Clearances              11.00\n",
      "Duels                   54.00\n",
      "Dispossessed             7.00\n",
      "Offsides                 3.00\n",
      "Long balls              28.00\n",
      "Tried Long balls        58.00\n",
      "Crosses                  8.00\n",
      "Tried Crosses           26.00\n",
      "Ground duels            46.00\n",
      "Tried Ground duels      81.00\n",
      "Aerial duels            18.00\n",
      "Tried Aerial duels      37.00\n",
      "Dribbles                 7.00\n",
      "Tried Dribbles          13.00\n",
      "Nombre de jornada: Jornada 3 - Visita vs Colo Colo\n",
      "                                                CL3\n",
      "nombre              Jornada 3 - Visita vs Colo Colo\n",
      "Condicion                                    Visita\n",
      "Equipo Oponente                           Colo Colo\n",
      "Torneo                            Copa Libertadores\n",
      "Goles Alianza Lima                                0\n",
      "Goles Oponente                                    0\n",
      "Resultado                                    Empate\n",
      "DT Alianza Lima                  Alejandro Restrepo\n",
      "DT Oponente                           Jorge Almiron\n",
      "Puntos obtenidos                                  1\n",
      "Puntos acumulados                                 2\n",
      "Estadisticas de Alianza Lima\n",
      "                        Valor\n",
      "Ball possession         27.00\n",
      "Expected goals           0.45\n",
      "Big chances              0.00\n",
      "Big chances scored        NaN\n",
      "Big chances missed       0.00\n",
      "Total shots              9.00\n",
      "Shots on target          2.00\n",
      "Shots off target         3.00\n",
      "Blocked shots            4.00\n",
      "Shots inside box         7.00\n",
      "Shots outside box        2.00\n",
      "Hit woodwork             0.00\n",
      "Goalkeeper saves         4.00\n",
      "Total saves              4.00\n",
      "Goal kicks              15.00\n",
      "Corner kicks             2.00\n",
      "Throw-ins               25.00\n",
      "Fouls                   11.00\n",
      "Free kicks              11.00\n",
      "Fouled in final third    1.00\n",
      "Yellow cards             4.00\n",
      "Red cards                 NaN\n",
      "Passes                 252.00\n",
      "Accurate passes        163.00\n",
      "Tackles                 14.00\n",
      "Tackles won              9.00\n",
      "Total tackles           14.00\n",
      "Final third entries     41.00\n",
      "Interceptions           10.00\n",
      "Recoveries              56.00\n",
      "Clearances              29.00\n",
      "Duels                   46.00\n",
      "Dispossessed             9.00\n",
      "Offsides                 3.00\n",
      "Long balls              17.00\n",
      "Tried Long balls        60.00\n",
      "Crosses                  2.00\n",
      "Tried Crosses           10.00\n",
      "Ground duels            33.00\n",
      "Tried Ground duels      68.00\n",
      "Aerial duels            11.00\n",
      "Tried Aerial duels      28.00\n",
      "Dribbles                 8.00\n",
      "Tried Dribbles          15.00\n",
      "Estadisticas del Oponente\n",
      "                        Valor\n",
      "Ball possession         73.00\n",
      "Expected goals           1.04\n",
      "Big chances              1.00\n",
      "Big chances scored        NaN\n",
      "Big chances missed       1.00\n",
      "Total shots             20.00\n",
      "Shots on target          4.00\n",
      "Shots off target        10.00\n",
      "Blocked shots            6.00\n",
      "Shots inside box        11.00\n",
      "Shots outside box        9.00\n",
      "Hit woodwork             2.00\n",
      "Goalkeeper saves         2.00\n",
      "Total saves              2.00\n",
      "Goal kicks               7.00\n",
      "Corner kicks            10.00\n",
      "Throw-ins               17.00\n",
      "Fouls                   11.00\n",
      "Free kicks              10.00\n",
      "Fouled in final third    2.00\n",
      "Yellow cards             5.00\n",
      "Red cards                 NaN\n",
      "Passes                 683.00\n",
      "Accurate passes        602.00\n",
      "Tackles                 16.00\n",
      "Tackles won             11.00\n",
      "Total tackles           16.00\n",
      "Final third entries     82.00\n",
      "Interceptions            6.00\n",
      "Recoveries              65.00\n",
      "Clearances              12.00\n",
      "Duels                   54.00\n",
      "Dispossessed             8.00\n",
      "Offsides                 1.00\n",
      "Long balls              24.00\n",
      "Tried Long balls        36.00\n",
      "Crosses                  9.00\n",
      "Tried Crosses           29.00\n",
      "Ground duels            35.00\n",
      "Tried Ground duels      68.00\n",
      "Aerial duels            17.00\n",
      "Tried Aerial duels      28.00\n",
      "Dribbles                 9.00\n",
      "Tried Dribbles          15.00\n",
      "Nombre de jornada: Jornada 4 - Local vs Cerro Porteño\n",
      "                                                   CL4\n",
      "nombre              Jornada 4 - Local vs Cerro Porteño\n",
      "Condicion                                        Local\n",
      "Equipo Oponente                          Cerro Porteño\n",
      "Torneo                               Copa Libertadores\n",
      "Goles Alianza Lima                                   1\n",
      "Goles Oponente                                       1\n",
      "Resultado                                       Empate\n",
      "DT Alianza Lima                     Alejandro Restrepo\n",
      "DT Oponente                             Manolo Jimenez\n",
      "Puntos obtenidos                                     1\n",
      "Puntos acumulados                                    3\n",
      "Estadisticas de Alianza Lima\n",
      "                        Valor\n",
      "Ball possession         65.00\n",
      "Expected goals           0.91\n",
      "Big chances              1.00\n",
      "Big chances scored       0.00\n",
      "Big chances missed       1.00\n",
      "Total shots             18.00\n",
      "Shots on target          4.00\n",
      "Shots off target        12.00\n",
      "Blocked shots            2.00\n",
      "Shots inside box        12.00\n",
      "Shots outside box        6.00\n",
      "Hit woodwork             0.00\n",
      "Goalkeeper saves         4.00\n",
      "Total saves              4.00\n",
      "Goal kicks               1.00\n",
      "Corner kicks             9.00\n",
      "Throw-ins               25.00\n",
      "Fouls                   16.00\n",
      "Free kicks              19.00\n",
      "Fouled in final third    5.00\n",
      "Yellow cards             2.00\n",
      "Red cards                 NaN\n",
      "Passes                 405.00\n",
      "Accurate passes        317.00\n",
      "Tackles                 17.00\n",
      "Tackles won             12.00\n",
      "Total tackles           17.00\n",
      "Final third entries     71.00\n",
      "Interceptions            9.00\n",
      "Recoveries              58.00\n",
      "Clearances              13.00\n",
      "Duels                   53.00\n",
      "Dispossessed             8.00\n",
      "Offsides                 0.00\n",
      "Long balls              20.00\n",
      "Tried Long balls        45.00\n",
      "Crosses                 11.00\n",
      "Tried Crosses           33.00\n",
      "Ground duels            44.00\n",
      "Tried Ground duels      83.00\n",
      "Aerial duels            21.00\n",
      "Tried Aerial duels      39.00\n",
      "Dribbles                 9.00\n",
      "Tried Dribbles          19.00\n",
      "Estadisticas del Oponente\n",
      "                        Valor\n",
      "Ball possession         35.00\n",
      "Expected goals           0.33\n",
      "Big chances              2.00\n",
      "Big chances scored       1.00\n",
      "Big chances missed       1.00\n",
      "Total shots              8.00\n",
      "Shots on target          5.00\n",
      "Shots off target         1.00\n",
      "Blocked shots            2.00\n",
      "Shots inside box         5.00\n",
      "Shots outside box        3.00\n",
      "Hit woodwork             0.00\n",
      "Goalkeeper saves         3.00\n",
      "Total saves              3.00\n",
      "Goal kicks              15.00\n",
      "Corner kicks             3.00\n",
      "Throw-ins               11.00\n",
      "Fouls                   19.00\n",
      "Free kicks              14.00\n",
      "Fouled in final third    4.00\n",
      "Yellow cards             3.00\n",
      "Red cards                 NaN\n",
      "Passes                 232.00\n",
      "Accurate passes        149.00\n",
      "Tackles                 18.00\n",
      "Tackles won             13.00\n",
      "Total tackles           18.00\n",
      "Final third entries     44.00\n",
      "Interceptions            7.00\n",
      "Recoveries              47.00\n",
      "Clearances              48.00\n",
      "Duels                   47.00\n",
      "Dispossessed             5.00\n",
      "Offsides                 1.00\n",
      "Long balls              21.00\n",
      "Tried Long balls        66.00\n",
      "Crosses                  4.00\n",
      "Tried Crosses           10.00\n",
      "Ground duels            39.00\n",
      "Tried Ground duels      83.00\n",
      "Aerial duels            18.00\n",
      "Tried Aerial duels      39.00\n",
      "Dribbles                 7.00\n",
      "Tried Dribbles          19.00\n",
      "Nombre de jornada: Jornada 5 - Local vs Colo Colo\n",
      "                                               CL5\n",
      "nombre              Jornada 5 - Local vs Colo Colo\n",
      "Condicion                                    Local\n",
      "Equipo Oponente                          Colo Colo\n",
      "Torneo                           Copa Libertadores\n",
      "Goles Alianza Lima                               1\n",
      "Goles Oponente                                   1\n",
      "Resultado                                   Empate\n",
      "DT Alianza Lima                 Alejandro Restrepo\n",
      "DT Oponente                          Jorge Almiron\n",
      "Puntos obtenidos                                 1\n",
      "Puntos acumulados                                4\n",
      "Estadisticas de Alianza Lima\n",
      "                        Valor\n",
      "Ball possession         41.00\n",
      "Expected goals           0.83\n",
      "Big chances              3.00\n",
      "Big chances scored       1.00\n",
      "Big chances missed       2.00\n",
      "Total shots             12.00\n",
      "Shots on target          3.00\n",
      "Shots off target         6.00\n",
      "Blocked shots            3.00\n",
      "Shots inside box         6.00\n",
      "Shots outside box        6.00\n",
      "Hit woodwork             0.00\n",
      "Goalkeeper saves         0.00\n",
      "Total saves              0.00\n",
      "Goal kicks               4.00\n",
      "Corner kicks             2.00\n",
      "Throw-ins               13.00\n",
      "Fouls                   10.00\n",
      "Free kicks              11.00\n",
      "Fouled in final third    2.00\n",
      "Yellow cards             3.00\n",
      "Red cards                0.00\n",
      "Passes                 274.00\n",
      "Accurate passes        205.00\n",
      "Tackles                 17.00\n",
      "Tackles won             10.00\n",
      "Total tackles           17.00\n",
      "Final third entries     48.00\n",
      "Interceptions            9.00\n",
      "Recoveries              43.00\n",
      "Clearances               9.00\n",
      "Duels                   60.00\n",
      "Dispossessed             3.00\n",
      "Offsides                 3.00\n",
      "Long balls              19.00\n",
      "Tried Long balls        49.00\n",
      "Crosses                  2.00\n",
      "Tried Crosses           13.00\n",
      "Ground duels            37.00\n",
      "Tried Ground duels      66.00\n",
      "Aerial duels            18.00\n",
      "Tried Aerial duels      25.00\n",
      "Dribbles                10.00\n",
      "Tried Dribbles          16.00\n",
      "Estadisticas del Oponente\n",
      "                        Valor\n",
      "Ball possession         59.00\n",
      "Expected goals           0.11\n",
      "Big chances              0.00\n",
      "Big chances scored       0.00\n",
      "Big chances missed       0.00\n",
      "Total shots              4.00\n",
      "Shots on target          1.00\n",
      "Shots off target         1.00\n",
      "Blocked shots            2.00\n",
      "Shots inside box         3.00\n",
      "Shots outside box        1.00\n",
      "Hit woodwork             0.00\n",
      "Goalkeeper saves         2.00\n",
      "Total saves              2.00\n",
      "Goal kicks              11.00\n",
      "Corner kicks             2.00\n",
      "Throw-ins               17.00\n",
      "Fouls                   12.00\n",
      "Free kicks               9.00\n",
      "Fouled in final third    2.00\n",
      "Yellow cards             5.00\n",
      "Red cards                2.00\n",
      "Passes                 408.00\n",
      "Accurate passes        347.00\n",
      "Tackles                  9.00\n",
      "Tackles won              3.00\n",
      "Total tackles            9.00\n",
      "Final third entries     34.00\n",
      "Interceptions            7.00\n",
      "Recoveries              45.00\n",
      "Clearances              17.00\n",
      "Duels                   40.00\n",
      "Dispossessed             8.00\n",
      "Offsides                 0.00\n",
      "Long balls              15.00\n",
      "Tried Long balls        44.00\n",
      "Crosses                  3.00\n",
      "Tried Crosses           13.00\n",
      "Ground duels            29.00\n",
      "Tried Ground duels      66.00\n",
      "Aerial duels             7.00\n",
      "Tried Aerial duels      25.00\n",
      "Dribbles                11.00\n",
      "Tried Dribbles          20.00\n",
      "Nombre de jornada: Jornada 6 - Visita vs Fluminense\n",
      "                                                 CL6\n",
      "nombre              Jornada 6 - Visita vs Fluminense\n",
      "Condicion                                     Visita\n",
      "Equipo Oponente                           Fluminense\n",
      "Torneo                             Copa Libertadores\n",
      "Goles Alianza Lima                                 2\n",
      "Goles Oponente                                     3\n",
      "Resultado                                    Derrota\n",
      "DT Alianza Lima                   Alejandro Restrepo\n",
      "DT Oponente                           Fernando Diniz\n",
      "Puntos obtenidos                                   0\n",
      "Puntos acumulados                                  4\n",
      "Estadisticas de Alianza Lima\n",
      "                        Valor\n",
      "Ball possession         30.00\n",
      "Expected goals           1.33\n",
      "Big chances              2.00\n",
      "Big chances scored       0.00\n",
      "Big chances missed       2.00\n",
      "Total shots             19.00\n",
      "Shots on target          9.00\n",
      "Shots off target         8.00\n",
      "Blocked shots            2.00\n",
      "Shots inside box        14.00\n",
      "Shots outside box        5.00\n",
      "Hit woodwork             0.00\n",
      "Goalkeeper saves         4.00\n",
      "Total saves              4.00\n",
      "Goal kicks               5.00\n",
      "Corner kicks             9.00\n",
      "Throw-ins                7.00\n",
      "Fouls                   11.00\n",
      "Free kicks              12.00\n",
      "Fouled in final third    2.00\n",
      "Yellow cards             1.00\n",
      "Red cards                 NaN\n",
      "Passes                 224.00\n",
      "Accurate passes        163.00\n",
      "Tackles                 18.00\n",
      "Tackles won             10.00\n",
      "Total tackles           18.00\n",
      "Final third entries     37.00\n",
      "Interceptions            9.00\n",
      "Recoveries              38.00\n",
      "Clearances              17.00\n",
      "Duels                   55.00\n",
      "Dispossessed             5.00\n",
      "Offsides                 1.00\n",
      "Long balls              18.00\n",
      "Tried Long balls        47.00\n",
      "Crosses                 12.00\n",
      "Tried Crosses           23.00\n",
      "Ground duels            40.00\n",
      "Tried Ground duels      72.00\n",
      "Aerial duels            14.00\n",
      "Tried Aerial duels      27.00\n",
      "Dribbles                12.00\n",
      "Tried Dribbles          17.00\n",
      "Estadisticas del Oponente\n",
      "                       Valor\n",
      "Ball possession         70.0\n",
      "Expected goals           1.7\n",
      "Big chances              4.0\n",
      "Big chances scored       2.0\n",
      "Big chances missed       2.0\n",
      "Total shots             13.0\n",
      "Shots on target          7.0\n",
      "Shots off target         4.0\n",
      "Blocked shots            2.0\n",
      "Shots inside box        10.0\n",
      "Shots outside box        3.0\n",
      "Hit woodwork             1.0\n",
      "Goalkeeper saves         7.0\n",
      "Total saves              7.0\n",
      "Goal kicks               6.0\n",
      "Corner kicks             4.0\n",
      "Throw-ins               21.0\n",
      "Fouls                   13.0\n",
      "Free kicks              10.0\n",
      "Fouled in final third    1.0\n",
      "Yellow cards             6.0\n",
      "Red cards                NaN\n",
      "Passes                 559.0\n",
      "Accurate passes        494.0\n",
      "Tackles                 10.0\n",
      "Tackles won              6.0\n",
      "Total tackles           10.0\n",
      "Final third entries     55.0\n",
      "Interceptions            7.0\n",
      "Recoveries              42.0\n",
      "Clearances              15.0\n",
      "Duels                   45.0\n",
      "Dispossessed             8.0\n",
      "Offsides                 3.0\n",
      "Long balls              19.0\n",
      "Tried Long balls        37.0\n",
      "Crosses                  3.0\n",
      "Tried Crosses           17.0\n",
      "Ground duels            32.0\n",
      "Tried Ground duels      72.0\n",
      "Aerial duels            13.0\n",
      "Tried Aerial duels      27.0\n",
      "Dribbles                14.0\n",
      "Tried Dribbles          24.0\n"
     ]
    }
   ],
   "source": [
    "for id_jornada, nombre in nombres_jornadas.items():\n",
    "    if id_jornada in df_jornadas.index:\n",
    "        print(f\"Nombre de jornada: {nombre}\")\n",
    "        \n",
    "        # Obtener estadísticas de alianza y oponente\n",
    "        estadisticas_alianza = df_jornadas_estadisticas.at[id_jornada, 'estadisticas_Alianza']\n",
    "        estadisticas_oponente = df_jornadas_estadisticas.at[id_jornada, 'estadisticas_Oponente']\n",
    "        \n",
    "        # Pasar a dataframe\n",
    "        df_estadisticas_alianza = pd.DataFrame.from_dict(estadisticas_alianza, orient='index', columns=['Valor'])\n",
    "        df_estadisticas_oponente = pd.DataFrame.from_dict(estadisticas_oponente, orient='index', columns=['Valor'])\n",
    "        s_datos = df_jornadas.loc[id_jornada]\n",
    "        df_datos = s_datos.to_frame()\n",
    "        # Datos generales del encuentro\n",
    "\n",
    "        #['nombre'(Jornada), 'Condicion', 'Equipo Oponente', 'Torneo',\n",
    "       #'Goles Alianza Lima', 'Goles Oponente', 'Resultado', 'DT Alianza Lima',\n",
    "       #'DT Oponente', 'Puntos obtenidos', 'Puntos acumulados']\n",
    "        print(df_datos) \n",
    "        \n",
    "\n",
    "        ## Estadisticas del partido  \n",
    "        filas_ordenadas = [\n",
    "        'Ball possession', 'Expected goals', \n",
    "        'Big chances', 'Big chances scored', 'Big chances missed',\n",
    "        'Total shots', 'Shots on target', 'Shots off target', 'Blocked shots', 'Shots inside box','Shots outside box', 'Hit woodwork',\n",
    "        'Goalkeeper saves', 'Total saves', 'Goal kicks', \n",
    "        'Corner kicks', 'Throw-ins','Fouls','Free kicks','Fouled in final third',\n",
    "        'Yellow cards','Red cards',\n",
    "        'Passes', 'Accurate passes', 'Tackles', 'Tackles won', 'Total tackles', 'Final third entries',\n",
    "        'Interceptions', 'Recoveries', 'Clearances', 'Duels', 'Dispossessed',\n",
    "        'Offsides', \n",
    "        'Long balls', 'Tried Long balls',\n",
    "        'Crosses','Tried Crosses', \n",
    "        'Ground duels', 'Tried Ground duels',\n",
    "        'Aerial duels', 'Tried Aerial duels',  \n",
    "        'Dribbles', 'Tried Dribbles', \n",
    "        ]\n",
    "        df_estadisticas_alianza = df_estadisticas_alianza.reindex(filas_ordenadas)\n",
    "        df_estadisticas_oponente = df_estadisticas_oponente.reindex(filas_ordenadas)\n",
    "        \n",
    "        print(\"Estadisticas de Alianza Lima\")\n",
    "        print(df_estadisticas_alianza)\n",
    "        print(\"Estadisticas del Oponente\")\n",
    "        print(df_estadisticas_oponente)\n",
    "        "
   ]
  },
  {
   "cell_type": "code",
   "execution_count": 2,
   "metadata": {
    "vscode": {
     "languageId": "ruby"
    }
   },
   "outputs": [],
   "source": [
    "def obtener_datos_jugadores_jornada (url, condicion):\n",
    "    # Obtiene los datos de los jugadores\n",
    "    df = sofascore.get_players_match_stats(url)\n",
    "    datos_oponentes_df = pd.DataFrame()\n",
    "\n",
    "    # Seleccionar columnas basado en si Alianza Lima juega de local o visita\n",
    "    if condicion == \"Local\":\n",
    "        df_resultado = df[0]\n",
    "        datos_oponentes_df = df[1]\n",
    "    elif condicion == \"Visita\":\n",
    "        datos_oponentes_df = df[0]\n",
    "        df_resultado = df[1]\n",
    "    else:\n",
    "        raise ValueError(\"La condición debe ser 'Local' o 'Visita'\")\n",
    "    return df_resultado, datos_oponentes_df"
   ]
  },
  {
   "cell_type": "code",
   "execution_count": 6,
   "metadata": {
    "vscode": {
     "languageId": "ruby"
    }
   },
   "outputs": [],
   "source": [
    "def obtener_y_preprocesar_datos_jornada(url, condicion):\n",
    "    \"\"\"Obtiene y preprocesa datos de jugadores para un partido dado.\n",
    "\n",
    "    Args:\n",
    "        url (str): URL del partido en SofaScore.\n",
    "        condicion (str): Condición del equipo (\"Local\" o \"Visita\").\n",
    "\n",
    "    Returns:\n",
    "        tuple: DataFrames procesados para jugadores y oponentes.\n",
    "    \"\"\"\n",
    "    \n",
    "    # Obtén datos de los jugadores y del equipo oponente\n",
    "    jugadores_df, oponentes_df = obtener_datos_jugadores_jornada(url, condicion)\n",
    "    \n",
    "    # Función auxiliar para preprocesar DataFrames\n",
    "    def preprocesar_df(df):\n",
    "        df = df.dropna(axis=1, how='all')  # Eliminar columnas completamente vacías\n",
    "        df = df.drop([\n",
    "            'ratingVersions', 'shirtNumber', 'fieldTranslations', \n",
    "            'marketValueCurrency', 'userCount', 'slug', 'id', \n",
    "            'dateOfBirthTimestamp', 'firstName', 'lastName', 'team'\n",
    "        ], axis=1, errors='ignore')\n",
    "        df = df.loc[:, ~df.columns.duplicated()]  # Eliminar columnas duplicadas\n",
    "        df['country'] = df['country'].apply(lambda x: x.get('name') if isinstance(x, dict) else None)  # Extraer nombre de país\n",
    "        df = df.fillna('0.0')  # Llenar valores NA con '0.0'\n",
    "        return df\n",
    "    \n",
    "    # Preprocesamiento de datos\n",
    "    jugadores_df = preprocesar_df(jugadores_df)\n",
    "    oponentes_df = preprocesar_df(oponentes_df)\n",
    "    \n",
    "    return jugadores_df, oponentes_df"
   ]
  },
  {
   "cell_type": "code",
   "execution_count": 9,
   "metadata": {
    "vscode": {
     "languageId": "ruby"
    }
   },
   "outputs": [],
   "source": [
    "import os\n",
    "\n",
    "def exportar_datos_jornada_a_csv(nombres_jornadas, URLs_jornadas, directorio):\n",
    "    \"\"\"Exporta los datos de cada jornada a archivos CSV y genera gráficos de momentum.\n",
    "\n",
    "    Args:\n",
    "        nombres_jornadas (dict): Diccionario de nombres de jornadas.\n",
    "        URLs_jornadas (dict): Diccionario de URLs de jornadas.\n",
    "        directorio (str): Directorio donde se guardarán los archivos CSV.\n",
    "    \"\"\"\n",
    "    \n",
    "    if not os.path.exists(directorio):\n",
    "        os.makedirs(directorio)\n",
    "        \n",
    "    for jornada, url in URLs_jornadas.items():\n",
    "        \n",
    "        condicion = \"Local\" if \"Local\" in nombres_jornadas[jornada] else \"Visita\"\n",
    "        \n",
    "        # Obtiene y preprocesa los datos para la jornada actual\n",
    "        jugadores_df, oponentes_df = obtener_y_preprocesar_datos_jornada(url, condicion)\n",
    "        \n",
    "        # Exportar a CSV\n",
    "        jugadores_df.to_csv(os.path.join(directorio, f\"{jornada}_AL_stats_jugadores.csv\"), index=False)\n",
    "        oponentes_df.to_csv(os.path.join(directorio, f\"{jornada}_stats_jugadores_op.csv\"), index=False)\n",
    "\n",
    "        print(f\"Datos exportados para la {jornada}\")"
   ]
  },
  {
   "cell_type": "code",
   "execution_count": 11,
   "metadata": {
    "vscode": {
     "languageId": "ruby"
    }
   },
   "outputs": [
    {
     "name": "stdout",
     "output_type": "stream",
     "text": [
      "Datos exportados para la A01\n",
      "Datos exportados para la A02\n",
      "Datos exportados para la A03\n",
      "Datos exportados para la A04\n",
      "Datos exportados para la A05\n",
      "Datos exportados para la A06\n",
      "Datos exportados para la A07\n",
      "Datos exportados para la A08\n",
      "Datos exportados para la A09\n",
      "Datos exportados para la A10\n",
      "Datos exportados para la A11\n",
      "Datos exportados para la A12\n",
      "Datos exportados para la A13\n",
      "Datos exportados para la A14\n",
      "Datos exportados para la A15\n",
      "Datos exportados para la A16\n",
      "Datos exportados para la A17\n",
      "Datos exportados para la CL1\n",
      "Datos exportados para la CL2\n",
      "Datos exportados para la CL3\n",
      "Datos exportados para la CL4\n",
      "Datos exportados para la CL5\n",
      "Datos exportados para la CL6\n"
     ]
    }
   ],
   "source": [
    "# Definir directorio de exportación\n",
    "directorio = \"Aplicacion Final//2024\"\n",
    "\n",
    "# Llamar a la función para exportar los datos\n",
    "exportar_datos_jornada_a_csv(nombres_jornadas, URLs_jornadas, directorio)"
   ]
  },
  {
   "cell_type": "code",
   "execution_count": 14,
   "metadata": {
    "vscode": {
     "languageId": "ruby"
    }
   },
   "outputs": [],
   "source": [
    "dfs = []\n",
    "# Leer cada archivo y agregarlo a la lista de DataFrames\n",
    "for path, jornada in zip(jugadores_df_paths, nombres_jornadas):\n",
    "    df_temp = pd.read_csv(path)\n",
    "    df_temp['Jornada'] = nombres_jornadas[jornada]  # Añade la columna 'Jornada'\n",
    "    dfs.append(df_temp)\n",
    "\n",
    "# Combinar todos los DataFrames en uno solo\n",
    "df_combinado = pd.concat(dfs, ignore_index=True)\n",
    "\n",
    "# Exportar a Excel\n",
    "df_combinado.to_excel(r'C:\\Users\\Alvaro\\Proyectos\\Proyecto Gronestats\\GroneStats\\Aplicacion Final\\2024\\Estadisticas_Jugadores_AL_2024.xlsx', index=False)"
   ]
  }
 ],
 "metadata": {
  "kernelspec": {
   "display_name": "venv",
   "language": "python",
   "name": "python3"
  },
  "language_info": {
   "codemirror_mode": {
    "name": "ipython",
    "version": 3
   },
   "file_extension": ".py",
   "mimetype": "text/x-python",
   "name": "python",
   "nbconvert_exporter": "python",
   "pygments_lexer": "ipython3",
   "version": "3.11.5"
  }
 },
 "nbformat": 4,
 "nbformat_minor": 2
}
