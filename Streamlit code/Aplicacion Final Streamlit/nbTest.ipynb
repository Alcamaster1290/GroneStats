{
 "cells": [
  {
   "cell_type": "code",
   "execution_count": 2,
   "metadata": {},
   "outputs": [],
   "source": [
    "import pandas as pd"
   ]
  },
  {
   "cell_type": "code",
   "execution_count": 19,
   "metadata": {},
   "outputs": [
    {
     "name": "stdout",
     "output_type": "stream",
     "text": [
      "     isHome shotType   situation    bodyPart goalMouthLocation  \\\n",
      "0      True     miss  fast-break  right-foot              left   \n",
      "1      True     post    assisted  right-foot              high   \n",
      "2     False     post    assisted  right-foot              high   \n",
      "3      True     save     regular   left-foot        low-centre   \n",
      "4      True     miss  fast-break   left-foot             right   \n",
      "..      ...      ...         ...         ...               ...   \n",
      "522    True     miss    assisted   left-foot              high   \n",
      "523    True     miss      corner        head             right   \n",
      "524    True     post      corner        head              high   \n",
      "525   False     save    assisted   left-foot       high-centre   \n",
      "526   False     goal      corner        head       high-centre   \n",
      "\n",
      "               goalMouthCoordinates       id  time  timeSeconds  \\\n",
      "0    {'x': 0, 'y': 65.5, 'z': 11.1}  2455753    87         5188   \n",
      "1    {'x': 0, 'y': 46.6, 'z': 39.2}  2455752    83         4927   \n",
      "2    {'x': 0, 'y': 49.7, 'z': 39.9}  2455751    81         4836   \n",
      "3     {'x': 0, 'y': 50.2, 'z': 8.9}  2455750    79         4703   \n",
      "4     {'x': 0, 'y': 38.5, 'z': 6.9}  2455742    69         4119   \n",
      "..                              ...      ...   ...          ...   \n",
      "522  {'x': 0, 'y': 49.7, 'z': 70.8}  3308765    27         1569   \n",
      "523  {'x': 0, 'y': 40.7, 'z': 20.8}  3308747    19         1125   \n",
      "524  {'x': 0, 'y': 45.1, 'z': 39.9}  3308744    19         1123   \n",
      "525  {'x': 0, 'y': 49.7, 'z': 26.6}  3308699    10          559   \n",
      "526  {'x': 0, 'y': 48.5, 'z': 27.2}  3308675     7          374   \n",
      "\n",
      "                                                  draw  ...  jerseyNumber  \\\n",
      "0    {'start': {'x': 67.8, 'y': 15.8}, 'end': {'x':...  ...            26   \n",
      "1    {'start': {'x': 65.8, 'y': 27.2}, 'end': {'x':...  ...             7   \n",
      "2    {'start': {'x': 33.4, 'y': 36.7}, 'end': {'x':...  ...             6   \n",
      "3    {'start': {'x': 62.6, 'y': 11.4}, 'block': {'x...  ...             9   \n",
      "4    {'start': {'x': 31.8, 'y': 10.3}, 'end': {'x':...  ...             9   \n",
      "..                                                 ...  ...           ...   \n",
      "522  {'start': {'x': 57.6, 'y': 9.4}, 'end': {'x': ...  ...            14   \n",
      "523  {'start': {'x': 41.2, 'y': 3}, 'block': {'x': ...  ...             9   \n",
      "524  {'start': {'x': 58.9, 'y': 3.7}, 'end': {'x': ...  ...            11   \n",
      "525  {'start': {'x': 56.5, 'y': 27.8}, 'block': {'x...  ...            27   \n",
      "526  {'start': {'x': 52.4, 'y': 10.2}, 'end': {'x':...  ...            22   \n",
      "\n",
      "     userCount     id.1     x     y  z addedTime  fieldTranslations        xg  \\\n",
      "0          191   981374  15.8  67.8  0       NaN                NaN       NaN   \n",
      "1          411   973650  27.2  65.8  0       NaN                NaN       NaN   \n",
      "2           27  1018134  36.7  33.4  0       NaN                NaN       NaN   \n",
      "3          602    31175  11.4  62.6  0       NaN                NaN       NaN   \n",
      "4          602    31175  10.3  31.8  0       NaN                NaN       NaN   \n",
      "..         ...      ...   ...   ... ..       ...                ...       ...   \n",
      "522       7954    33238   9.4  57.6  0       NaN                NaN  0.093666   \n",
      "523       3251  1087399   3.0  41.2  0       NaN                NaN  0.132675   \n",
      "524       1329   787607   3.7  58.9  0       NaN                NaN  0.093183   \n",
      "525        371  1415942  27.8  56.5  0       NaN                NaN  0.019176   \n",
      "526         97   789372  10.2  52.4  0       NaN                NaN  0.033356   \n",
      "\n",
      "       xgot  \n",
      "0       NaN  \n",
      "1       NaN  \n",
      "2       NaN  \n",
      "3       NaN  \n",
      "4       NaN  \n",
      "..      ...  \n",
      "522     NaN  \n",
      "523     NaN  \n",
      "524     NaN  \n",
      "525  0.0405  \n",
      "526  0.1029  \n",
      "\n",
      "[527 rows x 31 columns]\n"
     ]
    }
   ],
   "source": [
    "file_path = r'C:\\Users\\Alvaro\\Proyectos\\Proyecto Gronestats\\GroneStats\\Aplicacion Final\\2024\\Mapas de tiro AL 2024\\MapaTiros_2024.xlsx'\n",
    "\n",
    "all_sheets = pd.read_excel(file_path, sheet_name=None)\n",
    "\n",
    "# Concatenar todas las hojas en un solo DataFrame\n",
    "df_resumen_partidos = pd.concat(all_sheets.values(), ignore_index=True)\n",
    "\n",
    "# Mostrar el DataFrame resultante\n",
    "print(df_resumen_partidos)"
   ]
  },
  {
   "cell_type": "code",
   "execution_count": 20,
   "metadata": {},
   "outputs": [
    {
     "data": {
      "text/plain": [
       "Index(['isHome', 'shotType', 'situation', 'bodyPart', 'goalMouthLocation',\n",
       "       'goalMouthCoordinates', 'id', 'time', 'timeSeconds', 'draw',\n",
       "       'reversedPeriodTime', 'reversedPeriodTimeSeconds', 'incidentType',\n",
       "       'blockCoordinates', 'goalType', 'name', 'firstName', 'lastName', 'slug',\n",
       "       'shortName', 'position', 'jerseyNumber', 'userCount', 'id.1', 'x', 'y',\n",
       "       'z', 'addedTime', 'fieldTranslations', 'xg', 'xgot'],\n",
       "      dtype='object')"
      ]
     },
     "execution_count": 20,
     "metadata": {},
     "output_type": "execute_result"
    }
   ],
   "source": [
    "df_resumen_partidos.columns"
   ]
  },
  {
   "cell_type": "code",
   "execution_count": 14,
   "metadata": {},
   "outputs": [
    {
     "name": "stdout",
     "output_type": "stream",
     "text": [
      "['miss' 'post' 'save' 'block' 'goal']\n"
     ]
    }
   ],
   "source": [
    "valores_unicos_shotType = df_resumen_partidos['shotType'].unique()\n",
    "\n",
    "# Mostrar los valores únicos de 'shotType'\n",
    "print(valores_unicos_shotType)"
   ]
  },
  {
   "cell_type": "code",
   "execution_count": 15,
   "metadata": {},
   "outputs": [
    {
     "name": "stdout",
     "output_type": "stream",
     "text": [
      "['fast-break' 'assisted' 'regular' 'corner' 'set-piece' 'penalty'\n",
      " 'free-kick' 'throw-in-set-piece']\n"
     ]
    }
   ],
   "source": [
    "valores_unicos_situation = df_resumen_partidos['situation'].unique()\n",
    "\n",
    "# Mostrar los valores únicos de 'situation'\n",
    "print(valores_unicos_situation)"
   ]
  },
  {
   "cell_type": "code",
   "execution_count": 17,
   "metadata": {},
   "outputs": [
    {
     "name": "stdout",
     "output_type": "stream",
     "text": [
      "['right-foot' 'left-foot' 'head' 'other']\n"
     ]
    }
   ],
   "source": [
    "valores_unicos_bodyPart = df_resumen_partidos['bodyPart'].unique()\n",
    "\n",
    "# Mostrar los valores únicos de 'bodyPart'\n",
    "print(valores_unicos_bodyPart)"
   ]
  },
  {
   "cell_type": "code",
   "execution_count": 24,
   "metadata": {},
   "outputs": [
    {
     "name": "stdout",
     "output_type": "stream",
     "text": [
      "Cantidad de filas en df_shots_on_target: 183\n",
      "Cantidad de filas en df_shots_off_target: 344\n"
     ]
    }
   ],
   "source": [
    "shots_on_target = ['save', 'goal']\n",
    "shots_off_target = ['miss', 'post', 'block']\n",
    "\n",
    "# Filtrar y crear el DataFrame df_shots_on_target\n",
    "df_shots_on_target = df_resumen_partidos[df_resumen_partidos['shotType'].isin(shots_on_target)]\n",
    "\n",
    "# Filtrar y crear el DataFrame df_shots_off_target\n",
    "df_shots_off_target = df_resumen_partidos[df_resumen_partidos['shotType'].isin(shots_off_target)]\n",
    "\n",
    "print(\"Cantidad de filas en df_shots_on_target:\", df_shots_on_target.shape[0])\n",
    "print(\"Cantidad de filas en df_shots_off_target:\", df_shots_off_target.shape[0])"
   ]
  },
  {
   "cell_type": "code",
   "execution_count": 26,
   "metadata": {},
   "outputs": [
    {
     "name": "stdout",
     "output_type": "stream",
     "text": [
      "Cantidad de filas en df_tiros_balon_parado: 180\n",
      "Cantidad de filas en df_tiros_penales: 6\n",
      "Cantidad de filas en df_tiros_jugadas: 341\n"
     ]
    }
   ],
   "source": [
    "situations_balon_parado = ['corner', 'set-piece' , 'free-kick', 'throw-in-set-piece']\n",
    "situations_jugadas = ['assisted','fast-break','regular']\n",
    "situations_penales = ['penalty']\n",
    "\n",
    "df_tiros_balon_parado = df_resumen_partidos[df_resumen_partidos['situation'].isin(situations_balon_parado)]\n",
    "df_tiros_penales = df_resumen_partidos[df_resumen_partidos['situation'].isin(situations_penales)]\n",
    "df_tiros_jugadas = df_resumen_partidos[df_resumen_partidos['situation'].isin(situations_jugadas)]\n",
    "\n",
    "print(\"Cantidad de filas en df_tiros_balon_parado:\", df_tiros_balon_parado.shape[0])\n",
    "print(\"Cantidad de filas en df_tiros_penales:\", df_tiros_penales.shape[0])\n",
    "print(\"Cantidad de filas en df_tiros_jugadas:\", df_tiros_jugadas.shape[0])"
   ]
  }
 ],
 "metadata": {
  "kernelspec": {
   "display_name": "venv",
   "language": "python",
   "name": "python3"
  },
  "language_info": {
   "codemirror_mode": {
    "name": "ipython",
    "version": 3
   },
   "file_extension": ".py",
   "mimetype": "text/x-python",
   "name": "python",
   "nbconvert_exporter": "python",
   "pygments_lexer": "ipython3",
   "version": "3.11.5"
  }
 },
 "nbformat": 4,
 "nbformat_minor": 2
}
