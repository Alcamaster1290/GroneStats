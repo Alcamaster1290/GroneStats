{
 "cells": [
  {
   "cell_type": "markdown",
   "metadata": {},
   "source": [
    "# CUADERNO REPORTE DE JORNADAS"
   ]
  },
  {
   "cell_type": "markdown",
   "metadata": {},
   "source": [
    "## HEATMAPS"
   ]
  },
  {
   "cell_type": "code",
   "execution_count": 16,
   "metadata": {},
   "outputs": [
    {
     "data": {
      "application/vnd.jupyter.widget-view+json": {
       "model_id": "5742c5258ee243ce926aaa4ed024900f",
       "version_major": 2,
       "version_minor": 0
      },
      "text/plain": [
       "Dropdown(description='Jugador:', options=('Jesús Castillo', 'Renzo Garces', 'Cecilio Waterman', 'Franco Zanela…"
      ]
     },
     "metadata": {},
     "output_type": "display_data"
    },
    {
     "data": {
      "application/vnd.jupyter.widget-view+json": {
       "model_id": "bb5bfe4832f842e0ad1b27166bc31d70",
       "version_major": 2,
       "version_minor": 0
      },
      "text/plain": [
       "Output()"
      ]
     },
     "metadata": {},
     "output_type": "display_data"
    }
   ],
   "source": [
    "import pandas as pd\n",
    "import matplotlib.pyplot as plt\n",
    "from mplsoccer.pitch import VerticalPitch\n",
    "import ipywidgets as widgets\n",
    "from IPython.display import display, clear_output\n",
    "\n",
    "# Preparar el pitch\n",
    "pitch = VerticalPitch(pitch_type='opta', pitch_color='grass', line_color='white')\n",
    "\n",
    "# Diccionario con los nombres de las jornadas\n",
    "nombres_jornadas = {\n",
    "    \"J1\": \"Jornada 1 - Local vs Universidad Cesar Vallejo\",\n",
    "    \"J2\": \"Jornada 2 - Visita vs Alianza Atlético de Sullana\",\n",
    "    \"J3\": \"Jornada 3 - Local vs Universitario de Deportes\",\n",
    "    \"J4\": \"Jornada 4 - Visita vs Unión Comercio\",\n",
    "}\n",
    "\n",
    "# Función para cargar los DataFrames de posiciones medias y heatmaps para todas las jornadas\n",
    "def cargar_datos():\n",
    "    df_posiciones_medias_total = pd.DataFrame()\n",
    "    heatmaps_total = {}\n",
    "    for jornada, nombre_jornada in nombres_jornadas.items():\n",
    "        try:\n",
    "            # Cargar el DataFrame de posiciones medias y agregar una columna 'Jornada'\n",
    "            df_temp = pd.read_csv(f'CSV obtenidos\\\\{nombre_jornada}_posicion_jugadores.csv')\n",
    "            df_temp['Jornada'] = jornada  # Añadir columna 'Jornada' con el identificador de la jornada\n",
    "            df_posiciones_medias_total = pd.concat([df_posiciones_medias_total, df_temp])\n",
    "            heatmaps_total[jornada] = f'CSV obtenidos\\\\{jornada}_heatmaps_jugadores.xlsx'\n",
    "        except FileNotFoundError:\n",
    "            print(f\"No se encontró el archivo para {nombre_jornada}\")\n",
    "    return df_posiciones_medias_total, heatmaps_total\n",
    "\n",
    "df_posiciones_medias, heatmaps = cargar_datos()\n",
    "\n",
    "# Función modificada para dibujar los heatmaps y la posición media de un jugador seleccionado en todas las jornadas\n",
    "def draw_player_heatmaps(jugador):\n",
    "    clear_output(wait=True)\n",
    "    num_jornadas = len(heatmaps)\n",
    "    cols = 2\n",
    "    rows = -(-num_jornadas // cols)  # Redondeo hacia arriba\n",
    "    \n",
    "    fig, axs = plt.subplots(rows, cols, figsize=(10 * cols, 7 * rows))\n",
    "    fig.subplots_adjust(hspace=0.5, wspace=0.2)\n",
    "    axs = axs.flatten()\n",
    "    plot_counter = 0 \n",
    "    for (jornada, archivo_excel) in (heatmaps.items()):\n",
    "        with pd.ExcelFile(archivo_excel) as xls:\n",
    "            if jugador in xls.sheet_names:\n",
    "                df_heatmap = pd.read_excel(xls, sheet_name=jugador)\n",
    "                if not df_heatmap.empty :\n",
    "                    ax = axs[plot_counter]\n",
    "                    pitch.draw(ax=ax)\n",
    "                    pitch.kdeplot(df_heatmap['x'], df_heatmap['y'], ax=ax, levels=100, cmap='Blues', fill=True, shade_lowest=True, alpha=0.5)\n",
    "                \n",
    "                    fila_jugador = df_posiciones_medias[(df_posiciones_medias['name'] == jugador) & (df_posiciones_medias['Jornada'] == jornada)]\n",
    "                    if not fila_jugador.empty:\n",
    "                        pitch.scatter(fila_jugador['averageX'], fila_jugador['averageY'], ax=ax, s=200, color='blue', edgecolors='black', linewidth=2.5, zorder=1)\n",
    "                        ax.text(fila_jugador['averageY'].values[0], fila_jugador['averageX'].values[0], fila_jugador['jerseyNumber'].values[0], color='white', ha='center', va='center', fontsize=12, zorder=2)\n",
    "                        ax.set_title(f\"{jugador} - {nombres_jornadas[jornada]}\", fontsize=14)\n",
    "                    plot_counter += 1  # Incrementar contador solo si se dibujó el subplot\n",
    "                \n",
    "                \n",
    "    for j in range(plot_counter, rows * cols):\n",
    "        axs[j].axis('off')\n",
    "    \n",
    "    plt.tight_layout()\n",
    "    plt.show()\n",
    "\n",
    "\n",
    "# Crear un widget de dropdown para seleccionar el jugador\n",
    "jugador_selector = widgets.Dropdown(description='Jugador:')\n",
    "jugador_selector.options = df_posiciones_medias['name'].unique()\n",
    "\n",
    "# Widget de salida para los gráficos\n",
    "output = widgets.Output()\n",
    "\n",
    "# Función para manejar la selección de jugador\n",
    "@output.capture(clear_output=True)\n",
    "def update_heatmaps(change):\n",
    "    draw_player_heatmaps(change['new'])\n",
    "\n",
    "# Vincular cambios en el widget a la función\n",
    "jugador_selector.observe(update_heatmaps, names='value')\n",
    "\n",
    "# Mostrar el widget y output\n",
    "display(jugador_selector)\n",
    "display(output)\n"
   ]
  },
  {
   "cell_type": "code",
   "execution_count": null,
   "metadata": {},
   "outputs": [],
   "source": []
  }
 ],
 "metadata": {
  "kernelspec": {
   "display_name": "Python 3 (ipykernel)",
   "language": "python",
   "name": "python3"
  },
  "language_info": {
   "codemirror_mode": {
    "name": "ipython",
    "version": 3
   },
   "file_extension": ".py",
   "mimetype": "text/x-python",
   "name": "python",
   "nbconvert_exporter": "python",
   "pygments_lexer": "ipython3",
   "version": "3.11.5"
  }
 },
 "nbformat": 4,
 "nbformat_minor": 4
}
