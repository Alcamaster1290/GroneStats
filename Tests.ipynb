{
 "cells": [
  {
   "cell_type": "code",
   "execution_count": 1,
   "metadata": {},
   "outputs": [],
   "source": [
    "import LanusStats as ls\n",
    "sofascore = ls.SofaScore()"
   ]
  },
  {
   "cell_type": "code",
   "execution_count": 2,
   "metadata": {},
   "outputs": [],
   "source": [
    "URLs_jornadas = {\n",
    "    \"A01\": \"https://www.sofascore.com/universidad-cesar-vallejo-alianza-lima/lWsGfc#id:11967822\"}"
   ]
  },
  {
   "cell_type": "code",
   "execution_count": 3,
   "metadata": {},
   "outputs": [],
   "source": [
    "df = sofascore.get_general_match_stats(\"https://www.sofascore.com/universidad-cesar-vallejo-alianza-lima/lWsGfc#id:11967822\")"
   ]
  },
  {
   "cell_type": "code",
   "execution_count": 5,
   "metadata": {},
   "outputs": [
    {
     "name": "stdout",
     "output_type": "stream",
     "text": [
      "                     name         home  homeValue  homeTotal         away  \\\n",
      "0         Ball possession          39%      39.00        NaN          61%   \n",
      "1          Expected goals         2.55       2.55        NaN         0.64   \n",
      "2             Big chances            2       2.00        NaN            1   \n",
      "3             Total shots           21      21.00        NaN            3   \n",
      "4        Goalkeeper saves            0       0.00        NaN            6   \n",
      "5            Corner kicks            7       7.00        NaN            1   \n",
      "6                   Fouls            8       8.00        NaN            7   \n",
      "7                  Passes          298     298.00        NaN          479   \n",
      "8                 Tackles           25      25.00        NaN           13   \n",
      "9              Free kicks            5       5.00        NaN            7   \n",
      "10           Yellow cards            1       1.00        NaN            1   \n",
      "11              Red cards            1       1.00        NaN            1   \n",
      "0             Total shots           21      21.00        NaN            3   \n",
      "1         Shots on target            8       8.00        NaN            1   \n",
      "2            Hit woodwork            1       1.00        NaN            1   \n",
      "3        Shots off target            9       9.00        NaN            2   \n",
      "4           Blocked shots            4       4.00        NaN            0   \n",
      "5        Shots inside box           15      15.00        NaN            1   \n",
      "6       Shots outside box            6       6.00        NaN            2   \n",
      "0      Big chances scored            0       0.00        NaN            1   \n",
      "1      Big chances missed            2       2.00        NaN            0   \n",
      "2   Fouled in final third            1       1.00        NaN            0   \n",
      "3                Offsides            1       1.00        NaN            2   \n",
      "0         Accurate passes          206     206.00        NaN          386   \n",
      "1               Throw-ins           28      28.00        NaN           25   \n",
      "2     Final third entries           45      45.00        NaN           83   \n",
      "3              Long balls  18/40 (45%)      18.00       40.0  43/82 (52%)   \n",
      "4                 Crosses   6/18 (33%)       6.00       18.0   2/11 (18%)   \n",
      "0                   Duels          52%      52.00        NaN          48%   \n",
      "1            Dispossessed           10      10.00        NaN           10   \n",
      "2            Ground duels  33/63 (52%)      33.00       63.0  30/63 (48%)   \n",
      "3            Aerial duels  10/19 (53%)      10.00       19.0   9/19 (47%)   \n",
      "4                Dribbles    3/6 (50%)       3.00        6.0  10/25 (40%)   \n",
      "0             Tackles won          68%      17.00       25.0          77%   \n",
      "1           Total tackles           25      25.00        NaN           13   \n",
      "2           Interceptions           11      11.00        NaN           13   \n",
      "3              Recoveries           58      58.00        NaN           57   \n",
      "4              Clearances           21      21.00        NaN           30   \n",
      "0             Total saves            0       0.00        NaN            6   \n",
      "1              Goal kicks            2       2.00        NaN           12   \n",
      "\n",
      "    awayValue  awayTotal statisticsType  \n",
      "0       61.00        NaN       positive  \n",
      "1        0.64        NaN       positive  \n",
      "2        1.00        NaN       positive  \n",
      "3        3.00        NaN       positive  \n",
      "4        6.00        NaN       positive  \n",
      "5        1.00        NaN       positive  \n",
      "6        7.00        NaN       negative  \n",
      "7      479.00        NaN       positive  \n",
      "8       13.00        NaN       positive  \n",
      "9        7.00        NaN       positive  \n",
      "10       1.00        NaN       negative  \n",
      "11       1.00        NaN       negative  \n",
      "0        3.00        NaN       positive  \n",
      "1        1.00        NaN       positive  \n",
      "2        1.00        NaN       negative  \n",
      "3        2.00        NaN       negative  \n",
      "4        0.00        NaN       negative  \n",
      "5        1.00        NaN       positive  \n",
      "6        2.00        NaN       positive  \n",
      "0        1.00        NaN       positive  \n",
      "1        0.00        NaN       negative  \n",
      "2        0.00        NaN       positive  \n",
      "3        2.00        NaN       negative  \n",
      "0      386.00        NaN       positive  \n",
      "1       25.00        NaN       positive  \n",
      "2       83.00        NaN       positive  \n",
      "3       43.00       82.0       positive  \n",
      "4        2.00       11.0       positive  \n",
      "0       48.00        NaN       positive  \n",
      "1       10.00        NaN       negative  \n",
      "2       30.00       63.0       positive  \n",
      "3        9.00       19.0       positive  \n",
      "4       10.00       25.0       positive  \n",
      "0       10.00       13.0       positive  \n",
      "1       13.00        NaN       positive  \n",
      "2       13.00        NaN       positive  \n",
      "3       57.00        NaN       positive  \n",
      "4       30.00        NaN       positive  \n",
      "0        6.00        NaN       positive  \n",
      "1       12.00        NaN       positive  \n"
     ]
    }
   ],
   "source": [
    "print(df)"
   ]
  }
 ],
 "metadata": {
  "kernelspec": {
   "display_name": "venv",
   "language": "python",
   "name": "python3"
  },
  "language_info": {
   "codemirror_mode": {
    "name": "ipython",
    "version": 3
   },
   "file_extension": ".py",
   "mimetype": "text/x-python",
   "name": "python",
   "nbconvert_exporter": "python",
   "pygments_lexer": "ipython3",
   "version": "3.11.5"
  }
 },
 "nbformat": 4,
 "nbformat_minor": 2
}
