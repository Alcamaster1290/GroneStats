{
 "cells": [
  {
   "cell_type": "code",
   "execution_count": 48,
   "id": "5954c67b-978b-4057-a515-159f46152f16",
   "metadata": {},
   "outputs": [],
   "source": [
    "import pandas as pd\n",
    "\n",
    "# Define los paths de los archivos Excel y los nombres de las jornadas\n",
    "jugadores_df_paths = [\n",
    "    r'C:\\Users\\Alvaro\\Proyectos\\Proyecto Gronestats\\GroneStats\\XLSX transformados\\AL_J1_jugadores.xlsx',\n",
    "    r'C:\\Users\\Alvaro\\Proyectos\\Proyecto Gronestats\\GroneStats\\XLSX transformados\\AL_J2_jugadores.xlsx',\n",
    "    r'C:\\Users\\Alvaro\\Proyectos\\Proyecto Gronestats\\GroneStats\\XLSX transformados\\AL_J3_jugadores.xlsx',\n",
    "    r'C:\\Users\\Alvaro\\Proyectos\\Proyecto Gronestats\\GroneStats\\XLSX transformados\\AL_J4_jugadores.xlsx',\n",
    "    r'C:\\Users\\Alvaro\\Proyectos\\Proyecto Gronestats\\GroneStats\\XLSX transformados\\AL_J5_jugadores.xlsx'\n",
    "]\n",
    "\n",
    "nombres_jornadas = {\n",
    "    \"J1\": \"Jornada 1 - Local vs Universidad Cesar Vallejo\",\n",
    "    \"J2\": \"Jornada 2 - Visita vs Alianza Atlético de Sullana\",\n",
    "    \"J3\": \"Jornada 3 - Local vs Universitario de Deportes\",\n",
    "    \"J4\": \"Jornada 4 - Visita vs Unión Comercio\",\n",
    "    \"J5\": \"Jornada 5 - Local vs Comerciantes Unidos\",\n",
    "}\n",
    "\n",
    "# Lista para almacenar los DataFrames de cada jornada\n",
    "dfs = []\n",
    "\n",
    "# Leer cada archivo y agregarlo a la lista de DataFrames\n",
    "for path, jornada in zip(jugadores_df_paths, nombres_jornadas):\n",
    "    df_temp = pd.read_excel(path)\n",
    "    df_temp['Jornada'] = nombres_jornadas[jornada]  # Añade la columna 'Jornada'\n",
    "    dfs.append(df_temp)\n",
    "\n",
    "# Combinar todos los DataFrames en uno solo\n",
    "df_combinado = pd.concat(dfs, ignore_index=True)\n",
    "\n",
    "# Exportar a Excel\n",
    "df_combinado.to_excel(r'C:\\Users\\Alvaro\\Proyectos\\Proyecto Gronestats\\GroneStats\\XLSX transformados\\Resumen_AL_Jugadores.xlsx', index=False)\n"
   ]
  },
  {
   "cell_type": "code",
   "execution_count": 2,
   "id": "14543fa4-806d-4f28-b81b-52e2bd8a6c06",
   "metadata": {},
   "outputs": [
    {
     "data": {
      "application/vnd.jupyter.widget-view+json": {
       "model_id": "ac3c20cd2fb94bfb81971fcd2095b533",
       "version_major": 2,
       "version_minor": 0
      },
      "text/plain": [
       "Dropdown(description='Jugador:', options=('Adrián Arregui', 'Aldair Fuentes', 'Axel Moyano', 'Catriel Cabellos…"
      ]
     },
     "metadata": {},
     "output_type": "display_data"
    },
    {
     "data": {
      "application/vnd.jupyter.widget-view+json": {
       "model_id": "f9e77471f55241869cce32904ab3cc9b",
       "version_major": 2,
       "version_minor": 0
      },
      "text/plain": [
       "Output()"
      ]
     },
     "metadata": {},
     "output_type": "display_data"
    }
   ],
   "source": [
    "import pandas as pd\n",
    "import matplotlib.pyplot as plt\n",
    "import seaborn as sns\n",
    "import numpy as np\n",
    "import ipywidgets as widgets\n",
    "from IPython.display import display, clear_output\n",
    "\n",
    "# Carga de datos\n",
    "df = pd.read_excel(r'C:\\Users\\Alvaro\\Proyectos\\Proyecto Gronestats\\GroneStats\\XLSX finales\\Resumen_AL_Jugadores.xlsx')\n",
    "\n",
    "# Creación de widget para selección de jugador\n",
    "jugador_selector = widgets.Dropdown(\n",
    "    options=sorted(df['Nombre'].unique()),  # Orden alfabético\n",
    "    description='Jugador:',\n",
    ")\n",
    "\n",
    "# Widget de salida\n",
    "output = widgets.Output()\n",
    "\n",
    "def generar_informe(jugador_seleccionado):\n",
    "    with output:\n",
    "        clear_output(wait=True)\n",
    "        df_jugador = df[df['Nombre'] == jugador_seleccionado].copy()\n",
    "\n",
    "        # Asegurar que los nombres de las jornadas coincidan con los esperados\n",
    "        df_jugador['Jornada'] = df_jugador['Jornada'].map({\n",
    "            'Jornada 1 - Local vs Universidad Cesar Vallejo': 'J1',\n",
    "            'Jornada 2 - Visita vs Alianza Atlético de Sullana': 'J2',\n",
    "            'Jornada 3 - Local vs Universitario de Deportes': 'J3',\n",
    "            'Jornada 4 - Visita vs Unión Comercio': 'J4',\n",
    "            'Jornada 5 - Local vs Comerciantes Unidos': 'J5'\n",
    "        })\n",
    "        promedio_pases_acertados = df['Pases Acertados'].mean()\n",
    "        promedio_balones_largos_acertados = df['Balones Largos Acertados'].mean()\n",
    "        promedio_centros_acertados = df['Centros Acertados'].mean()\n",
    "        color_fondo = 'black'\n",
    "        color_linea_promedio = 'white'\n",
    "        estadisticas_y_promedios = [\n",
    "            ('Pases Acertados', promedio_pases_acertados, 'Total de Pases'),\n",
    "            ('Balones Largos Acertados', promedio_balones_largos_acertados, 'Total de Balones Largos'),\n",
    "            ('Centros Acertados', promedio_centros_acertados, 'Total de Centros')\n",
    "        ]\n",
    "        # Establecer ancho de las barras\n",
    "        bar_width = 0.3\n",
    "\n",
    "        # Creación de gráficos\n",
    "        fig, axs = plt.subplots(3, 1, figsize=(10, 18), facecolor=color_fondo)\n",
    "        for i, (estadistica, promedio, total_estadistica) in enumerate(estadisticas_y_promedios):\n",
    "            ax = axs[i]\n",
    "            # Posiciones de las barras para cada jornada\n",
    "            r1 = np.arange(len(df_jugador['Jornada']))\n",
    "            r2 = [x + bar_width for x in r1]\n",
    "\n",
    "            # Dibujar barras para \"Acertados\" y \"Total\"\n",
    "            ax.bar(r1, df_jugador[estadistica], color='lightblue', width=bar_width, edgecolor='steelblue', label=estadistica)\n",
    "            ax.bar(r2, df_jugador[total_estadistica], color='grey', width=bar_width, edgecolor='navy', label=total_estadistica)\n",
    "\n",
    "            # Dibujar línea de promedio\n",
    "            ax.axhline(y=promedio, color=color_linea_promedio, linestyle='--', label=f'Promedio del equipo: {promedio:.2f}')\n",
    "\n",
    "            ax.set_facecolor(color_fondo)\n",
    "            ax.set_title(f'{estadistica} por Jornada para {jugador_seleccionado}', color='white')\n",
    "            ax.set_xlabel('Jornada', color='white')\n",
    "            ax.set_xticks([r + bar_width / 2 for r in range(len(r1))], df_jugador['Jornada'])\n",
    "            ax.set_ylabel(estadistica, color='white')\n",
    "            ax.tick_params(colors='white')\n",
    "            ax.grid(color='gray', linestyle='--', linewidth=0.5)\n",
    "            ax.legend(facecolor=color_fondo, edgecolor=color_fondo)\n",
    "            for text in ax.legend().get_texts():\n",
    "                text.set_color('black')\n",
    "\n",
    "        plt.tight_layout()\n",
    "        plt.show()\n",
    "\n",
    "\n",
    "def on_jugador_seleccionado(change):\n",
    "    generar_informe(change.new)\n",
    "\n",
    "jugador_selector.observe(on_jugador_seleccionado, names='value')\n",
    "\n",
    "display(jugador_selector)\n",
    "display(output)"
   ]
  },
  {
   "cell_type": "code",
   "execution_count": null,
   "id": "577ed826-098a-46b2-86f1-834fb2c3a9ba",
   "metadata": {},
   "outputs": [],
   "source": []
  }
 ],
 "metadata": {
  "kernelspec": {
   "display_name": "Python 3 (ipykernel)",
   "language": "python",
   "name": "python3"
  },
  "language_info": {
   "codemirror_mode": {
    "name": "ipython",
    "version": 3
   },
   "file_extension": ".py",
   "mimetype": "text/x-python",
   "name": "python",
   "nbconvert_exporter": "python",
   "pygments_lexer": "ipython3",
   "version": "3.11.5"
  }
 },
 "nbformat": 4,
 "nbformat_minor": 5
}
